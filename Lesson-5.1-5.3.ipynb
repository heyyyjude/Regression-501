{
 "cells": [
  {
   "cell_type": "code",
   "execution_count": 11,
   "metadata": {},
   "outputs": [],
   "source": [
    "pacman::p_load(\"tidyverse\", \"ggpubr\", 'car', 'broom')"
   ]
  },
  {
   "cell_type": "code",
   "execution_count": 2,
   "metadata": {},
   "outputs": [
    {
     "name": "stderr",
     "output_type": "stream",
     "text": [
      "Parsed with column specification:\n",
      "cols(\n",
      "  PIQ = \u001b[32mcol_double()\u001b[39m,\n",
      "  Brain = \u001b[32mcol_double()\u001b[39m,\n",
      "  Height = \u001b[32mcol_double()\u001b[39m,\n",
      "  Weight = \u001b[32mcol_double()\u001b[39m\n",
      ")\n",
      "\n"
     ]
    },
    {
     "data": {
      "text/html": [
       "<table>\n",
       "<caption>A tibble: 6 × 4</caption>\n",
       "<thead>\n",
       "\t<tr><th scope=col>PIQ</th><th scope=col>Brain</th><th scope=col>Height</th><th scope=col>Weight</th></tr>\n",
       "\t<tr><th scope=col>&lt;dbl&gt;</th><th scope=col>&lt;dbl&gt;</th><th scope=col>&lt;dbl&gt;</th><th scope=col>&lt;dbl&gt;</th></tr>\n",
       "</thead>\n",
       "<tbody>\n",
       "\t<tr><td>124</td><td> 81.69</td><td>64.5</td><td>118</td></tr>\n",
       "\t<tr><td>150</td><td>103.84</td><td>73.3</td><td>143</td></tr>\n",
       "\t<tr><td>128</td><td> 96.54</td><td>68.8</td><td>172</td></tr>\n",
       "\t<tr><td>134</td><td> 95.15</td><td>65.0</td><td>147</td></tr>\n",
       "\t<tr><td>110</td><td> 92.88</td><td>69.0</td><td>146</td></tr>\n",
       "\t<tr><td>131</td><td> 99.13</td><td>64.5</td><td>138</td></tr>\n",
       "</tbody>\n",
       "</table>\n"
      ],
      "text/latex": [
       "A tibble: 6 × 4\n",
       "\\begin{tabular}{llll}\n",
       " PIQ & Brain & Height & Weight\\\\\n",
       " <dbl> & <dbl> & <dbl> & <dbl>\\\\\n",
       "\\hline\n",
       "\t 124 &  81.69 & 64.5 & 118\\\\\n",
       "\t 150 & 103.84 & 73.3 & 143\\\\\n",
       "\t 128 &  96.54 & 68.8 & 172\\\\\n",
       "\t 134 &  95.15 & 65.0 & 147\\\\\n",
       "\t 110 &  92.88 & 69.0 & 146\\\\\n",
       "\t 131 &  99.13 & 64.5 & 138\\\\\n",
       "\\end{tabular}\n"
      ],
      "text/markdown": [
       "\n",
       "A tibble: 6 × 4\n",
       "\n",
       "| PIQ &lt;dbl&gt; | Brain &lt;dbl&gt; | Height &lt;dbl&gt; | Weight &lt;dbl&gt; |\n",
       "|---|---|---|---|\n",
       "| 124 |  81.69 | 64.5 | 118 |\n",
       "| 150 | 103.84 | 73.3 | 143 |\n",
       "| 128 |  96.54 | 68.8 | 172 |\n",
       "| 134 |  95.15 | 65.0 | 147 |\n",
       "| 110 |  92.88 | 69.0 | 146 |\n",
       "| 131 |  99.13 | 64.5 | 138 |\n",
       "\n"
      ],
      "text/plain": [
       "  PIQ Brain  Height Weight\n",
       "1 124  81.69 64.5   118   \n",
       "2 150 103.84 73.3   143   \n",
       "3 128  96.54 68.8   172   \n",
       "4 134  95.15 65.0   147   \n",
       "5 110  92.88 69.0   146   \n",
       "6 131  99.13 64.5   138   "
      ]
     },
     "metadata": {},
     "output_type": "display_data"
    }
   ],
   "source": [
    "df.iq <- read_table2(\"STAT501_Lesson01/iqsize.txt\")\n",
    "head(df.iq)"
   ]
  },
  {
   "cell_type": "code",
   "execution_count": 3,
   "metadata": {},
   "outputs": [
    {
     "data": {
      "text/plain": [
       "\n",
       "Call:\n",
       "lm(formula = PIQ ~ ., data = df.iq)\n",
       "\n",
       "Residuals:\n",
       "   Min     1Q Median     3Q    Max \n",
       "-32.74 -12.09  -3.84  14.17  51.69 \n",
       "\n",
       "Coefficients:\n",
       "              Estimate Std. Error t value Pr(>|t|)    \n",
       "(Intercept)  1.114e+02  6.297e+01   1.768 0.085979 .  \n",
       "Brain        2.060e+00  5.634e-01   3.657 0.000856 ***\n",
       "Height      -2.732e+00  1.229e+00  -2.222 0.033034 *  \n",
       "Weight       5.599e-04  1.971e-01   0.003 0.997750    \n",
       "---\n",
       "Signif. codes:  0 '***' 0.001 '**' 0.01 '*' 0.05 '.' 0.1 ' ' 1\n",
       "\n",
       "Residual standard error: 19.79 on 34 degrees of freedom\n",
       "Multiple R-squared:  0.2949,\tAdjusted R-squared:  0.2327 \n",
       "F-statistic: 4.741 on 3 and 34 DF,  p-value: 0.007215\n"
      ]
     },
     "metadata": {},
     "output_type": "display_data"
    }
   ],
   "source": [
    "mlm <- lm(PIQ ~ . , data=df.iq)\n",
    "summary(mlm)"
   ]
  },
  {
   "cell_type": "code",
   "execution_count": 7,
   "metadata": {},
   "outputs": [
    {
     "data": {
      "text/html": [
       "<table>\n",
       "<caption>A anova: 4 × 5</caption>\n",
       "<thead>\n",
       "\t<tr><th></th><th scope=col>Df</th><th scope=col>Sum Sq</th><th scope=col>Mean Sq</th><th scope=col>F value</th><th scope=col>Pr(&gt;F)</th></tr>\n",
       "\t<tr><th></th><th scope=col>&lt;dbl&gt;</th><th scope=col>&lt;dbl&gt;</th><th scope=col>&lt;dbl&gt;</th><th scope=col>&lt;dbl&gt;</th><th scope=col>&lt;dbl&gt;</th></tr>\n",
       "</thead>\n",
       "<tbody>\n",
       "\t<tr><th scope=row>Brain</th><td> 1</td><td> 2697.09</td><td>2697.09</td><td>6.88</td><td>0.01</td></tr>\n",
       "\t<tr><th scope=row>Height</th><td> 1</td><td> 2875.65</td><td>2875.65</td><td>7.34</td><td>0.01</td></tr>\n",
       "\t<tr><th scope=row>Weight</th><td> 1</td><td>    0.00</td><td>   0.00</td><td>0.00</td><td>1.00</td></tr>\n",
       "\t<tr><th scope=row>Residuals</th><td>34</td><td>13321.81</td><td> 391.82</td><td>  NA</td><td>  NA</td></tr>\n",
       "</tbody>\n",
       "</table>\n"
      ],
      "text/latex": [
       "A anova: 4 × 5\n",
       "\\begin{tabular}{r|lllll}\n",
       "  & Df & Sum Sq & Mean Sq & F value & Pr(>F)\\\\\n",
       "  & <dbl> & <dbl> & <dbl> & <dbl> & <dbl>\\\\\n",
       "\\hline\n",
       "\tBrain &  1 &  2697.09 & 2697.09 & 6.88 & 0.01\\\\\n",
       "\tHeight &  1 &  2875.65 & 2875.65 & 7.34 & 0.01\\\\\n",
       "\tWeight &  1 &     0.00 &    0.00 & 0.00 & 1.00\\\\\n",
       "\tResiduals & 34 & 13321.81 &  391.82 &   NA &   NA\\\\\n",
       "\\end{tabular}\n"
      ],
      "text/markdown": [
       "\n",
       "A anova: 4 × 5\n",
       "\n",
       "| <!--/--> | Df &lt;dbl&gt; | Sum Sq &lt;dbl&gt; | Mean Sq &lt;dbl&gt; | F value &lt;dbl&gt; | Pr(&gt;F) &lt;dbl&gt; |\n",
       "|---|---|---|---|---|---|\n",
       "| Brain |  1 |  2697.09 | 2697.09 | 6.88 | 0.01 |\n",
       "| Height |  1 |  2875.65 | 2875.65 | 7.34 | 0.01 |\n",
       "| Weight |  1 |     0.00 |    0.00 | 0.00 | 1.00 |\n",
       "| Residuals | 34 | 13321.81 |  391.82 |   NA |   NA |\n",
       "\n"
      ],
      "text/plain": [
       "          Df Sum Sq   Mean Sq F value Pr(>F)\n",
       "Brain      1  2697.09 2697.09 6.88    0.01  \n",
       "Height     1  2875.65 2875.65 7.34    0.01  \n",
       "Weight     1     0.00    0.00 0.00    1.00  \n",
       "Residuals 34 13321.81  391.82   NA      NA  "
      ]
     },
     "metadata": {},
     "output_type": "display_data"
    }
   ],
   "source": [
    "round(anova(mlm),2)"
   ]
  },
  {
   "cell_type": "code",
   "execution_count": 8,
   "metadata": {},
   "outputs": [
    {
     "data": {
      "text/plain": [
       "\n",
       "Call:\n",
       "lm(formula = PIQ ~ Brain, data = df.iq)\n",
       "\n",
       "Residuals:\n",
       "    Min      1Q  Median      3Q     Max \n",
       "-40.077 -17.508  -2.095  17.097  41.571 \n",
       "\n",
       "Coefficients:\n",
       "            Estimate Std. Error t value Pr(>|t|)  \n",
       "(Intercept)   4.6519    43.7118   0.106   0.9158  \n",
       "Brain         1.1766     0.4806   2.448   0.0194 *\n",
       "---\n",
       "Signif. codes:  0 '***' 0.001 '**' 0.01 '*' 0.05 '.' 0.1 ' ' 1\n",
       "\n",
       "Residual standard error: 21.21 on 36 degrees of freedom\n",
       "Multiple R-squared:  0.1427,\tAdjusted R-squared:  0.1189 \n",
       "F-statistic: 5.994 on 1 and 36 DF,  p-value: 0.01935\n"
      ]
     },
     "metadata": {},
     "output_type": "display_data"
    }
   ],
   "source": [
    "slm <- lm(PIQ ~ Brain, data = df.iq)\n",
    "summary(slm)"
   ]
  },
  {
   "cell_type": "code",
   "execution_count": 10,
   "metadata": {},
   "outputs": [
    {
     "data": {
      "text/html": [
       "<table>\n",
       "<caption>A anova: 2 × 5</caption>\n",
       "<thead>\n",
       "\t<tr><th></th><th scope=col>Df</th><th scope=col>Sum Sq</th><th scope=col>Mean Sq</th><th scope=col>F value</th><th scope=col>Pr(&gt;F)</th></tr>\n",
       "\t<tr><th></th><th scope=col>&lt;dbl&gt;</th><th scope=col>&lt;dbl&gt;</th><th scope=col>&lt;dbl&gt;</th><th scope=col>&lt;dbl&gt;</th><th scope=col>&lt;dbl&gt;</th></tr>\n",
       "</thead>\n",
       "<tbody>\n",
       "\t<tr><th scope=row>Brain</th><td> 1</td><td> 2697.09</td><td>2697.09</td><td>5.99</td><td>0.02</td></tr>\n",
       "\t<tr><th scope=row>Residuals</th><td>36</td><td>16197.46</td><td> 449.93</td><td>  NA</td><td>  NA</td></tr>\n",
       "</tbody>\n",
       "</table>\n"
      ],
      "text/latex": [
       "A anova: 2 × 5\n",
       "\\begin{tabular}{r|lllll}\n",
       "  & Df & Sum Sq & Mean Sq & F value & Pr(>F)\\\\\n",
       "  & <dbl> & <dbl> & <dbl> & <dbl> & <dbl>\\\\\n",
       "\\hline\n",
       "\tBrain &  1 &  2697.09 & 2697.09 & 5.99 & 0.02\\\\\n",
       "\tResiduals & 36 & 16197.46 &  449.93 &   NA &   NA\\\\\n",
       "\\end{tabular}\n"
      ],
      "text/markdown": [
       "\n",
       "A anova: 2 × 5\n",
       "\n",
       "| <!--/--> | Df &lt;dbl&gt; | Sum Sq &lt;dbl&gt; | Mean Sq &lt;dbl&gt; | F value &lt;dbl&gt; | Pr(&gt;F) &lt;dbl&gt; |\n",
       "|---|---|---|---|---|---|\n",
       "| Brain |  1 |  2697.09 | 2697.09 | 5.99 | 0.02 |\n",
       "| Residuals | 36 | 16197.46 |  449.93 |   NA |   NA |\n",
       "\n"
      ],
      "text/plain": [
       "          Df Sum Sq   Mean Sq F value Pr(>F)\n",
       "Brain      1  2697.09 2697.09 5.99    0.02  \n",
       "Residuals 36 16197.46  449.93   NA      NA  "
      ]
     },
     "metadata": {},
     "output_type": "display_data"
    }
   ],
   "source": [
    "round(anova(slm),2)"
   ]
  },
  {
   "cell_type": "code",
   "execution_count": 13,
   "metadata": {},
   "outputs": [
    {
     "data": {
      "text/html": [
       "<table>\n",
       "<caption>A tibble: 6 × 8</caption>\n",
       "<thead>\n",
       "\t<tr><th scope=col>PIQ</th><th scope=col>Brain</th><th scope=col>.fitted</th><th scope=col>.resid</th><th scope=col>.std.resid</th><th scope=col>.hat</th><th scope=col>.sigma</th><th scope=col>.cooksd</th></tr>\n",
       "\t<tr><th scope=col>&lt;dbl&gt;</th><th scope=col>&lt;dbl&gt;</th><th scope=col>&lt;dbl&gt;</th><th scope=col>&lt;dbl&gt;</th><th scope=col>&lt;dbl&gt;</th><th scope=col>&lt;dbl&gt;</th><th scope=col>&lt;dbl&gt;</th><th scope=col>&lt;dbl&gt;</th></tr>\n",
       "</thead>\n",
       "<tbody>\n",
       "\t<tr><td>124</td><td> 81.69</td><td>100.7693</td><td>23.230680</td><td> 1.1342957</td><td>0.06776181</td><td>21.12451</td><td>0.0467606640</td></tr>\n",
       "\t<tr><td>150</td><td>103.84</td><td>126.8313</td><td>23.168730</td><td> 1.1612462</td><td>0.11526866</td><td>21.10567</td><td>0.0878452878</td></tr>\n",
       "\t<tr><td>128</td><td> 96.54</td><td>118.2420</td><td> 9.757996</td><td> 0.4704919</td><td>0.04396761</td><td>21.44619</td><td>0.0050901955</td></tr>\n",
       "\t<tr><td>134</td><td> 95.15</td><td>116.6065</td><td>17.393486</td><td> 0.8354282</td><td>0.03659129</td><td>21.30287</td><td>0.0132542609</td></tr>\n",
       "\t<tr><td>110</td><td> 92.88</td><td>113.9356</td><td>-3.935605</td><td>-0.1882726</td><td>0.02880967</td><td>21.50183</td><td>0.0005257489</td></tr>\n",
       "\t<tr><td>131</td><td> 99.13</td><td>121.2894</td><td> 9.710571</td><td> 0.4729372</td><td>0.06300315</td><td>21.44549</td><td>0.0075197109</td></tr>\n",
       "</tbody>\n",
       "</table>\n"
      ],
      "text/latex": [
       "A tibble: 6 × 8\n",
       "\\begin{tabular}{llllllll}\n",
       " PIQ & Brain & .fitted & .resid & .std.resid & .hat & .sigma & .cooksd\\\\\n",
       " <dbl> & <dbl> & <dbl> & <dbl> & <dbl> & <dbl> & <dbl> & <dbl>\\\\\n",
       "\\hline\n",
       "\t 124 &  81.69 & 100.7693 & 23.230680 &  1.1342957 & 0.06776181 & 21.12451 & 0.0467606640\\\\\n",
       "\t 150 & 103.84 & 126.8313 & 23.168730 &  1.1612462 & 0.11526866 & 21.10567 & 0.0878452878\\\\\n",
       "\t 128 &  96.54 & 118.2420 &  9.757996 &  0.4704919 & 0.04396761 & 21.44619 & 0.0050901955\\\\\n",
       "\t 134 &  95.15 & 116.6065 & 17.393486 &  0.8354282 & 0.03659129 & 21.30287 & 0.0132542609\\\\\n",
       "\t 110 &  92.88 & 113.9356 & -3.935605 & -0.1882726 & 0.02880967 & 21.50183 & 0.0005257489\\\\\n",
       "\t 131 &  99.13 & 121.2894 &  9.710571 &  0.4729372 & 0.06300315 & 21.44549 & 0.0075197109\\\\\n",
       "\\end{tabular}\n"
      ],
      "text/markdown": [
       "\n",
       "A tibble: 6 × 8\n",
       "\n",
       "| PIQ &lt;dbl&gt; | Brain &lt;dbl&gt; | .fitted &lt;dbl&gt; | .resid &lt;dbl&gt; | .std.resid &lt;dbl&gt; | .hat &lt;dbl&gt; | .sigma &lt;dbl&gt; | .cooksd &lt;dbl&gt; |\n",
       "|---|---|---|---|---|---|---|---|\n",
       "| 124 |  81.69 | 100.7693 | 23.230680 |  1.1342957 | 0.06776181 | 21.12451 | 0.0467606640 |\n",
       "| 150 | 103.84 | 126.8313 | 23.168730 |  1.1612462 | 0.11526866 | 21.10567 | 0.0878452878 |\n",
       "| 128 |  96.54 | 118.2420 |  9.757996 |  0.4704919 | 0.04396761 | 21.44619 | 0.0050901955 |\n",
       "| 134 |  95.15 | 116.6065 | 17.393486 |  0.8354282 | 0.03659129 | 21.30287 | 0.0132542609 |\n",
       "| 110 |  92.88 | 113.9356 | -3.935605 | -0.1882726 | 0.02880967 | 21.50183 | 0.0005257489 |\n",
       "| 131 |  99.13 | 121.2894 |  9.710571 |  0.4729372 | 0.06300315 | 21.44549 | 0.0075197109 |\n",
       "\n"
      ],
      "text/plain": [
       "  PIQ Brain  .fitted  .resid    .std.resid .hat       .sigma   .cooksd     \n",
       "1 124  81.69 100.7693 23.230680  1.1342957 0.06776181 21.12451 0.0467606640\n",
       "2 150 103.84 126.8313 23.168730  1.1612462 0.11526866 21.10567 0.0878452878\n",
       "3 128  96.54 118.2420  9.757996  0.4704919 0.04396761 21.44619 0.0050901955\n",
       "4 134  95.15 116.6065 17.393486  0.8354282 0.03659129 21.30287 0.0132542609\n",
       "5 110  92.88 113.9356 -3.935605 -0.1882726 0.02880967 21.50183 0.0005257489\n",
       "6 131  99.13 121.2894  9.710571  0.4729372 0.06300315 21.44549 0.0075197109"
      ]
     },
     "metadata": {},
     "output_type": "display_data"
    }
   ],
   "source": [
    "head(augment(slm))"
   ]
  },
  {
   "cell_type": "code",
   "execution_count": 14,
   "metadata": {},
   "outputs": [],
   "source": [
    "res.df <- augment(slm)"
   ]
  },
  {
   "cell_type": "code",
   "execution_count": 15,
   "metadata": {},
   "outputs": [
    {
     "data": {
      "text/html": [
       "<style>\n",
       ".list-inline {list-style: none; margin:0; padding: 0}\n",
       ".list-inline>li {display: inline-block}\n",
       ".list-inline>li:not(:last-child)::after {content: \"\\00b7\"; padding: 0 .5ex}\n",
       "</style>\n",
       "<ol class=list-inline><li>'PIQ'</li><li>'Brain'</li><li>'.fitted'</li><li>'.resid'</li><li>'.std.resid'</li><li>'.hat'</li><li>'.sigma'</li><li>'.cooksd'</li></ol>\n"
      ],
      "text/latex": [
       "\\begin{enumerate*}\n",
       "\\item 'PIQ'\n",
       "\\item 'Brain'\n",
       "\\item '.fitted'\n",
       "\\item '.resid'\n",
       "\\item '.std.resid'\n",
       "\\item '.hat'\n",
       "\\item '.sigma'\n",
       "\\item '.cooksd'\n",
       "\\end{enumerate*}\n"
      ],
      "text/markdown": [
       "1. 'PIQ'\n",
       "2. 'Brain'\n",
       "3. '.fitted'\n",
       "4. '.resid'\n",
       "5. '.std.resid'\n",
       "6. '.hat'\n",
       "7. '.sigma'\n",
       "8. '.cooksd'\n",
       "\n",
       "\n"
      ],
      "text/plain": [
       "[1] \"PIQ\"        \"Brain\"      \".fitted\"    \".resid\"     \".std.resid\"\n",
       "[6] \".hat\"       \".sigma\"     \".cooksd\"   "
      ]
     },
     "metadata": {},
     "output_type": "display_data"
    }
   ],
   "source": [
    "names(res.df)"
   ]
  },
  {
   "cell_type": "code",
   "execution_count": 16,
   "metadata": {},
   "outputs": [
    {
     "data": {
      "text/html": [
       "16197.4587154904"
      ],
      "text/latex": [
       "16197.4587154904"
      ],
      "text/markdown": [
       "16197.4587154904"
      ],
      "text/plain": [
       "[1] 16197.46"
      ]
     },
     "metadata": {},
     "output_type": "display_data"
    }
   ],
   "source": [
    "sum((res.df$`.resid`)^2) ## SSE"
   ]
  },
  {
   "cell_type": "markdown",
   "metadata": {},
   "source": [
    "### This is for my understanding summary of anova for partial F-test."
   ]
  },
  {
   "cell_type": "markdown",
   "metadata": {},
   "source": [
    "sum((slm$fitted.values - mean(df.iq$PIQ))^2) ## SSR"
   ]
  },
  {
   "cell_type": "code",
   "execution_count": 22,
   "metadata": {},
   "outputs": [
    {
     "data": {
      "text/html": [
       "<table>\n",
       "<caption>A anova: 2 × 6</caption>\n",
       "<thead>\n",
       "\t<tr><th></th><th scope=col>Res.Df</th><th scope=col>RSS</th><th scope=col>Df</th><th scope=col>Sum of Sq</th><th scope=col>F</th><th scope=col>Pr(&gt;F)</th></tr>\n",
       "\t<tr><th></th><th scope=col>&lt;dbl&gt;</th><th scope=col>&lt;dbl&gt;</th><th scope=col>&lt;dbl&gt;</th><th scope=col>&lt;dbl&gt;</th><th scope=col>&lt;dbl&gt;</th><th scope=col>&lt;dbl&gt;</th></tr>\n",
       "</thead>\n",
       "<tbody>\n",
       "\t<tr><th scope=row>1</th><td>36</td><td>16197.46</td><td>NA</td><td>      NA</td><td>      NA</td><td>        NA</td></tr>\n",
       "\t<tr><th scope=row>2</th><td>34</td><td>13321.81</td><td> 2</td><td>2875.651</td><td>3.669626</td><td>0.03605596</td></tr>\n",
       "</tbody>\n",
       "</table>\n"
      ],
      "text/latex": [
       "A anova: 2 × 6\n",
       "\\begin{tabular}{r|llllll}\n",
       "  & Res.Df & RSS & Df & Sum of Sq & F & Pr(>F)\\\\\n",
       "  & <dbl> & <dbl> & <dbl> & <dbl> & <dbl> & <dbl>\\\\\n",
       "\\hline\n",
       "\t1 & 36 & 16197.46 & NA &       NA &       NA &         NA\\\\\n",
       "\t2 & 34 & 13321.81 &  2 & 2875.651 & 3.669626 & 0.03605596\\\\\n",
       "\\end{tabular}\n"
      ],
      "text/markdown": [
       "\n",
       "A anova: 2 × 6\n",
       "\n",
       "| <!--/--> | Res.Df &lt;dbl&gt; | RSS &lt;dbl&gt; | Df &lt;dbl&gt; | Sum of Sq &lt;dbl&gt; | F &lt;dbl&gt; | Pr(&gt;F) &lt;dbl&gt; |\n",
       "|---|---|---|---|---|---|---|\n",
       "| 1 | 36 | 16197.46 | NA |       NA |       NA |         NA |\n",
       "| 2 | 34 | 13321.81 |  2 | 2875.651 | 3.669626 | 0.03605596 |\n",
       "\n"
      ],
      "text/plain": [
       "  Res.Df RSS      Df Sum of Sq F        Pr(>F)    \n",
       "1 36     16197.46 NA       NA        NA         NA\n",
       "2 34     13321.81  2 2875.651  3.669626 0.03605596"
      ]
     },
     "metadata": {},
     "output_type": "display_data"
    }
   ],
   "source": [
    "anova(slm, mlm)\n",
    "## RSS Residual sum of sqaured, Sum of Sq Regression sum of Squared."
   ]
  },
  {
   "cell_type": "code",
   "execution_count": 35,
   "metadata": {},
   "outputs": [
    {
     "data": {
      "text/html": [
       "<table>\n",
       "<caption>A anova: 2 × 5</caption>\n",
       "<thead>\n",
       "\t<tr><th></th><th scope=col>Df</th><th scope=col>Sum Sq</th><th scope=col>Mean Sq</th><th scope=col>F value</th><th scope=col>Pr(&gt;F)</th></tr>\n",
       "\t<tr><th></th><th scope=col>&lt;int&gt;</th><th scope=col>&lt;dbl&gt;</th><th scope=col>&lt;dbl&gt;</th><th scope=col>&lt;dbl&gt;</th><th scope=col>&lt;dbl&gt;</th></tr>\n",
       "</thead>\n",
       "<tbody>\n",
       "\t<tr><th scope=row>Brain</th><td> 1</td><td> 2697.094</td><td>2697.0939</td><td>5.994482</td><td>0.01935432</td></tr>\n",
       "\t<tr><th scope=row>Residuals</th><td>36</td><td>16197.459</td><td> 449.9294</td><td>      NA</td><td>        NA</td></tr>\n",
       "</tbody>\n",
       "</table>\n"
      ],
      "text/latex": [
       "A anova: 2 × 5\n",
       "\\begin{tabular}{r|lllll}\n",
       "  & Df & Sum Sq & Mean Sq & F value & Pr(>F)\\\\\n",
       "  & <int> & <dbl> & <dbl> & <dbl> & <dbl>\\\\\n",
       "\\hline\n",
       "\tBrain &  1 &  2697.094 & 2697.0939 & 5.994482 & 0.01935432\\\\\n",
       "\tResiduals & 36 & 16197.459 &  449.9294 &       NA &         NA\\\\\n",
       "\\end{tabular}\n"
      ],
      "text/markdown": [
       "\n",
       "A anova: 2 × 5\n",
       "\n",
       "| <!--/--> | Df &lt;int&gt; | Sum Sq &lt;dbl&gt; | Mean Sq &lt;dbl&gt; | F value &lt;dbl&gt; | Pr(&gt;F) &lt;dbl&gt; |\n",
       "|---|---|---|---|---|---|\n",
       "| Brain |  1 |  2697.094 | 2697.0939 | 5.994482 | 0.01935432 |\n",
       "| Residuals | 36 | 16197.459 |  449.9294 |       NA |         NA |\n",
       "\n"
      ],
      "text/plain": [
       "          Df Sum Sq    Mean Sq   F value  Pr(>F)    \n",
       "Brain      1  2697.094 2697.0939 5.994482 0.01935432\n",
       "Residuals 36 16197.459  449.9294       NA         NA"
      ]
     },
     "metadata": {},
     "output_type": "display_data"
    },
    {
     "data": {
      "text/html": [
       "2697.09391608852"
      ],
      "text/latex": [
       "2697.09391608852"
      ],
      "text/markdown": [
       "2697.09391608852"
      ],
      "text/plain": [
       "[1] 2697.094"
      ]
     },
     "metadata": {},
     "output_type": "display_data"
    },
    {
     "data": {
      "text/html": [
       "16197.4587154904"
      ],
      "text/latex": [
       "16197.4587154904"
      ],
      "text/markdown": [
       "16197.4587154904"
      ],
      "text/plain": [
       "[1] 16197.46"
      ]
     },
     "metadata": {},
     "output_type": "display_data"
    }
   ],
   "source": [
    "anova(slm) ## Sum SQ is Regression sum of squared = SSR\n",
    "sum((slm$fitted.values - mean(df.iq$PIQ))^2) ## SSR\n",
    "sum(slm$residuals ^2) ## SSE"
   ]
  },
  {
   "cell_type": "code",
   "execution_count": 34,
   "metadata": {},
   "outputs": [
    {
     "data": {
      "text/html": [
       "<table>\n",
       "<caption>A anova: 4 × 5</caption>\n",
       "<thead>\n",
       "\t<tr><th></th><th scope=col>Df</th><th scope=col>Sum Sq</th><th scope=col>Mean Sq</th><th scope=col>F value</th><th scope=col>Pr(&gt;F)</th></tr>\n",
       "\t<tr><th></th><th scope=col>&lt;dbl&gt;</th><th scope=col>&lt;dbl&gt;</th><th scope=col>&lt;dbl&gt;</th><th scope=col>&lt;dbl&gt;</th><th scope=col>&lt;dbl&gt;</th></tr>\n",
       "</thead>\n",
       "<tbody>\n",
       "\t<tr><th scope=row>Brain</th><td> 1</td><td> 2697</td><td>2697</td><td> 7</td><td> 0</td></tr>\n",
       "\t<tr><th scope=row>Height</th><td> 1</td><td> 2876</td><td>2876</td><td> 7</td><td> 0</td></tr>\n",
       "\t<tr><th scope=row>Weight</th><td> 1</td><td>    0</td><td>   0</td><td> 0</td><td> 1</td></tr>\n",
       "\t<tr><th scope=row>Residuals</th><td>34</td><td>13322</td><td> 392</td><td>NA</td><td>NA</td></tr>\n",
       "</tbody>\n",
       "</table>\n"
      ],
      "text/latex": [
       "A anova: 4 × 5\n",
       "\\begin{tabular}{r|lllll}\n",
       "  & Df & Sum Sq & Mean Sq & F value & Pr(>F)\\\\\n",
       "  & <dbl> & <dbl> & <dbl> & <dbl> & <dbl>\\\\\n",
       "\\hline\n",
       "\tBrain &  1 &  2697 & 2697 &  7 &  0\\\\\n",
       "\tHeight &  1 &  2876 & 2876 &  7 &  0\\\\\n",
       "\tWeight &  1 &     0 &    0 &  0 &  1\\\\\n",
       "\tResiduals & 34 & 13322 &  392 & NA & NA\\\\\n",
       "\\end{tabular}\n"
      ],
      "text/markdown": [
       "\n",
       "A anova: 4 × 5\n",
       "\n",
       "| <!--/--> | Df &lt;dbl&gt; | Sum Sq &lt;dbl&gt; | Mean Sq &lt;dbl&gt; | F value &lt;dbl&gt; | Pr(&gt;F) &lt;dbl&gt; |\n",
       "|---|---|---|---|---|---|\n",
       "| Brain |  1 |  2697 | 2697 |  7 |  0 |\n",
       "| Height |  1 |  2876 | 2876 |  7 |  0 |\n",
       "| Weight |  1 |     0 |    0 |  0 |  1 |\n",
       "| Residuals | 34 | 13322 |  392 | NA | NA |\n",
       "\n"
      ],
      "text/plain": [
       "          Df Sum Sq Mean Sq F value Pr(>F)\n",
       "Brain      1  2697  2697     7       0    \n",
       "Height     1  2876  2876     7       0    \n",
       "Weight     1     0     0     0       1    \n",
       "Residuals 34 13322   392    NA      NA    "
      ]
     },
     "metadata": {},
     "output_type": "display_data"
    }
   ],
   "source": [
    "round(anova(mlm))"
   ]
  },
  {
   "cell_type": "code",
   "execution_count": 23,
   "metadata": {},
   "outputs": [
    {
     "data": {
      "text/html": [
       "<table>\n",
       "<caption>A anova: 2 × 6</caption>\n",
       "<thead>\n",
       "\t<tr><th></th><th scope=col>Res.Df</th><th scope=col>RSS</th><th scope=col>Df</th><th scope=col>Sum of Sq</th><th scope=col>F</th><th scope=col>Pr(&gt;F)</th></tr>\n",
       "\t<tr><th></th><th scope=col>&lt;dbl&gt;</th><th scope=col>&lt;dbl&gt;</th><th scope=col>&lt;dbl&gt;</th><th scope=col>&lt;dbl&gt;</th><th scope=col>&lt;dbl&gt;</th><th scope=col>&lt;dbl&gt;</th></tr>\n",
       "</thead>\n",
       "<tbody>\n",
       "\t<tr><th scope=row>1</th><td>36</td><td>16197.46</td><td>NA</td><td>      NA</td><td>      NA</td><td>         NA</td></tr>\n",
       "\t<tr><th scope=row>2</th><td>35</td><td>13321.81</td><td> 1</td><td>2875.647</td><td>7.555103</td><td>0.009399064</td></tr>\n",
       "</tbody>\n",
       "</table>\n"
      ],
      "text/latex": [
       "A anova: 2 × 6\n",
       "\\begin{tabular}{r|llllll}\n",
       "  & Res.Df & RSS & Df & Sum of Sq & F & Pr(>F)\\\\\n",
       "  & <dbl> & <dbl> & <dbl> & <dbl> & <dbl> & <dbl>\\\\\n",
       "\\hline\n",
       "\t1 & 36 & 16197.46 & NA &       NA &       NA &          NA\\\\\n",
       "\t2 & 35 & 13321.81 &  1 & 2875.647 & 7.555103 & 0.009399064\\\\\n",
       "\\end{tabular}\n"
      ],
      "text/markdown": [
       "\n",
       "A anova: 2 × 6\n",
       "\n",
       "| <!--/--> | Res.Df &lt;dbl&gt; | RSS &lt;dbl&gt; | Df &lt;dbl&gt; | Sum of Sq &lt;dbl&gt; | F &lt;dbl&gt; | Pr(&gt;F) &lt;dbl&gt; |\n",
       "|---|---|---|---|---|---|---|\n",
       "| 1 | 36 | 16197.46 | NA |       NA |       NA |          NA |\n",
       "| 2 | 35 | 13321.81 |  1 | 2875.647 | 7.555103 | 0.009399064 |\n",
       "\n"
      ],
      "text/plain": [
       "  Res.Df RSS      Df Sum of Sq F        Pr(>F)     \n",
       "1 36     16197.46 NA       NA        NA          NA\n",
       "2 35     13321.81  1 2875.647  7.555103 0.009399064"
      ]
     },
     "metadata": {},
     "output_type": "display_data"
    }
   ],
   "source": [
    "anova(slm, lm(PIQ ~ Brain + Height, data=df.iq))"
   ]
  },
  {
   "cell_type": "code",
   "execution_count": 27,
   "metadata": {},
   "outputs": [
    {
     "data": {
      "text/html": [
       "<table>\n",
       "<caption>A anova: 2 × 6</caption>\n",
       "<thead>\n",
       "\t<tr><th></th><th scope=col>Res.Df</th><th scope=col>RSS</th><th scope=col>Df</th><th scope=col>Sum of Sq</th><th scope=col>F</th><th scope=col>Pr(&gt;F)</th></tr>\n",
       "\t<tr><th></th><th scope=col>&lt;dbl&gt;</th><th scope=col>&lt;dbl&gt;</th><th scope=col>&lt;dbl&gt;</th><th scope=col>&lt;dbl&gt;</th><th scope=col>&lt;dbl&gt;</th><th scope=col>&lt;dbl&gt;</th></tr>\n",
       "</thead>\n",
       "<tbody>\n",
       "\t<tr><th scope=row>1</th><td>36</td><td>16197.46</td><td>NA</td><td>      NA</td><td>      NA</td><td>       NA</td></tr>\n",
       "\t<tr><th scope=row>2</th><td>35</td><td>15256.52</td><td> 1</td><td>940.9378</td><td>2.158606</td><td>0.1507051</td></tr>\n",
       "</tbody>\n",
       "</table>\n"
      ],
      "text/latex": [
       "A anova: 2 × 6\n",
       "\\begin{tabular}{r|llllll}\n",
       "  & Res.Df & RSS & Df & Sum of Sq & F & Pr(>F)\\\\\n",
       "  & <dbl> & <dbl> & <dbl> & <dbl> & <dbl> & <dbl>\\\\\n",
       "\\hline\n",
       "\t1 & 36 & 16197.46 & NA &       NA &       NA &        NA\\\\\n",
       "\t2 & 35 & 15256.52 &  1 & 940.9378 & 2.158606 & 0.1507051\\\\\n",
       "\\end{tabular}\n"
      ],
      "text/markdown": [
       "\n",
       "A anova: 2 × 6\n",
       "\n",
       "| <!--/--> | Res.Df &lt;dbl&gt; | RSS &lt;dbl&gt; | Df &lt;dbl&gt; | Sum of Sq &lt;dbl&gt; | F &lt;dbl&gt; | Pr(&gt;F) &lt;dbl&gt; |\n",
       "|---|---|---|---|---|---|---|\n",
       "| 1 | 36 | 16197.46 | NA |       NA |       NA |        NA |\n",
       "| 2 | 35 | 15256.52 |  1 | 940.9378 | 2.158606 | 0.1507051 |\n",
       "\n"
      ],
      "text/plain": [
       "  Res.Df RSS      Df Sum of Sq F        Pr(>F)   \n",
       "1 36     16197.46 NA       NA        NA        NA\n",
       "2 35     15256.52  1 940.9378  2.158606 0.1507051"
      ]
     },
     "metadata": {},
     "output_type": "display_data"
    }
   ],
   "source": [
    "anova(slm, lm(PIQ ~ Brain + Weight, data=df.iq))"
   ]
  },
  {
   "cell_type": "markdown",
   "metadata": {},
   "source": [
    "### This is for continuing penn state lectures."
   ]
  },
  {
   "cell_type": "code",
   "execution_count": 44,
   "metadata": {},
   "outputs": [
    {
     "data": {
      "text/html": [
       "<table>\n",
       "<caption>A anova: 4 × 5</caption>\n",
       "<thead>\n",
       "\t<tr><th></th><th scope=col>Df</th><th scope=col>Sum Sq</th><th scope=col>Mean Sq</th><th scope=col>F value</th><th scope=col>Pr(&gt;F)</th></tr>\n",
       "\t<tr><th></th><th scope=col>&lt;dbl&gt;</th><th scope=col>&lt;dbl&gt;</th><th scope=col>&lt;dbl&gt;</th><th scope=col>&lt;dbl&gt;</th><th scope=col>&lt;dbl&gt;</th></tr>\n",
       "</thead>\n",
       "<tbody>\n",
       "\t<tr><th scope=row>Brain</th><td> 1</td><td> 2697.1</td><td>2697.1</td><td>6.9</td><td> 0</td></tr>\n",
       "\t<tr><th scope=row>Height</th><td> 1</td><td> 2875.6</td><td>2875.6</td><td>7.3</td><td> 0</td></tr>\n",
       "\t<tr><th scope=row>Weight</th><td> 1</td><td>    0.0</td><td>   0.0</td><td>0.0</td><td> 1</td></tr>\n",
       "\t<tr><th scope=row>Residuals</th><td>34</td><td>13321.8</td><td> 391.8</td><td> NA</td><td>NA</td></tr>\n",
       "</tbody>\n",
       "</table>\n"
      ],
      "text/latex": [
       "A anova: 4 × 5\n",
       "\\begin{tabular}{r|lllll}\n",
       "  & Df & Sum Sq & Mean Sq & F value & Pr(>F)\\\\\n",
       "  & <dbl> & <dbl> & <dbl> & <dbl> & <dbl>\\\\\n",
       "\\hline\n",
       "\tBrain &  1 &  2697.1 & 2697.1 & 6.9 &  0\\\\\n",
       "\tHeight &  1 &  2875.6 & 2875.6 & 7.3 &  0\\\\\n",
       "\tWeight &  1 &     0.0 &    0.0 & 0.0 &  1\\\\\n",
       "\tResiduals & 34 & 13321.8 &  391.8 &  NA & NA\\\\\n",
       "\\end{tabular}\n"
      ],
      "text/markdown": [
       "\n",
       "A anova: 4 × 5\n",
       "\n",
       "| <!--/--> | Df &lt;dbl&gt; | Sum Sq &lt;dbl&gt; | Mean Sq &lt;dbl&gt; | F value &lt;dbl&gt; | Pr(&gt;F) &lt;dbl&gt; |\n",
       "|---|---|---|---|---|---|\n",
       "| Brain |  1 |  2697.1 | 2697.1 | 6.9 |  0 |\n",
       "| Height |  1 |  2875.6 | 2875.6 | 7.3 |  0 |\n",
       "| Weight |  1 |     0.0 |    0.0 | 0.0 |  1 |\n",
       "| Residuals | 34 | 13321.8 |  391.8 |  NA | NA |\n",
       "\n"
      ],
      "text/plain": [
       "          Df Sum Sq  Mean Sq F value Pr(>F)\n",
       "Brain      1  2697.1 2697.1  6.9      0    \n",
       "Height     1  2875.6 2875.6  7.3      0    \n",
       "Weight     1     0.0    0.0  0.0      1    \n",
       "Residuals 34 13321.8  391.8   NA     NA    "
      ]
     },
     "metadata": {},
     "output_type": "display_data"
    }
   ],
   "source": [
    "round(anova(mlm),1)"
   ]
  },
  {
   "cell_type": "code",
   "execution_count": 43,
   "metadata": {},
   "outputs": [
    {
     "data": {
      "text/html": [
       "<table>\n",
       "<caption>A anova: 4 × 4</caption>\n",
       "<thead>\n",
       "\t<tr><th></th><th scope=col>Sum Sq</th><th scope=col>Df</th><th scope=col>F value</th><th scope=col>Pr(&gt;F)</th></tr>\n",
       "\t<tr><th></th><th scope=col>&lt;dbl&gt;</th><th scope=col>&lt;dbl&gt;</th><th scope=col>&lt;dbl&gt;</th><th scope=col>&lt;dbl&gt;</th></tr>\n",
       "</thead>\n",
       "<tbody>\n",
       "\t<tr><th scope=row>Brain</th><td> 5239.2</td><td> 1</td><td>13.4</td><td> 0</td></tr>\n",
       "\t<tr><th scope=row>Height</th><td> 1934.7</td><td> 1</td><td> 4.9</td><td> 0</td></tr>\n",
       "\t<tr><th scope=row>Weight</th><td>    0.0</td><td> 1</td><td> 0.0</td><td> 1</td></tr>\n",
       "\t<tr><th scope=row>Residuals</th><td>13321.8</td><td>34</td><td>  NA</td><td>NA</td></tr>\n",
       "</tbody>\n",
       "</table>\n"
      ],
      "text/latex": [
       "A anova: 4 × 4\n",
       "\\begin{tabular}{r|llll}\n",
       "  & Sum Sq & Df & F value & Pr(>F)\\\\\n",
       "  & <dbl> & <dbl> & <dbl> & <dbl>\\\\\n",
       "\\hline\n",
       "\tBrain &  5239.2 &  1 & 13.4 &  0\\\\\n",
       "\tHeight &  1934.7 &  1 &  4.9 &  0\\\\\n",
       "\tWeight &     0.0 &  1 &  0.0 &  1\\\\\n",
       "\tResiduals & 13321.8 & 34 &   NA & NA\\\\\n",
       "\\end{tabular}\n"
      ],
      "text/markdown": [
       "\n",
       "A anova: 4 × 4\n",
       "\n",
       "| <!--/--> | Sum Sq &lt;dbl&gt; | Df &lt;dbl&gt; | F value &lt;dbl&gt; | Pr(&gt;F) &lt;dbl&gt; |\n",
       "|---|---|---|---|---|\n",
       "| Brain |  5239.2 |  1 | 13.4 |  0 |\n",
       "| Height |  1934.7 |  1 |  4.9 |  0 |\n",
       "| Weight |     0.0 |  1 |  0.0 |  1 |\n",
       "| Residuals | 13321.8 | 34 |   NA | NA |\n",
       "\n"
      ],
      "text/plain": [
       "          Sum Sq  Df F value Pr(>F)\n",
       "Brain      5239.2  1 13.4     0    \n",
       "Height     1934.7  1  4.9     0    \n",
       "Weight        0.0  1  0.0     1    \n",
       "Residuals 13321.8 34   NA    NA    "
      ]
     },
     "metadata": {},
     "output_type": "display_data"
    }
   ],
   "source": [
    "round(Anova(mlm, type = 2),1)"
   ]
  },
  {
   "cell_type": "code",
   "execution_count": 45,
   "metadata": {},
   "outputs": [
    {
     "data": {
      "text/html": [
       "<table>\n",
       "<caption>A anova: 5 × 4</caption>\n",
       "<thead>\n",
       "\t<tr><th></th><th scope=col>Sum Sq</th><th scope=col>Df</th><th scope=col>F value</th><th scope=col>Pr(&gt;F)</th></tr>\n",
       "\t<tr><th></th><th scope=col>&lt;dbl&gt;</th><th scope=col>&lt;dbl&gt;</th><th scope=col>&lt;dbl&gt;</th><th scope=col>&lt;dbl&gt;</th></tr>\n",
       "</thead>\n",
       "<tbody>\n",
       "\t<tr><th scope=row>(Intercept)</th><td> 1225.2</td><td> 1</td><td> 3.1</td><td>0.1</td></tr>\n",
       "\t<tr><th scope=row>Brain</th><td> 5239.2</td><td> 1</td><td>13.4</td><td>0.0</td></tr>\n",
       "\t<tr><th scope=row>Height</th><td> 1934.7</td><td> 1</td><td> 4.9</td><td>0.0</td></tr>\n",
       "\t<tr><th scope=row>Weight</th><td>    0.0</td><td> 1</td><td> 0.0</td><td>1.0</td></tr>\n",
       "\t<tr><th scope=row>Residuals</th><td>13321.8</td><td>34</td><td>  NA</td><td> NA</td></tr>\n",
       "</tbody>\n",
       "</table>\n"
      ],
      "text/latex": [
       "A anova: 5 × 4\n",
       "\\begin{tabular}{r|llll}\n",
       "  & Sum Sq & Df & F value & Pr(>F)\\\\\n",
       "  & <dbl> & <dbl> & <dbl> & <dbl>\\\\\n",
       "\\hline\n",
       "\t(Intercept) &  1225.2 &  1 &  3.1 & 0.1\\\\\n",
       "\tBrain &  5239.2 &  1 & 13.4 & 0.0\\\\\n",
       "\tHeight &  1934.7 &  1 &  4.9 & 0.0\\\\\n",
       "\tWeight &     0.0 &  1 &  0.0 & 1.0\\\\\n",
       "\tResiduals & 13321.8 & 34 &   NA &  NA\\\\\n",
       "\\end{tabular}\n"
      ],
      "text/markdown": [
       "\n",
       "A anova: 5 × 4\n",
       "\n",
       "| <!--/--> | Sum Sq &lt;dbl&gt; | Df &lt;dbl&gt; | F value &lt;dbl&gt; | Pr(&gt;F) &lt;dbl&gt; |\n",
       "|---|---|---|---|---|\n",
       "| (Intercept) |  1225.2 |  1 |  3.1 | 0.1 |\n",
       "| Brain |  5239.2 |  1 | 13.4 | 0.0 |\n",
       "| Height |  1934.7 |  1 |  4.9 | 0.0 |\n",
       "| Weight |     0.0 |  1 |  0.0 | 1.0 |\n",
       "| Residuals | 13321.8 | 34 |   NA |  NA |\n",
       "\n"
      ],
      "text/plain": [
       "            Sum Sq  Df F value Pr(>F)\n",
       "(Intercept)  1225.2  1  3.1    0.1   \n",
       "Brain        5239.2  1 13.4    0.0   \n",
       "Height       1934.7  1  4.9    0.0   \n",
       "Weight          0.0  1  0.0    1.0   \n",
       "Residuals   13321.8 34   NA     NA   "
      ]
     },
     "metadata": {},
     "output_type": "display_data"
    }
   ],
   "source": [
    "round(Anova(mlm, type = 3),1)"
   ]
  },
  {
   "cell_type": "code",
   "execution_count": 50,
   "metadata": {},
   "outputs": [
    {
     "data": {
      "text/plain": [
       "\n",
       "Call:\n",
       "lm(formula = PIQ ~ ., data = df.iq)\n",
       "\n",
       "Residuals:\n",
       "   Min     1Q Median     3Q    Max \n",
       "-32.74 -12.09  -3.84  14.17  51.69 \n",
       "\n",
       "Coefficients:\n",
       "              Estimate Std. Error t value Pr(>|t|)    \n",
       "(Intercept)  1.114e+02  6.297e+01   1.768 0.085979 .  \n",
       "Brain        2.060e+00  5.634e-01   3.657 0.000856 ***\n",
       "Height      -2.732e+00  1.229e+00  -2.222 0.033034 *  \n",
       "Weight       5.599e-04  1.971e-01   0.003 0.997750    \n",
       "---\n",
       "Signif. codes:  0 '***' 0.001 '**' 0.01 '*' 0.05 '.' 0.1 ' ' 1\n",
       "\n",
       "Residual standard error: 19.79 on 34 degrees of freedom\n",
       "Multiple R-squared:  0.2949,\tAdjusted R-squared:  0.2327 \n",
       "F-statistic: 4.741 on 3 and 34 DF,  p-value: 0.007215\n"
      ]
     },
     "metadata": {},
     "output_type": "display_data"
    }
   ],
   "source": [
    "summary(mlm)"
   ]
  },
  {
   "cell_type": "code",
   "execution_count": 52,
   "metadata": {},
   "outputs": [
    {
     "data": {
      "text/html": [
       "<table>\n",
       "<caption>A anova: 4 × 5</caption>\n",
       "<thead>\n",
       "\t<tr><th></th><th scope=col>Df</th><th scope=col>Sum Sq</th><th scope=col>Mean Sq</th><th scope=col>F value</th><th scope=col>Pr(&gt;F)</th></tr>\n",
       "\t<tr><th></th><th scope=col>&lt;dbl&gt;</th><th scope=col>&lt;dbl&gt;</th><th scope=col>&lt;dbl&gt;</th><th scope=col>&lt;dbl&gt;</th><th scope=col>&lt;dbl&gt;</th></tr>\n",
       "</thead>\n",
       "<tbody>\n",
       "\t<tr><th scope=row>Brain</th><td> 1</td><td> 2697.1</td><td>2697.1</td><td>6.9</td><td> 0</td></tr>\n",
       "\t<tr><th scope=row>Height</th><td> 1</td><td> 2875.6</td><td>2875.6</td><td>7.3</td><td> 0</td></tr>\n",
       "\t<tr><th scope=row>Weight</th><td> 1</td><td>    0.0</td><td>   0.0</td><td>0.0</td><td> 1</td></tr>\n",
       "\t<tr><th scope=row>Residuals</th><td>34</td><td>13321.8</td><td> 391.8</td><td> NA</td><td>NA</td></tr>\n",
       "</tbody>\n",
       "</table>\n"
      ],
      "text/latex": [
       "A anova: 4 × 5\n",
       "\\begin{tabular}{r|lllll}\n",
       "  & Df & Sum Sq & Mean Sq & F value & Pr(>F)\\\\\n",
       "  & <dbl> & <dbl> & <dbl> & <dbl> & <dbl>\\\\\n",
       "\\hline\n",
       "\tBrain &  1 &  2697.1 & 2697.1 & 6.9 &  0\\\\\n",
       "\tHeight &  1 &  2875.6 & 2875.6 & 7.3 &  0\\\\\n",
       "\tWeight &  1 &     0.0 &    0.0 & 0.0 &  1\\\\\n",
       "\tResiduals & 34 & 13321.8 &  391.8 &  NA & NA\\\\\n",
       "\\end{tabular}\n"
      ],
      "text/markdown": [
       "\n",
       "A anova: 4 × 5\n",
       "\n",
       "| <!--/--> | Df &lt;dbl&gt; | Sum Sq &lt;dbl&gt; | Mean Sq &lt;dbl&gt; | F value &lt;dbl&gt; | Pr(&gt;F) &lt;dbl&gt; |\n",
       "|---|---|---|---|---|---|\n",
       "| Brain |  1 |  2697.1 | 2697.1 | 6.9 |  0 |\n",
       "| Height |  1 |  2875.6 | 2875.6 | 7.3 |  0 |\n",
       "| Weight |  1 |     0.0 |    0.0 | 0.0 |  1 |\n",
       "| Residuals | 34 | 13321.8 |  391.8 |  NA | NA |\n",
       "\n"
      ],
      "text/plain": [
       "          Df Sum Sq  Mean Sq F value Pr(>F)\n",
       "Brain      1  2697.1 2697.1  6.9      0    \n",
       "Height     1  2875.6 2875.6  7.3      0    \n",
       "Weight     1     0.0    0.0  0.0      1    \n",
       "Residuals 34 13321.8  391.8   NA     NA    "
      ]
     },
     "metadata": {},
     "output_type": "display_data"
    }
   ],
   "source": [
    "round(anova(mlm),1)"
   ]
  },
  {
   "cell_type": "code",
   "execution_count": 54,
   "metadata": {},
   "outputs": [
    {
     "data": {
      "text/html": [
       "391.6441"
      ],
      "text/latex": [
       "391.6441"
      ],
      "text/markdown": [
       "391.6441"
      ],
      "text/plain": [
       "[1] 391.6441"
      ]
     },
     "metadata": {},
     "output_type": "display_data"
    }
   ],
   "source": [
    "19.79 ^2 ## Residual standard error ^2 == Residuals Mean Sq"
   ]
  },
  {
   "cell_type": "code",
   "execution_count": null,
   "metadata": {},
   "outputs": [],
   "source": []
  }
 ],
 "metadata": {
  "kernelspec": {
   "display_name": "R",
   "language": "R",
   "name": "ir"
  },
  "language_info": {
   "codemirror_mode": "r",
   "file_extension": ".r",
   "mimetype": "text/x-r-source",
   "name": "R",
   "pygments_lexer": "r",
   "version": "4.0.2"
  }
 },
 "nbformat": 4,
 "nbformat_minor": 4
}
