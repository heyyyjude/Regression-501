{
 "cells": [
  {
   "cell_type": "code",
   "execution_count": 1,
   "metadata": {},
   "outputs": [],
   "source": [
    "pacman::p_load(\"tidyverse\", \"ggpubr\", 'car')"
   ]
  },
  {
   "cell_type": "code",
   "execution_count": 2,
   "metadata": {},
   "outputs": [
    {
     "name": "stderr",
     "output_type": "stream",
     "text": [
      "Parsed with column specification:\n",
      "cols(\n",
      "  Wgt = \u001b[32mcol_double()\u001b[39m,\n",
      "  Gest = \u001b[32mcol_double()\u001b[39m,\n",
      "  Smoke = \u001b[31mcol_character()\u001b[39m\n",
      ")\n",
      "\n",
      "Warning message:\n",
      "\"1 parsing failure.\n",
      "row   col expected        actual                                file\n",
      " 32 Smoke          embedded null 'STAT501_Lesson01/birthsmokers.txt'\n",
      "\"\n"
     ]
    },
    {
     "data": {
      "text/html": [
       "<table>\n",
       "<caption>A tibble: 6 × 3</caption>\n",
       "<thead>\n",
       "\t<tr><th scope=col>Wgt</th><th scope=col>Gest</th><th scope=col>Smoke</th></tr>\n",
       "\t<tr><th scope=col>&lt;dbl&gt;</th><th scope=col>&lt;dbl&gt;</th><th scope=col>&lt;chr&gt;</th></tr>\n",
       "</thead>\n",
       "<tbody>\n",
       "\t<tr><td>2940</td><td>38</td><td>yes</td></tr>\n",
       "\t<tr><td>3130</td><td>38</td><td>no </td></tr>\n",
       "\t<tr><td>2420</td><td>36</td><td>yes</td></tr>\n",
       "\t<tr><td>2450</td><td>34</td><td>no </td></tr>\n",
       "\t<tr><td>2760</td><td>39</td><td>yes</td></tr>\n",
       "\t<tr><td>2440</td><td>35</td><td>yes</td></tr>\n",
       "</tbody>\n",
       "</table>\n"
      ],
      "text/latex": [
       "A tibble: 6 × 3\n",
       "\\begin{tabular}{lll}\n",
       " Wgt & Gest & Smoke\\\\\n",
       " <dbl> & <dbl> & <chr>\\\\\n",
       "\\hline\n",
       "\t 2940 & 38 & yes\\\\\n",
       "\t 3130 & 38 & no \\\\\n",
       "\t 2420 & 36 & yes\\\\\n",
       "\t 2450 & 34 & no \\\\\n",
       "\t 2760 & 39 & yes\\\\\n",
       "\t 2440 & 35 & yes\\\\\n",
       "\\end{tabular}\n"
      ],
      "text/markdown": [
       "\n",
       "A tibble: 6 × 3\n",
       "\n",
       "| Wgt &lt;dbl&gt; | Gest &lt;dbl&gt; | Smoke &lt;chr&gt; |\n",
       "|---|---|---|\n",
       "| 2940 | 38 | yes |\n",
       "| 3130 | 38 | no  |\n",
       "| 2420 | 36 | yes |\n",
       "| 2450 | 34 | no  |\n",
       "| 2760 | 39 | yes |\n",
       "| 2440 | 35 | yes |\n",
       "\n"
      ],
      "text/plain": [
       "  Wgt  Gest Smoke\n",
       "1 2940 38   yes  \n",
       "2 3130 38   no   \n",
       "3 2420 36   yes  \n",
       "4 2450 34   no   \n",
       "5 2760 39   yes  \n",
       "6 2440 35   yes  "
      ]
     },
     "metadata": {},
     "output_type": "display_data"
    }
   ],
   "source": [
    "df <- read_table2(\"STAT501_Lesson01/birthsmokers.txt\")\n",
    "head(df)"
   ]
  },
  {
   "cell_type": "code",
   "execution_count": 3,
   "metadata": {},
   "outputs": [],
   "source": [
    "df$Smoke <- as.factor(df$Smoke)"
   ]
  },
  {
   "cell_type": "code",
   "execution_count": 6,
   "metadata": {},
   "outputs": [
    {
     "data": {
      "image/png": "[encoded data removed]",
      "text/plain": [
       "plot without title"
      ]
     },
     "metadata": {
      "image/png": {
       "height": 420,
       "width": 420
      }
     },
     "output_type": "display_data"
    }
   ],
   "source": [
    "psych::pairs.panels(df)"
   ]
  },
  {
   "cell_type": "code",
   "execution_count": 16,
   "metadata": {},
   "outputs": [
    {
     "data": {
      "text/plain": [
       "\n",
       "Call:\n",
       "lm(formula = Wgt ~ Gest, data = df.non)\n",
       "\n",
       "Residuals:\n",
       "    Min      1Q  Median      3Q     Max \n",
       "-171.52 -101.59   23.28   83.63  139.48 \n",
       "\n",
       "Coefficients:\n",
       "            Estimate Std. Error t value Pr(>|t|)    \n",
       "(Intercept) -2546.14     457.29  -5.568 6.93e-05 ***\n",
       "Gest          147.21      11.97  12.294 6.85e-09 ***\n",
       "---\n",
       "Signif. codes:  0 '***' 0.001 '**' 0.01 '*' 0.05 '.' 0.1 ' ' 1\n",
       "\n",
       "Residual standard error: 106.9 on 14 degrees of freedom\n",
       "Multiple R-squared:  0.9152,\tAdjusted R-squared:  0.9092 \n",
       "F-statistic: 151.1 on 1 and 14 DF,  p-value: 6.852e-09\n"
      ]
     },
     "metadata": {},
     "output_type": "display_data"
    }
   ],
   "source": [
    "df.non <- df%>% dplyr::filter(Smoke=='no')\n",
    "lm.non <- lm(Wgt ~ Gest, data=df.non)\n",
    "summary(lm.non)"
   ]
  },
  {
   "cell_type": "code",
   "execution_count": 17,
   "metadata": {},
   "outputs": [
    {
     "data": {
      "text/plain": [
       "\n",
       "Call:\n",
       "lm(formula = Wgt ~ Gest, data = df.yes)\n",
       "\n",
       "Residuals:\n",
       "    Min      1Q  Median      3Q     Max \n",
       "-228.53  -64.86  -19.10   93.89  184.53 \n",
       "\n",
       "Coefficients:\n",
       "            Estimate Std. Error t value Pr(>|t|)    \n",
       "(Intercept) -2474.56     553.97  -4.467 0.000532 ***\n",
       "Gest          139.03      14.11   9.851 1.12e-07 ***\n",
       "---\n",
       "Signif. codes:  0 '***' 0.001 '**' 0.01 '*' 0.05 '.' 0.1 ' ' 1\n",
       "\n",
       "Residual standard error: 126.6 on 14 degrees of freedom\n",
       "Multiple R-squared:  0.8739,\tAdjusted R-squared:  0.8649 \n",
       "F-statistic: 97.04 on 1 and 14 DF,  p-value: 1.125e-07\n"
      ]
     },
     "metadata": {},
     "output_type": "display_data"
    }
   ],
   "source": [
    "df.yes <- df%>% dplyr::filter(Smoke=='yes')\n",
    "lm.yes <- lm(Wgt ~ Gest, data=df.yes)\n",
    "summary(lm.yes)"
   ]
  },
  {
   "cell_type": "code",
   "execution_count": 30,
   "metadata": {},
   "outputs": [
    {
     "data": {
      "image/png": "[encoded data removed]",
      "text/plain": [
       "plot without title"
      ]
     },
     "metadata": {
      "image/png": {
       "height": 420,
       "width": 420
      }
     },
     "output_type": "display_data"
    }
   ],
   "source": [
    "ggscatter(df, x='Gest', y=\"Wgt\", col='Smoke') +\n",
    "#ggplot(df, aes(Gest, Wgt)) + geom_point(aes(col=Smoke)) + theme_bw() +\n",
    "geom_abline(intercept = -2546.14, slope = 147.21, col='red') +\n",
    "geom_abline(intercept = -2474.56, slope = 139.03, col='blue')"
   ]
  },
  {
   "cell_type": "code",
   "execution_count": 32,
   "metadata": {},
   "outputs": [
    {
     "data": {
      "text/plain": [
       "\n",
       "Call:\n",
       "lm(formula = Wgt ~ Gest + Smoke, data = df)\n",
       "\n",
       "Residuals:\n",
       "     Min       1Q   Median       3Q      Max \n",
       "-223.693  -92.063   -9.365   79.663  197.507 \n",
       "\n",
       "Coefficients:\n",
       "             Estimate Std. Error t value Pr(>|t|)    \n",
       "(Intercept) -2389.573    349.206  -6.843 1.63e-07 ***\n",
       "Gest          143.100      9.128  15.677 1.07e-15 ***\n",
       "Smokeyes     -244.544     41.982  -5.825 2.58e-06 ***\n",
       "---\n",
       "Signif. codes:  0 '***' 0.001 '**' 0.01 '*' 0.05 '.' 0.1 ' ' 1\n",
       "\n",
       "Residual standard error: 115.5 on 29 degrees of freedom\n",
       "Multiple R-squared:  0.8964,\tAdjusted R-squared:  0.8892 \n",
       "F-statistic: 125.4 on 2 and 29 DF,  p-value: 5.289e-15\n"
      ]
     },
     "metadata": {},
     "output_type": "display_data"
    }
   ],
   "source": [
    "lm.fll <- lm(Wgt ~ Gest + Smoke, data=df)\n",
    "summary(lm.fll)"
   ]
  },
  {
   "cell_type": "code",
   "execution_count": 34,
   "metadata": {},
   "outputs": [
    {
     "name": "stderr",
     "output_type": "stream",
     "text": [
      "Warning message in abline(lm.fll):\n",
      "\"only using the first two of 3 regression coefficients\"\n"
     ]
    },
    {
     "data": {
      "image/png": "[encoded data removed]",
      "text/plain": [
       "plot without title"
      ]
     },
     "metadata": {
      "image/png": {
       "height": 420,
       "width": 420
      }
     },
     "output_type": "display_data"
    }
   ],
   "source": [
    "plot(Wgt ~ Gest, data=df)\n",
    "abline(lm.fll)"
   ]
  },
  {
   "cell_type": "markdown",
   "metadata": {},
   "source": [
    "## Interaction terms"
   ]
  },
  {
   "cell_type": "code",
   "execution_count": 2,
   "metadata": {},
   "outputs": [
    {
     "name": "stderr",
     "output_type": "stream",
     "text": [
      "Parsed with column specification:\n",
      "cols(\n",
      "  y = \u001b[32mcol_double()\u001b[39m,\n",
      "  age = \u001b[32mcol_double()\u001b[39m,\n",
      "  x2 = \u001b[32mcol_double()\u001b[39m,\n",
      "  x3 = \u001b[32mcol_double()\u001b[39m,\n",
      "  TRT = \u001b[31mcol_character()\u001b[39m\n",
      ")\n",
      "\n",
      "Warning message:\n",
      "\"1 parsing failure.\n",
      "row col expected        actual                              file\n",
      " 36 TRT          embedded null 'STAT501_Lesson01/depression.txt'\n",
      "\"\n"
     ]
    },
    {
     "data": {
      "text/html": [
       "<table>\n",
       "<caption>A tibble: 6 × 5</caption>\n",
       "<thead>\n",
       "\t<tr><th scope=col>y</th><th scope=col>age</th><th scope=col>x2</th><th scope=col>x3</th><th scope=col>TRT</th></tr>\n",
       "\t<tr><th scope=col>&lt;dbl&gt;</th><th scope=col>&lt;dbl&gt;</th><th scope=col>&lt;dbl&gt;</th><th scope=col>&lt;dbl&gt;</th><th scope=col>&lt;chr&gt;</th></tr>\n",
       "</thead>\n",
       "<tbody>\n",
       "\t<tr><td>56</td><td>21</td><td>1</td><td>0</td><td>A</td></tr>\n",
       "\t<tr><td>41</td><td>23</td><td>0</td><td>1</td><td>B</td></tr>\n",
       "\t<tr><td>40</td><td>30</td><td>0</td><td>1</td><td>B</td></tr>\n",
       "\t<tr><td>28</td><td>19</td><td>0</td><td>0</td><td>C</td></tr>\n",
       "\t<tr><td>55</td><td>28</td><td>1</td><td>0</td><td>A</td></tr>\n",
       "\t<tr><td>25</td><td>23</td><td>0</td><td>0</td><td>C</td></tr>\n",
       "</tbody>\n",
       "</table>\n"
      ],
      "text/latex": [
       "A tibble: 6 × 5\n",
       "\\begin{tabular}{lllll}\n",
       " y & age & x2 & x3 & TRT\\\\\n",
       " <dbl> & <dbl> & <dbl> & <dbl> & <chr>\\\\\n",
       "\\hline\n",
       "\t 56 & 21 & 1 & 0 & A\\\\\n",
       "\t 41 & 23 & 0 & 1 & B\\\\\n",
       "\t 40 & 30 & 0 & 1 & B\\\\\n",
       "\t 28 & 19 & 0 & 0 & C\\\\\n",
       "\t 55 & 28 & 1 & 0 & A\\\\\n",
       "\t 25 & 23 & 0 & 0 & C\\\\\n",
       "\\end{tabular}\n"
      ],
      "text/markdown": [
       "\n",
       "A tibble: 6 × 5\n",
       "\n",
       "| y &lt;dbl&gt; | age &lt;dbl&gt; | x2 &lt;dbl&gt; | x3 &lt;dbl&gt; | TRT &lt;chr&gt; |\n",
       "|---|---|---|---|---|\n",
       "| 56 | 21 | 1 | 0 | A |\n",
       "| 41 | 23 | 0 | 1 | B |\n",
       "| 40 | 30 | 0 | 1 | B |\n",
       "| 28 | 19 | 0 | 0 | C |\n",
       "| 55 | 28 | 1 | 0 | A |\n",
       "| 25 | 23 | 0 | 0 | C |\n",
       "\n"
      ],
      "text/plain": [
       "  y  age x2 x3 TRT\n",
       "1 56 21  1  0  A  \n",
       "2 41 23  0  1  B  \n",
       "3 40 30  0  1  B  \n",
       "4 28 19  0  0  C  \n",
       "5 55 28  1  0  A  \n",
       "6 25 23  0  0  C  "
      ]
     },
     "metadata": {},
     "output_type": "display_data"
    }
   ],
   "source": [
    "df <- read_table2(\"STAT501_Lesson01/depression.txt\")\n",
    "head(df)"
   ]
  },
  {
   "cell_type": "code",
   "execution_count": 4,
   "metadata": {},
   "outputs": [
    {
     "name": "stdout",
     "output_type": "stream",
     "text": [
      "Rows: 36\n",
      "Columns: 5\n",
      "$ y   \u001b[3m\u001b[90m<dbl>\u001b[39m\u001b[23m 56, 41, 40, 28, 55, 25, 46, 71, 48, 63, 52, 62, 50, 45, 58, 46,...\n",
      "$ age \u001b[3m\u001b[90m<dbl>\u001b[39m\u001b[23m 21, 23, 30, 19, 28, 23, 33, 67, 42, 33, 33, 56, 45, 43, 38, 37,...\n",
      "$ x2  \u001b[3m\u001b[90m<dbl>\u001b[39m\u001b[23m 1, 0, 0, 0, 1, 0, 0, 0, 0, 1, 1, 0, 0, 0, 1, 0, 0, 0, 1, 0, 0, ...\n",
      "$ x3  \u001b[3m\u001b[90m<dbl>\u001b[39m\u001b[23m 0, 1, 1, 0, 0, 0, 1, 0, 1, 0, 0, 0, 0, 1, 0, 0, 1, 0, 0, 1, 1, ...\n",
      "$ TRT \u001b[3m\u001b[90m<chr>\u001b[39m\u001b[23m \"A\", \"B\", \"B\", \"C\", \"A\", \"C\", \"B\", \"C\", \"B\", \"A\", \"A\", \"C\", \"C\"...\n"
     ]
    }
   ],
   "source": [
    "glimpse(df)"
   ]
  },
  {
   "cell_type": "code",
   "execution_count": 5,
   "metadata": {},
   "outputs": [],
   "source": [
    "df$TRT <- as.factor(df$TRT)"
   ]
  },
  {
   "cell_type": "code",
   "execution_count": 6,
   "metadata": {},
   "outputs": [
    {
     "data": {
      "image/png": "[encoded data removed]",
      "text/plain": [
       "plot without title"
      ]
     },
     "metadata": {
      "image/png": {
       "height": 420,
       "width": 420
      }
     },
     "output_type": "display_data"
    }
   ],
   "source": [
    "ggboxplot(df, x='TRT', y='y', col='TRT', add = 'jitter') "
   ]
  },
  {
   "cell_type": "code",
   "execution_count": 8,
   "metadata": {},
   "outputs": [
    {
     "data": {
      "image/png": "[encoded data removed]",
      "text/plain": [
       "plot without title"
      ]
     },
     "metadata": {
      "image/png": {
       "height": 420,
       "width": 420
      }
     },
     "output_type": "display_data"
    }
   ],
   "source": [
    "ggscatter(df, x='age', y='y', col='TRT')"
   ]
  },
  {
   "cell_type": "code",
   "execution_count": 9,
   "metadata": {},
   "outputs": [
    {
     "data": {
      "text/plain": [
       "\n",
       "Call:\n",
       "lm(formula = y ~ age + TRT, data = df)\n",
       "\n",
       "Residuals:\n",
       "     Min       1Q   Median       3Q      Max \n",
       "-12.5732  -3.3922   0.9829   3.9613   9.5062 \n",
       "\n",
       "Coefficients:\n",
       "             Estimate Std. Error t value Pr(>|t|)    \n",
       "(Intercept)  32.54335    3.58105   9.088 2.23e-10 ***\n",
       "age           0.66446    0.06978   9.522 7.42e-11 ***\n",
       "TRTB         -9.80758    2.46471  -3.979 0.000371 ***\n",
       "TRTC        -10.25276    2.46542  -4.159 0.000224 ***\n",
       "---\n",
       "Signif. codes:  0 '***' 0.001 '**' 0.01 '*' 0.05 '.' 0.1 ' ' 1\n",
       "\n",
       "Residual standard error: 6.035 on 32 degrees of freedom\n",
       "Multiple R-squared:  0.784,\tAdjusted R-squared:  0.7637 \n",
       "F-statistic: 38.71 on 3 and 32 DF,  p-value: 9.287e-11\n"
      ]
     },
     "metadata": {},
     "output_type": "display_data"
    }
   ],
   "source": [
    "slm <- lm(y ~ age + TRT ,data=df);summary(slm)"
   ]
  },
  {
   "cell_type": "code",
   "execution_count": 11,
   "metadata": {},
   "outputs": [
    {
     "data": {
      "text/plain": [
       "\n",
       "Call:\n",
       "lm(formula = y ~ age + TRT + age:TRT, data = df)\n",
       "\n",
       "Residuals:\n",
       "    Min      1Q  Median      3Q     Max \n",
       "-6.4366 -2.7637  0.1887  2.9075  6.5634 \n",
       "\n",
       "Coefficients:\n",
       "             Estimate Std. Error t value Pr(>|t|)    \n",
       "(Intercept)  47.51559    3.82523  12.422 2.34e-13 ***\n",
       "age           0.33051    0.08149   4.056 0.000328 ***\n",
       "TRTB        -18.59739    5.41573  -3.434 0.001759 ** \n",
       "TRTC        -41.30421    5.08453  -8.124 4.56e-09 ***\n",
       "age:TRTB      0.19318    0.11660   1.657 0.108001    \n",
       "age:TRTC      0.70288    0.10896   6.451 3.98e-07 ***\n",
       "---\n",
       "Signif. codes:  0 '***' 0.001 '**' 0.01 '*' 0.05 '.' 0.1 ' ' 1\n",
       "\n",
       "Residual standard error: 3.925 on 30 degrees of freedom\n",
       "Multiple R-squared:  0.9143,\tAdjusted R-squared:  0.9001 \n",
       "F-statistic: 64.04 on 5 and 30 DF,  p-value: 4.264e-15\n"
      ]
     },
     "metadata": {},
     "output_type": "display_data"
    }
   ],
   "source": [
    "lm_intrct <- lm(y ~ age + TRT + age:TRT ,data=df);summary(lm_intrct)"
   ]
  },
  {
   "cell_type": "code",
   "execution_count": 14,
   "metadata": {},
   "outputs": [
    {
     "data": {
      "image/png": "[encoded data removed]",
      "text/plain": [
       "plot without title"
      ]
     },
     "metadata": {
      "image/png": {
       "height": 420,
       "width": 420
      }
     },
     "output_type": "display_data"
    }
   ],
   "source": [
    "ggscatter(df, x='age', y='y', col='TRT') +\n",
    "geom_abline(intercept = 47.5, slope = 0.33, col='red') +\n",
    "geom_abline(intercept = 28.9, slope = 0.52, col='blue') +\n",
    "geom_abline(intercept = 6.21, slope = 1.03, col='green')"
   ]
  },
  {
   "cell_type": "markdown",
   "metadata": {},
   "source": [
    "## 8-9 Further Examaples"
   ]
  },
  {
   "cell_type": "code",
   "execution_count": 17,
   "metadata": {},
   "outputs": [
    {
     "name": "stderr",
     "output_type": "stream",
     "text": [
      "Parsed with column specification:\n",
      "cols(\n",
      "  Y = \u001b[32mcol_double()\u001b[39m,\n",
      "  X = \u001b[32mcol_double()\u001b[39m,\n",
      "  Cat = \u001b[32mcol_double()\u001b[39m,\n",
      "  D1 = \u001b[32mcol_double()\u001b[39m,\n",
      "  D2 = \u001b[32mcol_double()\u001b[39m,\n",
      "  D3 = \u001b[32mcol_double()\u001b[39m\n",
      ")\n",
      "\n"
     ]
    },
    {
     "data": {
      "text/html": [
       "<table>\n",
       "<caption>A tibble: 6 × 6</caption>\n",
       "<thead>\n",
       "\t<tr><th scope=col>Y</th><th scope=col>X</th><th scope=col>Cat</th><th scope=col>D1</th><th scope=col>D2</th><th scope=col>D3</th></tr>\n",
       "\t<tr><th scope=col>&lt;dbl&gt;</th><th scope=col>&lt;dbl&gt;</th><th scope=col>&lt;dbl&gt;</th><th scope=col>&lt;dbl&gt;</th><th scope=col>&lt;dbl&gt;</th><th scope=col>&lt;dbl&gt;</th></tr>\n",
       "</thead>\n",
       "<tbody>\n",
       "\t<tr><td>1.78</td><td>2.06</td><td>1</td><td>1</td><td>0</td><td>0</td></tr>\n",
       "\t<tr><td>4.35</td><td>2.69</td><td>3</td><td>0</td><td>0</td><td>1</td></tr>\n",
       "\t<tr><td>7.60</td><td>3.25</td><td>2</td><td>0</td><td>1</td><td>0</td></tr>\n",
       "\t<tr><td>3.36</td><td>2.09</td><td>3</td><td>0</td><td>0</td><td>1</td></tr>\n",
       "\t<tr><td>4.79</td><td>3.31</td><td>3</td><td>0</td><td>0</td><td>1</td></tr>\n",
       "\t<tr><td>3.73</td><td>2.80</td><td>1</td><td>1</td><td>0</td><td>0</td></tr>\n",
       "</tbody>\n",
       "</table>\n"
      ],
      "text/latex": [
       "A tibble: 6 × 6\n",
       "\\begin{tabular}{llllll}\n",
       " Y & X & Cat & D1 & D2 & D3\\\\\n",
       " <dbl> & <dbl> & <dbl> & <dbl> & <dbl> & <dbl>\\\\\n",
       "\\hline\n",
       "\t 1.78 & 2.06 & 1 & 1 & 0 & 0\\\\\n",
       "\t 4.35 & 2.69 & 3 & 0 & 0 & 1\\\\\n",
       "\t 7.60 & 3.25 & 2 & 0 & 1 & 0\\\\\n",
       "\t 3.36 & 2.09 & 3 & 0 & 0 & 1\\\\\n",
       "\t 4.79 & 3.31 & 3 & 0 & 0 & 1\\\\\n",
       "\t 3.73 & 2.80 & 1 & 1 & 0 & 0\\\\\n",
       "\\end{tabular}\n"
      ],
      "text/markdown": [
       "\n",
       "A tibble: 6 × 6\n",
       "\n",
       "| Y &lt;dbl&gt; | X &lt;dbl&gt; | Cat &lt;dbl&gt; | D1 &lt;dbl&gt; | D2 &lt;dbl&gt; | D3 &lt;dbl&gt; |\n",
       "|---|---|---|---|---|---|\n",
       "| 1.78 | 2.06 | 1 | 1 | 0 | 0 |\n",
       "| 4.35 | 2.69 | 3 | 0 | 0 | 1 |\n",
       "| 7.60 | 3.25 | 2 | 0 | 1 | 0 |\n",
       "| 3.36 | 2.09 | 3 | 0 | 0 | 1 |\n",
       "| 4.79 | 3.31 | 3 | 0 | 0 | 1 |\n",
       "| 3.73 | 2.80 | 1 | 1 | 0 | 0 |\n",
       "\n"
      ],
      "text/plain": [
       "  Y    X    Cat D1 D2 D3\n",
       "1 1.78 2.06 1   1  0  0 \n",
       "2 4.35 2.69 3   0  0  1 \n",
       "3 7.60 3.25 2   0  1  0 \n",
       "4 3.36 2.09 3   0  0  1 \n",
       "5 4.79 3.31 3   0  0  1 \n",
       "6 3.73 2.80 1   1  0  0 "
      ]
     },
     "metadata": {},
     "output_type": "display_data"
    }
   ],
   "source": [
    "df <- read_table2(\"STAT501_Lesson01/Lesson8Ex1.txt\")\n",
    "head(df)"
   ]
  },
  {
   "cell_type": "code",
   "execution_count": 18,
   "metadata": {},
   "outputs": [
    {
     "name": "stdout",
     "output_type": "stream",
     "text": [
      "Rows: 50\n",
      "Columns: 6\n",
      "$ Y   \u001b[3m\u001b[90m<dbl>\u001b[39m\u001b[23m 1.78, 4.35, 7.60, 3.36, 4.79, 3.73, 0.39, 2.67, 3.22, 4.68, 3.3...\n",
      "$ X   \u001b[3m\u001b[90m<dbl>\u001b[39m\u001b[23m 2.06, 2.69, 3.25, 2.09, 3.31, 2.80, 0.30, 2.31, 1.43, 2.98, 1.5...\n",
      "$ Cat \u001b[3m\u001b[90m<dbl>\u001b[39m\u001b[23m 1, 3, 2, 3, 3, 1, 3, 1, 2, 1, 3, 1, 3, 3, 2, 2, 3, 3, 1, 1, 2, ...\n",
      "$ D1  \u001b[3m\u001b[90m<dbl>\u001b[39m\u001b[23m 1, 0, 0, 0, 0, 1, 0, 1, 0, 1, 0, 1, 0, 0, 0, 0, 0, 0, 1, 1, 0, ...\n",
      "$ D2  \u001b[3m\u001b[90m<dbl>\u001b[39m\u001b[23m 0, 0, 1, 0, 0, 0, 0, 0, 1, 0, 0, 0, 0, 0, 1, 1, 0, 0, 0, 0, 1, ...\n",
      "$ D3  \u001b[3m\u001b[90m<dbl>\u001b[39m\u001b[23m 0, 1, 0, 1, 1, 0, 1, 0, 0, 0, 1, 0, 1, 1, 0, 0, 1, 1, 0, 0, 0, ...\n"
     ]
    }
   ],
   "source": [
    "glimpse(df)"
   ]
  },
  {
   "cell_type": "code",
   "execution_count": 19,
   "metadata": {},
   "outputs": [
    {
     "name": "stdout",
     "output_type": "stream",
     "text": [
      "tibble [50 x 6] (S3: spec_tbl_df/tbl_df/tbl/data.frame)\n",
      " $ Y  : num [1:50] 1.78 4.35 7.6 3.36 4.79 3.73 0.39 2.67 3.22 4.68 ...\n",
      " $ X  : num [1:50] 2.06 2.69 3.25 2.09 3.31 2.8 0.3 2.31 1.43 2.98 ...\n",
      " $ Cat: num [1:50] 1 3 2 3 3 1 3 1 2 1 ...\n",
      " $ D1 : num [1:50] 1 0 0 0 0 1 0 1 0 1 ...\n",
      " $ D2 : num [1:50] 0 0 1 0 0 0 0 0 1 0 ...\n",
      " $ D3 : num [1:50] 0 1 0 1 1 0 1 0 0 0 ...\n",
      " - attr(*, \"spec\")=\n",
      "  .. cols(\n",
      "  ..   Y = \u001b[32mcol_double()\u001b[39m,\n",
      "  ..   X = \u001b[32mcol_double()\u001b[39m,\n",
      "  ..   Cat = \u001b[32mcol_double()\u001b[39m,\n",
      "  ..   D1 = \u001b[32mcol_double()\u001b[39m,\n",
      "  ..   D2 = \u001b[32mcol_double()\u001b[39m,\n",
      "  ..   D3 = \u001b[32mcol_double()\u001b[39m\n",
      "  .. )\n"
     ]
    }
   ],
   "source": [
    "str(df)"
   ]
  },
  {
   "cell_type": "code",
   "execution_count": 20,
   "metadata": {},
   "outputs": [
    {
     "name": "stdout",
     "output_type": "stream",
     "text": [
      "Rows: 50\n",
      "Columns: 6\n",
      "$ Y   \u001b[3m\u001b[90m<dbl>\u001b[39m\u001b[23m 1.78, 4.35, 7.60, 3.36, 4.79, 3.73, 0.39, 2.67, 3.22, 4.68, 3.3...\n",
      "$ X   \u001b[3m\u001b[90m<dbl>\u001b[39m\u001b[23m 2.06, 2.69, 3.25, 2.09, 3.31, 2.80, 0.30, 2.31, 1.43, 2.98, 1.5...\n",
      "$ Cat \u001b[3m\u001b[90m<fct>\u001b[39m\u001b[23m 1, 3, 2, 3, 3, 1, 3, 1, 2, 1, 3, 1, 3, 3, 2, 2, 3, 3, 1, 1, 2, ...\n",
      "$ D1  \u001b[3m\u001b[90m<dbl>\u001b[39m\u001b[23m 1, 0, 0, 0, 0, 1, 0, 1, 0, 1, 0, 1, 0, 0, 0, 0, 0, 0, 1, 1, 0, ...\n",
      "$ D2  \u001b[3m\u001b[90m<dbl>\u001b[39m\u001b[23m 0, 0, 1, 0, 0, 0, 0, 0, 1, 0, 0, 0, 0, 0, 1, 1, 0, 0, 0, 0, 1, ...\n",
      "$ D3  \u001b[3m\u001b[90m<dbl>\u001b[39m\u001b[23m 0, 1, 0, 1, 1, 0, 1, 0, 0, 0, 1, 0, 1, 1, 0, 0, 1, 1, 0, 0, 0, ...\n"
     ]
    }
   ],
   "source": [
    "df$Cat <- as.factor(df$Cat)\n",
    "glimpse(df)"
   ]
  },
  {
   "cell_type": "code",
   "execution_count": 23,
   "metadata": {},
   "outputs": [
    {
     "data": {
      "text/html": [
       "<style>\n",
       ".list-inline {list-style: none; margin:0; padding: 0}\n",
       ".list-inline>li {display: inline-block}\n",
       ".list-inline>li:not(:last-child)::after {content: \"\\00b7\"; padding: 0 .5ex}\n",
       "</style>\n",
       "<ol class=list-inline><li>'1'</li><li>'2'</li><li>'3'</li></ol>\n"
      ],
      "text/latex": [
       "\\begin{enumerate*}\n",
       "\\item '1'\n",
       "\\item '2'\n",
       "\\item '3'\n",
       "\\end{enumerate*}\n"
      ],
      "text/markdown": [
       "1. '1'\n",
       "2. '2'\n",
       "3. '3'\n",
       "\n",
       "\n"
      ],
      "text/plain": [
       "[1] \"1\" \"2\" \"3\""
      ]
     },
     "metadata": {},
     "output_type": "display_data"
    }
   ],
   "source": [
    "levels(df$Cat)"
   ]
  },
  {
   "cell_type": "code",
   "execution_count": 32,
   "metadata": {},
   "outputs": [
    {
     "data": {
      "image/png": "[encoded data removed]",
      "text/plain": [
       "plot without title"
      ]
     },
     "metadata": {
      "image/png": {
       "height": 420,
       "width": 420
      }
     },
     "output_type": "display_data"
    }
   ],
   "source": [
    "ggscatter(df, x='X', y='Y', col='Cat')"
   ]
  },
  {
   "cell_type": "code",
   "execution_count": 38,
   "metadata": {},
   "outputs": [
    {
     "data": {
      "image/png": "[encoded data removed]",
      "text/plain": [
       "plot without title"
      ]
     },
     "metadata": {
      "image/png": {
       "height": 420,
       "width": 420
      }
     },
     "output_type": "display_data"
    }
   ],
   "source": [
    "ggboxplot(df, x='Cat', y='Y', col='Cat', add='jitter')"
   ]
  },
  {
   "cell_type": "code",
   "execution_count": 24,
   "metadata": {},
   "outputs": [
    {
     "data": {
      "text/plain": [
       "\n",
       "Call:\n",
       "lm(formula = Y ~ X + Cat, data = df)\n",
       "\n",
       "Residuals:\n",
       "    Min      1Q  Median      3Q     Max \n",
       "-2.4377 -0.6169 -0.1067  0.6571  2.6083 \n",
       "\n",
       "Coefficients:\n",
       "            Estimate Std. Error t value Pr(>|t|)    \n",
       "(Intercept)  -1.7688     0.4790  -3.693 0.000587 ***\n",
       "X             2.1995     0.1283  17.141  < 2e-16 ***\n",
       "Cat2          2.3012     0.3745   6.144 1.76e-07 ***\n",
       "Cat3          1.0195     0.3645   2.797 0.007504 ** \n",
       "---\n",
       "Signif. codes:  0 '***' 0.001 '**' 0.01 '*' 0.05 '.' 0.1 ' ' 1\n",
       "\n",
       "Residual standard error: 1.04 on 46 degrees of freedom\n",
       "Multiple R-squared:  0.8778,\tAdjusted R-squared:  0.8698 \n",
       "F-statistic: 110.1 on 3 and 46 DF,  p-value: < 2.2e-16\n"
      ]
     },
     "metadata": {},
     "output_type": "display_data"
    }
   ],
   "source": [
    "slm <- lm(Y ~ X + Cat, data=df)\n",
    "summary(slm)"
   ]
  },
  {
   "cell_type": "code",
   "execution_count": 25,
   "metadata": {},
   "outputs": [
    {
     "data": {
      "text/html": [
       "<table>\n",
       "<caption>A anova: 3 × 5</caption>\n",
       "<thead>\n",
       "\t<tr><th></th><th scope=col>Df</th><th scope=col>Sum Sq</th><th scope=col>Mean Sq</th><th scope=col>F value</th><th scope=col>Pr(&gt;F)</th></tr>\n",
       "\t<tr><th></th><th scope=col>&lt;dbl&gt;</th><th scope=col>&lt;dbl&gt;</th><th scope=col>&lt;dbl&gt;</th><th scope=col>&lt;dbl&gt;</th><th scope=col>&lt;dbl&gt;</th></tr>\n",
       "</thead>\n",
       "<tbody>\n",
       "\t<tr><th scope=row>X</th><td> 1</td><td>316.09</td><td>316.09</td><td>292.30</td><td> 0</td></tr>\n",
       "\t<tr><th scope=row>Cat</th><td> 2</td><td> 41.23</td><td> 20.61</td><td> 19.06</td><td> 0</td></tr>\n",
       "\t<tr><th scope=row>Residuals</th><td>46</td><td> 49.74</td><td>  1.08</td><td>    NA</td><td>NA</td></tr>\n",
       "</tbody>\n",
       "</table>\n"
      ],
      "text/latex": [
       "A anova: 3 × 5\n",
       "\\begin{tabular}{r|lllll}\n",
       "  & Df & Sum Sq & Mean Sq & F value & Pr(>F)\\\\\n",
       "  & <dbl> & <dbl> & <dbl> & <dbl> & <dbl>\\\\\n",
       "\\hline\n",
       "\tX &  1 & 316.09 & 316.09 & 292.30 &  0\\\\\n",
       "\tCat &  2 &  41.23 &  20.61 &  19.06 &  0\\\\\n",
       "\tResiduals & 46 &  49.74 &   1.08 &     NA & NA\\\\\n",
       "\\end{tabular}\n"
      ],
      "text/markdown": [
       "\n",
       "A anova: 3 × 5\n",
       "\n",
       "| <!--/--> | Df &lt;dbl&gt; | Sum Sq &lt;dbl&gt; | Mean Sq &lt;dbl&gt; | F value &lt;dbl&gt; | Pr(&gt;F) &lt;dbl&gt; |\n",
       "|---|---|---|---|---|---|\n",
       "| X |  1 | 316.09 | 316.09 | 292.30 |  0 |\n",
       "| Cat |  2 |  41.23 |  20.61 |  19.06 |  0 |\n",
       "| Residuals | 46 |  49.74 |   1.08 |     NA | NA |\n",
       "\n"
      ],
      "text/plain": [
       "          Df Sum Sq Mean Sq F value Pr(>F)\n",
       "X          1 316.09 316.09  292.30   0    \n",
       "Cat        2  41.23  20.61   19.06   0    \n",
       "Residuals 46  49.74   1.08      NA  NA    "
      ]
     },
     "metadata": {},
     "output_type": "display_data"
    }
   ],
   "source": [
    "round(anova(slm),2)"
   ]
  },
  {
   "cell_type": "code",
   "execution_count": 26,
   "metadata": {},
   "outputs": [
    {
     "data": {
      "text/html": [
       "<table>\n",
       "<caption>A anova: 4 × 4</caption>\n",
       "<thead>\n",
       "\t<tr><th></th><th scope=col>Sum Sq</th><th scope=col>Df</th><th scope=col>F value</th><th scope=col>Pr(&gt;F)</th></tr>\n",
       "\t<tr><th></th><th scope=col>&lt;dbl&gt;</th><th scope=col>&lt;dbl&gt;</th><th scope=col>&lt;dbl&gt;</th><th scope=col>&lt;dbl&gt;</th></tr>\n",
       "</thead>\n",
       "<tbody>\n",
       "\t<tr><th scope=row>(Intercept)</th><td> 14.74</td><td> 1</td><td> 13.64</td><td> 0</td></tr>\n",
       "\t<tr><th scope=row>X</th><td>317.71</td><td> 1</td><td>293.80</td><td> 0</td></tr>\n",
       "\t<tr><th scope=row>Cat</th><td> 41.23</td><td> 2</td><td> 19.06</td><td> 0</td></tr>\n",
       "\t<tr><th scope=row>Residuals</th><td> 49.74</td><td>46</td><td>    NA</td><td>NA</td></tr>\n",
       "</tbody>\n",
       "</table>\n"
      ],
      "text/latex": [
       "A anova: 4 × 4\n",
       "\\begin{tabular}{r|llll}\n",
       "  & Sum Sq & Df & F value & Pr(>F)\\\\\n",
       "  & <dbl> & <dbl> & <dbl> & <dbl>\\\\\n",
       "\\hline\n",
       "\t(Intercept) &  14.74 &  1 &  13.64 &  0\\\\\n",
       "\tX & 317.71 &  1 & 293.80 &  0\\\\\n",
       "\tCat &  41.23 &  2 &  19.06 &  0\\\\\n",
       "\tResiduals &  49.74 & 46 &     NA & NA\\\\\n",
       "\\end{tabular}\n"
      ],
      "text/markdown": [
       "\n",
       "A anova: 4 × 4\n",
       "\n",
       "| <!--/--> | Sum Sq &lt;dbl&gt; | Df &lt;dbl&gt; | F value &lt;dbl&gt; | Pr(&gt;F) &lt;dbl&gt; |\n",
       "|---|---|---|---|---|\n",
       "| (Intercept) |  14.74 |  1 |  13.64 |  0 |\n",
       "| X | 317.71 |  1 | 293.80 |  0 |\n",
       "| Cat |  41.23 |  2 |  19.06 |  0 |\n",
       "| Residuals |  49.74 | 46 |     NA | NA |\n",
       "\n"
      ],
      "text/plain": [
       "            Sum Sq Df F value Pr(>F)\n",
       "(Intercept)  14.74  1  13.64   0    \n",
       "X           317.71  1 293.80   0    \n",
       "Cat          41.23  2  19.06   0    \n",
       "Residuals    49.74 46     NA  NA    "
      ]
     },
     "metadata": {},
     "output_type": "display_data"
    }
   ],
   "source": [
    "round(Anova(slm,type=3),2)"
   ]
  },
  {
   "cell_type": "code",
   "execution_count": 27,
   "metadata": {},
   "outputs": [
    {
     "data": {
      "text/plain": [
       "\n",
       "Call:\n",
       "lm(formula = Y ~ X + Cat + X:Cat, data = df)\n",
       "\n",
       "Residuals:\n",
       "    Min      1Q  Median      3Q     Max \n",
       "-2.4316 -0.5839 -0.1063  0.5062  2.6142 \n",
       "\n",
       "Coefficients:\n",
       "            Estimate Std. Error t value Pr(>|t|)    \n",
       "(Intercept)  -2.4335     0.7831  -3.107  0.00330 ** \n",
       "X             2.4145     0.2378  10.153 4.17e-13 ***\n",
       "Cat2          3.4772     1.0234   3.398  0.00145 ** \n",
       "Cat3          1.6500     1.0104   1.633  0.10961    \n",
       "X:Cat2       -0.3913     0.3162  -1.237  0.22256    \n",
       "X:Cat3       -0.2019     0.3287  -0.614  0.54219    \n",
       "---\n",
       "Signif. codes:  0 '***' 0.001 '**' 0.01 '*' 0.05 '.' 0.1 ' ' 1\n",
       "\n",
       "Residual standard error: 1.045 on 44 degrees of freedom\n",
       "Multiple R-squared:  0.8819,\tAdjusted R-squared:  0.8685 \n",
       "F-statistic: 65.73 on 5 and 44 DF,  p-value: < 2.2e-16\n"
      ]
     },
     "metadata": {},
     "output_type": "display_data"
    }
   ],
   "source": [
    "slm.intct <- lm(Y ~ X + Cat + X:Cat, data=df)\n",
    "summary(slm.intct)"
   ]
  },
  {
   "cell_type": "code",
   "execution_count": 28,
   "metadata": {},
   "outputs": [
    {
     "data": {
      "text/html": [
       "<table>\n",
       "<caption>A anova: 4 × 5</caption>\n",
       "<thead>\n",
       "\t<tr><th></th><th scope=col>Df</th><th scope=col>Sum Sq</th><th scope=col>Mean Sq</th><th scope=col>F value</th><th scope=col>Pr(&gt;F)</th></tr>\n",
       "\t<tr><th></th><th scope=col>&lt;int&gt;</th><th scope=col>&lt;dbl&gt;</th><th scope=col>&lt;dbl&gt;</th><th scope=col>&lt;dbl&gt;</th><th scope=col>&lt;dbl&gt;</th></tr>\n",
       "</thead>\n",
       "<tbody>\n",
       "\t<tr><th scope=row>X</th><td> 1</td><td>316.089883</td><td>316.0898831</td><td>289.352988</td><td>5.742792e-21</td></tr>\n",
       "\t<tr><th scope=row>Cat</th><td> 2</td><td> 41.228344</td><td> 20.6141721</td><td> 18.870494</td><td>1.208597e-06</td></tr>\n",
       "\t<tr><th scope=row>X:Cat</th><td> 2</td><td>  1.677591</td><td>  0.8387957</td><td>  0.767845</td><td>4.701285e-01</td></tr>\n",
       "\t<tr><th scope=row>Residuals</th><td>44</td><td> 48.065703</td><td>  1.0924023</td><td>        NA</td><td>          NA</td></tr>\n",
       "</tbody>\n",
       "</table>\n"
      ],
      "text/latex": [
       "A anova: 4 × 5\n",
       "\\begin{tabular}{r|lllll}\n",
       "  & Df & Sum Sq & Mean Sq & F value & Pr(>F)\\\\\n",
       "  & <int> & <dbl> & <dbl> & <dbl> & <dbl>\\\\\n",
       "\\hline\n",
       "\tX &  1 & 316.089883 & 316.0898831 & 289.352988 & 5.742792e-21\\\\\n",
       "\tCat &  2 &  41.228344 &  20.6141721 &  18.870494 & 1.208597e-06\\\\\n",
       "\tX:Cat &  2 &   1.677591 &   0.8387957 &   0.767845 & 4.701285e-01\\\\\n",
       "\tResiduals & 44 &  48.065703 &   1.0924023 &         NA &           NA\\\\\n",
       "\\end{tabular}\n"
      ],
      "text/markdown": [
       "\n",
       "A anova: 4 × 5\n",
       "\n",
       "| <!--/--> | Df &lt;int&gt; | Sum Sq &lt;dbl&gt; | Mean Sq &lt;dbl&gt; | F value &lt;dbl&gt; | Pr(&gt;F) &lt;dbl&gt; |\n",
       "|---|---|---|---|---|---|\n",
       "| X |  1 | 316.089883 | 316.0898831 | 289.352988 | 5.742792e-21 |\n",
       "| Cat |  2 |  41.228344 |  20.6141721 |  18.870494 | 1.208597e-06 |\n",
       "| X:Cat |  2 |   1.677591 |   0.8387957 |   0.767845 | 4.701285e-01 |\n",
       "| Residuals | 44 |  48.065703 |   1.0924023 |         NA |           NA |\n",
       "\n"
      ],
      "text/plain": [
       "          Df Sum Sq     Mean Sq     F value    Pr(>F)      \n",
       "X          1 316.089883 316.0898831 289.352988 5.742792e-21\n",
       "Cat        2  41.228344  20.6141721  18.870494 1.208597e-06\n",
       "X:Cat      2   1.677591   0.8387957   0.767845 4.701285e-01\n",
       "Residuals 44  48.065703   1.0924023         NA           NA"
      ]
     },
     "metadata": {},
     "output_type": "display_data"
    }
   ],
   "source": [
    "anova(slm.intct)"
   ]
  },
  {
   "cell_type": "code",
   "execution_count": 29,
   "metadata": {},
   "outputs": [
    {
     "data": {
      "text/html": [
       "<table>\n",
       "<caption>A anova: 2 × 6</caption>\n",
       "<thead>\n",
       "\t<tr><th></th><th scope=col>Res.Df</th><th scope=col>RSS</th><th scope=col>Df</th><th scope=col>Sum of Sq</th><th scope=col>F</th><th scope=col>Pr(&gt;F)</th></tr>\n",
       "\t<tr><th></th><th scope=col>&lt;dbl&gt;</th><th scope=col>&lt;dbl&gt;</th><th scope=col>&lt;dbl&gt;</th><th scope=col>&lt;dbl&gt;</th><th scope=col>&lt;dbl&gt;</th><th scope=col>&lt;dbl&gt;</th></tr>\n",
       "</thead>\n",
       "<tbody>\n",
       "\t<tr><th scope=row>1</th><td>46</td><td>49.74</td><td>NA</td><td>  NA</td><td>  NA</td><td>  NA</td></tr>\n",
       "\t<tr><th scope=row>2</th><td>44</td><td>48.07</td><td> 2</td><td>1.68</td><td>0.77</td><td>0.47</td></tr>\n",
       "</tbody>\n",
       "</table>\n"
      ],
      "text/latex": [
       "A anova: 2 × 6\n",
       "\\begin{tabular}{r|llllll}\n",
       "  & Res.Df & RSS & Df & Sum of Sq & F & Pr(>F)\\\\\n",
       "  & <dbl> & <dbl> & <dbl> & <dbl> & <dbl> & <dbl>\\\\\n",
       "\\hline\n",
       "\t1 & 46 & 49.74 & NA &   NA &   NA &   NA\\\\\n",
       "\t2 & 44 & 48.07 &  2 & 1.68 & 0.77 & 0.47\\\\\n",
       "\\end{tabular}\n"
      ],
      "text/markdown": [
       "\n",
       "A anova: 2 × 6\n",
       "\n",
       "| <!--/--> | Res.Df &lt;dbl&gt; | RSS &lt;dbl&gt; | Df &lt;dbl&gt; | Sum of Sq &lt;dbl&gt; | F &lt;dbl&gt; | Pr(&gt;F) &lt;dbl&gt; |\n",
       "|---|---|---|---|---|---|---|\n",
       "| 1 | 46 | 49.74 | NA |   NA |   NA |   NA |\n",
       "| 2 | 44 | 48.07 |  2 | 1.68 | 0.77 | 0.47 |\n",
       "\n"
      ],
      "text/plain": [
       "  Res.Df RSS   Df Sum of Sq F    Pr(>F)\n",
       "1 46     49.74 NA   NA        NA   NA  \n",
       "2 44     48.07  2 1.68      0.77 0.47  "
      ]
     },
     "metadata": {},
     "output_type": "display_data"
    }
   ],
   "source": [
    "round(anova(slm, slm.intct),2)"
   ]
  },
  {
   "cell_type": "code",
   "execution_count": 33,
   "metadata": {},
   "outputs": [
    {
     "name": "stderr",
     "output_type": "stream",
     "text": [
      "Parsed with column specification:\n",
      "cols(\n",
      "  Y = \u001b[32mcol_double()\u001b[39m,\n",
      "  X = \u001b[32mcol_double()\u001b[39m,\n",
      "  Cat = \u001b[32mcol_double()\u001b[39m,\n",
      "  D1 = \u001b[32mcol_double()\u001b[39m,\n",
      "  D2 = \u001b[32mcol_double()\u001b[39m,\n",
      "  D3 = \u001b[32mcol_double()\u001b[39m\n",
      ")\n",
      "\n"
     ]
    },
    {
     "data": {
      "text/html": [
       "<table>\n",
       "<caption>A tibble: 6 × 6</caption>\n",
       "<thead>\n",
       "\t<tr><th scope=col>Y</th><th scope=col>X</th><th scope=col>Cat</th><th scope=col>D1</th><th scope=col>D2</th><th scope=col>D3</th></tr>\n",
       "\t<tr><th scope=col>&lt;dbl&gt;</th><th scope=col>&lt;dbl&gt;</th><th scope=col>&lt;dbl&gt;</th><th scope=col>&lt;dbl&gt;</th><th scope=col>&lt;dbl&gt;</th><th scope=col>&lt;dbl&gt;</th></tr>\n",
       "</thead>\n",
       "<tbody>\n",
       "\t<tr><td> 6.92</td><td>2.06</td><td>1</td><td>1</td><td>0</td><td>0</td></tr>\n",
       "\t<tr><td> 8.75</td><td>2.69</td><td>3</td><td>0</td><td>0</td><td>1</td></tr>\n",
       "\t<tr><td>13.40</td><td>3.25</td><td>2</td><td>0</td><td>1</td><td>0</td></tr>\n",
       "\t<tr><td> 7.76</td><td>2.09</td><td>3</td><td>0</td><td>0</td><td>1</td></tr>\n",
       "\t<tr><td> 9.19</td><td>3.31</td><td>3</td><td>0</td><td>0</td><td>1</td></tr>\n",
       "\t<tr><td> 7.32</td><td>2.80</td><td>1</td><td>1</td><td>0</td><td>0</td></tr>\n",
       "</tbody>\n",
       "</table>\n"
      ],
      "text/latex": [
       "A tibble: 6 × 6\n",
       "\\begin{tabular}{llllll}\n",
       " Y & X & Cat & D1 & D2 & D3\\\\\n",
       " <dbl> & <dbl> & <dbl> & <dbl> & <dbl> & <dbl>\\\\\n",
       "\\hline\n",
       "\t  6.92 & 2.06 & 1 & 1 & 0 & 0\\\\\n",
       "\t  8.75 & 2.69 & 3 & 0 & 0 & 1\\\\\n",
       "\t 13.40 & 3.25 & 2 & 0 & 1 & 0\\\\\n",
       "\t  7.76 & 2.09 & 3 & 0 & 0 & 1\\\\\n",
       "\t  9.19 & 3.31 & 3 & 0 & 0 & 1\\\\\n",
       "\t  7.32 & 2.80 & 1 & 1 & 0 & 0\\\\\n",
       "\\end{tabular}\n"
      ],
      "text/markdown": [
       "\n",
       "A tibble: 6 × 6\n",
       "\n",
       "| Y &lt;dbl&gt; | X &lt;dbl&gt; | Cat &lt;dbl&gt; | D1 &lt;dbl&gt; | D2 &lt;dbl&gt; | D3 &lt;dbl&gt; |\n",
       "|---|---|---|---|---|---|\n",
       "|  6.92 | 2.06 | 1 | 1 | 0 | 0 |\n",
       "|  8.75 | 2.69 | 3 | 0 | 0 | 1 |\n",
       "| 13.40 | 3.25 | 2 | 0 | 1 | 0 |\n",
       "|  7.76 | 2.09 | 3 | 0 | 0 | 1 |\n",
       "|  9.19 | 3.31 | 3 | 0 | 0 | 1 |\n",
       "|  7.32 | 2.80 | 1 | 1 | 0 | 0 |\n",
       "\n"
      ],
      "text/plain": [
       "  Y     X    Cat D1 D2 D3\n",
       "1  6.92 2.06 1   1  0  0 \n",
       "2  8.75 2.69 3   0  0  1 \n",
       "3 13.40 3.25 2   0  1  0 \n",
       "4  7.76 2.09 3   0  0  1 \n",
       "5  9.19 3.31 3   0  0  1 \n",
       "6  7.32 2.80 1   1  0  0 "
      ]
     },
     "metadata": {},
     "output_type": "display_data"
    }
   ],
   "source": [
    "df2 <- read_table2(\"STAT501_Lesson01/Lesson8Ex2.txt\")\n",
    "head(df2)"
   ]
  },
  {
   "cell_type": "code",
   "execution_count": 34,
   "metadata": {},
   "outputs": [],
   "source": [
    "df2$Cat <- as.factor(df2$Cat)"
   ]
  },
  {
   "cell_type": "code",
   "execution_count": 36,
   "metadata": {},
   "outputs": [
    {
     "data": {
      "image/png": "[encoded data removed]",
      "text/plain": [
       "plot without title"
      ]
     },
     "metadata": {
      "image/png": {
       "height": 420,
       "width": 420
      }
     },
     "output_type": "display_data"
    }
   ],
   "source": [
    "ggscatter(df2, x='X', y='Y', col='Cat')"
   ]
  },
  {
   "cell_type": "code",
   "execution_count": 39,
   "metadata": {},
   "outputs": [
    {
     "data": {
      "image/png": "[encoded data removed]",
      "text/plain": [
       "plot without title"
      ]
     },
     "metadata": {
      "image/png": {
       "height": 420,
       "width": 420
      }
     },
     "output_type": "display_data"
    }
   ],
   "source": [
    "ggboxplot(df2, x='Cat', y='Y', col='Cat', add='jitter')"
   ]
  },
  {
   "cell_type": "code",
   "execution_count": 41,
   "metadata": {},
   "outputs": [
    {
     "data": {
      "text/plain": [
       "\n",
       "Call:\n",
       "lm(formula = Y ~ X + Cat + X:Cat, data = df2)\n",
       "\n",
       "Residuals:\n",
       "    Min      1Q  Median      3Q     Max \n",
       "-2.3798 -0.7255 -0.2237  0.7113  2.8614 \n",
       "\n",
       "Coefficients:\n",
       "            Estimate Std. Error t value Pr(>|t|)    \n",
       "(Intercept)   3.9179     0.8286   4.728 2.35e-05 ***\n",
       "X             1.5726     0.2516   6.250 1.45e-07 ***\n",
       "Cat2          2.2694     1.0829   2.096 0.041891 *  \n",
       "Cat3         -2.1952     1.0692  -2.053 0.046025 *  \n",
       "X:Cat2        0.7069     0.3346   2.112 0.040360 *  \n",
       "X:Cat3        1.4024     0.3478   4.032 0.000216 ***\n",
       "---\n",
       "Signif. codes:  0 '***' 0.001 '**' 0.01 '*' 0.05 '.' 0.1 ' ' 1\n",
       "\n",
       "Residual standard error: 1.106 on 44 degrees of freedom\n",
       "Multiple R-squared:  0.9052,\tAdjusted R-squared:  0.8944 \n",
       "F-statistic: 83.98 on 5 and 44 DF,  p-value: < 2.2e-16\n"
      ]
     },
     "metadata": {},
     "output_type": "display_data"
    }
   ],
   "source": [
    "slm.intct <- lm(Y ~ X + Cat + X:Cat, data=df2);summary(slm.intct)"
   ]
  },
  {
   "cell_type": "code",
   "execution_count": 42,
   "metadata": {},
   "outputs": [
    {
     "name": "stderr",
     "output_type": "stream",
     "text": [
      "Parsed with column specification:\n",
      "cols(\n",
      "  SalePrice = \u001b[32mcol_double()\u001b[39m,\n",
      "  SqFeet = \u001b[32mcol_double()\u001b[39m,\n",
      "  Beds = \u001b[32mcol_double()\u001b[39m,\n",
      "  Baths = \u001b[32mcol_double()\u001b[39m,\n",
      "  Air = \u001b[32mcol_double()\u001b[39m,\n",
      "  Garage = \u001b[32mcol_double()\u001b[39m,\n",
      "  Pool = \u001b[32mcol_double()\u001b[39m,\n",
      "  Year = \u001b[32mcol_double()\u001b[39m,\n",
      "  Quality = \u001b[32mcol_double()\u001b[39m,\n",
      "  Style = \u001b[32mcol_double()\u001b[39m,\n",
      "  Lot = \u001b[32mcol_double()\u001b[39m,\n",
      "  Highway = \u001b[32mcol_double()\u001b[39m\n",
      ")\n",
      "\n"
     ]
    },
    {
     "data": {
      "text/html": [
       "<table>\n",
       "<caption>A tibble: 6 × 12</caption>\n",
       "<thead>\n",
       "\t<tr><th scope=col>SalePrice</th><th scope=col>SqFeet</th><th scope=col>Beds</th><th scope=col>Baths</th><th scope=col>Air</th><th scope=col>Garage</th><th scope=col>Pool</th><th scope=col>Year</th><th scope=col>Quality</th><th scope=col>Style</th><th scope=col>Lot</th><th scope=col>Highway</th></tr>\n",
       "\t<tr><th scope=col>&lt;dbl&gt;</th><th scope=col>&lt;dbl&gt;</th><th scope=col>&lt;dbl&gt;</th><th scope=col>&lt;dbl&gt;</th><th scope=col>&lt;dbl&gt;</th><th scope=col>&lt;dbl&gt;</th><th scope=col>&lt;dbl&gt;</th><th scope=col>&lt;dbl&gt;</th><th scope=col>&lt;dbl&gt;</th><th scope=col>&lt;dbl&gt;</th><th scope=col>&lt;dbl&gt;</th><th scope=col>&lt;dbl&gt;</th></tr>\n",
       "</thead>\n",
       "<tbody>\n",
       "\t<tr><td>360.0</td><td>3.032</td><td>4</td><td>4</td><td>1</td><td>2</td><td>0</td><td>1972</td><td>2</td><td>1</td><td>22.221</td><td>0</td></tr>\n",
       "\t<tr><td>340.0</td><td>2.058</td><td>4</td><td>2</td><td>1</td><td>2</td><td>0</td><td>1976</td><td>2</td><td>1</td><td>22.912</td><td>0</td></tr>\n",
       "\t<tr><td>250.0</td><td>1.780</td><td>4</td><td>3</td><td>1</td><td>2</td><td>0</td><td>1980</td><td>2</td><td>1</td><td>21.345</td><td>0</td></tr>\n",
       "\t<tr><td>205.5</td><td>1.638</td><td>4</td><td>2</td><td>1</td><td>2</td><td>0</td><td>1963</td><td>2</td><td>1</td><td>17.342</td><td>0</td></tr>\n",
       "\t<tr><td>275.5</td><td>2.196</td><td>4</td><td>3</td><td>1</td><td>2</td><td>0</td><td>1968</td><td>2</td><td>7</td><td>21.786</td><td>0</td></tr>\n",
       "\t<tr><td>248.0</td><td>1.966</td><td>4</td><td>3</td><td>1</td><td>5</td><td>1</td><td>1972</td><td>2</td><td>1</td><td>18.902</td><td>0</td></tr>\n",
       "</tbody>\n",
       "</table>\n"
      ],
      "text/latex": [
       "A tibble: 6 × 12\n",
       "\\begin{tabular}{llllllllllll}\n",
       " SalePrice & SqFeet & Beds & Baths & Air & Garage & Pool & Year & Quality & Style & Lot & Highway\\\\\n",
       " <dbl> & <dbl> & <dbl> & <dbl> & <dbl> & <dbl> & <dbl> & <dbl> & <dbl> & <dbl> & <dbl> & <dbl>\\\\\n",
       "\\hline\n",
       "\t 360.0 & 3.032 & 4 & 4 & 1 & 2 & 0 & 1972 & 2 & 1 & 22.221 & 0\\\\\n",
       "\t 340.0 & 2.058 & 4 & 2 & 1 & 2 & 0 & 1976 & 2 & 1 & 22.912 & 0\\\\\n",
       "\t 250.0 & 1.780 & 4 & 3 & 1 & 2 & 0 & 1980 & 2 & 1 & 21.345 & 0\\\\\n",
       "\t 205.5 & 1.638 & 4 & 2 & 1 & 2 & 0 & 1963 & 2 & 1 & 17.342 & 0\\\\\n",
       "\t 275.5 & 2.196 & 4 & 3 & 1 & 2 & 0 & 1968 & 2 & 7 & 21.786 & 0\\\\\n",
       "\t 248.0 & 1.966 & 4 & 3 & 1 & 5 & 1 & 1972 & 2 & 1 & 18.902 & 0\\\\\n",
       "\\end{tabular}\n"
      ],
      "text/markdown": [
       "\n",
       "A tibble: 6 × 12\n",
       "\n",
       "| SalePrice &lt;dbl&gt; | SqFeet &lt;dbl&gt; | Beds &lt;dbl&gt; | Baths &lt;dbl&gt; | Air &lt;dbl&gt; | Garage &lt;dbl&gt; | Pool &lt;dbl&gt; | Year &lt;dbl&gt; | Quality &lt;dbl&gt; | Style &lt;dbl&gt; | Lot &lt;dbl&gt; | Highway &lt;dbl&gt; |\n",
       "|---|---|---|---|---|---|---|---|---|---|---|---|\n",
       "| 360.0 | 3.032 | 4 | 4 | 1 | 2 | 0 | 1972 | 2 | 1 | 22.221 | 0 |\n",
       "| 340.0 | 2.058 | 4 | 2 | 1 | 2 | 0 | 1976 | 2 | 1 | 22.912 | 0 |\n",
       "| 250.0 | 1.780 | 4 | 3 | 1 | 2 | 0 | 1980 | 2 | 1 | 21.345 | 0 |\n",
       "| 205.5 | 1.638 | 4 | 2 | 1 | 2 | 0 | 1963 | 2 | 1 | 17.342 | 0 |\n",
       "| 275.5 | 2.196 | 4 | 3 | 1 | 2 | 0 | 1968 | 2 | 7 | 21.786 | 0 |\n",
       "| 248.0 | 1.966 | 4 | 3 | 1 | 5 | 1 | 1972 | 2 | 1 | 18.902 | 0 |\n",
       "\n"
      ],
      "text/plain": [
       "  SalePrice SqFeet Beds Baths Air Garage Pool Year Quality Style Lot    Highway\n",
       "1 360.0     3.032  4    4     1   2      0    1972 2       1     22.221 0      \n",
       "2 340.0     2.058  4    2     1   2      0    1976 2       1     22.912 0      \n",
       "3 250.0     1.780  4    3     1   2      0    1980 2       1     21.345 0      \n",
       "4 205.5     1.638  4    2     1   2      0    1963 2       1     17.342 0      \n",
       "5 275.5     2.196  4    3     1   2      0    1968 2       7     21.786 0      \n",
       "6 248.0     1.966  4    3     1   5      1    1972 2       1     18.902 0      "
      ]
     },
     "metadata": {},
     "output_type": "display_data"
    }
   ],
   "source": [
    "df <- read_table2(\"STAT501_Lesson01/realestate.txt\")\n",
    "head(df)"
   ]
  },
  {
   "cell_type": "code",
   "execution_count": 43,
   "metadata": {},
   "outputs": [],
   "source": [
    "df$Air <- as.factor(df$Air)"
   ]
  },
  {
   "cell_type": "code",
   "execution_count": 45,
   "metadata": {},
   "outputs": [
    {
     "data": {
      "image/png": "[encoded data removed]",
      "text/plain": [
       "plot without title"
      ]
     },
     "metadata": {
      "image/png": {
       "height": 420,
       "width": 420
      }
     },
     "output_type": "display_data"
    }
   ],
   "source": [
    "ggscatter(df, x='SqFeet', y='SalePrice', col='Air')"
   ]
  },
  {
   "cell_type": "code",
   "execution_count": 47,
   "metadata": {},
   "outputs": [
    {
     "data": {
      "image/png": "[encoded data removed]",
      "text/plain": [
       "plot without title"
      ]
     },
     "metadata": {
      "image/png": {
       "height": 420,
       "width": 420
      }
     },
     "output_type": "display_data"
    }
   ],
   "source": [
    "ggboxplot(df, x='Air', y='SalePrice', col='Air', add='jitter')"
   ]
  },
  {
   "cell_type": "code",
   "execution_count": 48,
   "metadata": {},
   "outputs": [
    {
     "data": {
      "image/png": "[encoded data removed]",
      "text/plain": [
       "plot without title"
      ]
     },
     "metadata": {
      "image/png": {
       "height": 420,
       "width": 420
      }
     },
     "output_type": "display_data"
    }
   ],
   "source": [
    "ggboxplot(df, x='Air', y='SqFeet', col='Air', add='jitter')"
   ]
  },
  {
   "cell_type": "code",
   "execution_count": 50,
   "metadata": {},
   "outputs": [
    {
     "data": {
      "text/plain": [
       "\n",
       "Call:\n",
       "lm(formula = SalePrice ~ SqFeet + Air + SqFeet:Air, data = df)\n",
       "\n",
       "Residuals:\n",
       "    Min      1Q  Median      3Q     Max \n",
       "-248.01  -37.13   -7.80   22.25  381.92 \n",
       "\n",
       "Coefficients:\n",
       "            Estimate Std. Error t value Pr(>|t|)    \n",
       "(Intercept)   -3.218     30.085  -0.107 0.914871    \n",
       "SqFeet       104.902     15.748   6.661 6.96e-11 ***\n",
       "Air1         -78.868     32.663  -2.415 0.016100 *  \n",
       "SqFeet:Air1   55.888     16.580   3.371 0.000805 ***\n",
       "---\n",
       "Signif. codes:  0 '***' 0.001 '**' 0.01 '*' 0.05 '.' 0.1 ' ' 1\n",
       "\n",
       "Residual standard error: 77.01 on 517 degrees of freedom\n",
       "Multiple R-squared:  0.6887,\tAdjusted R-squared:  0.6869 \n",
       "F-statistic: 381.2 on 3 and 517 DF,  p-value: < 2.2e-16\n"
      ]
     },
     "metadata": {},
     "output_type": "display_data"
    }
   ],
   "source": [
    "slm <- lm(SalePrice ~ SqFeet + Air + SqFeet:Air, data=df);summary(slm)"
   ]
  },
  {
   "cell_type": "code",
   "execution_count": 52,
   "metadata": {},
   "outputs": [
    {
     "data": {
      "image/png": "[encoded data removed]",
      "text/plain": [
       "plot without title"
      ]
     },
     "metadata": {
      "image/png": {
       "height": 420,
       "width": 420
      }
     },
     "output_type": "display_data"
    }
   ],
   "source": [
    "ggscatter(df, x='SqFeet', y='SalePrice', col='Air') + \n",
    "geom_abline(intercept = -3.218, slope = 104.902, col='red') +\n",
    "geom_abline(intercept = -82.086, slope = 160.79, col='blue') "
   ]
  },
  {
   "cell_type": "code",
   "execution_count": 53,
   "metadata": {},
   "outputs": [
    {
     "data": {
      "image/png": "[encoded data removed]",
      "text/plain": [
       "Plot with title \"\""
      ]
     },
     "metadata": {
      "image/png": {
       "height": 420,
       "width": 420
      }
     },
     "output_type": "display_data"
    },
    {
     "data": {
      "image/png": "[encoded data removed]",
      "text/plain": [
       "Plot with title \"\""
      ]
     },
     "metadata": {
      "image/png": {
       "height": 420,
       "width": 420
      }
     },
     "output_type": "display_data"
    },
    {
     "data": {
      "image/png": "[encoded data removed]",
      "text/plain": [
       "Plot with title \"\""
      ]
     },
     "metadata": {
      "image/png": {
       "height": 420,
       "width": 420
      }
     },
     "output_type": "display_data"
    },
    {
     "data": {
      "image/png": "[encoded data removed]",
      "text/plain": [
       "Plot with title \"\""
      ]
     },
     "metadata": {
      "image/png": {
       "height": 420,
       "width": 420
      }
     },
     "output_type": "display_data"
    }
   ],
   "source": [
    "plot(slm)"
   ]
  },
  {
   "cell_type": "markdown",
   "metadata": {},
   "source": [
    "## R Help 8:Categorical Predictors"
   ]
  },
  {
   "cell_type": "code",
   "execution_count": 54,
   "metadata": {},
   "outputs": [],
   "source": [
    "birthsmokers <- read.table(\"STAT501_Lesson01/birthsmokers.txt\", header=T)\n"
   ]
  },
  {
   "cell_type": "code",
   "execution_count": 56,
   "metadata": {},
   "outputs": [
    {
     "name": "stderr",
     "output_type": "stream",
     "text": [
      "The following objects are masked from birthsmokers (pos = 3):\n",
      "\n",
      "    Gest, Smoke, Wgt\n",
      "\n",
      "\n"
     ]
    },
    {
     "data": {
      "image/png": "[encoded data removed]",
      "text/plain": [
       "plot without title"
      ]
     },
     "metadata": {
      "image/png": {
       "height": 420,
       "width": 420
      }
     },
     "output_type": "display_data"
    }
   ],
   "source": [
    "attach(birthsmokers)\n",
    " \n",
    "\n",
    "model <- lm(Wgt ~ Gest + Smoke)\n",
    " \n",
    "plot(x=Gest, y=Wgt, ylim=c(2300, 3700), \n",
    "     col=ifelse(Smoke==\"yes\", \"red\", \"blue\"),\n",
    "     panel.last = c(lines(sort(Gest[Smoke==\"no\"]),\n",
    "                          fitted(model)[Smoke==\"no\"][order(Gest[Smoke==\"no\"])],\n",
    "                          col=\"blue\"),\n",
    "                    lines(sort(Gest[Smoke==\"yes\"]),\n",
    "                          fitted(model)[Smoke==\"yes\"][order(Gest[Smoke==\"yes\"])],\n",
    "                          col=\"red\")))"
   ]
  },
  {
   "cell_type": "code",
   "execution_count": 57,
   "metadata": {},
   "outputs": [
    {
     "data": {
      "text/plain": [
       "\n",
       "Call:\n",
       "lm(formula = Wgt ~ Gest + Smoke)\n",
       "\n",
       "Residuals:\n",
       "     Min       1Q   Median       3Q      Max \n",
       "-223.693  -92.063   -9.365   79.663  197.507 \n",
       "\n",
       "Coefficients:\n",
       "             Estimate Std. Error t value Pr(>|t|)    \n",
       "(Intercept) -2389.573    349.206  -6.843 1.63e-07 ***\n",
       "Gest          143.100      9.128  15.677 1.07e-15 ***\n",
       "Smokeyes     -244.544     41.982  -5.825 2.58e-06 ***\n",
       "---\n",
       "Signif. codes:  0 '***' 0.001 '**' 0.01 '*' 0.05 '.' 0.1 ' ' 1\n",
       "\n",
       "Residual standard error: 115.5 on 29 degrees of freedom\n",
       "Multiple R-squared:  0.8964,\tAdjusted R-squared:  0.8892 \n",
       "F-statistic: 125.4 on 2 and 29 DF,  p-value: 5.289e-15\n"
      ]
     },
     "metadata": {},
     "output_type": "display_data"
    },
    {
     "data": {
      "text/html": [
       "<table>\n",
       "<caption>A matrix: 3 × 2 of type dbl</caption>\n",
       "<thead>\n",
       "\t<tr><th></th><th scope=col>2.5 %</th><th scope=col>97.5 %</th></tr>\n",
       "</thead>\n",
       "<tbody>\n",
       "\t<tr><th scope=row>(Intercept)</th><td>-3103.7795</td><td>-1675.3663</td></tr>\n",
       "\t<tr><th scope=row>Gest</th><td>  124.4312</td><td>  161.7694</td></tr>\n",
       "\t<tr><th scope=row>Smokeyes</th><td> -330.4064</td><td> -158.6817</td></tr>\n",
       "</tbody>\n",
       "</table>\n"
      ],
      "text/latex": [
       "A matrix: 3 × 2 of type dbl\n",
       "\\begin{tabular}{r|ll}\n",
       "  & 2.5 \\% & 97.5 \\%\\\\\n",
       "\\hline\n",
       "\t(Intercept) & -3103.7795 & -1675.3663\\\\\n",
       "\tGest &   124.4312 &   161.7694\\\\\n",
       "\tSmokeyes &  -330.4064 &  -158.6817\\\\\n",
       "\\end{tabular}\n"
      ],
      "text/markdown": [
       "\n",
       "A matrix: 3 × 2 of type dbl\n",
       "\n",
       "| <!--/--> | 2.5 % | 97.5 % |\n",
       "|---|---|---|\n",
       "| (Intercept) | -3103.7795 | -1675.3663 |\n",
       "| Gest |   124.4312 |   161.7694 |\n",
       "| Smokeyes |  -330.4064 |  -158.6817 |\n",
       "\n"
      ],
      "text/plain": [
       "            2.5 %      97.5 %    \n",
       "(Intercept) -3103.7795 -1675.3663\n",
       "Gest          124.4312   161.7694\n",
       "Smokeyes     -330.4064  -158.6817"
      ]
     },
     "metadata": {},
     "output_type": "display_data"
    },
    {
     "data": {
      "text/html": [
       "<table>\n",
       "<caption>A matrix: 2 × 3 of type dbl</caption>\n",
       "<thead>\n",
       "\t<tr><th></th><th scope=col>fit</th><th scope=col>lwr</th><th scope=col>upr</th></tr>\n",
       "</thead>\n",
       "<tbody>\n",
       "\t<tr><th scope=row>1</th><td>2803.693</td><td>2740.599</td><td>2866.788</td></tr>\n",
       "\t<tr><th scope=row>2</th><td>3048.237</td><td>2989.120</td><td>3107.355</td></tr>\n",
       "</tbody>\n",
       "</table>\n"
      ],
      "text/latex": [
       "A matrix: 2 × 3 of type dbl\n",
       "\\begin{tabular}{r|lll}\n",
       "  & fit & lwr & upr\\\\\n",
       "\\hline\n",
       "\t1 & 2803.693 & 2740.599 & 2866.788\\\\\n",
       "\t2 & 3048.237 & 2989.120 & 3107.355\\\\\n",
       "\\end{tabular}\n"
      ],
      "text/markdown": [
       "\n",
       "A matrix: 2 × 3 of type dbl\n",
       "\n",
       "| <!--/--> | fit | lwr | upr |\n",
       "|---|---|---|---|\n",
       "| 1 | 2803.693 | 2740.599 | 2866.788 |\n",
       "| 2 | 3048.237 | 2989.120 | 3107.355 |\n",
       "\n"
      ],
      "text/plain": [
       "  fit      lwr      upr     \n",
       "1 2803.693 2740.599 2866.788\n",
       "2 3048.237 2989.120 3107.355"
      ]
     },
     "metadata": {},
     "output_type": "display_data"
    }
   ],
   "source": [
    "summary(model)\n",
    "#              Estimate Std. Error t value Pr(>|t|)    \n",
    "# (Intercept) -2389.573    349.206  -6.843 1.63e-07 ***\n",
    "# Gest          143.100      9.128  15.677 1.07e-15 ***\n",
    "# Smokeyes     -244.544     41.982  -5.825 2.58e-06 ***\n",
    "# ---\n",
    "# Residual standard error: 115.5 on 29 degrees of freedom\n",
    "# Multiple R-squared:  0.8964,  Adjusted R-squared:  0.8892 \n",
    "# F-statistic: 125.4 on 2 and 29 DF,  p-value: 5.289e-15\n",
    " \n",
    "confint(model)\n",
    "#                  2.5 %     97.5 %\n",
    "# (Intercept) -3103.7795 -1675.3663\n",
    "# Gest          124.4312   161.7694\n",
    "# Smokeyes     -330.4064  -158.6817\n",
    " \n",
    "predict(model, interval=\"confidence\",\n",
    "        newdata=data.frame(Gest=c(38, 38), Smoke=c(\"yes\", \"no\")))\n",
    "#        fit      lwr      upr\n",
    "# 1 2803.693 2740.599 2866.788\n",
    "# 2 3048.237 2989.120 3107.355"
   ]
  },
  {
   "cell_type": "code",
   "execution_count": null,
   "metadata": {},
   "outputs": [],
   "source": []
  }
 ],
 "metadata": {
  "kernelspec": {
   "display_name": "R",
   "language": "R",
   "name": "ir"
  },
  "language_info": {
   "codemirror_mode": "r",
   "file_extension": ".r",
   "mimetype": "text/x-r-source",
   "name": "R",
   "pygments_lexer": "r",
   "version": "4.0.2"
  }
 },
 "nbformat": 4,
 "nbformat_minor": 4
}
