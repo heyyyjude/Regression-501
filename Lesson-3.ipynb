{
 "cells": [
  {
   "cell_type": "code",
   "execution_count": 4,
   "metadata": {},
   "outputs": [],
   "source": [
    "pacman::p_load(\"tidyverse\", \"ggpubr\")"
   ]
  },
  {
   "cell_type": "code",
   "execution_count": 6,
   "metadata": {},
   "outputs": [
    {
     "name": "stderr",
     "output_type": "stream",
     "text": [
      "Parsed with column specification:\n",
      "cols(\n",
      "  State = \u001b[31mcol_character()\u001b[39m,\n",
      "  Lat = \u001b[32mcol_double()\u001b[39m,\n",
      "  Mort = \u001b[32mcol_double()\u001b[39m,\n",
      "  Ocean = \u001b[32mcol_double()\u001b[39m,\n",
      "  Long = \u001b[32mcol_double()\u001b[39m\n",
      ")\n",
      "\n"
     ]
    },
    {
     "data": {
      "text/html": [
       "<table>\n",
       "<caption>A tibble: 6 × 5</caption>\n",
       "<thead>\n",
       "\t<tr><th scope=col>State</th><th scope=col>Lat</th><th scope=col>Mort</th><th scope=col>Ocean</th><th scope=col>Long</th></tr>\n",
       "\t<tr><th scope=col>&lt;chr&gt;</th><th scope=col>&lt;dbl&gt;</th><th scope=col>&lt;dbl&gt;</th><th scope=col>&lt;dbl&gt;</th><th scope=col>&lt;dbl&gt;</th></tr>\n",
       "</thead>\n",
       "<tbody>\n",
       "\t<tr><td>Alabama    </td><td>33.0</td><td>219</td><td>1</td><td> 87.0</td></tr>\n",
       "\t<tr><td>Arizona    </td><td>34.5</td><td>160</td><td>0</td><td>112.0</td></tr>\n",
       "\t<tr><td>Arkansas   </td><td>35.0</td><td>170</td><td>0</td><td> 92.5</td></tr>\n",
       "\t<tr><td>California </td><td>37.5</td><td>182</td><td>1</td><td>119.5</td></tr>\n",
       "\t<tr><td>Colorado   </td><td>39.0</td><td>149</td><td>0</td><td>105.5</td></tr>\n",
       "\t<tr><td>Connecticut</td><td>41.8</td><td>159</td><td>1</td><td> 72.8</td></tr>\n",
       "</tbody>\n",
       "</table>\n"
      ],
      "text/latex": [
       "A tibble: 6 × 5\n",
       "\\begin{tabular}{lllll}\n",
       " State & Lat & Mort & Ocean & Long\\\\\n",
       " <chr> & <dbl> & <dbl> & <dbl> & <dbl>\\\\\n",
       "\\hline\n",
       "\t Alabama     & 33.0 & 219 & 1 &  87.0\\\\\n",
       "\t Arizona     & 34.5 & 160 & 0 & 112.0\\\\\n",
       "\t Arkansas    & 35.0 & 170 & 0 &  92.5\\\\\n",
       "\t California  & 37.5 & 182 & 1 & 119.5\\\\\n",
       "\t Colorado    & 39.0 & 149 & 0 & 105.5\\\\\n",
       "\t Connecticut & 41.8 & 159 & 1 &  72.8\\\\\n",
       "\\end{tabular}\n"
      ],
      "text/markdown": [
       "\n",
       "A tibble: 6 × 5\n",
       "\n",
       "| State &lt;chr&gt; | Lat &lt;dbl&gt; | Mort &lt;dbl&gt; | Ocean &lt;dbl&gt; | Long &lt;dbl&gt; |\n",
       "|---|---|---|---|---|\n",
       "| Alabama     | 33.0 | 219 | 1 |  87.0 |\n",
       "| Arizona     | 34.5 | 160 | 0 | 112.0 |\n",
       "| Arkansas    | 35.0 | 170 | 0 |  92.5 |\n",
       "| California  | 37.5 | 182 | 1 | 119.5 |\n",
       "| Colorado    | 39.0 | 149 | 0 | 105.5 |\n",
       "| Connecticut | 41.8 | 159 | 1 |  72.8 |\n",
       "\n"
      ],
      "text/plain": [
       "  State       Lat  Mort Ocean Long \n",
       "1 Alabama     33.0 219  1      87.0\n",
       "2 Arizona     34.5 160  0     112.0\n",
       "3 Arkansas    35.0 170  0      92.5\n",
       "4 California  37.5 182  1     119.5\n",
       "5 Colorado    39.0 149  0     105.5\n",
       "6 Connecticut 41.8 159  1      72.8"
      ]
     },
     "metadata": {},
     "output_type": "display_data"
    }
   ],
   "source": [
    "df <- read_table2(\"STAT501_Lesson01/skincancer.txt\")\n",
    "head(df)"
   ]
  },
  {
   "cell_type": "code",
   "execution_count": 9,
   "metadata": {},
   "outputs": [],
   "source": [
    "slm <- lm(Mort ~ Lat, data=df)"
   ]
  },
  {
   "cell_type": "code",
   "execution_count": 11,
   "metadata": {},
   "outputs": [
    {
     "data": {
      "image/png": "[encoded data removed]",
      "text/plain": [
       "plot without title"
      ]
     },
     "metadata": {
      "image/png": {
       "height": 420,
       "width": 420
      }
     },
     "output_type": "display_data"
    }
   ],
   "source": [
    "plot(Mort ~ Lat, data=df)\n",
    "abline(slm)"
   ]
  },
  {
   "cell_type": "code",
   "execution_count": 12,
   "metadata": {},
   "outputs": [
    {
     "data": {
      "text/plain": [
       "\n",
       "Call:\n",
       "lm(formula = Mort ~ Lat, data = df)\n",
       "\n",
       "Residuals:\n",
       "    Min      1Q  Median      3Q     Max \n",
       "-38.972 -13.185   0.972  12.006  43.938 \n",
       "\n",
       "Coefficients:\n",
       "            Estimate Std. Error t value Pr(>|t|)    \n",
       "(Intercept) 389.1894    23.8123   16.34  < 2e-16 ***\n",
       "Lat          -5.9776     0.5984   -9.99 3.31e-13 ***\n",
       "---\n",
       "Signif. codes:  0 '***' 0.001 '**' 0.01 '*' 0.05 '.' 0.1 ' ' 1\n",
       "\n",
       "Residual standard error: 19.12 on 47 degrees of freedom\n",
       "Multiple R-squared:  0.6798,\tAdjusted R-squared:  0.673 \n",
       "F-statistic:  99.8 on 1 and 47 DF,  p-value: 3.309e-13\n"
      ]
     },
     "metadata": {},
     "output_type": "display_data"
    }
   ],
   "source": [
    "summary(slm)"
   ]
  },
  {
   "cell_type": "code",
   "execution_count": 13,
   "metadata": {},
   "outputs": [
    {
     "data": {
      "text/html": [
       "<strong>1:</strong> 150.083921254142"
      ],
      "text/latex": [
       "\\textbf{1:} 150.083921254142"
      ],
      "text/markdown": [
       "**1:** 150.083921254142"
      ],
      "text/plain": [
       "       1 \n",
       "150.0839 "
      ]
     },
     "metadata": {},
     "output_type": "display_data"
    }
   ],
   "source": [
    "predict(slm, newdata = data.frame(Lat=40))"
   ]
  },
  {
   "cell_type": "code",
   "execution_count": 14,
   "metadata": {},
   "outputs": [
    {
     "data": {
      "text/html": [
       "<table>\n",
       "<caption>A matrix: 1 × 3 of type dbl</caption>\n",
       "<thead>\n",
       "\t<tr><th></th><th scope=col>fit</th><th scope=col>lwr</th><th scope=col>upr</th></tr>\n",
       "</thead>\n",
       "<tbody>\n",
       "\t<tr><th scope=row>1</th><td>150.0839</td><td>144.5617</td><td>155.6061</td></tr>\n",
       "</tbody>\n",
       "</table>\n"
      ],
      "text/latex": [
       "A matrix: 1 × 3 of type dbl\n",
       "\\begin{tabular}{r|lll}\n",
       "  & fit & lwr & upr\\\\\n",
       "\\hline\n",
       "\t1 & 150.0839 & 144.5617 & 155.6061\\\\\n",
       "\\end{tabular}\n"
      ],
      "text/markdown": [
       "\n",
       "A matrix: 1 × 3 of type dbl\n",
       "\n",
       "| <!--/--> | fit | lwr | upr |\n",
       "|---|---|---|---|\n",
       "| 1 | 150.0839 | 144.5617 | 155.6061 |\n",
       "\n"
      ],
      "text/plain": [
       "  fit      lwr      upr     \n",
       "1 150.0839 144.5617 155.6061"
      ]
     },
     "metadata": {},
     "output_type": "display_data"
    }
   ],
   "source": [
    "predict(slm, newdata = data.frame(Lat=40), interval = 'confidence')"
   ]
  },
  {
   "cell_type": "code",
   "execution_count": 15,
   "metadata": {},
   "outputs": [
    {
     "data": {
      "text/html": [
       "<dl>\n",
       "\t<dt>$fit</dt>\n",
       "\t\t<dd><table>\n",
       "<caption>A matrix: 1 × 3 of type dbl</caption>\n",
       "<thead>\n",
       "\t<tr><th></th><th scope=col>fit</th><th scope=col>lwr</th><th scope=col>upr</th></tr>\n",
       "</thead>\n",
       "<tbody>\n",
       "\t<tr><th scope=row>1</th><td>150.0839</td><td>144.5617</td><td>155.6061</td></tr>\n",
       "</tbody>\n",
       "</table>\n",
       "</dd>\n",
       "\t<dt>$se.fit</dt>\n",
       "\t\t<dd>2.74500023899277</dd>\n",
       "\t<dt>$df</dt>\n",
       "\t\t<dd>47</dd>\n",
       "\t<dt>$residual.scale</dt>\n",
       "\t\t<dd>19.115029790618</dd>\n",
       "</dl>\n"
      ],
      "text/latex": [
       "\\begin{description}\n",
       "\\item[\\$fit] A matrix: 1 × 3 of type dbl\n",
       "\\begin{tabular}{r|lll}\n",
       "  & fit & lwr & upr\\\\\n",
       "\\hline\n",
       "\t1 & 150.0839 & 144.5617 & 155.6061\\\\\n",
       "\\end{tabular}\n",
       "\n",
       "\\item[\\$se.fit] 2.74500023899277\n",
       "\\item[\\$df] 47\n",
       "\\item[\\$residual.scale] 19.115029790618\n",
       "\\end{description}\n"
      ],
      "text/markdown": [
       "$fit\n",
       ":   \n",
       "A matrix: 1 × 3 of type dbl\n",
       "\n",
       "| <!--/--> | fit | lwr | upr |\n",
       "|---|---|---|---|\n",
       "| 1 | 150.0839 | 144.5617 | 155.6061 |\n",
       "\n",
       "\n",
       "$se.fit\n",
       ":   2.74500023899277\n",
       "$df\n",
       ":   47\n",
       "$residual.scale\n",
       ":   19.115029790618\n",
       "\n",
       "\n"
      ],
      "text/plain": [
       "$fit\n",
       "       fit      lwr      upr\n",
       "1 150.0839 144.5617 155.6061\n",
       "\n",
       "$se.fit\n",
       "[1] 2.745\n",
       "\n",
       "$df\n",
       "[1] 47\n",
       "\n",
       "$residual.scale\n",
       "[1] 19.11503\n"
      ]
     },
     "metadata": {},
     "output_type": "display_data"
    }
   ],
   "source": [
    "predict(slm, newdata = data.frame(Lat=40), interval = 'confidence', se.fit = TRUE)"
   ]
  },
  {
   "cell_type": "code",
   "execution_count": 16,
   "metadata": {},
   "outputs": [
    {
     "data": {
      "text/html": [
       "<dl>\n",
       "\t<dt>$fit</dt>\n",
       "\t\t<dd><table>\n",
       "<caption>A matrix: 1 × 3 of type dbl</caption>\n",
       "<thead>\n",
       "\t<tr><th></th><th scope=col>fit</th><th scope=col>lwr</th><th scope=col>upr</th></tr>\n",
       "</thead>\n",
       "<tbody>\n",
       "\t<tr><th scope=row>1</th><td>150.0839</td><td>111.235</td><td>188.9329</td></tr>\n",
       "</tbody>\n",
       "</table>\n",
       "</dd>\n",
       "\t<dt>$se.fit</dt>\n",
       "\t\t<dd>2.74500023899277</dd>\n",
       "\t<dt>$df</dt>\n",
       "\t\t<dd>47</dd>\n",
       "\t<dt>$residual.scale</dt>\n",
       "\t\t<dd>19.115029790618</dd>\n",
       "</dl>\n"
      ],
      "text/latex": [
       "\\begin{description}\n",
       "\\item[\\$fit] A matrix: 1 × 3 of type dbl\n",
       "\\begin{tabular}{r|lll}\n",
       "  & fit & lwr & upr\\\\\n",
       "\\hline\n",
       "\t1 & 150.0839 & 111.235 & 188.9329\\\\\n",
       "\\end{tabular}\n",
       "\n",
       "\\item[\\$se.fit] 2.74500023899277\n",
       "\\item[\\$df] 47\n",
       "\\item[\\$residual.scale] 19.115029790618\n",
       "\\end{description}\n"
      ],
      "text/markdown": [
       "$fit\n",
       ":   \n",
       "A matrix: 1 × 3 of type dbl\n",
       "\n",
       "| <!--/--> | fit | lwr | upr |\n",
       "|---|---|---|---|\n",
       "| 1 | 150.0839 | 111.235 | 188.9329 |\n",
       "\n",
       "\n",
       "$se.fit\n",
       ":   2.74500023899277\n",
       "$df\n",
       ":   47\n",
       "$residual.scale\n",
       ":   19.115029790618\n",
       "\n",
       "\n"
      ],
      "text/plain": [
       "$fit\n",
       "       fit     lwr      upr\n",
       "1 150.0839 111.235 188.9329\n",
       "\n",
       "$se.fit\n",
       "[1] 2.745\n",
       "\n",
       "$df\n",
       "[1] 47\n",
       "\n",
       "$residual.scale\n",
       "[1] 19.11503\n"
      ]
     },
     "metadata": {},
     "output_type": "display_data"
    }
   ],
   "source": [
    "predict(slm, newdata = data.frame(Lat=40), interval = 'prediction', se.fit = TRUE)"
   ]
  },
  {
   "cell_type": "code",
   "execution_count": null,
   "metadata": {},
   "outputs": [],
   "source": []
  }
 ],
 "metadata": {
  "kernelspec": {
   "display_name": "R",
   "language": "R",
   "name": "ir"
  },
  "language_info": {
   "codemirror_mode": "r",
   "file_extension": ".r",
   "mimetype": "text/x-r-source",
   "name": "R",
   "pygments_lexer": "r",
   "version": "4.0.2"
  }
 },
 "nbformat": 4,
 "nbformat_minor": 4
}
