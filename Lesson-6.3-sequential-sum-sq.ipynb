{
 "cells": [
  {
   "cell_type": "code",
   "execution_count": 5,
   "metadata": {},
   "outputs": [],
   "source": [
    "pacman::p_load(\"tidyverse\", \"ggpubr\", 'car', 'broom')"
   ]
  },
  {
   "cell_type": "code",
   "execution_count": 15,
   "metadata": {},
   "outputs": [
    {
     "name": "stderr",
     "output_type": "stream",
     "text": [
      "Parsed with column specification:\n",
      "cols(\n",
      "  Subj = \u001b[32mcol_double()\u001b[39m,\n",
      "  ACL = \u001b[32mcol_double()\u001b[39m,\n",
      "  Vocab = \u001b[32mcol_double()\u001b[39m,\n",
      "  Abstract = \u001b[32mcol_double()\u001b[39m,\n",
      "  SDMT = \u001b[32mcol_double()\u001b[39m\n",
      ")\n",
      "\n"
     ]
    },
    {
     "data": {
      "text/html": [
       "<table>\n",
       "<caption>A tibble: 6 × 5</caption>\n",
       "<thead>\n",
       "\t<tr><th scope=col>Subj</th><th scope=col>ACL</th><th scope=col>Vocab</th><th scope=col>Abstract</th><th scope=col>SDMT</th></tr>\n",
       "\t<tr><th scope=col>&lt;dbl&gt;</th><th scope=col>&lt;dbl&gt;</th><th scope=col>&lt;dbl&gt;</th><th scope=col>&lt;dbl&gt;</th><th scope=col>&lt;dbl&gt;</th></tr>\n",
       "</thead>\n",
       "<tbody>\n",
       "\t<tr><td>1</td><td>6.0</td><td>28</td><td>36</td><td>70</td></tr>\n",
       "\t<tr><td>2</td><td>5.4</td><td>34</td><td>32</td><td>49</td></tr>\n",
       "\t<tr><td>3</td><td>4.7</td><td>19</td><td> 8</td><td>28</td></tr>\n",
       "\t<tr><td>4</td><td>4.8</td><td>32</td><td>28</td><td>47</td></tr>\n",
       "\t<tr><td>5</td><td>4.9</td><td>22</td><td> 4</td><td>29</td></tr>\n",
       "\t<tr><td>6</td><td>4.5</td><td>24</td><td>24</td><td>23</td></tr>\n",
       "</tbody>\n",
       "</table>\n"
      ],
      "text/latex": [
       "A tibble: 6 × 5\n",
       "\\begin{tabular}{lllll}\n",
       " Subj & ACL & Vocab & Abstract & SDMT\\\\\n",
       " <dbl> & <dbl> & <dbl> & <dbl> & <dbl>\\\\\n",
       "\\hline\n",
       "\t 1 & 6.0 & 28 & 36 & 70\\\\\n",
       "\t 2 & 5.4 & 34 & 32 & 49\\\\\n",
       "\t 3 & 4.7 & 19 &  8 & 28\\\\\n",
       "\t 4 & 4.8 & 32 & 28 & 47\\\\\n",
       "\t 5 & 4.9 & 22 &  4 & 29\\\\\n",
       "\t 6 & 4.5 & 24 & 24 & 23\\\\\n",
       "\\end{tabular}\n"
      ],
      "text/markdown": [
       "\n",
       "A tibble: 6 × 5\n",
       "\n",
       "| Subj &lt;dbl&gt; | ACL &lt;dbl&gt; | Vocab &lt;dbl&gt; | Abstract &lt;dbl&gt; | SDMT &lt;dbl&gt; |\n",
       "|---|---|---|---|---|\n",
       "| 1 | 6.0 | 28 | 36 | 70 |\n",
       "| 2 | 5.4 | 34 | 32 | 49 |\n",
       "| 3 | 4.7 | 19 |  8 | 28 |\n",
       "| 4 | 4.8 | 32 | 28 | 47 |\n",
       "| 5 | 4.9 | 22 |  4 | 29 |\n",
       "| 6 | 4.5 | 24 | 24 | 23 |\n",
       "\n"
      ],
      "text/plain": [
       "  Subj ACL Vocab Abstract SDMT\n",
       "1 1    6.0 28    36       70  \n",
       "2 2    5.4 34    32       49  \n",
       "3 3    4.7 19     8       28  \n",
       "4 4    4.8 32    28       47  \n",
       "5 5    4.9 22     4       29  \n",
       "6 6    4.5 24    24       23  "
      ]
     },
     "metadata": {},
     "output_type": "display_data"
    }
   ],
   "source": [
    "df <- read_table2(\"STAT501_Lesson01/allentest.txt\")\n",
    "head(df)"
   ]
  },
  {
   "cell_type": "code",
   "execution_count": 16,
   "metadata": {},
   "outputs": [
    {
     "data": {
      "text/plain": [
       "\n",
       "Call:\n",
       "lm(formula = ACL ~ Vocab, data = df)\n",
       "\n",
       "Residuals:\n",
       "    Min      1Q  Median      3Q     Max \n",
       "-1.4490 -0.6021 -0.1723  0.7106  1.5999 \n",
       "\n",
       "Coefficients:\n",
       "            Estimate Std. Error t value Pr(>|t|)    \n",
       "(Intercept)   4.2253     0.3524  11.989   <2e-16 ***\n",
       "Vocab         0.0298     0.0141   2.113   0.0383 *  \n",
       "---\n",
       "Signif. codes:  0 '***' 0.001 '**' 0.01 '*' 0.05 '.' 0.1 ' ' 1\n",
       "\n",
       "Residual standard error: 0.7761 on 67 degrees of freedom\n",
       "Multiple R-squared:  0.0625,\tAdjusted R-squared:  0.04851 \n",
       "F-statistic: 4.467 on 1 and 67 DF,  p-value: 0.03829\n"
      ]
     },
     "metadata": {},
     "output_type": "display_data"
    }
   ],
   "source": [
    "slm.voca <- lm(ACL ~ Vocab, data=df)\n",
    "summary(slm.voca)"
   ]
  },
  {
   "cell_type": "code",
   "execution_count": 19,
   "metadata": {},
   "outputs": [
    {
     "data": {
      "text/html": [
       "<table>\n",
       "<caption>A anova: 2 × 5</caption>\n",
       "<thead>\n",
       "\t<tr><th></th><th scope=col>Df</th><th scope=col>Sum Sq</th><th scope=col>Mean Sq</th><th scope=col>F value</th><th scope=col>Pr(&gt;F)</th></tr>\n",
       "\t<tr><th></th><th scope=col>&lt;dbl&gt;</th><th scope=col>&lt;dbl&gt;</th><th scope=col>&lt;dbl&gt;</th><th scope=col>&lt;dbl&gt;</th><th scope=col>&lt;dbl&gt;</th></tr>\n",
       "</thead>\n",
       "<tbody>\n",
       "\t<tr><th scope=row>Vocab</th><td> 1</td><td> 2.69</td><td>2.69</td><td>4.47</td><td>0.04</td></tr>\n",
       "\t<tr><th scope=row>Residuals</th><td>67</td><td>40.36</td><td>0.60</td><td>  NA</td><td>  NA</td></tr>\n",
       "</tbody>\n",
       "</table>\n"
      ],
      "text/latex": [
       "A anova: 2 × 5\n",
       "\\begin{tabular}{r|lllll}\n",
       "  & Df & Sum Sq & Mean Sq & F value & Pr(>F)\\\\\n",
       "  & <dbl> & <dbl> & <dbl> & <dbl> & <dbl>\\\\\n",
       "\\hline\n",
       "\tVocab &  1 &  2.69 & 2.69 & 4.47 & 0.04\\\\\n",
       "\tResiduals & 67 & 40.36 & 0.60 &   NA &   NA\\\\\n",
       "\\end{tabular}\n"
      ],
      "text/markdown": [
       "\n",
       "A anova: 2 × 5\n",
       "\n",
       "| <!--/--> | Df &lt;dbl&gt; | Sum Sq &lt;dbl&gt; | Mean Sq &lt;dbl&gt; | F value &lt;dbl&gt; | Pr(&gt;F) &lt;dbl&gt; |\n",
       "|---|---|---|---|---|---|\n",
       "| Vocab |  1 |  2.69 | 2.69 | 4.47 | 0.04 |\n",
       "| Residuals | 67 | 40.36 | 0.60 |   NA |   NA |\n",
       "\n"
      ],
      "text/plain": [
       "          Df Sum Sq Mean Sq F value Pr(>F)\n",
       "Vocab      1  2.69  2.69    4.47    0.04  \n",
       "Residuals 67 40.36  0.60      NA      NA  "
      ]
     },
     "metadata": {},
     "output_type": "display_data"
    }
   ],
   "source": [
    "round(anova(slm.voca),2)"
   ]
  },
  {
   "cell_type": "code",
   "execution_count": 25,
   "metadata": {},
   "outputs": [
    {
     "data": {
      "text/html": [
       "<table>\n",
       "<caption>A anova: 3 × 4</caption>\n",
       "<thead>\n",
       "\t<tr><th></th><th scope=col>Sum Sq</th><th scope=col>Df</th><th scope=col>F value</th><th scope=col>Pr(&gt;F)</th></tr>\n",
       "\t<tr><th></th><th scope=col>&lt;dbl&gt;</th><th scope=col>&lt;dbl&gt;</th><th scope=col>&lt;dbl&gt;</th><th scope=col>&lt;dbl&gt;</th></tr>\n",
       "</thead>\n",
       "<tbody>\n",
       "\t<tr><th scope=row>(Intercept)</th><td>86.59</td><td> 1</td><td>143.75</td><td>0.00</td></tr>\n",
       "\t<tr><th scope=row>Vocab</th><td> 2.69</td><td> 1</td><td>  4.47</td><td>0.04</td></tr>\n",
       "\t<tr><th scope=row>Residuals</th><td>40.36</td><td>67</td><td>    NA</td><td>  NA</td></tr>\n",
       "</tbody>\n",
       "</table>\n"
      ],
      "text/latex": [
       "A anova: 3 × 4\n",
       "\\begin{tabular}{r|llll}\n",
       "  & Sum Sq & Df & F value & Pr(>F)\\\\\n",
       "  & <dbl> & <dbl> & <dbl> & <dbl>\\\\\n",
       "\\hline\n",
       "\t(Intercept) & 86.59 &  1 & 143.75 & 0.00\\\\\n",
       "\tVocab &  2.69 &  1 &   4.47 & 0.04\\\\\n",
       "\tResiduals & 40.36 & 67 &     NA &   NA\\\\\n",
       "\\end{tabular}\n"
      ],
      "text/markdown": [
       "\n",
       "A anova: 3 × 4\n",
       "\n",
       "| <!--/--> | Sum Sq &lt;dbl&gt; | Df &lt;dbl&gt; | F value &lt;dbl&gt; | Pr(&gt;F) &lt;dbl&gt; |\n",
       "|---|---|---|---|---|\n",
       "| (Intercept) | 86.59 |  1 | 143.75 | 0.00 |\n",
       "| Vocab |  2.69 |  1 |   4.47 | 0.04 |\n",
       "| Residuals | 40.36 | 67 |     NA |   NA |\n",
       "\n"
      ],
      "text/plain": [
       "            Sum Sq Df F value Pr(>F)\n",
       "(Intercept) 86.59   1 143.75  0.00  \n",
       "Vocab        2.69   1   4.47  0.04  \n",
       "Residuals   40.36  67     NA    NA  "
      ]
     },
     "metadata": {},
     "output_type": "display_data"
    }
   ],
   "source": [
    "round(Anova(slm.voca, type = 3),2)"
   ]
  },
  {
   "cell_type": "code",
   "execution_count": 26,
   "metadata": {},
   "outputs": [
    {
     "data": {
      "text/plain": [
       "\n",
       "Call:\n",
       "lm(formula = ACL ~ Vocab + SDMT, data = df)\n",
       "\n",
       "Residuals:\n",
       "     Min       1Q   Median       3Q      Max \n",
       "-1.55758 -0.44619 -0.01027  0.34114  1.55955 \n",
       "\n",
       "Coefficients:\n",
       "             Estimate Std. Error t value Pr(>|t|)    \n",
       "(Intercept)  3.845292   0.324380  11.854  < 2e-16 ***\n",
       "Vocab       -0.006840   0.015045  -0.455    0.651    \n",
       "SDMT         0.029795   0.006803   4.379 4.35e-05 ***\n",
       "---\n",
       "Signif. codes:  0 '***' 0.001 '**' 0.01 '*' 0.05 '.' 0.1 ' ' 1\n",
       "\n",
       "Residual standard error: 0.6883 on 66 degrees of freedom\n",
       "Multiple R-squared:  0.2736,\tAdjusted R-squared:  0.2516 \n",
       "F-statistic: 12.43 on 2 and 66 DF,  p-value: 2.624e-05\n"
      ]
     },
     "metadata": {},
     "output_type": "display_data"
    }
   ],
   "source": [
    "mlm.voca.sdmt <- lm(ACL ~ Vocab + SDMT, data=df)\n",
    "summary(mlm.voca.sdmt)"
   ]
  },
  {
   "cell_type": "code",
   "execution_count": 34,
   "metadata": {},
   "outputs": [
    {
     "data": {
      "text/html": [
       "<table>\n",
       "<caption>A anova: 3 × 5</caption>\n",
       "<thead>\n",
       "\t<tr><th></th><th scope=col>Df</th><th scope=col>Sum Sq</th><th scope=col>Mean Sq</th><th scope=col>F value</th><th scope=col>Pr(&gt;F)</th></tr>\n",
       "\t<tr><th></th><th scope=col>&lt;dbl&gt;</th><th scope=col>&lt;dbl&gt;</th><th scope=col>&lt;dbl&gt;</th><th scope=col>&lt;dbl&gt;</th><th scope=col>&lt;dbl&gt;</th></tr>\n",
       "</thead>\n",
       "<tbody>\n",
       "\t<tr><th scope=row>Vocab</th><td> 1</td><td> 2.69</td><td>2.69</td><td> 5.68</td><td>0.02</td></tr>\n",
       "\t<tr><th scope=row>SDMT</th><td> 1</td><td> 9.09</td><td>9.09</td><td>19.18</td><td>0.00</td></tr>\n",
       "\t<tr><th scope=row>Residuals</th><td>66</td><td>31.27</td><td>0.47</td><td>   NA</td><td>  NA</td></tr>\n",
       "</tbody>\n",
       "</table>\n"
      ],
      "text/latex": [
       "A anova: 3 × 5\n",
       "\\begin{tabular}{r|lllll}\n",
       "  & Df & Sum Sq & Mean Sq & F value & Pr(>F)\\\\\n",
       "  & <dbl> & <dbl> & <dbl> & <dbl> & <dbl>\\\\\n",
       "\\hline\n",
       "\tVocab &  1 &  2.69 & 2.69 &  5.68 & 0.02\\\\\n",
       "\tSDMT &  1 &  9.09 & 9.09 & 19.18 & 0.00\\\\\n",
       "\tResiduals & 66 & 31.27 & 0.47 &    NA &   NA\\\\\n",
       "\\end{tabular}\n"
      ],
      "text/markdown": [
       "\n",
       "A anova: 3 × 5\n",
       "\n",
       "| <!--/--> | Df &lt;dbl&gt; | Sum Sq &lt;dbl&gt; | Mean Sq &lt;dbl&gt; | F value &lt;dbl&gt; | Pr(&gt;F) &lt;dbl&gt; |\n",
       "|---|---|---|---|---|---|\n",
       "| Vocab |  1 |  2.69 | 2.69 |  5.68 | 0.02 |\n",
       "| SDMT |  1 |  9.09 | 9.09 | 19.18 | 0.00 |\n",
       "| Residuals | 66 | 31.27 | 0.47 |    NA |   NA |\n",
       "\n"
      ],
      "text/plain": [
       "          Df Sum Sq Mean Sq F value Pr(>F)\n",
       "Vocab      1  2.69  2.69     5.68   0.02  \n",
       "SDMT       1  9.09  9.09    19.18   0.00  \n",
       "Residuals 66 31.27  0.47       NA     NA  "
      ]
     },
     "metadata": {},
     "output_type": "display_data"
    }
   ],
   "source": [
    "round(anova(mlm.voca.sdmt),2)\n",
    "## SSR = 2.69 + 9.09 = 11.77\n",
    "## SSE = 31.27\n",
    "## SST = 11.77 + 31.27 = 43.04"
   ]
  },
  {
   "cell_type": "code",
   "execution_count": 33,
   "metadata": {},
   "outputs": [
    {
     "data": {
      "text/html": [
       "<table>\n",
       "<caption>A anova: 4 × 4</caption>\n",
       "<thead>\n",
       "\t<tr><th></th><th scope=col>Sum Sq</th><th scope=col>Df</th><th scope=col>F value</th><th scope=col>Pr(&gt;F)</th></tr>\n",
       "\t<tr><th></th><th scope=col>&lt;dbl&gt;</th><th scope=col>&lt;dbl&gt;</th><th scope=col>&lt;dbl&gt;</th><th scope=col>&lt;dbl&gt;</th></tr>\n",
       "</thead>\n",
       "<tbody>\n",
       "\t<tr><th scope=row>(Intercept)</th><td>66.58</td><td> 1</td><td>140.52</td><td>0.00</td></tr>\n",
       "\t<tr><th scope=row>Vocab</th><td> 0.10</td><td> 1</td><td>  0.21</td><td>0.65</td></tr>\n",
       "\t<tr><th scope=row>SDMT</th><td> 9.09</td><td> 1</td><td> 19.18</td><td>0.00</td></tr>\n",
       "\t<tr><th scope=row>Residuals</th><td>31.27</td><td>66</td><td>    NA</td><td>  NA</td></tr>\n",
       "</tbody>\n",
       "</table>\n"
      ],
      "text/latex": [
       "A anova: 4 × 4\n",
       "\\begin{tabular}{r|llll}\n",
       "  & Sum Sq & Df & F value & Pr(>F)\\\\\n",
       "  & <dbl> & <dbl> & <dbl> & <dbl>\\\\\n",
       "\\hline\n",
       "\t(Intercept) & 66.58 &  1 & 140.52 & 0.00\\\\\n",
       "\tVocab &  0.10 &  1 &   0.21 & 0.65\\\\\n",
       "\tSDMT &  9.09 &  1 &  19.18 & 0.00\\\\\n",
       "\tResiduals & 31.27 & 66 &     NA &   NA\\\\\n",
       "\\end{tabular}\n"
      ],
      "text/markdown": [
       "\n",
       "A anova: 4 × 4\n",
       "\n",
       "| <!--/--> | Sum Sq &lt;dbl&gt; | Df &lt;dbl&gt; | F value &lt;dbl&gt; | Pr(&gt;F) &lt;dbl&gt; |\n",
       "|---|---|---|---|---|\n",
       "| (Intercept) | 66.58 |  1 | 140.52 | 0.00 |\n",
       "| Vocab |  0.10 |  1 |   0.21 | 0.65 |\n",
       "| SDMT |  9.09 |  1 |  19.18 | 0.00 |\n",
       "| Residuals | 31.27 | 66 |     NA |   NA |\n",
       "\n"
      ],
      "text/plain": [
       "            Sum Sq Df F value Pr(>F)\n",
       "(Intercept) 66.58   1 140.52  0.00  \n",
       "Vocab        0.10   1   0.21  0.65  \n",
       "SDMT         9.09   1  19.18  0.00  \n",
       "Residuals   31.27  66     NA    NA  "
      ]
     },
     "metadata": {},
     "output_type": "display_data"
    }
   ],
   "source": [
    "round(Anova(mlm.voca.sdmt, type = 3),2)\n",
    "## SSR(vocab | SDMT) = 0.1, SSR(SDMT | vocab) = 9.09"
   ]
  },
  {
   "cell_type": "code",
   "execution_count": 37,
   "metadata": {},
   "outputs": [
    {
     "data": {
      "text/html": [
       "<table>\n",
       "<caption>A anova: 2 × 6</caption>\n",
       "<thead>\n",
       "\t<tr><th></th><th scope=col>Res.Df</th><th scope=col>RSS</th><th scope=col>Df</th><th scope=col>Sum of Sq</th><th scope=col>F</th><th scope=col>Pr(&gt;F)</th></tr>\n",
       "\t<tr><th></th><th scope=col>&lt;dbl&gt;</th><th scope=col>&lt;dbl&gt;</th><th scope=col>&lt;dbl&gt;</th><th scope=col>&lt;dbl&gt;</th><th scope=col>&lt;dbl&gt;</th><th scope=col>&lt;dbl&gt;</th></tr>\n",
       "</thead>\n",
       "<tbody>\n",
       "\t<tr><th scope=row>1</th><td>67</td><td>40.36</td><td>NA</td><td>  NA</td><td>   NA</td><td>NA</td></tr>\n",
       "\t<tr><th scope=row>2</th><td>66</td><td>31.27</td><td> 1</td><td>9.09</td><td>19.18</td><td> 0</td></tr>\n",
       "</tbody>\n",
       "</table>\n"
      ],
      "text/latex": [
       "A anova: 2 × 6\n",
       "\\begin{tabular}{r|llllll}\n",
       "  & Res.Df & RSS & Df & Sum of Sq & F & Pr(>F)\\\\\n",
       "  & <dbl> & <dbl> & <dbl> & <dbl> & <dbl> & <dbl>\\\\\n",
       "\\hline\n",
       "\t1 & 67 & 40.36 & NA &   NA &    NA & NA\\\\\n",
       "\t2 & 66 & 31.27 &  1 & 9.09 & 19.18 &  0\\\\\n",
       "\\end{tabular}\n"
      ],
      "text/markdown": [
       "\n",
       "A anova: 2 × 6\n",
       "\n",
       "| <!--/--> | Res.Df &lt;dbl&gt; | RSS &lt;dbl&gt; | Df &lt;dbl&gt; | Sum of Sq &lt;dbl&gt; | F &lt;dbl&gt; | Pr(&gt;F) &lt;dbl&gt; |\n",
       "|---|---|---|---|---|---|---|\n",
       "| 1 | 67 | 40.36 | NA |   NA |    NA | NA |\n",
       "| 2 | 66 | 31.27 |  1 | 9.09 | 19.18 |  0 |\n",
       "\n"
      ],
      "text/plain": [
       "  Res.Df RSS   Df Sum of Sq F     Pr(>F)\n",
       "1 67     40.36 NA   NA         NA NA    \n",
       "2 66     31.27  1 9.09      19.18  0    "
      ]
     },
     "metadata": {},
     "output_type": "display_data"
    }
   ],
   "source": [
    "round(anova(slm.voca, mlm.voca.sdmt),2)\n",
    "## RSS = Residual Sum Sq. 40.36 - 31.27 = explained by SDMT variable. = Sum of Sq"
   ]
  },
  {
   "cell_type": "code",
   "execution_count": 39,
   "metadata": {},
   "outputs": [
    {
     "data": {
      "text/html": [
       "<table>\n",
       "<caption>A anova: 3 × 5</caption>\n",
       "<thead>\n",
       "\t<tr><th></th><th scope=col>Df</th><th scope=col>Sum Sq</th><th scope=col>Mean Sq</th><th scope=col>F value</th><th scope=col>Pr(&gt;F)</th></tr>\n",
       "\t<tr><th></th><th scope=col>&lt;dbl&gt;</th><th scope=col>&lt;dbl&gt;</th><th scope=col>&lt;dbl&gt;</th><th scope=col>&lt;dbl&gt;</th><th scope=col>&lt;dbl&gt;</th></tr>\n",
       "</thead>\n",
       "<tbody>\n",
       "\t<tr><th scope=row>SDMT</th><td> 1</td><td>11.68</td><td>11.68</td><td>24.65</td><td>0.00</td></tr>\n",
       "\t<tr><th scope=row>Vocab</th><td> 1</td><td> 0.10</td><td> 0.10</td><td> 0.21</td><td>0.65</td></tr>\n",
       "\t<tr><th scope=row>Residuals</th><td>66</td><td>31.27</td><td> 0.47</td><td>   NA</td><td>  NA</td></tr>\n",
       "</tbody>\n",
       "</table>\n"
      ],
      "text/latex": [
       "A anova: 3 × 5\n",
       "\\begin{tabular}{r|lllll}\n",
       "  & Df & Sum Sq & Mean Sq & F value & Pr(>F)\\\\\n",
       "  & <dbl> & <dbl> & <dbl> & <dbl> & <dbl>\\\\\n",
       "\\hline\n",
       "\tSDMT &  1 & 11.68 & 11.68 & 24.65 & 0.00\\\\\n",
       "\tVocab &  1 &  0.10 &  0.10 &  0.21 & 0.65\\\\\n",
       "\tResiduals & 66 & 31.27 &  0.47 &    NA &   NA\\\\\n",
       "\\end{tabular}\n"
      ],
      "text/markdown": [
       "\n",
       "A anova: 3 × 5\n",
       "\n",
       "| <!--/--> | Df &lt;dbl&gt; | Sum Sq &lt;dbl&gt; | Mean Sq &lt;dbl&gt; | F value &lt;dbl&gt; | Pr(&gt;F) &lt;dbl&gt; |\n",
       "|---|---|---|---|---|---|\n",
       "| SDMT |  1 | 11.68 | 11.68 | 24.65 | 0.00 |\n",
       "| Vocab |  1 |  0.10 |  0.10 |  0.21 | 0.65 |\n",
       "| Residuals | 66 | 31.27 |  0.47 |    NA |   NA |\n",
       "\n"
      ],
      "text/plain": [
       "          Df Sum Sq Mean Sq F value Pr(>F)\n",
       "SDMT       1 11.68  11.68   24.65   0.00  \n",
       "Vocab      1  0.10   0.10    0.21   0.65  \n",
       "Residuals 66 31.27   0.47      NA     NA  "
      ]
     },
     "metadata": {},
     "output_type": "display_data"
    }
   ],
   "source": [
    "round(anova(lm(ACL ~ SDMT + Vocab, data=df)),2)"
   ]
  },
  {
   "cell_type": "code",
   "execution_count": 40,
   "metadata": {},
   "outputs": [
    {
     "data": {
      "text/plain": [
       "\n",
       "Call:\n",
       "lm(formula = ACL ~ SDMT + Vocab + Abstract, data = df)\n",
       "\n",
       "Residuals:\n",
       "     Min       1Q   Median       3Q      Max \n",
       "-1.63459 -0.46009 -0.02471  0.33624  1.52886 \n",
       "\n",
       "Coefficients:\n",
       "             Estimate Std. Error t value Pr(>|t|)    \n",
       "(Intercept)  3.946347   0.338069  11.673  < 2e-16 ***\n",
       "SDMT         0.027404   0.007168   3.823 0.000298 ***\n",
       "Vocab       -0.017397   0.018077  -0.962 0.339428    \n",
       "Abstract     0.012182   0.011585   1.051 0.296926    \n",
       "---\n",
       "Signif. codes:  0 '***' 0.001 '**' 0.01 '*' 0.05 '.' 0.1 ' ' 1\n",
       "\n",
       "Residual standard error: 0.6878 on 65 degrees of freedom\n",
       "Multiple R-squared:  0.2857,\tAdjusted R-squared:  0.2528 \n",
       "F-statistic: 8.668 on 3 and 65 DF,  p-value: 6.414e-05\n"
      ]
     },
     "metadata": {},
     "output_type": "display_data"
    }
   ],
   "source": [
    "mlm.all <- lm(ACL ~ SDMT + Vocab + Abstract, data=df)\n",
    "summary(mlm.all)"
   ]
  },
  {
   "cell_type": "code",
   "execution_count": 42,
   "metadata": {},
   "outputs": [
    {
     "data": {
      "text/html": [
       "<table>\n",
       "<caption>A anova: 4 × 5</caption>\n",
       "<thead>\n",
       "\t<tr><th></th><th scope=col>Df</th><th scope=col>Sum Sq</th><th scope=col>Mean Sq</th><th scope=col>F value</th><th scope=col>Pr(&gt;F)</th></tr>\n",
       "\t<tr><th></th><th scope=col>&lt;dbl&gt;</th><th scope=col>&lt;dbl&gt;</th><th scope=col>&lt;dbl&gt;</th><th scope=col>&lt;dbl&gt;</th><th scope=col>&lt;dbl&gt;</th></tr>\n",
       "</thead>\n",
       "<tbody>\n",
       "\t<tr><th scope=row>SDMT</th><td> 1</td><td>11.68</td><td>11.68</td><td>24.69</td><td>0.00</td></tr>\n",
       "\t<tr><th scope=row>Vocab</th><td> 1</td><td> 0.10</td><td> 0.10</td><td> 0.21</td><td>0.65</td></tr>\n",
       "\t<tr><th scope=row>Abstract</th><td> 1</td><td> 0.52</td><td> 0.52</td><td> 1.11</td><td>0.30</td></tr>\n",
       "\t<tr><th scope=row>Residuals</th><td>65</td><td>30.75</td><td> 0.47</td><td>   NA</td><td>  NA</td></tr>\n",
       "</tbody>\n",
       "</table>\n"
      ],
      "text/latex": [
       "A anova: 4 × 5\n",
       "\\begin{tabular}{r|lllll}\n",
       "  & Df & Sum Sq & Mean Sq & F value & Pr(>F)\\\\\n",
       "  & <dbl> & <dbl> & <dbl> & <dbl> & <dbl>\\\\\n",
       "\\hline\n",
       "\tSDMT &  1 & 11.68 & 11.68 & 24.69 & 0.00\\\\\n",
       "\tVocab &  1 &  0.10 &  0.10 &  0.21 & 0.65\\\\\n",
       "\tAbstract &  1 &  0.52 &  0.52 &  1.11 & 0.30\\\\\n",
       "\tResiduals & 65 & 30.75 &  0.47 &    NA &   NA\\\\\n",
       "\\end{tabular}\n"
      ],
      "text/markdown": [
       "\n",
       "A anova: 4 × 5\n",
       "\n",
       "| <!--/--> | Df &lt;dbl&gt; | Sum Sq &lt;dbl&gt; | Mean Sq &lt;dbl&gt; | F value &lt;dbl&gt; | Pr(&gt;F) &lt;dbl&gt; |\n",
       "|---|---|---|---|---|---|\n",
       "| SDMT |  1 | 11.68 | 11.68 | 24.69 | 0.00 |\n",
       "| Vocab |  1 |  0.10 |  0.10 |  0.21 | 0.65 |\n",
       "| Abstract |  1 |  0.52 |  0.52 |  1.11 | 0.30 |\n",
       "| Residuals | 65 | 30.75 |  0.47 |    NA |   NA |\n",
       "\n"
      ],
      "text/plain": [
       "          Df Sum Sq Mean Sq F value Pr(>F)\n",
       "SDMT       1 11.68  11.68   24.69   0.00  \n",
       "Vocab      1  0.10   0.10    0.21   0.65  \n",
       "Abstract   1  0.52   0.52    1.11   0.30  \n",
       "Residuals 65 30.75   0.47      NA     NA  "
      ]
     },
     "metadata": {},
     "output_type": "display_data"
    }
   ],
   "source": [
    "round(anova(mlm.all),2)"
   ]
  },
  {
   "cell_type": "code",
   "execution_count": 43,
   "metadata": {},
   "outputs": [
    {
     "data": {
      "text/html": [
       "<table>\n",
       "<caption>A anova: 5 × 4</caption>\n",
       "<thead>\n",
       "\t<tr><th></th><th scope=col>Sum Sq</th><th scope=col>Df</th><th scope=col>F value</th><th scope=col>Pr(&gt;F)</th></tr>\n",
       "\t<tr><th></th><th scope=col>&lt;dbl&gt;</th><th scope=col>&lt;dbl&gt;</th><th scope=col>&lt;dbl&gt;</th><th scope=col>&lt;dbl&gt;</th></tr>\n",
       "</thead>\n",
       "<tbody>\n",
       "\t<tr><th scope=row>(Intercept)</th><td>64.46</td><td> 1</td><td>136.26</td><td>0.00</td></tr>\n",
       "\t<tr><th scope=row>SDMT</th><td> 6.91</td><td> 1</td><td> 14.61</td><td>0.00</td></tr>\n",
       "\t<tr><th scope=row>Vocab</th><td> 0.44</td><td> 1</td><td>  0.93</td><td>0.34</td></tr>\n",
       "\t<tr><th scope=row>Abstract</th><td> 0.52</td><td> 1</td><td>  1.11</td><td>0.30</td></tr>\n",
       "\t<tr><th scope=row>Residuals</th><td>30.75</td><td>65</td><td>    NA</td><td>  NA</td></tr>\n",
       "</tbody>\n",
       "</table>\n"
      ],
      "text/latex": [
       "A anova: 5 × 4\n",
       "\\begin{tabular}{r|llll}\n",
       "  & Sum Sq & Df & F value & Pr(>F)\\\\\n",
       "  & <dbl> & <dbl> & <dbl> & <dbl>\\\\\n",
       "\\hline\n",
       "\t(Intercept) & 64.46 &  1 & 136.26 & 0.00\\\\\n",
       "\tSDMT &  6.91 &  1 &  14.61 & 0.00\\\\\n",
       "\tVocab &  0.44 &  1 &   0.93 & 0.34\\\\\n",
       "\tAbstract &  0.52 &  1 &   1.11 & 0.30\\\\\n",
       "\tResiduals & 30.75 & 65 &     NA &   NA\\\\\n",
       "\\end{tabular}\n"
      ],
      "text/markdown": [
       "\n",
       "A anova: 5 × 4\n",
       "\n",
       "| <!--/--> | Sum Sq &lt;dbl&gt; | Df &lt;dbl&gt; | F value &lt;dbl&gt; | Pr(&gt;F) &lt;dbl&gt; |\n",
       "|---|---|---|---|---|\n",
       "| (Intercept) | 64.46 |  1 | 136.26 | 0.00 |\n",
       "| SDMT |  6.91 |  1 |  14.61 | 0.00 |\n",
       "| Vocab |  0.44 |  1 |   0.93 | 0.34 |\n",
       "| Abstract |  0.52 |  1 |   1.11 | 0.30 |\n",
       "| Residuals | 30.75 | 65 |     NA |   NA |\n",
       "\n"
      ],
      "text/plain": [
       "            Sum Sq Df F value Pr(>F)\n",
       "(Intercept) 64.46   1 136.26  0.00  \n",
       "SDMT         6.91   1  14.61  0.00  \n",
       "Vocab        0.44   1   0.93  0.34  \n",
       "Abstract     0.52   1   1.11  0.30  \n",
       "Residuals   30.75  65     NA    NA  "
      ]
     },
     "metadata": {},
     "output_type": "display_data"
    }
   ],
   "source": [
    "round(Anova(mlm.all, type=3),2)"
   ]
  },
  {
   "cell_type": "markdown",
   "metadata": {},
   "source": [
    "### Try it! Samples\n",
    "#### IQ Size data"
   ]
  },
  {
   "cell_type": "code",
   "execution_count": 45,
   "metadata": {},
   "outputs": [
    {
     "name": "stderr",
     "output_type": "stream",
     "text": [
      "Parsed with column specification:\n",
      "cols(\n",
      "  PIQ = \u001b[32mcol_double()\u001b[39m,\n",
      "  Brain = \u001b[32mcol_double()\u001b[39m,\n",
      "  Height = \u001b[32mcol_double()\u001b[39m,\n",
      "  Weight = \u001b[32mcol_double()\u001b[39m\n",
      ")\n",
      "\n"
     ]
    },
    {
     "data": {
      "text/html": [
       "<table>\n",
       "<caption>A tibble: 6 × 4</caption>\n",
       "<thead>\n",
       "\t<tr><th scope=col>PIQ</th><th scope=col>Brain</th><th scope=col>Height</th><th scope=col>Weight</th></tr>\n",
       "\t<tr><th scope=col>&lt;dbl&gt;</th><th scope=col>&lt;dbl&gt;</th><th scope=col>&lt;dbl&gt;</th><th scope=col>&lt;dbl&gt;</th></tr>\n",
       "</thead>\n",
       "<tbody>\n",
       "\t<tr><td>124</td><td> 81.69</td><td>64.5</td><td>118</td></tr>\n",
       "\t<tr><td>150</td><td>103.84</td><td>73.3</td><td>143</td></tr>\n",
       "\t<tr><td>128</td><td> 96.54</td><td>68.8</td><td>172</td></tr>\n",
       "\t<tr><td>134</td><td> 95.15</td><td>65.0</td><td>147</td></tr>\n",
       "\t<tr><td>110</td><td> 92.88</td><td>69.0</td><td>146</td></tr>\n",
       "\t<tr><td>131</td><td> 99.13</td><td>64.5</td><td>138</td></tr>\n",
       "</tbody>\n",
       "</table>\n"
      ],
      "text/latex": [
       "A tibble: 6 × 4\n",
       "\\begin{tabular}{llll}\n",
       " PIQ & Brain & Height & Weight\\\\\n",
       " <dbl> & <dbl> & <dbl> & <dbl>\\\\\n",
       "\\hline\n",
       "\t 124 &  81.69 & 64.5 & 118\\\\\n",
       "\t 150 & 103.84 & 73.3 & 143\\\\\n",
       "\t 128 &  96.54 & 68.8 & 172\\\\\n",
       "\t 134 &  95.15 & 65.0 & 147\\\\\n",
       "\t 110 &  92.88 & 69.0 & 146\\\\\n",
       "\t 131 &  99.13 & 64.5 & 138\\\\\n",
       "\\end{tabular}\n"
      ],
      "text/markdown": [
       "\n",
       "A tibble: 6 × 4\n",
       "\n",
       "| PIQ &lt;dbl&gt; | Brain &lt;dbl&gt; | Height &lt;dbl&gt; | Weight &lt;dbl&gt; |\n",
       "|---|---|---|---|\n",
       "| 124 |  81.69 | 64.5 | 118 |\n",
       "| 150 | 103.84 | 73.3 | 143 |\n",
       "| 128 |  96.54 | 68.8 | 172 |\n",
       "| 134 |  95.15 | 65.0 | 147 |\n",
       "| 110 |  92.88 | 69.0 | 146 |\n",
       "| 131 |  99.13 | 64.5 | 138 |\n",
       "\n"
      ],
      "text/plain": [
       "  PIQ Brain  Height Weight\n",
       "1 124  81.69 64.5   118   \n",
       "2 150 103.84 73.3   143   \n",
       "3 128  96.54 68.8   172   \n",
       "4 134  95.15 65.0   147   \n",
       "5 110  92.88 69.0   146   \n",
       "6 131  99.13 64.5   138   "
      ]
     },
     "metadata": {},
     "output_type": "display_data"
    }
   ],
   "source": [
    "iq.df <- read_table2(\"STAT501_Lesson01/iqsize.txt\")\n",
    "head(iq.df)"
   ]
  },
  {
   "cell_type": "code",
   "execution_count": 46,
   "metadata": {},
   "outputs": [
    {
     "data": {
      "text/plain": [
       "\n",
       "Call:\n",
       "lm(formula = PIQ ~ Brain, data = iq.df)\n",
       "\n",
       "Residuals:\n",
       "    Min      1Q  Median      3Q     Max \n",
       "-40.077 -17.508  -2.095  17.097  41.571 \n",
       "\n",
       "Coefficients:\n",
       "            Estimate Std. Error t value Pr(>|t|)  \n",
       "(Intercept)   4.6519    43.7118   0.106   0.9158  \n",
       "Brain         1.1766     0.4806   2.448   0.0194 *\n",
       "---\n",
       "Signif. codes:  0 '***' 0.001 '**' 0.01 '*' 0.05 '.' 0.1 ' ' 1\n",
       "\n",
       "Residual standard error: 21.21 on 36 degrees of freedom\n",
       "Multiple R-squared:  0.1427,\tAdjusted R-squared:  0.1189 \n",
       "F-statistic: 5.994 on 1 and 36 DF,  p-value: 0.01935\n"
      ]
     },
     "metadata": {},
     "output_type": "display_data"
    }
   ],
   "source": [
    "slm.br <- lm(PIQ ~ Brain, data=iq.df)\n",
    "summary(slm.br)"
   ]
  },
  {
   "cell_type": "code",
   "execution_count": 48,
   "metadata": {},
   "outputs": [
    {
     "data": {
      "text/html": [
       "<table>\n",
       "<caption>A anova: 2 × 5</caption>\n",
       "<thead>\n",
       "\t<tr><th></th><th scope=col>Df</th><th scope=col>Sum Sq</th><th scope=col>Mean Sq</th><th scope=col>F value</th><th scope=col>Pr(&gt;F)</th></tr>\n",
       "\t<tr><th></th><th scope=col>&lt;dbl&gt;</th><th scope=col>&lt;dbl&gt;</th><th scope=col>&lt;dbl&gt;</th><th scope=col>&lt;dbl&gt;</th><th scope=col>&lt;dbl&gt;</th></tr>\n",
       "</thead>\n",
       "<tbody>\n",
       "\t<tr><th scope=row>Brain</th><td> 1</td><td> 2697.1</td><td>2697.1</td><td> 6</td><td> 0</td></tr>\n",
       "\t<tr><th scope=row>Residuals</th><td>36</td><td>16197.5</td><td> 449.9</td><td>NA</td><td>NA</td></tr>\n",
       "</tbody>\n",
       "</table>\n"
      ],
      "text/latex": [
       "A anova: 2 × 5\n",
       "\\begin{tabular}{r|lllll}\n",
       "  & Df & Sum Sq & Mean Sq & F value & Pr(>F)\\\\\n",
       "  & <dbl> & <dbl> & <dbl> & <dbl> & <dbl>\\\\\n",
       "\\hline\n",
       "\tBrain &  1 &  2697.1 & 2697.1 &  6 &  0\\\\\n",
       "\tResiduals & 36 & 16197.5 &  449.9 & NA & NA\\\\\n",
       "\\end{tabular}\n"
      ],
      "text/markdown": [
       "\n",
       "A anova: 2 × 5\n",
       "\n",
       "| <!--/--> | Df &lt;dbl&gt; | Sum Sq &lt;dbl&gt; | Mean Sq &lt;dbl&gt; | F value &lt;dbl&gt; | Pr(&gt;F) &lt;dbl&gt; |\n",
       "|---|---|---|---|---|---|\n",
       "| Brain |  1 |  2697.1 | 2697.1 |  6 |  0 |\n",
       "| Residuals | 36 | 16197.5 |  449.9 | NA | NA |\n",
       "\n"
      ],
      "text/plain": [
       "          Df Sum Sq  Mean Sq F value Pr(>F)\n",
       "Brain      1  2697.1 2697.1   6       0    \n",
       "Residuals 36 16197.5  449.9  NA      NA    "
      ]
     },
     "metadata": {},
     "output_type": "display_data"
    }
   ],
   "source": [
    "round(anova(slm.br),1)"
   ]
  },
  {
   "cell_type": "markdown",
   "metadata": {},
   "source": [
    "#### 1. Fit the linear regression model with x1 = brain as the only predictor.  \n",
    "What is the value of the error sum of squares, denoted SSE(Brain) since X1(Brain) is the only predictor in the model?  \n",
    "  \n",
    "SSE(Brain) = 16197.5   \n",
    "SSR(Brain) = 2697.1  \n",
    "SST = 2697 + 16197 = 18895  "
   ]
  },
  {
   "cell_type": "markdown",
   "metadata": {},
   "source": [
    "#### 2. Now, fit the linear regression model with the predictors (in order) x1 = brain and x2 = height in the model.  \n"
   ]
  },
  {
   "cell_type": "code",
   "execution_count": 53,
   "metadata": {},
   "outputs": [],
   "source": [
    "mlm.2 <- lm(PIQ ~ Brain + Height, data=iq.df)"
   ]
  },
  {
   "cell_type": "code",
   "execution_count": 52,
   "metadata": {},
   "outputs": [
    {
     "data": {
      "text/html": [
       "<table>\n",
       "<caption>A anova: 3 × 5</caption>\n",
       "<thead>\n",
       "\t<tr><th></th><th scope=col>Df</th><th scope=col>Sum Sq</th><th scope=col>Mean Sq</th><th scope=col>F value</th><th scope=col>Pr(&gt;F)</th></tr>\n",
       "\t<tr><th></th><th scope=col>&lt;dbl&gt;</th><th scope=col>&lt;dbl&gt;</th><th scope=col>&lt;dbl&gt;</th><th scope=col>&lt;dbl&gt;</th><th scope=col>&lt;dbl&gt;</th></tr>\n",
       "</thead>\n",
       "<tbody>\n",
       "\t<tr><th scope=row>Brain</th><td> 1</td><td> 2697.1</td><td>2697.1</td><td>7.1</td><td> 0</td></tr>\n",
       "\t<tr><th scope=row>Height</th><td> 1</td><td> 2875.6</td><td>2875.6</td><td>7.6</td><td> 0</td></tr>\n",
       "\t<tr><th scope=row>Residuals</th><td>35</td><td>13321.8</td><td> 380.6</td><td> NA</td><td>NA</td></tr>\n",
       "</tbody>\n",
       "</table>\n"
      ],
      "text/latex": [
       "A anova: 3 × 5\n",
       "\\begin{tabular}{r|lllll}\n",
       "  & Df & Sum Sq & Mean Sq & F value & Pr(>F)\\\\\n",
       "  & <dbl> & <dbl> & <dbl> & <dbl> & <dbl>\\\\\n",
       "\\hline\n",
       "\tBrain &  1 &  2697.1 & 2697.1 & 7.1 &  0\\\\\n",
       "\tHeight &  1 &  2875.6 & 2875.6 & 7.6 &  0\\\\\n",
       "\tResiduals & 35 & 13321.8 &  380.6 &  NA & NA\\\\\n",
       "\\end{tabular}\n"
      ],
      "text/markdown": [
       "\n",
       "A anova: 3 × 5\n",
       "\n",
       "| <!--/--> | Df &lt;dbl&gt; | Sum Sq &lt;dbl&gt; | Mean Sq &lt;dbl&gt; | F value &lt;dbl&gt; | Pr(&gt;F) &lt;dbl&gt; |\n",
       "|---|---|---|---|---|---|\n",
       "| Brain |  1 |  2697.1 | 2697.1 | 7.1 |  0 |\n",
       "| Height |  1 |  2875.6 | 2875.6 | 7.6 |  0 |\n",
       "| Residuals | 35 | 13321.8 |  380.6 |  NA | NA |\n",
       "\n"
      ],
      "text/plain": [
       "          Df Sum Sq  Mean Sq F value Pr(>F)\n",
       "Brain      1  2697.1 2697.1  7.1      0    \n",
       "Height     1  2875.6 2875.6  7.6      0    \n",
       "Residuals 35 13321.8  380.6   NA     NA    "
      ]
     },
     "metadata": {},
     "output_type": "display_data"
    }
   ],
   "source": [
    "round(anova(mlm.2),1)"
   ]
  },
  {
   "cell_type": "markdown",
   "metadata": {},
   "source": [
    "What is the value of the error sum of squares, denoted SSE(Brain, Height) since x1 and x2 are the only predictors in the model?  \n",
    "What is the value of the regression sum of squares, denoted SSR(Brain, Height) since x1 and x2 are the only predictors in the model?  \n",
    "Confirm that the value of SSTO is unchanged from the previous question.  \n",
    "\n",
    "1. SSE(Brain, Height) = 13321\n",
    "2. SSR(Brain, Height) = 2697 + 2875 = 5573\n",
    "3. SST = SSE + SSR = 13321 + 5573 = 18894. It is unchanged."
   ]
  },
  {
   "cell_type": "markdown",
   "metadata": {},
   "source": [
    "#### 3. Now, let's use the above definitions to calculate the sequential sum of squares of adding X2 to the model in which X1 is the only predictor. We denote this quantity as SSR(X2|X1). (The bar \"|\" is read as \"given.\") According to the alternative definitions:"
   ]
  },
  {
   "cell_type": "markdown",
   "metadata": {},
   "source": [
    "SSR(X2|X1) is the reduction in the error sum of squares when X2 is added to the model in which X1 is the only predictor. That is, SSR(X2|X1)= SSE(X1) – SSE(X1,X2). What is the value of SSR(X2|X1) calculated this way?  \n",
    "\n",
    "SSR(X2|X1) = SSE(X1) - SSE(X1, X2) = 16197.5 - 13321.8 = 2875  \n",
    "SSR(X2|X1) = SSR(X1,X2) - SSR(X1) = 2875.6"
   ]
  },
  {
   "cell_type": "code",
   "execution_count": 57,
   "metadata": {},
   "outputs": [
    {
     "data": {
      "text/html": [
       "<table>\n",
       "<caption>A anova: 3 × 5</caption>\n",
       "<thead>\n",
       "\t<tr><th></th><th scope=col>Df</th><th scope=col>Sum Sq</th><th scope=col>Mean Sq</th><th scope=col>F value</th><th scope=col>Pr(&gt;F)</th></tr>\n",
       "\t<tr><th></th><th scope=col>&lt;dbl&gt;</th><th scope=col>&lt;dbl&gt;</th><th scope=col>&lt;dbl&gt;</th><th scope=col>&lt;dbl&gt;</th><th scope=col>&lt;dbl&gt;</th></tr>\n",
       "</thead>\n",
       "<tbody>\n",
       "\t<tr><th scope=row>Height</th><td> 1</td><td>  164.0</td><td> 164.0</td><td> 0.4</td><td>0.5</td></tr>\n",
       "\t<tr><th scope=row>Brain</th><td> 1</td><td> 5408.8</td><td>5408.8</td><td>14.2</td><td>0.0</td></tr>\n",
       "\t<tr><th scope=row>Residuals</th><td>35</td><td>13321.8</td><td> 380.6</td><td>  NA</td><td> NA</td></tr>\n",
       "</tbody>\n",
       "</table>\n"
      ],
      "text/latex": [
       "A anova: 3 × 5\n",
       "\\begin{tabular}{r|lllll}\n",
       "  & Df & Sum Sq & Mean Sq & F value & Pr(>F)\\\\\n",
       "  & <dbl> & <dbl> & <dbl> & <dbl> & <dbl>\\\\\n",
       "\\hline\n",
       "\tHeight &  1 &   164.0 &  164.0 &  0.4 & 0.5\\\\\n",
       "\tBrain &  1 &  5408.8 & 5408.8 & 14.2 & 0.0\\\\\n",
       "\tResiduals & 35 & 13321.8 &  380.6 &   NA &  NA\\\\\n",
       "\\end{tabular}\n"
      ],
      "text/markdown": [
       "\n",
       "A anova: 3 × 5\n",
       "\n",
       "| <!--/--> | Df &lt;dbl&gt; | Sum Sq &lt;dbl&gt; | Mean Sq &lt;dbl&gt; | F value &lt;dbl&gt; | Pr(&gt;F) &lt;dbl&gt; |\n",
       "|---|---|---|---|---|---|\n",
       "| Height |  1 |   164.0 |  164.0 |  0.4 | 0.5 |\n",
       "| Brain |  1 |  5408.8 | 5408.8 | 14.2 | 0.0 |\n",
       "| Residuals | 35 | 13321.8 |  380.6 |   NA |  NA |\n",
       "\n"
      ],
      "text/plain": [
       "          Df Sum Sq  Mean Sq F value Pr(>F)\n",
       "Height     1   164.0  164.0   0.4    0.5   \n",
       "Brain      1  5408.8 5408.8  14.2    0.0   \n",
       "Residuals 35 13321.8  380.6    NA     NA   "
      ]
     },
     "metadata": {},
     "output_type": "display_data"
    }
   ],
   "source": [
    "## Reoder\n",
    "\n",
    "mlm.5 <- lm(PIQ ~ Height + Brain, data=iq.df)\n",
    "round(anova(mlm.5),1)"
   ]
  },
  {
   "cell_type": "markdown",
   "metadata": {},
   "source": [
    "SSR(X2) = 164  \n",
    "SSR(X1|X2) = 5409  \n",
    "SSR(X1|X2) = SSE(X2) – SSE(X1, X2) = 18731 – 13322 = 5409  \n",
    "SSR(X1|X2) = SSR(X1, X2) – SSR(X2) = 5573 – 164 = 5409  "
   ]
  },
  {
   "cell_type": "code",
   "execution_count": 60,
   "metadata": {},
   "outputs": [
    {
     "data": {
      "text/html": [
       "<table>\n",
       "<caption>A anova: 4 × 5</caption>\n",
       "<thead>\n",
       "\t<tr><th></th><th scope=col>Df</th><th scope=col>Sum Sq</th><th scope=col>Mean Sq</th><th scope=col>F value</th><th scope=col>Pr(&gt;F)</th></tr>\n",
       "\t<tr><th></th><th scope=col>&lt;dbl&gt;</th><th scope=col>&lt;dbl&gt;</th><th scope=col>&lt;dbl&gt;</th><th scope=col>&lt;dbl&gt;</th><th scope=col>&lt;dbl&gt;</th></tr>\n",
       "</thead>\n",
       "<tbody>\n",
       "\t<tr><th scope=row>Brain</th><td> 1</td><td> 2697.1</td><td>2697.1</td><td>6.9</td><td> 0</td></tr>\n",
       "\t<tr><th scope=row>Height</th><td> 1</td><td> 2875.6</td><td>2875.6</td><td>7.3</td><td> 0</td></tr>\n",
       "\t<tr><th scope=row>Weight</th><td> 1</td><td>    0.0</td><td>   0.0</td><td>0.0</td><td> 1</td></tr>\n",
       "\t<tr><th scope=row>Residuals</th><td>34</td><td>13321.8</td><td> 391.8</td><td> NA</td><td>NA</td></tr>\n",
       "</tbody>\n",
       "</table>\n"
      ],
      "text/latex": [
       "A anova: 4 × 5\n",
       "\\begin{tabular}{r|lllll}\n",
       "  & Df & Sum Sq & Mean Sq & F value & Pr(>F)\\\\\n",
       "  & <dbl> & <dbl> & <dbl> & <dbl> & <dbl>\\\\\n",
       "\\hline\n",
       "\tBrain &  1 &  2697.1 & 2697.1 & 6.9 &  0\\\\\n",
       "\tHeight &  1 &  2875.6 & 2875.6 & 7.3 &  0\\\\\n",
       "\tWeight &  1 &     0.0 &    0.0 & 0.0 &  1\\\\\n",
       "\tResiduals & 34 & 13321.8 &  391.8 &  NA & NA\\\\\n",
       "\\end{tabular}\n"
      ],
      "text/markdown": [
       "\n",
       "A anova: 4 × 5\n",
       "\n",
       "| <!--/--> | Df &lt;dbl&gt; | Sum Sq &lt;dbl&gt; | Mean Sq &lt;dbl&gt; | F value &lt;dbl&gt; | Pr(&gt;F) &lt;dbl&gt; |\n",
       "|---|---|---|---|---|---|\n",
       "| Brain |  1 |  2697.1 | 2697.1 | 6.9 |  0 |\n",
       "| Height |  1 |  2875.6 | 2875.6 | 7.3 |  0 |\n",
       "| Weight |  1 |     0.0 |    0.0 | 0.0 |  1 |\n",
       "| Residuals | 34 | 13321.8 |  391.8 |  NA | NA |\n",
       "\n"
      ],
      "text/plain": [
       "          Df Sum Sq  Mean Sq F value Pr(>F)\n",
       "Brain      1  2697.1 2697.1  6.9      0    \n",
       "Height     1  2875.6 2875.6  7.3      0    \n",
       "Weight     1     0.0    0.0  0.0      1    \n",
       "Residuals 34 13321.8  391.8   NA     NA    "
      ]
     },
     "metadata": {},
     "output_type": "display_data"
    }
   ],
   "source": [
    "mlm.all <- lm(PIQ ~ Brain + Height + Weight, data=iq.df)\n",
    "round(anova(mlm.all),1)"
   ]
  },
  {
   "cell_type": "markdown",
   "metadata": {},
   "source": [
    "All of the sequential sums of squares we considered so far are \"one-degree-of-freedom sequential sums of squares,\" because we have only considered the effect of adding one additional predictor variable to a model. We could, however, quantify the effect of adding two additional predictor variables to a model. For example, we might want to know the effect of adding X2 and X3 to a model that already contains X1 as a predictor. The sequential sum of squares SSR(X2,X3|X1) quantifies this effect. It is a \"two-degree-of-freedom sequential sum of squares,\" because it quantifies the effect of adding two additional predictor variables to the model. One-degree-of-freedom sequential sums of squares are used in testing one slope parameter such as H0 : β1 =0, where as two-degree-of-freedom sequential sums of squares are used in testing two slope parameters, such as H0 : β1 = β2 = 0."
   ]
  },
  {
   "cell_type": "markdown",
   "metadata": {},
   "source": [
    "Use either of the two definitions to calculate SSR(X2,X3|X1). That is, calculate SSR(X2,X3|X1) by SSR(X1,X2,X3) – SSR(X1) or by SSE(X1) – SSE(X1,X2,X3).\n"
   ]
  },
  {
   "cell_type": "markdown",
   "metadata": {},
   "source": [
    "SSE(X1) = 16197.5  \n",
    "SSE(X1,X2,X3) = 13321.8  \n",
    "SSE(X1) - SSE(X1,X2,X3) = 2875.7"
   ]
  },
  {
   "cell_type": "markdown",
   "metadata": {},
   "source": [
    "SSR(X1,X2,X3) = 2697 + 2875 + 0 = 5572  \n",
    "SSR(X1) = 2697  \n",
    "SSR(X1,X2,X3) - SSR(X1) = 5572-2697 = 2876  "
   ]
  },
  {
   "cell_type": "code",
   "execution_count": 65,
   "metadata": {},
   "outputs": [
    {
     "data": {
      "text/html": [
       "<table>\n",
       "<caption>A anova: 5 × 4</caption>\n",
       "<thead>\n",
       "\t<tr><th></th><th scope=col>Sum Sq</th><th scope=col>Df</th><th scope=col>F value</th><th scope=col>Pr(&gt;F)</th></tr>\n",
       "\t<tr><th></th><th scope=col>&lt;dbl&gt;</th><th scope=col>&lt;dbl&gt;</th><th scope=col>&lt;dbl&gt;</th><th scope=col>&lt;dbl&gt;</th></tr>\n",
       "</thead>\n",
       "<tbody>\n",
       "\t<tr><th scope=row>(Intercept)</th><td> 1225.2</td><td> 1</td><td> 3.1</td><td>0.1</td></tr>\n",
       "\t<tr><th scope=row>Brain</th><td> 5239.2</td><td> 1</td><td>13.4</td><td>0.0</td></tr>\n",
       "\t<tr><th scope=row>Height</th><td> 1934.7</td><td> 1</td><td> 4.9</td><td>0.0</td></tr>\n",
       "\t<tr><th scope=row>Weight</th><td>    0.0</td><td> 1</td><td> 0.0</td><td>1.0</td></tr>\n",
       "\t<tr><th scope=row>Residuals</th><td>13321.8</td><td>34</td><td>  NA</td><td> NA</td></tr>\n",
       "</tbody>\n",
       "</table>\n"
      ],
      "text/latex": [
       "A anova: 5 × 4\n",
       "\\begin{tabular}{r|llll}\n",
       "  & Sum Sq & Df & F value & Pr(>F)\\\\\n",
       "  & <dbl> & <dbl> & <dbl> & <dbl>\\\\\n",
       "\\hline\n",
       "\t(Intercept) &  1225.2 &  1 &  3.1 & 0.1\\\\\n",
       "\tBrain &  5239.2 &  1 & 13.4 & 0.0\\\\\n",
       "\tHeight &  1934.7 &  1 &  4.9 & 0.0\\\\\n",
       "\tWeight &     0.0 &  1 &  0.0 & 1.0\\\\\n",
       "\tResiduals & 13321.8 & 34 &   NA &  NA\\\\\n",
       "\\end{tabular}\n"
      ],
      "text/markdown": [
       "\n",
       "A anova: 5 × 4\n",
       "\n",
       "| <!--/--> | Sum Sq &lt;dbl&gt; | Df &lt;dbl&gt; | F value &lt;dbl&gt; | Pr(&gt;F) &lt;dbl&gt; |\n",
       "|---|---|---|---|---|\n",
       "| (Intercept) |  1225.2 |  1 |  3.1 | 0.1 |\n",
       "| Brain |  5239.2 |  1 | 13.4 | 0.0 |\n",
       "| Height |  1934.7 |  1 |  4.9 | 0.0 |\n",
       "| Weight |     0.0 |  1 |  0.0 | 1.0 |\n",
       "| Residuals | 13321.8 | 34 |   NA |  NA |\n",
       "\n"
      ],
      "text/plain": [
       "            Sum Sq  Df F value Pr(>F)\n",
       "(Intercept)  1225.2  1  3.1    0.1   \n",
       "Brain        5239.2  1 13.4    0.0   \n",
       "Height       1934.7  1  4.9    0.0   \n",
       "Weight          0.0  1  0.0    1.0   \n",
       "Residuals   13321.8 34   NA     NA   "
      ]
     },
     "metadata": {},
     "output_type": "display_data"
    }
   ],
   "source": [
    "round(Anova(mlm.all, type=3),1)"
   ]
  },
  {
   "cell_type": "markdown",
   "metadata": {},
   "source": [
    "Fit the linear regression model with y = PIQ and (in order) x1 = brain and x2 = height. Verify that the regression sum of squares obtained, SSR(X1,X2), is the sum of the two sequential sum of squares SSR(X1) and SSR(X2|X1). This illustrates how SSR(X1,X2) is \"decomposed\" into a sum of sequential sum of squares."
   ]
  },
  {
   "cell_type": "code",
   "execution_count": 66,
   "metadata": {},
   "outputs": [
    {
     "data": {
      "text/plain": [
       "\n",
       "Call:\n",
       "lm(formula = PIQ ~ Brain + Height, data = iq.df)\n",
       "\n",
       "Coefficients:\n",
       "(Intercept)        Brain       Height  \n",
       "    111.276        2.061       -2.730  \n"
      ]
     },
     "metadata": {},
     "output_type": "display_data"
    }
   ],
   "source": [
    "mlm.2"
   ]
  },
  {
   "cell_type": "code",
   "execution_count": 68,
   "metadata": {},
   "outputs": [
    {
     "data": {
      "text/html": [
       "<table>\n",
       "<caption>A anova: 3 × 5</caption>\n",
       "<thead>\n",
       "\t<tr><th></th><th scope=col>Df</th><th scope=col>Sum Sq</th><th scope=col>Mean Sq</th><th scope=col>F value</th><th scope=col>Pr(&gt;F)</th></tr>\n",
       "\t<tr><th></th><th scope=col>&lt;dbl&gt;</th><th scope=col>&lt;dbl&gt;</th><th scope=col>&lt;dbl&gt;</th><th scope=col>&lt;dbl&gt;</th><th scope=col>&lt;dbl&gt;</th></tr>\n",
       "</thead>\n",
       "<tbody>\n",
       "\t<tr><th scope=row>Brain</th><td> 1</td><td> 2697</td><td>2697</td><td> 7</td><td> 0</td></tr>\n",
       "\t<tr><th scope=row>Height</th><td> 1</td><td> 2876</td><td>2876</td><td> 8</td><td> 0</td></tr>\n",
       "\t<tr><th scope=row>Residuals</th><td>35</td><td>13322</td><td> 381</td><td>NA</td><td>NA</td></tr>\n",
       "</tbody>\n",
       "</table>\n"
      ],
      "text/latex": [
       "A anova: 3 × 5\n",
       "\\begin{tabular}{r|lllll}\n",
       "  & Df & Sum Sq & Mean Sq & F value & Pr(>F)\\\\\n",
       "  & <dbl> & <dbl> & <dbl> & <dbl> & <dbl>\\\\\n",
       "\\hline\n",
       "\tBrain &  1 &  2697 & 2697 &  7 &  0\\\\\n",
       "\tHeight &  1 &  2876 & 2876 &  8 &  0\\\\\n",
       "\tResiduals & 35 & 13322 &  381 & NA & NA\\\\\n",
       "\\end{tabular}\n"
      ],
      "text/markdown": [
       "\n",
       "A anova: 3 × 5\n",
       "\n",
       "| <!--/--> | Df &lt;dbl&gt; | Sum Sq &lt;dbl&gt; | Mean Sq &lt;dbl&gt; | F value &lt;dbl&gt; | Pr(&gt;F) &lt;dbl&gt; |\n",
       "|---|---|---|---|---|---|\n",
       "| Brain |  1 |  2697 | 2697 |  7 |  0 |\n",
       "| Height |  1 |  2876 | 2876 |  8 |  0 |\n",
       "| Residuals | 35 | 13322 |  381 | NA | NA |\n",
       "\n"
      ],
      "text/plain": [
       "          Df Sum Sq Mean Sq F value Pr(>F)\n",
       "Brain      1  2697  2697     7       0    \n",
       "Height     1  2876  2876     8       0    \n",
       "Residuals 35 13322   381    NA      NA    "
      ]
     },
     "metadata": {},
     "output_type": "display_data"
    }
   ],
   "source": [
    "round(anova(mlm.2))"
   ]
  },
  {
   "cell_type": "code",
   "execution_count": 69,
   "metadata": {},
   "outputs": [
    {
     "data": {
      "text/html": [
       "<table>\n",
       "<caption>A anova: 2 × 5</caption>\n",
       "<thead>\n",
       "\t<tr><th></th><th scope=col>Df</th><th scope=col>Sum Sq</th><th scope=col>Mean Sq</th><th scope=col>F value</th><th scope=col>Pr(&gt;F)</th></tr>\n",
       "\t<tr><th></th><th scope=col>&lt;dbl&gt;</th><th scope=col>&lt;dbl&gt;</th><th scope=col>&lt;dbl&gt;</th><th scope=col>&lt;dbl&gt;</th><th scope=col>&lt;dbl&gt;</th></tr>\n",
       "</thead>\n",
       "<tbody>\n",
       "\t<tr><th scope=row>Brain</th><td> 1</td><td> 2697</td><td>2697</td><td> 6</td><td> 0</td></tr>\n",
       "\t<tr><th scope=row>Residuals</th><td>36</td><td>16197</td><td> 450</td><td>NA</td><td>NA</td></tr>\n",
       "</tbody>\n",
       "</table>\n"
      ],
      "text/latex": [
       "A anova: 2 × 5\n",
       "\\begin{tabular}{r|lllll}\n",
       "  & Df & Sum Sq & Mean Sq & F value & Pr(>F)\\\\\n",
       "  & <dbl> & <dbl> & <dbl> & <dbl> & <dbl>\\\\\n",
       "\\hline\n",
       "\tBrain &  1 &  2697 & 2697 &  6 &  0\\\\\n",
       "\tResiduals & 36 & 16197 &  450 & NA & NA\\\\\n",
       "\\end{tabular}\n"
      ],
      "text/markdown": [
       "\n",
       "A anova: 2 × 5\n",
       "\n",
       "| <!--/--> | Df &lt;dbl&gt; | Sum Sq &lt;dbl&gt; | Mean Sq &lt;dbl&gt; | F value &lt;dbl&gt; | Pr(&gt;F) &lt;dbl&gt; |\n",
       "|---|---|---|---|---|---|\n",
       "| Brain |  1 |  2697 | 2697 |  6 |  0 |\n",
       "| Residuals | 36 | 16197 |  450 | NA | NA |\n",
       "\n"
      ],
      "text/plain": [
       "          Df Sum Sq Mean Sq F value Pr(>F)\n",
       "Brain      1  2697  2697     6       0    \n",
       "Residuals 36 16197   450    NA      NA    "
      ]
     },
     "metadata": {},
     "output_type": "display_data"
    }
   ],
   "source": [
    "round(anova(slm.br))"
   ]
  },
  {
   "cell_type": "markdown",
   "metadata": {},
   "source": [
    "SSR(X1, X2) = SSR(X1) + SSR(X2|X1) = 2697 + 2876 = 5573  \n",
    "SSR(X1, X2) = SSR(X2) + SSR(X1|X2) = 164 + 5409 = 5573  "
   ]
  },
  {
   "cell_type": "code",
   "execution_count": 71,
   "metadata": {},
   "outputs": [
    {
     "data": {
      "text/html": [
       "<table>\n",
       "<caption>A anova: 3 × 5</caption>\n",
       "<thead>\n",
       "\t<tr><th></th><th scope=col>Df</th><th scope=col>Sum Sq</th><th scope=col>Mean Sq</th><th scope=col>F value</th><th scope=col>Pr(&gt;F)</th></tr>\n",
       "\t<tr><th></th><th scope=col>&lt;dbl&gt;</th><th scope=col>&lt;dbl&gt;</th><th scope=col>&lt;dbl&gt;</th><th scope=col>&lt;dbl&gt;</th><th scope=col>&lt;dbl&gt;</th></tr>\n",
       "</thead>\n",
       "<tbody>\n",
       "\t<tr><th scope=row>Height</th><td> 1</td><td>  164</td><td> 164</td><td> 0</td><td> 1</td></tr>\n",
       "\t<tr><th scope=row>Brain</th><td> 1</td><td> 5409</td><td>5409</td><td>14</td><td> 0</td></tr>\n",
       "\t<tr><th scope=row>Residuals</th><td>35</td><td>13322</td><td> 381</td><td>NA</td><td>NA</td></tr>\n",
       "</tbody>\n",
       "</table>\n"
      ],
      "text/latex": [
       "A anova: 3 × 5\n",
       "\\begin{tabular}{r|lllll}\n",
       "  & Df & Sum Sq & Mean Sq & F value & Pr(>F)\\\\\n",
       "  & <dbl> & <dbl> & <dbl> & <dbl> & <dbl>\\\\\n",
       "\\hline\n",
       "\tHeight &  1 &   164 &  164 &  0 &  1\\\\\n",
       "\tBrain &  1 &  5409 & 5409 & 14 &  0\\\\\n",
       "\tResiduals & 35 & 13322 &  381 & NA & NA\\\\\n",
       "\\end{tabular}\n"
      ],
      "text/markdown": [
       "\n",
       "A anova: 3 × 5\n",
       "\n",
       "| <!--/--> | Df &lt;dbl&gt; | Sum Sq &lt;dbl&gt; | Mean Sq &lt;dbl&gt; | F value &lt;dbl&gt; | Pr(&gt;F) &lt;dbl&gt; |\n",
       "|---|---|---|---|---|---|\n",
       "| Height |  1 |   164 |  164 |  0 |  1 |\n",
       "| Brain |  1 |  5409 | 5409 | 14 |  0 |\n",
       "| Residuals | 35 | 13322 |  381 | NA | NA |\n",
       "\n"
      ],
      "text/plain": [
       "          Df Sum Sq Mean Sq F value Pr(>F)\n",
       "Height     1   164   164     0       1    \n",
       "Brain      1  5409  5409    14       0    \n",
       "Residuals 35 13322   381    NA      NA    "
      ]
     },
     "metadata": {},
     "output_type": "display_data"
    }
   ],
   "source": [
    "tmp.mlm <- lm(PIQ ~ Height + Brain, data=iq.df)\n",
    "round(anova(tmp.mlm))"
   ]
  },
  {
   "cell_type": "code",
   "execution_count": 74,
   "metadata": {},
   "outputs": [
    {
     "data": {
      "text/html": [
       "<table>\n",
       "<caption>A anova: 2 × 6</caption>\n",
       "<thead>\n",
       "\t<tr><th></th><th scope=col>Res.Df</th><th scope=col>RSS</th><th scope=col>Df</th><th scope=col>Sum of Sq</th><th scope=col>F</th><th scope=col>Pr(&gt;F)</th></tr>\n",
       "\t<tr><th></th><th scope=col>&lt;dbl&gt;</th><th scope=col>&lt;dbl&gt;</th><th scope=col>&lt;dbl&gt;</th><th scope=col>&lt;dbl&gt;</th><th scope=col>&lt;dbl&gt;</th><th scope=col>&lt;dbl&gt;</th></tr>\n",
       "</thead>\n",
       "<tbody>\n",
       "\t<tr><th scope=row>1</th><td>36</td><td>16197</td><td>NA</td><td>  NA</td><td>NA</td><td>NA</td></tr>\n",
       "\t<tr><th scope=row>2</th><td>35</td><td>13322</td><td> 1</td><td>2876</td><td> 8</td><td> 0</td></tr>\n",
       "</tbody>\n",
       "</table>\n"
      ],
      "text/latex": [
       "A anova: 2 × 6\n",
       "\\begin{tabular}{r|llllll}\n",
       "  & Res.Df & RSS & Df & Sum of Sq & F & Pr(>F)\\\\\n",
       "  & <dbl> & <dbl> & <dbl> & <dbl> & <dbl> & <dbl>\\\\\n",
       "\\hline\n",
       "\t1 & 36 & 16197 & NA &   NA & NA & NA\\\\\n",
       "\t2 & 35 & 13322 &  1 & 2876 &  8 &  0\\\\\n",
       "\\end{tabular}\n"
      ],
      "text/markdown": [
       "\n",
       "A anova: 2 × 6\n",
       "\n",
       "| <!--/--> | Res.Df &lt;dbl&gt; | RSS &lt;dbl&gt; | Df &lt;dbl&gt; | Sum of Sq &lt;dbl&gt; | F &lt;dbl&gt; | Pr(&gt;F) &lt;dbl&gt; |\n",
       "|---|---|---|---|---|---|---|\n",
       "| 1 | 36 | 16197 | NA |   NA | NA | NA |\n",
       "| 2 | 35 | 13322 |  1 | 2876 |  8 |  0 |\n",
       "\n"
      ],
      "text/plain": [
       "  Res.Df RSS   Df Sum of Sq F  Pr(>F)\n",
       "1 36     16197 NA   NA      NA NA    \n",
       "2 35     13322  1 2876       8  0    "
      ]
     },
     "metadata": {},
     "output_type": "display_data"
    }
   ],
   "source": [
    "round(anova(slm.br, tmp.mlm)) \n",
    "\n",
    "## RSS residual sum of sq"
   ]
  },
  {
   "cell_type": "code",
   "execution_count": null,
   "metadata": {},
   "outputs": [],
   "source": []
  }
 ],
 "metadata": {
  "kernelspec": {
   "display_name": "R",
   "language": "R",
   "name": "ir"
  },
  "language_info": {
   "codemirror_mode": "r",
   "file_extension": ".r",
   "mimetype": "text/x-r-source",
   "name": "R",
   "pygments_lexer": "r",
   "version": "4.0.2"
  }
 },
 "nbformat": 4,
 "nbformat_minor": 4
}
