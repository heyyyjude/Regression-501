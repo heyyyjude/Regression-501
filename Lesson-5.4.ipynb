{
 "cells": [
  {
   "cell_type": "code",
   "execution_count": 9,
   "metadata": {},
   "outputs": [],
   "source": [
    "pacman::p_load(\"tidyverse\", \"ggpubr\", 'car', 'broom', 'Matrix')"
   ]
  },
  {
   "cell_type": "code",
   "execution_count": 10,
   "metadata": {},
   "outputs": [
    {
     "data": {
      "text/html": [
       "<table>\n",
       "<caption>A matrix: 3 × 2 of type dbl</caption>\n",
       "<tbody>\n",
       "\t<tr><td>1</td><td>5</td></tr>\n",
       "\t<tr><td>4</td><td>8</td></tr>\n",
       "\t<tr><td>7</td><td>9</td></tr>\n",
       "</tbody>\n",
       "</table>\n"
      ],
      "text/latex": [
       "A matrix: 3 × 2 of type dbl\n",
       "\\begin{tabular}{ll}\n",
       "\t 1 & 5\\\\\n",
       "\t 4 & 8\\\\\n",
       "\t 7 & 9\\\\\n",
       "\\end{tabular}\n"
      ],
      "text/markdown": [
       "\n",
       "A matrix: 3 × 2 of type dbl\n",
       "\n",
       "| 1 | 5 |\n",
       "| 4 | 8 |\n",
       "| 7 | 9 |\n",
       "\n"
      ],
      "text/plain": [
       "     [,1] [,2]\n",
       "[1,] 1    5   \n",
       "[2,] 4    8   \n",
       "[3,] 7    9   "
      ]
     },
     "metadata": {},
     "output_type": "display_data"
    }
   ],
   "source": [
    "x <- matrix(c(1,4,7,5,8,9), nrow=3)\n",
    "x"
   ]
  },
  {
   "cell_type": "code",
   "execution_count": 11,
   "metadata": {},
   "outputs": [
    {
     "data": {
      "text/html": [
       "<table>\n",
       "<caption>A matrix: 3 × 3 of type dbl</caption>\n",
       "<tbody>\n",
       "\t<tr><td>26</td><td> 44</td><td> 52</td></tr>\n",
       "\t<tr><td>44</td><td> 80</td><td>100</td></tr>\n",
       "\t<tr><td>52</td><td>100</td><td>130</td></tr>\n",
       "</tbody>\n",
       "</table>\n"
      ],
      "text/latex": [
       "A matrix: 3 × 3 of type dbl\n",
       "\\begin{tabular}{lll}\n",
       "\t 26 &  44 &  52\\\\\n",
       "\t 44 &  80 & 100\\\\\n",
       "\t 52 & 100 & 130\\\\\n",
       "\\end{tabular}\n"
      ],
      "text/markdown": [
       "\n",
       "A matrix: 3 × 3 of type dbl\n",
       "\n",
       "| 26 |  44 |  52 |\n",
       "| 44 |  80 | 100 |\n",
       "| 52 | 100 | 130 |\n",
       "\n"
      ],
      "text/plain": [
       "     [,1] [,2] [,3]\n",
       "[1,] 26    44   52 \n",
       "[2,] 44    80  100 \n",
       "[3,] 52   100  130 "
      ]
     },
     "metadata": {},
     "output_type": "display_data"
    }
   ],
   "source": [
    "x.xt <- x %*% t(x)\n",
    "x.xt"
   ]
  },
  {
   "cell_type": "code",
   "execution_count": 12,
   "metadata": {},
   "outputs": [
    {
     "data": {
      "text/html": [
       "2"
      ],
      "text/latex": [
       "2"
      ],
      "text/markdown": [
       "2"
      ],
      "text/plain": [
       "[1] 2\n",
       "attr(,\"method\")\n",
       "[1] \"tolNorm2\"\n",
       "attr(,\"useGrad\")\n",
       "[1] FALSE\n",
       "attr(,\"tol\")\n",
       "[1] 6.661338e-16"
      ]
     },
     "metadata": {},
     "output_type": "display_data"
    }
   ],
   "source": [
    "rankMatrix(x.xt)"
   ]
  },
  {
   "cell_type": "code",
   "execution_count": 13,
   "metadata": {},
   "outputs": [
    {
     "ename": "ERROR",
     "evalue": "Error in solve.default(x.xt): system is computationally singular: reciprocal condition number = 7.81962e-18\n",
     "output_type": "error",
     "traceback": [
      "Error in solve.default(x.xt): system is computationally singular: reciprocal condition number = 7.81962e-18\nTraceback:\n",
      "1. solve(x.xt)",
      "2. solve(x.xt)",
      "3. solve.default(x.xt)"
     ]
    }
   ],
   "source": [
    "solve(x.xt)"
   ]
  },
  {
   "cell_type": "code",
   "execution_count": 14,
   "metadata": {},
   "outputs": [
    {
     "name": "stderr",
     "output_type": "stream",
     "text": [
      "Parsed with column specification:\n",
      "cols(\n",
      "  Height = \u001b[32mcol_double()\u001b[39m,\n",
      "  momheight = \u001b[32mcol_double()\u001b[39m,\n",
      "  dadheight = \u001b[32mcol_double()\u001b[39m\n",
      ")\n",
      "\n"
     ]
    },
    {
     "data": {
      "text/html": [
       "<table>\n",
       "<caption>A tibble: 6 × 3</caption>\n",
       "<thead>\n",
       "\t<tr><th scope=col>Height</th><th scope=col>momheight</th><th scope=col>dadheight</th></tr>\n",
       "\t<tr><th scope=col>&lt;dbl&gt;</th><th scope=col>&lt;dbl&gt;</th><th scope=col>&lt;dbl&gt;</th></tr>\n",
       "</thead>\n",
       "<tbody>\n",
       "\t<tr><td>66</td><td>66</td><td>71</td></tr>\n",
       "\t<tr><td>64</td><td>62</td><td>68</td></tr>\n",
       "\t<tr><td>64</td><td>65</td><td>70</td></tr>\n",
       "\t<tr><td>69</td><td>66</td><td>76</td></tr>\n",
       "\t<tr><td>66</td><td>63</td><td>70</td></tr>\n",
       "\t<tr><td>63</td><td>61</td><td>68</td></tr>\n",
       "</tbody>\n",
       "</table>\n"
      ],
      "text/latex": [
       "A tibble: 6 × 3\n",
       "\\begin{tabular}{lll}\n",
       " Height & momheight & dadheight\\\\\n",
       " <dbl> & <dbl> & <dbl>\\\\\n",
       "\\hline\n",
       "\t 66 & 66 & 71\\\\\n",
       "\t 64 & 62 & 68\\\\\n",
       "\t 64 & 65 & 70\\\\\n",
       "\t 69 & 66 & 76\\\\\n",
       "\t 66 & 63 & 70\\\\\n",
       "\t 63 & 61 & 68\\\\\n",
       "\\end{tabular}\n"
      ],
      "text/markdown": [
       "\n",
       "A tibble: 6 × 3\n",
       "\n",
       "| Height &lt;dbl&gt; | momheight &lt;dbl&gt; | dadheight &lt;dbl&gt; |\n",
       "|---|---|---|\n",
       "| 66 | 66 | 71 |\n",
       "| 64 | 62 | 68 |\n",
       "| 64 | 65 | 70 |\n",
       "| 69 | 66 | 76 |\n",
       "| 66 | 63 | 70 |\n",
       "| 63 | 61 | 68 |\n",
       "\n"
      ],
      "text/plain": [
       "  Height momheight dadheight\n",
       "1 66     66        71       \n",
       "2 64     62        68       \n",
       "3 64     65        70       \n",
       "4 69     66        76       \n",
       "5 66     63        70       \n",
       "6 63     61        68       "
      ]
     },
     "metadata": {},
     "output_type": "display_data"
    }
   ],
   "source": [
    "\n",
    "\n",
    "## female student\n",
    "fm.df <- read_table2(\"STAT501_Lesson01/stat_females.txt\")\n",
    "head(fm.df)"
   ]
  },
  {
   "cell_type": "code",
   "execution_count": 15,
   "metadata": {},
   "outputs": [
    {
     "data": {
      "text/plain": [
       "\n",
       "Call:\n",
       "lm(formula = Height ~ ., data = fm.df)\n",
       "\n",
       "Residuals:\n",
       "    Min      1Q  Median      3Q     Max \n",
       "-5.2748 -1.5562 -0.0372  1.4721  5.7993 \n",
       "\n",
       "Coefficients:\n",
       "            Estimate Std. Error t value Pr(>|t|)    \n",
       "(Intercept) 18.54725    3.69278   5.023 1.08e-06 ***\n",
       "momheight    0.30351    0.05446   5.573 7.61e-08 ***\n",
       "dadheight    0.38786    0.04721   8.216 2.10e-14 ***\n",
       "---\n",
       "Signif. codes:  0 '***' 0.001 '**' 0.01 '*' 0.05 '.' 0.1 ' ' 1\n",
       "\n",
       "Residual standard error: 2.031 on 211 degrees of freedom\n",
       "Multiple R-squared:  0.4335,\tAdjusted R-squared:  0.4281 \n",
       "F-statistic: 80.73 on 2 and 211 DF,  p-value: < 2.2e-16\n"
      ]
     },
     "metadata": {},
     "output_type": "display_data"
    }
   ],
   "source": [
    "fm.lm <- lm(Height ~ . , data=fm.df)\n",
    "summary(fm.lm)"
   ]
  },
  {
   "cell_type": "code",
   "execution_count": 17,
   "metadata": {},
   "outputs": [
    {
     "data": {
      "text/html": [
       "<table>\n",
       "<caption>A anova: 3 × 5</caption>\n",
       "<thead>\n",
       "\t<tr><th></th><th scope=col>Df</th><th scope=col>Sum Sq</th><th scope=col>Mean Sq</th><th scope=col>F value</th><th scope=col>Pr(&gt;F)</th></tr>\n",
       "\t<tr><th></th><th scope=col>&lt;dbl&gt;</th><th scope=col>&lt;dbl&gt;</th><th scope=col>&lt;dbl&gt;</th><th scope=col>&lt;dbl&gt;</th><th scope=col>&lt;dbl&gt;</th></tr>\n",
       "</thead>\n",
       "<tbody>\n",
       "\t<tr><th scope=row>momheight</th><td>  1</td><td>387.7</td><td>387.7</td><td>94.0</td><td> 0</td></tr>\n",
       "\t<tr><th scope=row>dadheight</th><td>  1</td><td>278.5</td><td>278.5</td><td>67.5</td><td> 0</td></tr>\n",
       "\t<tr><th scope=row>Residuals</th><td>211</td><td>870.5</td><td>  4.1</td><td>  NA</td><td>NA</td></tr>\n",
       "</tbody>\n",
       "</table>\n"
      ],
      "text/latex": [
       "A anova: 3 × 5\n",
       "\\begin{tabular}{r|lllll}\n",
       "  & Df & Sum Sq & Mean Sq & F value & Pr(>F)\\\\\n",
       "  & <dbl> & <dbl> & <dbl> & <dbl> & <dbl>\\\\\n",
       "\\hline\n",
       "\tmomheight &   1 & 387.7 & 387.7 & 94.0 &  0\\\\\n",
       "\tdadheight &   1 & 278.5 & 278.5 & 67.5 &  0\\\\\n",
       "\tResiduals & 211 & 870.5 &   4.1 &   NA & NA\\\\\n",
       "\\end{tabular}\n"
      ],
      "text/markdown": [
       "\n",
       "A anova: 3 × 5\n",
       "\n",
       "| <!--/--> | Df &lt;dbl&gt; | Sum Sq &lt;dbl&gt; | Mean Sq &lt;dbl&gt; | F value &lt;dbl&gt; | Pr(&gt;F) &lt;dbl&gt; |\n",
       "|---|---|---|---|---|---|\n",
       "| momheight |   1 | 387.7 | 387.7 | 94.0 |  0 |\n",
       "| dadheight |   1 | 278.5 | 278.5 | 67.5 |  0 |\n",
       "| Residuals | 211 | 870.5 |   4.1 |   NA | NA |\n",
       "\n"
      ],
      "text/plain": [
       "          Df  Sum Sq Mean Sq F value Pr(>F)\n",
       "momheight   1 387.7  387.7   94.0     0    \n",
       "dadheight   1 278.5  278.5   67.5     0    \n",
       "Residuals 211 870.5    4.1     NA    NA    "
      ]
     },
     "metadata": {},
     "output_type": "display_data"
    }
   ],
   "source": [
    "round(anova(fm.lm),1)"
   ]
  },
  {
   "cell_type": "code",
   "execution_count": 19,
   "metadata": {},
   "outputs": [
    {
     "data": {
      "text/html": [
       "<table>\n",
       "<caption>A anova: 4 × 4</caption>\n",
       "<thead>\n",
       "\t<tr><th></th><th scope=col>Sum Sq</th><th scope=col>Df</th><th scope=col>F value</th><th scope=col>Pr(&gt;F)</th></tr>\n",
       "\t<tr><th></th><th scope=col>&lt;dbl&gt;</th><th scope=col>&lt;dbl&gt;</th><th scope=col>&lt;dbl&gt;</th><th scope=col>&lt;dbl&gt;</th></tr>\n",
       "</thead>\n",
       "<tbody>\n",
       "\t<tr><th scope=row>(Intercept)</th><td>104.1</td><td>  1</td><td>25.2</td><td> 0</td></tr>\n",
       "\t<tr><th scope=row>momheight</th><td>128.1</td><td>  1</td><td>31.1</td><td> 0</td></tr>\n",
       "\t<tr><th scope=row>dadheight</th><td>278.5</td><td>  1</td><td>67.5</td><td> 0</td></tr>\n",
       "\t<tr><th scope=row>Residuals</th><td>870.5</td><td>211</td><td>  NA</td><td>NA</td></tr>\n",
       "</tbody>\n",
       "</table>\n"
      ],
      "text/latex": [
       "A anova: 4 × 4\n",
       "\\begin{tabular}{r|llll}\n",
       "  & Sum Sq & Df & F value & Pr(>F)\\\\\n",
       "  & <dbl> & <dbl> & <dbl> & <dbl>\\\\\n",
       "\\hline\n",
       "\t(Intercept) & 104.1 &   1 & 25.2 &  0\\\\\n",
       "\tmomheight & 128.1 &   1 & 31.1 &  0\\\\\n",
       "\tdadheight & 278.5 &   1 & 67.5 &  0\\\\\n",
       "\tResiduals & 870.5 & 211 &   NA & NA\\\\\n",
       "\\end{tabular}\n"
      ],
      "text/markdown": [
       "\n",
       "A anova: 4 × 4\n",
       "\n",
       "| <!--/--> | Sum Sq &lt;dbl&gt; | Df &lt;dbl&gt; | F value &lt;dbl&gt; | Pr(&gt;F) &lt;dbl&gt; |\n",
       "|---|---|---|---|---|\n",
       "| (Intercept) | 104.1 |   1 | 25.2 |  0 |\n",
       "| momheight | 128.1 |   1 | 31.1 |  0 |\n",
       "| dadheight | 278.5 |   1 | 67.5 |  0 |\n",
       "| Residuals | 870.5 | 211 |   NA | NA |\n",
       "\n"
      ],
      "text/plain": [
       "            Sum Sq Df  F value Pr(>F)\n",
       "(Intercept) 104.1    1 25.2     0    \n",
       "momheight   128.1    1 31.1     0    \n",
       "dadheight   278.5    1 67.5     0    \n",
       "Residuals   870.5  211   NA    NA    "
      ]
     },
     "metadata": {},
     "output_type": "display_data"
    }
   ],
   "source": [
    "round(Anova(fm.lm, type = 3),1)"
   ]
  },
  {
   "cell_type": "code",
   "execution_count": 21,
   "metadata": {},
   "outputs": [
    {
     "data": {
      "text/plain": [
       "\n",
       "Call:\n",
       "lm(formula = Height ~ momheight, data = fm.df)\n",
       "\n",
       "Residuals:\n",
       "    Min      1Q  Median      3Q     Max \n",
       "-4.9600 -1.5015  0.0068  1.5234  6.5566 \n",
       "\n",
       "Coefficients:\n",
       "            Estimate Std. Error t value Pr(>|t|)    \n",
       "(Intercept) 34.02227    3.64058   9.345  < 2e-16 ***\n",
       "momheight    0.48340    0.05716   8.457 4.45e-15 ***\n",
       "---\n",
       "Signif. codes:  0 '***' 0.001 '**' 0.01 '*' 0.05 '.' 0.1 ' ' 1\n",
       "\n",
       "Residual standard error: 2.328 on 212 degrees of freedom\n",
       "Multiple R-squared:  0.2523,\tAdjusted R-squared:  0.2488 \n",
       "F-statistic: 71.53 on 1 and 212 DF,  p-value: 4.446e-15\n"
      ]
     },
     "metadata": {},
     "output_type": "display_data"
    }
   ],
   "source": [
    "fm.lm.mom <- lm(Height ~ momheight, data=fm.df)\n",
    "fm.lm.dad <- lm(Height ~ dadheight, data=fm.df)\n",
    "summary(fm.lm.mom)"
   ]
  },
  {
   "cell_type": "code",
   "execution_count": 22,
   "metadata": {},
   "outputs": [
    {
     "data": {
      "text/plain": [
       "\n",
       "Call:\n",
       "lm(formula = Height ~ dadheight, data = fm.df)\n",
       "\n",
       "Residuals:\n",
       "    Min      1Q  Median      3Q     Max \n",
       "-4.5786 -1.5786 -0.0722  1.4390  5.9406 \n",
       "\n",
       "Coefficients:\n",
       "            Estimate Std. Error t value Pr(>|t|)    \n",
       "(Intercept) 30.51902    3.20941   9.509   <2e-16 ***\n",
       "dadheight    0.49362    0.04619  10.687   <2e-16 ***\n",
       "---\n",
       "Signif. codes:  0 '***' 0.001 '**' 0.01 '*' 0.05 '.' 0.1 ' ' 1\n",
       "\n",
       "Residual standard error: 2.17 on 212 degrees of freedom\n",
       "Multiple R-squared:  0.3501,\tAdjusted R-squared:  0.3471 \n",
       "F-statistic: 114.2 on 1 and 212 DF,  p-value: < 2.2e-16\n"
      ]
     },
     "metadata": {},
     "output_type": "display_data"
    }
   ],
   "source": [
    "summary(fm.lm.dad)"
   ]
  },
  {
   "cell_type": "code",
   "execution_count": 24,
   "metadata": {},
   "outputs": [
    {
     "data": {
      "text/html": [
       "<table>\n",
       "<caption>A anova: 2 × 5</caption>\n",
       "<thead>\n",
       "\t<tr><th></th><th scope=col>Df</th><th scope=col>Sum Sq</th><th scope=col>Mean Sq</th><th scope=col>F value</th><th scope=col>Pr(&gt;F)</th></tr>\n",
       "\t<tr><th></th><th scope=col>&lt;dbl&gt;</th><th scope=col>&lt;dbl&gt;</th><th scope=col>&lt;dbl&gt;</th><th scope=col>&lt;dbl&gt;</th><th scope=col>&lt;dbl&gt;</th></tr>\n",
       "</thead>\n",
       "<tbody>\n",
       "\t<tr><th scope=row>momheight</th><td>  1</td><td> 387.7</td><td>387.7</td><td>71.5</td><td> 0</td></tr>\n",
       "\t<tr><th scope=row>Residuals</th><td>212</td><td>1149.0</td><td>  5.4</td><td>  NA</td><td>NA</td></tr>\n",
       "</tbody>\n",
       "</table>\n"
      ],
      "text/latex": [
       "A anova: 2 × 5\n",
       "\\begin{tabular}{r|lllll}\n",
       "  & Df & Sum Sq & Mean Sq & F value & Pr(>F)\\\\\n",
       "  & <dbl> & <dbl> & <dbl> & <dbl> & <dbl>\\\\\n",
       "\\hline\n",
       "\tmomheight &   1 &  387.7 & 387.7 & 71.5 &  0\\\\\n",
       "\tResiduals & 212 & 1149.0 &   5.4 &   NA & NA\\\\\n",
       "\\end{tabular}\n"
      ],
      "text/markdown": [
       "\n",
       "A anova: 2 × 5\n",
       "\n",
       "| <!--/--> | Df &lt;dbl&gt; | Sum Sq &lt;dbl&gt; | Mean Sq &lt;dbl&gt; | F value &lt;dbl&gt; | Pr(&gt;F) &lt;dbl&gt; |\n",
       "|---|---|---|---|---|---|\n",
       "| momheight |   1 |  387.7 | 387.7 | 71.5 |  0 |\n",
       "| Residuals | 212 | 1149.0 |   5.4 |   NA | NA |\n",
       "\n"
      ],
      "text/plain": [
       "          Df  Sum Sq Mean Sq F value Pr(>F)\n",
       "momheight   1  387.7 387.7   71.5     0    \n",
       "Residuals 212 1149.0   5.4     NA    NA    "
      ]
     },
     "metadata": {},
     "output_type": "display_data"
    }
   ],
   "source": [
    "round(anova(fm.lm.mom),1)"
   ]
  },
  {
   "cell_type": "code",
   "execution_count": 25,
   "metadata": {},
   "outputs": [
    {
     "data": {
      "text/html": [
       "<table>\n",
       "<caption>A anova: 2 × 5</caption>\n",
       "<thead>\n",
       "\t<tr><th></th><th scope=col>Df</th><th scope=col>Sum Sq</th><th scope=col>Mean Sq</th><th scope=col>F value</th><th scope=col>Pr(&gt;F)</th></tr>\n",
       "\t<tr><th></th><th scope=col>&lt;dbl&gt;</th><th scope=col>&lt;dbl&gt;</th><th scope=col>&lt;dbl&gt;</th><th scope=col>&lt;dbl&gt;</th><th scope=col>&lt;dbl&gt;</th></tr>\n",
       "</thead>\n",
       "<tbody>\n",
       "\t<tr><th scope=row>dadheight</th><td>  1</td><td>538.0</td><td>538.0</td><td>114.2</td><td> 0</td></tr>\n",
       "\t<tr><th scope=row>Residuals</th><td>212</td><td>998.6</td><td>  4.7</td><td>   NA</td><td>NA</td></tr>\n",
       "</tbody>\n",
       "</table>\n"
      ],
      "text/latex": [
       "A anova: 2 × 5\n",
       "\\begin{tabular}{r|lllll}\n",
       "  & Df & Sum Sq & Mean Sq & F value & Pr(>F)\\\\\n",
       "  & <dbl> & <dbl> & <dbl> & <dbl> & <dbl>\\\\\n",
       "\\hline\n",
       "\tdadheight &   1 & 538.0 & 538.0 & 114.2 &  0\\\\\n",
       "\tResiduals & 212 & 998.6 &   4.7 &    NA & NA\\\\\n",
       "\\end{tabular}\n"
      ],
      "text/markdown": [
       "\n",
       "A anova: 2 × 5\n",
       "\n",
       "| <!--/--> | Df &lt;dbl&gt; | Sum Sq &lt;dbl&gt; | Mean Sq &lt;dbl&gt; | F value &lt;dbl&gt; | Pr(&gt;F) &lt;dbl&gt; |\n",
       "|---|---|---|---|---|---|\n",
       "| dadheight |   1 | 538.0 | 538.0 | 114.2 |  0 |\n",
       "| Residuals | 212 | 998.6 |   4.7 |    NA | NA |\n",
       "\n"
      ],
      "text/plain": [
       "          Df  Sum Sq Mean Sq F value Pr(>F)\n",
       "dadheight   1 538.0  538.0   114.2    0    \n",
       "Residuals 212 998.6    4.7      NA   NA    "
      ]
     },
     "metadata": {},
     "output_type": "display_data"
    }
   ],
   "source": [
    "round(anova(fm.lm.dad),1)"
   ]
  },
  {
   "cell_type": "code",
   "execution_count": 26,
   "metadata": {},
   "outputs": [
    {
     "data": {
      "text/html": [
       "0.402028276628426"
      ],
      "text/latex": [
       "0.402028276628426"
      ],
      "text/markdown": [
       "0.402028276628426"
      ],
      "text/plain": [
       "[1] 0.4020283"
      ]
     },
     "metadata": {},
     "output_type": "display_data"
    }
   ],
   "source": [
    "cor(fm.df$momheight, fm.df$dadheight)"
   ]
  },
  {
   "cell_type": "code",
   "execution_count": 28,
   "metadata": {},
   "outputs": [],
   "source": [
    "aug <- augment(fm.lm.dad)"
   ]
  },
  {
   "cell_type": "code",
   "execution_count": 33,
   "metadata": {},
   "outputs": [
    {
     "data": {
      "text/html": [
       "<table>\n",
       "<caption>A tibble: 2 × 8</caption>\n",
       "<thead>\n",
       "\t<tr><th scope=col>Height</th><th scope=col>dadheight</th><th scope=col>.fitted</th><th scope=col>.resid</th><th scope=col>.std.resid</th><th scope=col>.hat</th><th scope=col>.sigma</th><th scope=col>.cooksd</th></tr>\n",
       "\t<tr><th scope=col>&lt;dbl&gt;</th><th scope=col>&lt;dbl&gt;</th><th scope=col>&lt;dbl&gt;</th><th scope=col>&lt;dbl&gt;</th><th scope=col>&lt;dbl&gt;</th><th scope=col>&lt;dbl&gt;</th><th scope=col>&lt;dbl&gt;</th><th scope=col>&lt;dbl&gt;</th></tr>\n",
       "</thead>\n",
       "<tbody>\n",
       "\t<tr><td>66</td><td>71</td><td>65.56581</td><td> 0.43419214</td><td> 0.20063978</td><td>0.005812683</td><td>2.175286</td><td>1.176827e-04</td></tr>\n",
       "\t<tr><td>64</td><td>68</td><td>64.08496</td><td>-0.08495765</td><td>-0.03925421</td><td>0.005577785</td><td>2.175484</td><td>4.321490e-06</td></tr>\n",
       "</tbody>\n",
       "</table>\n"
      ],
      "text/latex": [
       "A tibble: 2 × 8\n",
       "\\begin{tabular}{llllllll}\n",
       " Height & dadheight & .fitted & .resid & .std.resid & .hat & .sigma & .cooksd\\\\\n",
       " <dbl> & <dbl> & <dbl> & <dbl> & <dbl> & <dbl> & <dbl> & <dbl>\\\\\n",
       "\\hline\n",
       "\t 66 & 71 & 65.56581 &  0.43419214 &  0.20063978 & 0.005812683 & 2.175286 & 1.176827e-04\\\\\n",
       "\t 64 & 68 & 64.08496 & -0.08495765 & -0.03925421 & 0.005577785 & 2.175484 & 4.321490e-06\\\\\n",
       "\\end{tabular}\n"
      ],
      "text/markdown": [
       "\n",
       "A tibble: 2 × 8\n",
       "\n",
       "| Height &lt;dbl&gt; | dadheight &lt;dbl&gt; | .fitted &lt;dbl&gt; | .resid &lt;dbl&gt; | .std.resid &lt;dbl&gt; | .hat &lt;dbl&gt; | .sigma &lt;dbl&gt; | .cooksd &lt;dbl&gt; |\n",
       "|---|---|---|---|---|---|---|---|\n",
       "| 66 | 71 | 65.56581 |  0.43419214 |  0.20063978 | 0.005812683 | 2.175286 | 1.176827e-04 |\n",
       "| 64 | 68 | 64.08496 | -0.08495765 | -0.03925421 | 0.005577785 | 2.175484 | 4.321490e-06 |\n",
       "\n"
      ],
      "text/plain": [
       "  Height dadheight .fitted  .resid      .std.resid  .hat        .sigma  \n",
       "1 66     71        65.56581  0.43419214  0.20063978 0.005812683 2.175286\n",
       "2 64     68        64.08496 -0.08495765 -0.03925421 0.005577785 2.175484\n",
       "  .cooksd     \n",
       "1 1.176827e-04\n",
       "2 4.321490e-06"
      ]
     },
     "metadata": {},
     "output_type": "display_data"
    }
   ],
   "source": [
    "head(aug,2)"
   ]
  },
  {
   "cell_type": "code",
   "execution_count": 31,
   "metadata": {},
   "outputs": [
    {
     "data": {
      "text/html": [
       "538.032438410591"
      ],
      "text/latex": [
       "538.032438410591"
      ],
      "text/markdown": [
       "538.032438410591"
      ],
      "text/plain": [
       "[1] 538.0324"
      ]
     },
     "metadata": {},
     "output_type": "display_data"
    }
   ],
   "source": [
    "sum((fm.lm.dad$fitted.values - mean(fm.df$Height)) ^2) ## SSR for dad"
   ]
  },
  {
   "cell_type": "code",
   "execution_count": 34,
   "metadata": {},
   "outputs": [
    {
     "data": {
      "text/html": [
       "387.661149880398"
      ],
      "text/latex": [
       "387.661149880398"
      ],
      "text/markdown": [
       "387.661149880398"
      ],
      "text/plain": [
       "[1] 387.6611"
      ]
     },
     "metadata": {},
     "output_type": "display_data"
    }
   ],
   "source": [
    "sum((fm.lm.mom$fitted.values - mean(fm.df$Height)) ^2) ## SSR for mom"
   ]
  },
  {
   "cell_type": "code",
   "execution_count": 37,
   "metadata": {},
   "outputs": [
    {
     "data": {
      "text/html": [
       "<table>\n",
       "<caption>A anova: 3 × 5</caption>\n",
       "<thead>\n",
       "\t<tr><th></th><th scope=col>Df</th><th scope=col>Sum Sq</th><th scope=col>Mean Sq</th><th scope=col>F value</th><th scope=col>Pr(&gt;F)</th></tr>\n",
       "\t<tr><th></th><th scope=col>&lt;dbl&gt;</th><th scope=col>&lt;dbl&gt;</th><th scope=col>&lt;dbl&gt;</th><th scope=col>&lt;dbl&gt;</th><th scope=col>&lt;dbl&gt;</th></tr>\n",
       "</thead>\n",
       "<tbody>\n",
       "\t<tr><th scope=row>dadheight</th><td>  1</td><td>538.0</td><td>538.0</td><td>130.4</td><td> 0</td></tr>\n",
       "\t<tr><th scope=row>momheight</th><td>  1</td><td>128.1</td><td>128.1</td><td> 31.1</td><td> 0</td></tr>\n",
       "\t<tr><th scope=row>Residuals</th><td>211</td><td>870.5</td><td>  4.1</td><td>   NA</td><td>NA</td></tr>\n",
       "</tbody>\n",
       "</table>\n"
      ],
      "text/latex": [
       "A anova: 3 × 5\n",
       "\\begin{tabular}{r|lllll}\n",
       "  & Df & Sum Sq & Mean Sq & F value & Pr(>F)\\\\\n",
       "  & <dbl> & <dbl> & <dbl> & <dbl> & <dbl>\\\\\n",
       "\\hline\n",
       "\tdadheight &   1 & 538.0 & 538.0 & 130.4 &  0\\\\\n",
       "\tmomheight &   1 & 128.1 & 128.1 &  31.1 &  0\\\\\n",
       "\tResiduals & 211 & 870.5 &   4.1 &    NA & NA\\\\\n",
       "\\end{tabular}\n"
      ],
      "text/markdown": [
       "\n",
       "A anova: 3 × 5\n",
       "\n",
       "| <!--/--> | Df &lt;dbl&gt; | Sum Sq &lt;dbl&gt; | Mean Sq &lt;dbl&gt; | F value &lt;dbl&gt; | Pr(&gt;F) &lt;dbl&gt; |\n",
       "|---|---|---|---|---|---|\n",
       "| dadheight |   1 | 538.0 | 538.0 | 130.4 |  0 |\n",
       "| momheight |   1 | 128.1 | 128.1 |  31.1 |  0 |\n",
       "| Residuals | 211 | 870.5 |   4.1 |    NA | NA |\n",
       "\n"
      ],
      "text/plain": [
       "          Df  Sum Sq Mean Sq F value Pr(>F)\n",
       "dadheight   1 538.0  538.0   130.4    0    \n",
       "momheight   1 128.1  128.1    31.1    0    \n",
       "Residuals 211 870.5    4.1      NA   NA    "
      ]
     },
     "metadata": {},
     "output_type": "display_data"
    }
   ],
   "source": [
    "round(anova(lm(Height ~ dadheight + momheight, data=fm.df)),1)"
   ]
  },
  {
   "cell_type": "code",
   "execution_count": null,
   "metadata": {},
   "outputs": [],
   "source": []
  }
 ],
 "metadata": {
  "kernelspec": {
   "display_name": "R",
   "language": "R",
   "name": "ir"
  },
  "language_info": {
   "codemirror_mode": "r",
   "file_extension": ".r",
   "mimetype": "text/x-r-source",
   "name": "R",
   "pygments_lexer": "r",
   "version": "4.0.2"
  }
 },
 "nbformat": 4,
 "nbformat_minor": 4
}
