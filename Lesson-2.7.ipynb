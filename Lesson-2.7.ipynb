{
 "cells": [
  {
   "cell_type": "code",
   "execution_count": 1,
   "metadata": {},
   "outputs": [],
   "source": [
    "pacman::p_load(\"tidyverse\", \"ggpubr\", \"epiDisplay\")\n",
    "set.seed(0)"
   ]
  },
  {
   "cell_type": "code",
   "execution_count": 18,
   "metadata": {},
   "outputs": [
    {
     "data": {
      "text/html": [
       "<table>\n",
       "<caption>A data.frame: 6 × 2</caption>\n",
       "<thead>\n",
       "\t<tr><th></th><th scope=col>Year</th><th scope=col>Men200m</th></tr>\n",
       "\t<tr><th></th><th scope=col>&lt;int&gt;</th><th scope=col>&lt;dbl&gt;</th></tr>\n",
       "</thead>\n",
       "<tbody>\n",
       "\t<tr><th scope=row>1</th><td>1900</td><td>22.2</td></tr>\n",
       "\t<tr><th scope=row>2</th><td>1904</td><td>21.6</td></tr>\n",
       "\t<tr><th scope=row>3</th><td>1908</td><td>22.6</td></tr>\n",
       "\t<tr><th scope=row>4</th><td>1912</td><td>21.7</td></tr>\n",
       "\t<tr><th scope=row>5</th><td>1920</td><td>22.0</td></tr>\n",
       "\t<tr><th scope=row>6</th><td>1924</td><td>21.6</td></tr>\n",
       "</tbody>\n",
       "</table>\n"
      ],
      "text/latex": [
       "A data.frame: 6 × 2\n",
       "\\begin{tabular}{r|ll}\n",
       "  & Year & Men200m\\\\\n",
       "  & <int> & <dbl>\\\\\n",
       "\\hline\n",
       "\t1 & 1900 & 22.2\\\\\n",
       "\t2 & 1904 & 21.6\\\\\n",
       "\t3 & 1908 & 22.6\\\\\n",
       "\t4 & 1912 & 21.7\\\\\n",
       "\t5 & 1920 & 22.0\\\\\n",
       "\t6 & 1924 & 21.6\\\\\n",
       "\\end{tabular}\n"
      ],
      "text/markdown": [
       "\n",
       "A data.frame: 6 × 2\n",
       "\n",
       "| <!--/--> | Year &lt;int&gt; | Men200m &lt;dbl&gt; |\n",
       "|---|---|---|\n",
       "| 1 | 1900 | 22.2 |\n",
       "| 2 | 1904 | 21.6 |\n",
       "| 3 | 1908 | 22.6 |\n",
       "| 4 | 1912 | 21.7 |\n",
       "| 5 | 1920 | 22.0 |\n",
       "| 6 | 1924 | 21.6 |\n",
       "\n"
      ],
      "text/plain": [
       "  Year Men200m\n",
       "1 1900 22.2   \n",
       "2 1904 21.6   \n",
       "3 1908 22.6   \n",
       "4 1912 21.7   \n",
       "5 1920 22.0   \n",
       "6 1924 21.6   "
      ]
     },
     "metadata": {},
     "output_type": "display_data"
    }
   ],
   "source": [
    "df <- read.table(\"STAT501_Lesson01/mens200m.txt\", header = TRUE)\n",
    "head(df)"
   ]
  },
  {
   "cell_type": "code",
   "execution_count": 19,
   "metadata": {},
   "outputs": [
    {
     "data": {
      "image/png": "[encoded data removed]",
      "text/plain": [
       "plot without title"
      ]
     },
     "metadata": {
      "image/png": {
       "height": 420,
       "width": 420
      }
     },
     "output_type": "display_data"
    }
   ],
   "source": [
    "slm <- lm(Men200m ~ Year, data=df)\n",
    "plot(Men200m ~ Year, data=df)\n",
    "abline(slm)"
   ]
  },
  {
   "cell_type": "code",
   "execution_count": 20,
   "metadata": {},
   "outputs": [
    {
     "data": {
      "text/plain": [
       "\n",
       "Call:\n",
       "lm(formula = Men200m ~ Year, data = df)\n",
       "\n",
       "Residuals:\n",
       "     Min       1Q   Median       3Q      Max \n",
       "-0.51154 -0.16441 -0.03034  0.21721  0.60199 \n",
       "\n",
       "Coefficients:\n",
       "             Estimate Std. Error t value Pr(>|t|)    \n",
       "(Intercept) 76.153369   4.152226   18.34 5.61e-14 ***\n",
       "Year        -0.028383   0.002129  -13.33 2.07e-11 ***\n",
       "---\n",
       "Signif. codes:  0 '***' 0.001 '**' 0.01 '*' 0.05 '.' 0.1 ' ' 1\n",
       "\n",
       "Residual standard error: 0.2981 on 20 degrees of freedom\n",
       "Multiple R-squared:  0.8988,\tAdjusted R-squared:  0.8938 \n",
       "F-statistic: 177.7 on 1 and 20 DF,  p-value: 2.074e-11\n"
      ]
     },
     "metadata": {},
     "output_type": "display_data"
    }
   ],
   "source": [
    "summary(slm)"
   ]
  },
  {
   "cell_type": "code",
   "execution_count": 21,
   "metadata": {},
   "outputs": [
    {
     "data": {
      "text/html": [
       "<table>\n",
       "<caption>A anova: 2 × 5</caption>\n",
       "<thead>\n",
       "\t<tr><th></th><th scope=col>Df</th><th scope=col>Sum Sq</th><th scope=col>Mean Sq</th><th scope=col>F value</th><th scope=col>Pr(&gt;F)</th></tr>\n",
       "\t<tr><th></th><th scope=col>&lt;int&gt;</th><th scope=col>&lt;dbl&gt;</th><th scope=col>&lt;dbl&gt;</th><th scope=col>&lt;dbl&gt;</th><th scope=col>&lt;dbl&gt;</th></tr>\n",
       "</thead>\n",
       "<tbody>\n",
       "\t<tr><th scope=row>Year</th><td> 1</td><td>15.796449</td><td>15.79644898</td><td>177.7195</td><td>2.073783e-11</td></tr>\n",
       "\t<tr><th scope=row>Residuals</th><td>20</td><td> 1.777683</td><td> 0.08888414</td><td>      NA</td><td>          NA</td></tr>\n",
       "</tbody>\n",
       "</table>\n"
      ],
      "text/latex": [
       "A anova: 2 × 5\n",
       "\\begin{tabular}{r|lllll}\n",
       "  & Df & Sum Sq & Mean Sq & F value & Pr(>F)\\\\\n",
       "  & <int> & <dbl> & <dbl> & <dbl> & <dbl>\\\\\n",
       "\\hline\n",
       "\tYear &  1 & 15.796449 & 15.79644898 & 177.7195 & 2.073783e-11\\\\\n",
       "\tResiduals & 20 &  1.777683 &  0.08888414 &       NA &           NA\\\\\n",
       "\\end{tabular}\n"
      ],
      "text/markdown": [
       "\n",
       "A anova: 2 × 5\n",
       "\n",
       "| <!--/--> | Df &lt;int&gt; | Sum Sq &lt;dbl&gt; | Mean Sq &lt;dbl&gt; | F value &lt;dbl&gt; | Pr(&gt;F) &lt;dbl&gt; |\n",
       "|---|---|---|---|---|---|\n",
       "| Year |  1 | 15.796449 | 15.79644898 | 177.7195 | 2.073783e-11 |\n",
       "| Residuals | 20 |  1.777683 |  0.08888414 |       NA |           NA |\n",
       "\n"
      ],
      "text/plain": [
       "          Df Sum Sq    Mean Sq     F value  Pr(>F)      \n",
       "Year       1 15.796449 15.79644898 177.7195 2.073783e-11\n",
       "Residuals 20  1.777683  0.08888414       NA           NA"
      ]
     },
     "metadata": {},
     "output_type": "display_data"
    }
   ],
   "source": [
    "anova(slm)"
   ]
  },
  {
   "cell_type": "code",
   "execution_count": 22,
   "metadata": {},
   "outputs": [
    {
     "data": {
      "text/html": [
       "<table>\n",
       "<caption>A data.frame: 6 × 3</caption>\n",
       "<thead>\n",
       "\t<tr><th></th><th scope=col>Year</th><th scope=col>Men200m</th><th scope=col>m200.mean</th></tr>\n",
       "\t<tr><th></th><th scope=col>&lt;int&gt;</th><th scope=col>&lt;dbl&gt;</th><th scope=col>&lt;dbl&gt;</th></tr>\n",
       "</thead>\n",
       "<tbody>\n",
       "\t<tr><th scope=row>1</th><td>1900</td><td>22.2</td><td>20.80591</td></tr>\n",
       "\t<tr><th scope=row>2</th><td>1904</td><td>21.6</td><td>20.80591</td></tr>\n",
       "\t<tr><th scope=row>3</th><td>1908</td><td>22.6</td><td>20.80591</td></tr>\n",
       "\t<tr><th scope=row>4</th><td>1912</td><td>21.7</td><td>20.80591</td></tr>\n",
       "\t<tr><th scope=row>5</th><td>1920</td><td>22.0</td><td>20.80591</td></tr>\n",
       "\t<tr><th scope=row>6</th><td>1924</td><td>21.6</td><td>20.80591</td></tr>\n",
       "</tbody>\n",
       "</table>\n"
      ],
      "text/latex": [
       "A data.frame: 6 × 3\n",
       "\\begin{tabular}{r|lll}\n",
       "  & Year & Men200m & m200.mean\\\\\n",
       "  & <int> & <dbl> & <dbl>\\\\\n",
       "\\hline\n",
       "\t1 & 1900 & 22.2 & 20.80591\\\\\n",
       "\t2 & 1904 & 21.6 & 20.80591\\\\\n",
       "\t3 & 1908 & 22.6 & 20.80591\\\\\n",
       "\t4 & 1912 & 21.7 & 20.80591\\\\\n",
       "\t5 & 1920 & 22.0 & 20.80591\\\\\n",
       "\t6 & 1924 & 21.6 & 20.80591\\\\\n",
       "\\end{tabular}\n"
      ],
      "text/markdown": [
       "\n",
       "A data.frame: 6 × 3\n",
       "\n",
       "| <!--/--> | Year &lt;int&gt; | Men200m &lt;dbl&gt; | m200.mean &lt;dbl&gt; |\n",
       "|---|---|---|---|\n",
       "| 1 | 1900 | 22.2 | 20.80591 |\n",
       "| 2 | 1904 | 21.6 | 20.80591 |\n",
       "| 3 | 1908 | 22.6 | 20.80591 |\n",
       "| 4 | 1912 | 21.7 | 20.80591 |\n",
       "| 5 | 1920 | 22.0 | 20.80591 |\n",
       "| 6 | 1924 | 21.6 | 20.80591 |\n",
       "\n"
      ],
      "text/plain": [
       "  Year Men200m m200.mean\n",
       "1 1900 22.2    20.80591 \n",
       "2 1904 21.6    20.80591 \n",
       "3 1908 22.6    20.80591 \n",
       "4 1912 21.7    20.80591 \n",
       "5 1920 22.0    20.80591 \n",
       "6 1924 21.6    20.80591 "
      ]
     },
     "metadata": {},
     "output_type": "display_data"
    }
   ],
   "source": [
    "df$m200.mean <- mean(df$Men200m)\n",
    "head(df)"
   ]
  },
  {
   "cell_type": "code",
   "execution_count": 23,
   "metadata": {},
   "outputs": [
    {
     "data": {
      "text/html": [
       "<table>\n",
       "<caption>A data.frame: 6 × 4</caption>\n",
       "<thead>\n",
       "\t<tr><th></th><th scope=col>Year</th><th scope=col>Men200m</th><th scope=col>m200.mean</th><th scope=col>fitted</th></tr>\n",
       "\t<tr><th></th><th scope=col>&lt;int&gt;</th><th scope=col>&lt;dbl&gt;</th><th scope=col>&lt;dbl&gt;</th><th scope=col>&lt;dbl&gt;</th></tr>\n",
       "</thead>\n",
       "<tbody>\n",
       "\t<tr><th scope=row>1</th><td>1900</td><td>22.2</td><td>20.80591</td><td>22.22507</td></tr>\n",
       "\t<tr><th scope=row>2</th><td>1904</td><td>21.6</td><td>20.80591</td><td>22.11154</td></tr>\n",
       "\t<tr><th scope=row>3</th><td>1908</td><td>22.6</td><td>20.80591</td><td>21.99801</td></tr>\n",
       "\t<tr><th scope=row>4</th><td>1912</td><td>21.7</td><td>20.80591</td><td>21.88447</td></tr>\n",
       "\t<tr><th scope=row>5</th><td>1920</td><td>22.0</td><td>20.80591</td><td>21.65741</td></tr>\n",
       "\t<tr><th scope=row>6</th><td>1924</td><td>21.6</td><td>20.80591</td><td>21.54388</td></tr>\n",
       "</tbody>\n",
       "</table>\n"
      ],
      "text/latex": [
       "A data.frame: 6 × 4\n",
       "\\begin{tabular}{r|llll}\n",
       "  & Year & Men200m & m200.mean & fitted\\\\\n",
       "  & <int> & <dbl> & <dbl> & <dbl>\\\\\n",
       "\\hline\n",
       "\t1 & 1900 & 22.2 & 20.80591 & 22.22507\\\\\n",
       "\t2 & 1904 & 21.6 & 20.80591 & 22.11154\\\\\n",
       "\t3 & 1908 & 22.6 & 20.80591 & 21.99801\\\\\n",
       "\t4 & 1912 & 21.7 & 20.80591 & 21.88447\\\\\n",
       "\t5 & 1920 & 22.0 & 20.80591 & 21.65741\\\\\n",
       "\t6 & 1924 & 21.6 & 20.80591 & 21.54388\\\\\n",
       "\\end{tabular}\n"
      ],
      "text/markdown": [
       "\n",
       "A data.frame: 6 × 4\n",
       "\n",
       "| <!--/--> | Year &lt;int&gt; | Men200m &lt;dbl&gt; | m200.mean &lt;dbl&gt; | fitted &lt;dbl&gt; |\n",
       "|---|---|---|---|---|\n",
       "| 1 | 1900 | 22.2 | 20.80591 | 22.22507 |\n",
       "| 2 | 1904 | 21.6 | 20.80591 | 22.11154 |\n",
       "| 3 | 1908 | 22.6 | 20.80591 | 21.99801 |\n",
       "| 4 | 1912 | 21.7 | 20.80591 | 21.88447 |\n",
       "| 5 | 1920 | 22.0 | 20.80591 | 21.65741 |\n",
       "| 6 | 1924 | 21.6 | 20.80591 | 21.54388 |\n",
       "\n"
      ],
      "text/plain": [
       "  Year Men200m m200.mean fitted  \n",
       "1 1900 22.2    20.80591  22.22507\n",
       "2 1904 21.6    20.80591  22.11154\n",
       "3 1908 22.6    20.80591  21.99801\n",
       "4 1912 21.7    20.80591  21.88447\n",
       "5 1920 22.0    20.80591  21.65741\n",
       "6 1924 21.6    20.80591  21.54388"
      ]
     },
     "metadata": {},
     "output_type": "display_data"
    }
   ],
   "source": [
    "df$fitted <- slm$fitted.values\n",
    "head(df)"
   ]
  },
  {
   "cell_type": "code",
   "execution_count": 24,
   "metadata": {},
   "outputs": [
    {
     "data": {
      "text/html": [
       "<table>\n",
       "<caption>A data.frame: 6 × 5</caption>\n",
       "<thead>\n",
       "\t<tr><th></th><th scope=col>Year</th><th scope=col>Men200m</th><th scope=col>m200.mean</th><th scope=col>fitted</th><th scope=col>sst</th></tr>\n",
       "\t<tr><th></th><th scope=col>&lt;int&gt;</th><th scope=col>&lt;dbl&gt;</th><th scope=col>&lt;dbl&gt;</th><th scope=col>&lt;dbl&gt;</th><th scope=col>&lt;dbl&gt;</th></tr>\n",
       "</thead>\n",
       "<tbody>\n",
       "\t<tr><th scope=row>1</th><td>1900</td><td>22.2</td><td>20.80591</td><td>22.22507</td><td>1.3940909</td></tr>\n",
       "\t<tr><th scope=row>2</th><td>1904</td><td>21.6</td><td>20.80591</td><td>22.11154</td><td>0.7940909</td></tr>\n",
       "\t<tr><th scope=row>3</th><td>1908</td><td>22.6</td><td>20.80591</td><td>21.99801</td><td>1.7940909</td></tr>\n",
       "\t<tr><th scope=row>4</th><td>1912</td><td>21.7</td><td>20.80591</td><td>21.88447</td><td>0.8940909</td></tr>\n",
       "\t<tr><th scope=row>5</th><td>1920</td><td>22.0</td><td>20.80591</td><td>21.65741</td><td>1.1940909</td></tr>\n",
       "\t<tr><th scope=row>6</th><td>1924</td><td>21.6</td><td>20.80591</td><td>21.54388</td><td>0.7940909</td></tr>\n",
       "</tbody>\n",
       "</table>\n"
      ],
      "text/latex": [
       "A data.frame: 6 × 5\n",
       "\\begin{tabular}{r|lllll}\n",
       "  & Year & Men200m & m200.mean & fitted & sst\\\\\n",
       "  & <int> & <dbl> & <dbl> & <dbl> & <dbl>\\\\\n",
       "\\hline\n",
       "\t1 & 1900 & 22.2 & 20.80591 & 22.22507 & 1.3940909\\\\\n",
       "\t2 & 1904 & 21.6 & 20.80591 & 22.11154 & 0.7940909\\\\\n",
       "\t3 & 1908 & 22.6 & 20.80591 & 21.99801 & 1.7940909\\\\\n",
       "\t4 & 1912 & 21.7 & 20.80591 & 21.88447 & 0.8940909\\\\\n",
       "\t5 & 1920 & 22.0 & 20.80591 & 21.65741 & 1.1940909\\\\\n",
       "\t6 & 1924 & 21.6 & 20.80591 & 21.54388 & 0.7940909\\\\\n",
       "\\end{tabular}\n"
      ],
      "text/markdown": [
       "\n",
       "A data.frame: 6 × 5\n",
       "\n",
       "| <!--/--> | Year &lt;int&gt; | Men200m &lt;dbl&gt; | m200.mean &lt;dbl&gt; | fitted &lt;dbl&gt; | sst &lt;dbl&gt; |\n",
       "|---|---|---|---|---|---|\n",
       "| 1 | 1900 | 22.2 | 20.80591 | 22.22507 | 1.3940909 |\n",
       "| 2 | 1904 | 21.6 | 20.80591 | 22.11154 | 0.7940909 |\n",
       "| 3 | 1908 | 22.6 | 20.80591 | 21.99801 | 1.7940909 |\n",
       "| 4 | 1912 | 21.7 | 20.80591 | 21.88447 | 0.8940909 |\n",
       "| 5 | 1920 | 22.0 | 20.80591 | 21.65741 | 1.1940909 |\n",
       "| 6 | 1924 | 21.6 | 20.80591 | 21.54388 | 0.7940909 |\n",
       "\n"
      ],
      "text/plain": [
       "  Year Men200m m200.mean fitted   sst      \n",
       "1 1900 22.2    20.80591  22.22507 1.3940909\n",
       "2 1904 21.6    20.80591  22.11154 0.7940909\n",
       "3 1908 22.6    20.80591  21.99801 1.7940909\n",
       "4 1912 21.7    20.80591  21.88447 0.8940909\n",
       "5 1920 22.0    20.80591  21.65741 1.1940909\n",
       "6 1924 21.6    20.80591  21.54388 0.7940909"
      ]
     },
     "metadata": {},
     "output_type": "display_data"
    }
   ],
   "source": [
    "df$sst <- df$Men200m - df$m200\n",
    "head(df)"
   ]
  },
  {
   "cell_type": "code",
   "execution_count": 25,
   "metadata": {},
   "outputs": [
    {
     "data": {
      "text/html": [
       "17.5741318181818"
      ],
      "text/latex": [
       "17.5741318181818"
      ],
      "text/markdown": [
       "17.5741318181818"
      ],
      "text/plain": [
       "[1] 17.57413"
      ]
     },
     "metadata": {},
     "output_type": "display_data"
    }
   ],
   "source": [
    "## SST\n",
    "sum((df$sst)^2)"
   ]
  },
  {
   "cell_type": "code",
   "execution_count": 26,
   "metadata": {},
   "outputs": [
    {
     "data": {
      "text/html": [
       "15.7964489800082"
      ],
      "text/latex": [
       "15.7964489800082"
      ],
      "text/markdown": [
       "15.7964489800082"
      ],
      "text/plain": [
       "[1] 15.79645"
      ]
     },
     "metadata": {},
     "output_type": "display_data"
    },
    {
     "data": {
      "text/html": [
       "15.7964489800082"
      ],
      "text/latex": [
       "15.7964489800082"
      ],
      "text/markdown": [
       "15.7964489800082"
      ],
      "text/plain": [
       "[1] 15.79645"
      ]
     },
     "metadata": {},
     "output_type": "display_data"
    }
   ],
   "source": [
    "## SSR\n",
    "df$ssr <- df$fitted - df$m200.mean\n",
    "sum((df$fitted - df$m200.mean)^2 )\n",
    "sum(df$ssr ^2)"
   ]
  },
  {
   "cell_type": "code",
   "execution_count": 27,
   "metadata": {},
   "outputs": [
    {
     "data": {
      "text/html": [
       "1.77768283817367"
      ],
      "text/latex": [
       "1.77768283817367"
      ],
      "text/markdown": [
       "1.77768283817367"
      ],
      "text/plain": [
       "[1] 1.777683"
      ]
     },
     "metadata": {},
     "output_type": "display_data"
    }
   ],
   "source": [
    "## SSE\n",
    "sum ((df$Men200m - df$fitted)^2)"
   ]
  },
  {
   "cell_type": "code",
   "execution_count": null,
   "metadata": {},
   "outputs": [],
   "source": []
  }
 ],
 "metadata": {
  "kernelspec": {
   "display_name": "R",
   "language": "R",
   "name": "ir"
  },
  "language_info": {
   "codemirror_mode": "r",
   "file_extension": ".r",
   "mimetype": "text/x-r-source",
   "name": "R",
   "pygments_lexer": "r",
   "version": "4.0.2"
  }
 },
 "nbformat": 4,
 "nbformat_minor": 4
}
