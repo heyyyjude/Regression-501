{
 "cells": [
  {
   "cell_type": "code",
   "execution_count": 1,
   "metadata": {},
   "outputs": [],
   "source": [
    "pacman::p_load(\"tidyverse\", \"ggpubr\", 'car')"
   ]
  },
  {
   "cell_type": "code",
   "execution_count": 2,
   "metadata": {},
   "outputs": [
    {
     "name": "stderr",
     "output_type": "stream",
     "text": [
      "Parsed with column specification:\n",
      "cols(\n",
      "  PIQ = \u001b[32mcol_double()\u001b[39m,\n",
      "  Brain = \u001b[32mcol_double()\u001b[39m,\n",
      "  Height = \u001b[32mcol_double()\u001b[39m,\n",
      "  Weight = \u001b[32mcol_double()\u001b[39m\n",
      ")\n",
      "\n"
     ]
    },
    {
     "data": {
      "text/html": [
       "<table>\n",
       "<caption>A tibble: 6 × 4</caption>\n",
       "<thead>\n",
       "\t<tr><th scope=col>PIQ</th><th scope=col>Brain</th><th scope=col>Height</th><th scope=col>Weight</th></tr>\n",
       "\t<tr><th scope=col>&lt;dbl&gt;</th><th scope=col>&lt;dbl&gt;</th><th scope=col>&lt;dbl&gt;</th><th scope=col>&lt;dbl&gt;</th></tr>\n",
       "</thead>\n",
       "<tbody>\n",
       "\t<tr><td>124</td><td> 81.69</td><td>64.5</td><td>118</td></tr>\n",
       "\t<tr><td>150</td><td>103.84</td><td>73.3</td><td>143</td></tr>\n",
       "\t<tr><td>128</td><td> 96.54</td><td>68.8</td><td>172</td></tr>\n",
       "\t<tr><td>134</td><td> 95.15</td><td>65.0</td><td>147</td></tr>\n",
       "\t<tr><td>110</td><td> 92.88</td><td>69.0</td><td>146</td></tr>\n",
       "\t<tr><td>131</td><td> 99.13</td><td>64.5</td><td>138</td></tr>\n",
       "</tbody>\n",
       "</table>\n"
      ],
      "text/latex": [
       "A tibble: 6 × 4\n",
       "\\begin{tabular}{llll}\n",
       " PIQ & Brain & Height & Weight\\\\\n",
       " <dbl> & <dbl> & <dbl> & <dbl>\\\\\n",
       "\\hline\n",
       "\t 124 &  81.69 & 64.5 & 118\\\\\n",
       "\t 150 & 103.84 & 73.3 & 143\\\\\n",
       "\t 128 &  96.54 & 68.8 & 172\\\\\n",
       "\t 134 &  95.15 & 65.0 & 147\\\\\n",
       "\t 110 &  92.88 & 69.0 & 146\\\\\n",
       "\t 131 &  99.13 & 64.5 & 138\\\\\n",
       "\\end{tabular}\n"
      ],
      "text/markdown": [
       "\n",
       "A tibble: 6 × 4\n",
       "\n",
       "| PIQ &lt;dbl&gt; | Brain &lt;dbl&gt; | Height &lt;dbl&gt; | Weight &lt;dbl&gt; |\n",
       "|---|---|---|---|\n",
       "| 124 |  81.69 | 64.5 | 118 |\n",
       "| 150 | 103.84 | 73.3 | 143 |\n",
       "| 128 |  96.54 | 68.8 | 172 |\n",
       "| 134 |  95.15 | 65.0 | 147 |\n",
       "| 110 |  92.88 | 69.0 | 146 |\n",
       "| 131 |  99.13 | 64.5 | 138 |\n",
       "\n"
      ],
      "text/plain": [
       "  PIQ Brain  Height Weight\n",
       "1 124  81.69 64.5   118   \n",
       "2 150 103.84 73.3   143   \n",
       "3 128  96.54 68.8   172   \n",
       "4 134  95.15 65.0   147   \n",
       "5 110  92.88 69.0   146   \n",
       "6 131  99.13 64.5   138   "
      ]
     },
     "metadata": {},
     "output_type": "display_data"
    }
   ],
   "source": [
    "df <- read_table2(\"STAT501_Lesson01/iqsize.txt\")\n",
    "head(df)"
   ]
  },
  {
   "cell_type": "code",
   "execution_count": 3,
   "metadata": {},
   "outputs": [
    {
     "data": {
      "text/plain": [
       "\n",
       "Call:\n",
       "lm(formula = PIQ ~ Brain + Height, data = df)\n",
       "\n",
       "Residuals:\n",
       "    Min      1Q  Median      3Q     Max \n",
       "-32.750 -12.090  -3.841  14.174  51.690 \n",
       "\n",
       "Coefficients:\n",
       "            Estimate Std. Error t value Pr(>|t|)    \n",
       "(Intercept) 111.2757    55.8673   1.992 0.054243 .  \n",
       "Brain         2.0606     0.5466   3.770 0.000604 ***\n",
       "Height       -2.7299     0.9932  -2.749 0.009399 ** \n",
       "---\n",
       "Signif. codes:  0 '***' 0.001 '**' 0.01 '*' 0.05 '.' 0.1 ' ' 1\n",
       "\n",
       "Residual standard error: 19.51 on 35 degrees of freedom\n",
       "Multiple R-squared:  0.2949,\tAdjusted R-squared:  0.2546 \n",
       "F-statistic: 7.321 on 2 and 35 DF,  p-value: 0.002208\n"
      ]
     },
     "metadata": {},
     "output_type": "display_data"
    }
   ],
   "source": [
    "slm <- lm(PIQ ~ Brain + Height, data= df)\n",
    "summary(slm)"
   ]
  },
  {
   "cell_type": "code",
   "execution_count": 4,
   "metadata": {},
   "outputs": [
    {
     "data": {
      "text/html": [
       "<table>\n",
       "<caption>A anova: 3 × 5</caption>\n",
       "<thead>\n",
       "\t<tr><th></th><th scope=col>Df</th><th scope=col>Sum Sq</th><th scope=col>Mean Sq</th><th scope=col>F value</th><th scope=col>Pr(&gt;F)</th></tr>\n",
       "\t<tr><th></th><th scope=col>&lt;dbl&gt;</th><th scope=col>&lt;dbl&gt;</th><th scope=col>&lt;dbl&gt;</th><th scope=col>&lt;dbl&gt;</th><th scope=col>&lt;dbl&gt;</th></tr>\n",
       "</thead>\n",
       "<tbody>\n",
       "\t<tr><th scope=row>Brain</th><td> 1</td><td> 2697.09</td><td>2697.09</td><td>7.09</td><td>0.01</td></tr>\n",
       "\t<tr><th scope=row>Height</th><td> 1</td><td> 2875.65</td><td>2875.65</td><td>7.56</td><td>0.01</td></tr>\n",
       "\t<tr><th scope=row>Residuals</th><td>35</td><td>13321.81</td><td> 380.62</td><td>  NA</td><td>  NA</td></tr>\n",
       "</tbody>\n",
       "</table>\n"
      ],
      "text/latex": [
       "A anova: 3 × 5\n",
       "\\begin{tabular}{r|lllll}\n",
       "  & Df & Sum Sq & Mean Sq & F value & Pr(>F)\\\\\n",
       "  & <dbl> & <dbl> & <dbl> & <dbl> & <dbl>\\\\\n",
       "\\hline\n",
       "\tBrain &  1 &  2697.09 & 2697.09 & 7.09 & 0.01\\\\\n",
       "\tHeight &  1 &  2875.65 & 2875.65 & 7.56 & 0.01\\\\\n",
       "\tResiduals & 35 & 13321.81 &  380.62 &   NA &   NA\\\\\n",
       "\\end{tabular}\n"
      ],
      "text/markdown": [
       "\n",
       "A anova: 3 × 5\n",
       "\n",
       "| <!--/--> | Df &lt;dbl&gt; | Sum Sq &lt;dbl&gt; | Mean Sq &lt;dbl&gt; | F value &lt;dbl&gt; | Pr(&gt;F) &lt;dbl&gt; |\n",
       "|---|---|---|---|---|---|\n",
       "| Brain |  1 |  2697.09 | 2697.09 | 7.09 | 0.01 |\n",
       "| Height |  1 |  2875.65 | 2875.65 | 7.56 | 0.01 |\n",
       "| Residuals | 35 | 13321.81 |  380.62 |   NA |   NA |\n",
       "\n"
      ],
      "text/plain": [
       "          Df Sum Sq   Mean Sq F value Pr(>F)\n",
       "Brain      1  2697.09 2697.09 7.09    0.01  \n",
       "Height     1  2875.65 2875.65 7.56    0.01  \n",
       "Residuals 35 13321.81  380.62   NA      NA  "
      ]
     },
     "metadata": {},
     "output_type": "display_data"
    }
   ],
   "source": [
    "round(anova(slm),2)"
   ]
  },
  {
   "cell_type": "code",
   "execution_count": 23,
   "metadata": {},
   "outputs": [
    {
     "data": {
      "text/html": [
       "<dl>\n",
       "\t<dt>$fit</dt>\n",
       "\t\t<dd><table>\n",
       "<caption>A matrix: 1 × 3 of type dbl</caption>\n",
       "<thead>\n",
       "\t<tr><th></th><th scope=col>fit</th><th scope=col>lwr</th><th scope=col>upr</th></tr>\n",
       "</thead>\n",
       "<tbody>\n",
       "\t<tr><th scope=row>1</th><td>105.6391</td><td>98.23722</td><td>113.041</td></tr>\n",
       "</tbody>\n",
       "</table>\n",
       "</dd>\n",
       "\t<dt>$se.fit</dt>\n",
       "\t\t<dd>3.64606381457164</dd>\n",
       "\t<dt>$df</dt>\n",
       "\t\t<dd>35</dd>\n",
       "\t<dt>$residual.scale</dt>\n",
       "\t\t<dd>19.5095664149311</dd>\n",
       "</dl>\n"
      ],
      "text/latex": [
       "\\begin{description}\n",
       "\\item[\\$fit] A matrix: 1 × 3 of type dbl\n",
       "\\begin{tabular}{r|lll}\n",
       "  & fit & lwr & upr\\\\\n",
       "\\hline\n",
       "\t1 & 105.6391 & 98.23722 & 113.041\\\\\n",
       "\\end{tabular}\n",
       "\n",
       "\\item[\\$se.fit] 3.64606381457164\n",
       "\\item[\\$df] 35\n",
       "\\item[\\$residual.scale] 19.5095664149311\n",
       "\\end{description}\n"
      ],
      "text/markdown": [
       "$fit\n",
       ":   \n",
       "A matrix: 1 × 3 of type dbl\n",
       "\n",
       "| <!--/--> | fit | lwr | upr |\n",
       "|---|---|---|---|\n",
       "| 1 | 105.6391 | 98.23722 | 113.041 |\n",
       "\n",
       "\n",
       "$se.fit\n",
       ":   3.64606381457164\n",
       "$df\n",
       ":   35\n",
       "$residual.scale\n",
       ":   19.5095664149311\n",
       "\n",
       "\n"
      ],
      "text/plain": [
       "$fit\n",
       "       fit      lwr     upr\n",
       "1 105.6391 98.23722 113.041\n",
       "\n",
       "$se.fit\n",
       "[1] 3.646064\n",
       "\n",
       "$df\n",
       "[1] 35\n",
       "\n",
       "$residual.scale\n",
       "[1] 19.50957\n"
      ]
     },
     "metadata": {},
     "output_type": "display_data"
    }
   ],
   "source": [
    "predict(object = slm, newdata=data.frame(Brain=(90), Height=(70)), interval = 'confidence', se.fit = TRUE)"
   ]
  },
  {
   "cell_type": "code",
   "execution_count": 20,
   "metadata": {},
   "outputs": [
    {
     "data": {
      "text/html": [
       "<dl>\n",
       "\t<dt>$fit</dt>\n",
       "\t\t<dd><table>\n",
       "<caption>A matrix: 1 × 3 of type dbl</caption>\n",
       "<thead>\n",
       "\t<tr><th></th><th scope=col>fit</th><th scope=col>lwr</th><th scope=col>upr</th></tr>\n",
       "</thead>\n",
       "<tbody>\n",
       "\t<tr><th scope=row>1</th><td>105.6391</td><td>65.34688</td><td>145.9314</td></tr>\n",
       "</tbody>\n",
       "</table>\n",
       "</dd>\n",
       "\t<dt>$se.fit</dt>\n",
       "\t\t<dd>3.64606381457164</dd>\n",
       "\t<dt>$df</dt>\n",
       "\t\t<dd>35</dd>\n",
       "\t<dt>$residual.scale</dt>\n",
       "\t\t<dd>19.5095664149311</dd>\n",
       "</dl>\n"
      ],
      "text/latex": [
       "\\begin{description}\n",
       "\\item[\\$fit] A matrix: 1 × 3 of type dbl\n",
       "\\begin{tabular}{r|lll}\n",
       "  & fit & lwr & upr\\\\\n",
       "\\hline\n",
       "\t1 & 105.6391 & 65.34688 & 145.9314\\\\\n",
       "\\end{tabular}\n",
       "\n",
       "\\item[\\$se.fit] 3.64606381457164\n",
       "\\item[\\$df] 35\n",
       "\\item[\\$residual.scale] 19.5095664149311\n",
       "\\end{description}\n"
      ],
      "text/markdown": [
       "$fit\n",
       ":   \n",
       "A matrix: 1 × 3 of type dbl\n",
       "\n",
       "| <!--/--> | fit | lwr | upr |\n",
       "|---|---|---|---|\n",
       "| 1 | 105.6391 | 65.34688 | 145.9314 |\n",
       "\n",
       "\n",
       "$se.fit\n",
       ":   3.64606381457164\n",
       "$df\n",
       ":   35\n",
       "$residual.scale\n",
       ":   19.5095664149311\n",
       "\n",
       "\n"
      ],
      "text/plain": [
       "$fit\n",
       "       fit      lwr      upr\n",
       "1 105.6391 65.34688 145.9314\n",
       "\n",
       "$se.fit\n",
       "[1] 3.646064\n",
       "\n",
       "$df\n",
       "[1] 35\n",
       "\n",
       "$residual.scale\n",
       "[1] 19.50957\n"
      ]
     },
     "metadata": {},
     "output_type": "display_data"
    }
   ],
   "source": [
    "predict(object = slm, newdata=data.frame(Brain=(90), Height=(70)), interval = 'prediction', se.fit = TRUE )"
   ]
  },
  {
   "cell_type": "code",
   "execution_count": null,
   "metadata": {},
   "outputs": [],
   "source": []
  }
 ],
 "metadata": {
  "kernelspec": {
   "display_name": "R",
   "language": "R",
   "name": "ir"
  },
  "language_info": {
   "codemirror_mode": "r",
   "file_extension": ".r",
   "mimetype": "text/x-r-source",
   "name": "R",
   "pygments_lexer": "r",
   "version": "4.0.2"
  }
 },
 "nbformat": 4,
 "nbformat_minor": 4
}
