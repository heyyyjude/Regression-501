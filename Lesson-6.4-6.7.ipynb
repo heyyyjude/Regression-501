{
 "cells": [
  {
   "cell_type": "code",
   "execution_count": 1,
   "metadata": {},
   "outputs": [],
   "source": [
    "pacman::p_load(\"tidyverse\", \"ggpubr\", 'car', 'broom')"
   ]
  },
  {
   "cell_type": "code",
   "execution_count": 17,
   "metadata": {},
   "outputs": [
    {
     "name": "stderr",
     "output_type": "stream",
     "text": [
      "Parsed with column specification:\n",
      "cols(\n",
      "  `Inf` = \u001b[32mcol_double()\u001b[39m,\n",
      "  Area = \u001b[32mcol_double()\u001b[39m,\n",
      "  Group = \u001b[32mcol_double()\u001b[39m,\n",
      "  X2 = \u001b[32mcol_double()\u001b[39m,\n",
      "  X3 = \u001b[32mcol_double()\u001b[39m\n",
      ")\n",
      "\n"
     ]
    },
    {
     "data": {
      "text/html": [
       "<table>\n",
       "<caption>A tibble: 6 × 6</caption>\n",
       "<thead>\n",
       "\t<tr><th scope=col>Inf</th><th scope=col>Area</th><th scope=col>Group</th><th scope=col>X2</th><th scope=col>X3</th><th scope=col>inf</th></tr>\n",
       "\t<tr><th scope=col>&lt;dbl&gt;</th><th scope=col>&lt;dbl&gt;</th><th scope=col>&lt;dbl&gt;</th><th scope=col>&lt;dbl&gt;</th><th scope=col>&lt;dbl&gt;</th><th scope=col>&lt;dbl&gt;</th></tr>\n",
       "</thead>\n",
       "<tbody>\n",
       "\t<tr><td>0.119</td><td>0.34</td><td>3</td><td>0</td><td>0</td><td>0.119</td></tr>\n",
       "\t<tr><td>0.190</td><td>0.64</td><td>3</td><td>0</td><td>0</td><td>0.190</td></tr>\n",
       "\t<tr><td>0.395</td><td>0.76</td><td>3</td><td>0</td><td>0</td><td>0.395</td></tr>\n",
       "\t<tr><td>0.469</td><td>0.83</td><td>3</td><td>0</td><td>0</td><td>0.469</td></tr>\n",
       "\t<tr><td>0.130</td><td>0.73</td><td>3</td><td>0</td><td>0</td><td>0.130</td></tr>\n",
       "\t<tr><td>0.311</td><td>0.82</td><td>3</td><td>0</td><td>0</td><td>0.311</td></tr>\n",
       "</tbody>\n",
       "</table>\n"
      ],
      "text/latex": [
       "A tibble: 6 × 6\n",
       "\\begin{tabular}{llllll}\n",
       " Inf & Area & Group & X2 & X3 & inf\\\\\n",
       " <dbl> & <dbl> & <dbl> & <dbl> & <dbl> & <dbl>\\\\\n",
       "\\hline\n",
       "\t 0.119 & 0.34 & 3 & 0 & 0 & 0.119\\\\\n",
       "\t 0.190 & 0.64 & 3 & 0 & 0 & 0.190\\\\\n",
       "\t 0.395 & 0.76 & 3 & 0 & 0 & 0.395\\\\\n",
       "\t 0.469 & 0.83 & 3 & 0 & 0 & 0.469\\\\\n",
       "\t 0.130 & 0.73 & 3 & 0 & 0 & 0.130\\\\\n",
       "\t 0.311 & 0.82 & 3 & 0 & 0 & 0.311\\\\\n",
       "\\end{tabular}\n"
      ],
      "text/markdown": [
       "\n",
       "A tibble: 6 × 6\n",
       "\n",
       "| Inf &lt;dbl&gt; | Area &lt;dbl&gt; | Group &lt;dbl&gt; | X2 &lt;dbl&gt; | X3 &lt;dbl&gt; | inf &lt;dbl&gt; |\n",
       "|---|---|---|---|---|---|\n",
       "| 0.119 | 0.34 | 3 | 0 | 0 | 0.119 |\n",
       "| 0.190 | 0.64 | 3 | 0 | 0 | 0.190 |\n",
       "| 0.395 | 0.76 | 3 | 0 | 0 | 0.395 |\n",
       "| 0.469 | 0.83 | 3 | 0 | 0 | 0.469 |\n",
       "| 0.130 | 0.73 | 3 | 0 | 0 | 0.130 |\n",
       "| 0.311 | 0.82 | 3 | 0 | 0 | 0.311 |\n",
       "\n"
      ],
      "text/plain": [
       "  Inf   Area Group X2 X3 inf  \n",
       "1 0.119 0.34 3     0  0  0.119\n",
       "2 0.190 0.64 3     0  0  0.190\n",
       "3 0.395 0.76 3     0  0  0.395\n",
       "4 0.469 0.83 3     0  0  0.469\n",
       "5 0.130 0.73 3     0  0  0.130\n",
       "6 0.311 0.82 3     0  0  0.311"
      ]
     },
     "metadata": {},
     "output_type": "display_data"
    }
   ],
   "source": [
    "df <- read_table2(\"STAT501_Lesson01/coolhearts.tsv\")\n",
    "df$inf <- df$`Inf`\n",
    "head(df)"
   ]
  },
  {
   "cell_type": "code",
   "execution_count": 18,
   "metadata": {},
   "outputs": [
    {
     "data": {
      "text/html": [
       "<style>\n",
       ".list-inline {list-style: none; margin:0; padding: 0}\n",
       ".list-inline>li {display: inline-block}\n",
       ".list-inline>li:not(:last-child)::after {content: \"\\00b7\"; padding: 0 .5ex}\n",
       "</style>\n",
       "<ol class=list-inline><li>32</li><li>6</li></ol>\n"
      ],
      "text/latex": [
       "\\begin{enumerate*}\n",
       "\\item 32\n",
       "\\item 6\n",
       "\\end{enumerate*}\n"
      ],
      "text/markdown": [
       "1. 32\n",
       "2. 6\n",
       "\n",
       "\n"
      ],
      "text/plain": [
       "[1] 32  6"
      ]
     },
     "metadata": {},
     "output_type": "display_data"
    }
   ],
   "source": [
    "dim(df)"
   ]
  },
  {
   "cell_type": "code",
   "execution_count": 20,
   "metadata": {},
   "outputs": [
    {
     "data": {
      "text/plain": [
       "\n",
       "Call:\n",
       "lm(formula = inf ~ Area + X2 + X3, data = df)\n",
       "\n",
       "Residuals:\n",
       "     Min       1Q   Median       3Q      Max \n",
       "-0.29410 -0.06511 -0.01329  0.07855  0.35949 \n",
       "\n",
       "Coefficients:\n",
       "            Estimate Std. Error t value Pr(>|t|)    \n",
       "(Intercept) -0.13454    0.10402  -1.293 0.206459    \n",
       "Area         0.61265    0.10705   5.723 3.87e-06 ***\n",
       "X2          -0.24348    0.06229  -3.909 0.000536 ***\n",
       "X3          -0.06566    0.06507  -1.009 0.321602    \n",
       "---\n",
       "Signif. codes:  0 '***' 0.001 '**' 0.01 '*' 0.05 '.' 0.1 ' ' 1\n",
       "\n",
       "Residual standard error: 0.1395 on 28 degrees of freedom\n",
       "Multiple R-squared:  0.6377,\tAdjusted R-squared:  0.5989 \n",
       "F-statistic: 16.43 on 3 and 28 DF,  p-value: 2.363e-06\n"
      ]
     },
     "metadata": {},
     "output_type": "display_data"
    }
   ],
   "source": [
    "mlm.fll <- lm(inf ~ Area + X2 + X3, data=df)\n",
    "summary(mlm.fll)"
   ]
  },
  {
   "cell_type": "markdown",
   "metadata": {},
   "source": [
    "## Tesing all slopes parameters is = 0\n",
    "\n",
    "$H_{0}: \\beta_{1} = \\beta_{2} = \\beta_{3} = 0$  \n",
    "$Ha$: At  least one  $\\beta_{i} \\neq 0$   (for  i=1,2,3)  \n",
    "F* 16.43, p-value = 2.363e-06\n",
    "Pvalue is very small!"
   ]
  },
  {
   "cell_type": "code",
   "execution_count": 21,
   "metadata": {},
   "outputs": [
    {
     "data": {
      "text/html": [
       "1.50418171875"
      ],
      "text/latex": [
       "1.50418171875"
      ],
      "text/markdown": [
       "1.50418171875"
      ],
      "text/plain": [
       "[1] 1.504182"
      ]
     },
     "metadata": {},
     "output_type": "display_data"
    }
   ],
   "source": [
    "sst <- sum((df$inf - mean(df$inf))^2)\n",
    "sst"
   ]
  },
  {
   "cell_type": "code",
   "execution_count": 22,
   "metadata": {},
   "outputs": [
    {
     "data": {
      "text/html": [
       "<table>\n",
       "<caption>A anova: 4 × 5</caption>\n",
       "<thead>\n",
       "\t<tr><th></th><th scope=col>Df</th><th scope=col>Sum Sq</th><th scope=col>Mean Sq</th><th scope=col>F value</th><th scope=col>Pr(&gt;F)</th></tr>\n",
       "\t<tr><th></th><th scope=col>&lt;dbl&gt;</th><th scope=col>&lt;dbl&gt;</th><th scope=col>&lt;dbl&gt;</th><th scope=col>&lt;dbl&gt;</th><th scope=col>&lt;dbl&gt;</th></tr>\n",
       "</thead>\n",
       "<tbody>\n",
       "\t<tr><th scope=row>Area</th><td> 1</td><td>0.62</td><td>0.62</td><td>32.11</td><td>0.00</td></tr>\n",
       "\t<tr><th scope=row>X2</th><td> 1</td><td>0.31</td><td>0.31</td><td>16.16</td><td>0.00</td></tr>\n",
       "\t<tr><th scope=row>X3</th><td> 1</td><td>0.02</td><td>0.02</td><td> 1.02</td><td>0.32</td></tr>\n",
       "\t<tr><th scope=row>Residuals</th><td>28</td><td>0.54</td><td>0.02</td><td>   NA</td><td>  NA</td></tr>\n",
       "</tbody>\n",
       "</table>\n"
      ],
      "text/latex": [
       "A anova: 4 × 5\n",
       "\\begin{tabular}{r|lllll}\n",
       "  & Df & Sum Sq & Mean Sq & F value & Pr(>F)\\\\\n",
       "  & <dbl> & <dbl> & <dbl> & <dbl> & <dbl>\\\\\n",
       "\\hline\n",
       "\tArea &  1 & 0.62 & 0.62 & 32.11 & 0.00\\\\\n",
       "\tX2 &  1 & 0.31 & 0.31 & 16.16 & 0.00\\\\\n",
       "\tX3 &  1 & 0.02 & 0.02 &  1.02 & 0.32\\\\\n",
       "\tResiduals & 28 & 0.54 & 0.02 &    NA &   NA\\\\\n",
       "\\end{tabular}\n"
      ],
      "text/markdown": [
       "\n",
       "A anova: 4 × 5\n",
       "\n",
       "| <!--/--> | Df &lt;dbl&gt; | Sum Sq &lt;dbl&gt; | Mean Sq &lt;dbl&gt; | F value &lt;dbl&gt; | Pr(&gt;F) &lt;dbl&gt; |\n",
       "|---|---|---|---|---|---|\n",
       "| Area |  1 | 0.62 | 0.62 | 32.11 | 0.00 |\n",
       "| X2 |  1 | 0.31 | 0.31 | 16.16 | 0.00 |\n",
       "| X3 |  1 | 0.02 | 0.02 |  1.02 | 0.32 |\n",
       "| Residuals | 28 | 0.54 | 0.02 |    NA |   NA |\n",
       "\n"
      ],
      "text/plain": [
       "          Df Sum Sq Mean Sq F value Pr(>F)\n",
       "Area       1 0.62   0.62    32.11   0.00  \n",
       "X2         1 0.31   0.31    16.16   0.00  \n",
       "X3         1 0.02   0.02     1.02   0.32  \n",
       "Residuals 28 0.54   0.02       NA     NA  "
      ]
     },
     "metadata": {},
     "output_type": "display_data"
    }
   ],
   "source": [
    "round(anova(mlm.fll),2)\n",
    "## SSE = 0.54\n",
    "## SST = 1.50\n",
    "## SSR = 0.96 = SST - SSE"
   ]
  },
  {
   "cell_type": "code",
   "execution_count": 24,
   "metadata": {},
   "outputs": [
    {
     "data": {
      "text/html": [
       "16.5925925925926"
      ],
      "text/latex": [
       "16.5925925925926"
      ],
      "text/markdown": [
       "16.5925925925926"
      ],
      "text/plain": [
       "[1] 16.59259"
      ]
     },
     "metadata": {},
     "output_type": "display_data"
    }
   ],
   "source": [
    "(0.96/3) / (0.54/28) "
   ]
  },
  {
   "cell_type": "code",
   "execution_count": 6,
   "metadata": {},
   "outputs": [
    {
     "data": {
      "text/html": [
       "<table>\n",
       "<caption>A anova: 5 × 4</caption>\n",
       "<thead>\n",
       "\t<tr><th></th><th scope=col>Sum Sq</th><th scope=col>Df</th><th scope=col>F value</th><th scope=col>Pr(&gt;F)</th></tr>\n",
       "\t<tr><th></th><th scope=col>&lt;dbl&gt;</th><th scope=col>&lt;dbl&gt;</th><th scope=col>&lt;dbl&gt;</th><th scope=col>&lt;dbl&gt;</th></tr>\n",
       "</thead>\n",
       "<tbody>\n",
       "\t<tr><th scope=row>(Intercept)</th><td>0.03</td><td> 1</td><td> 1.67</td><td>0.21</td></tr>\n",
       "\t<tr><th scope=row>Area</th><td>0.64</td><td> 1</td><td>32.75</td><td>0.00</td></tr>\n",
       "\t<tr><th scope=row>X2</th><td>0.30</td><td> 1</td><td>15.28</td><td>0.00</td></tr>\n",
       "\t<tr><th scope=row>X3</th><td>0.02</td><td> 1</td><td> 1.02</td><td>0.32</td></tr>\n",
       "\t<tr><th scope=row>Residuals</th><td>0.54</td><td>28</td><td>   NA</td><td>  NA</td></tr>\n",
       "</tbody>\n",
       "</table>\n"
      ],
      "text/latex": [
       "A anova: 5 × 4\n",
       "\\begin{tabular}{r|llll}\n",
       "  & Sum Sq & Df & F value & Pr(>F)\\\\\n",
       "  & <dbl> & <dbl> & <dbl> & <dbl>\\\\\n",
       "\\hline\n",
       "\t(Intercept) & 0.03 &  1 &  1.67 & 0.21\\\\\n",
       "\tArea & 0.64 &  1 & 32.75 & 0.00\\\\\n",
       "\tX2 & 0.30 &  1 & 15.28 & 0.00\\\\\n",
       "\tX3 & 0.02 &  1 &  1.02 & 0.32\\\\\n",
       "\tResiduals & 0.54 & 28 &    NA &   NA\\\\\n",
       "\\end{tabular}\n"
      ],
      "text/markdown": [
       "\n",
       "A anova: 5 × 4\n",
       "\n",
       "| <!--/--> | Sum Sq &lt;dbl&gt; | Df &lt;dbl&gt; | F value &lt;dbl&gt; | Pr(&gt;F) &lt;dbl&gt; |\n",
       "|---|---|---|---|---|\n",
       "| (Intercept) | 0.03 |  1 |  1.67 | 0.21 |\n",
       "| Area | 0.64 |  1 | 32.75 | 0.00 |\n",
       "| X2 | 0.30 |  1 | 15.28 | 0.00 |\n",
       "| X3 | 0.02 |  1 |  1.02 | 0.32 |\n",
       "| Residuals | 0.54 | 28 |    NA |   NA |\n",
       "\n"
      ],
      "text/plain": [
       "            Sum Sq Df F value Pr(>F)\n",
       "(Intercept) 0.03    1  1.67   0.21  \n",
       "Area        0.64    1 32.75   0.00  \n",
       "X2          0.30    1 15.28   0.00  \n",
       "X3          0.02    1  1.02   0.32  \n",
       "Residuals   0.54   28    NA     NA  "
      ]
     },
     "metadata": {},
     "output_type": "display_data"
    }
   ],
   "source": [
    "round(Anova(mlm.fll, type=3),2)\n",
    "## SST = 0.64 + 0.3 + 0.02 = 0.96"
   ]
  },
  {
   "cell_type": "markdown",
   "metadata": {},
   "source": [
    "## Tesing one slope parameter is = 0\n",
    "\n",
    "$H_{0}: \\beta_{1} = 0$    \n",
    "$H_{A}: \\beta_{1} \\neq 0$  \n",
    "F* 32.75, p-value = 0.00  \n",
    "Pvalue is very small!"
   ]
  },
  {
   "cell_type": "code",
   "execution_count": 7,
   "metadata": {},
   "outputs": [
    {
     "data": {
      "text/plain": [
       "\n",
       "Call:\n",
       "lm(formula = `Inf` ~ X2 + X3, data = df)\n",
       "\n",
       "Residuals:\n",
       "     Min       1Q   Median       3Q      Max \n",
       "-0.32027 -0.11764 -0.01895  0.07040  0.50473 \n",
       "\n",
       "Coefficients:\n",
       "            Estimate Std. Error t value Pr(>|t|)    \n",
       "(Intercept)  0.40460    0.06385   6.337 6.35e-07 ***\n",
       "X2          -0.16996    0.08822  -1.927   0.0639 .  \n",
       "X3           0.06467    0.08822   0.733   0.4694    \n",
       "---\n",
       "Signif. codes:  0 '***' 0.001 '**' 0.01 '*' 0.05 '.' 0.1 ' ' 1\n",
       "\n",
       "Residual standard error: 0.2019 on 29 degrees of freedom\n",
       "Multiple R-squared:  0.214,\tAdjusted R-squared:  0.1598 \n",
       "F-statistic: 3.947 on 2 and 29 DF,  p-value: 0.03047\n"
      ]
     },
     "metadata": {},
     "output_type": "display_data"
    }
   ],
   "source": [
    "mlm.r <- lm(`Inf` ~ X2 + X3, data=df)\n",
    "summary(mlm.r)"
   ]
  },
  {
   "cell_type": "code",
   "execution_count": 8,
   "metadata": {},
   "outputs": [
    {
     "data": {
      "text/html": [
       "<table>\n",
       "<caption>A anova: 3 × 5</caption>\n",
       "<thead>\n",
       "\t<tr><th></th><th scope=col>Df</th><th scope=col>Sum Sq</th><th scope=col>Mean Sq</th><th scope=col>F value</th><th scope=col>Pr(&gt;F)</th></tr>\n",
       "\t<tr><th></th><th scope=col>&lt;dbl&gt;</th><th scope=col>&lt;dbl&gt;</th><th scope=col>&lt;dbl&gt;</th><th scope=col>&lt;dbl&gt;</th><th scope=col>&lt;dbl&gt;</th></tr>\n",
       "</thead>\n",
       "<tbody>\n",
       "\t<tr><th scope=row>X2</th><td> 1</td><td>0.300</td><td>0.300</td><td>7.357</td><td>0.011</td></tr>\n",
       "\t<tr><th scope=row>X3</th><td> 1</td><td>0.022</td><td>0.022</td><td>0.537</td><td>0.469</td></tr>\n",
       "\t<tr><th scope=row>Residuals</th><td>29</td><td>1.182</td><td>0.041</td><td>   NA</td><td>   NA</td></tr>\n",
       "</tbody>\n",
       "</table>\n"
      ],
      "text/latex": [
       "A anova: 3 × 5\n",
       "\\begin{tabular}{r|lllll}\n",
       "  & Df & Sum Sq & Mean Sq & F value & Pr(>F)\\\\\n",
       "  & <dbl> & <dbl> & <dbl> & <dbl> & <dbl>\\\\\n",
       "\\hline\n",
       "\tX2 &  1 & 0.300 & 0.300 & 7.357 & 0.011\\\\\n",
       "\tX3 &  1 & 0.022 & 0.022 & 0.537 & 0.469\\\\\n",
       "\tResiduals & 29 & 1.182 & 0.041 &    NA &    NA\\\\\n",
       "\\end{tabular}\n"
      ],
      "text/markdown": [
       "\n",
       "A anova: 3 × 5\n",
       "\n",
       "| <!--/--> | Df &lt;dbl&gt; | Sum Sq &lt;dbl&gt; | Mean Sq &lt;dbl&gt; | F value &lt;dbl&gt; | Pr(&gt;F) &lt;dbl&gt; |\n",
       "|---|---|---|---|---|---|\n",
       "| X2 |  1 | 0.300 | 0.300 | 7.357 | 0.011 |\n",
       "| X3 |  1 | 0.022 | 0.022 | 0.537 | 0.469 |\n",
       "| Residuals | 29 | 1.182 | 0.041 |    NA |    NA |\n",
       "\n"
      ],
      "text/plain": [
       "          Df Sum Sq Mean Sq F value Pr(>F)\n",
       "X2         1 0.300  0.300   7.357   0.011 \n",
       "X3         1 0.022  0.022   0.537   0.469 \n",
       "Residuals 29 1.182  0.041      NA      NA "
      ]
     },
     "metadata": {},
     "output_type": "display_data"
    }
   ],
   "source": [
    "round(anova(mlm.r),3)"
   ]
  },
  {
   "cell_type": "code",
   "execution_count": 9,
   "metadata": {},
   "outputs": [
    {
     "data": {
      "text/html": [
       "<table>\n",
       "<caption>A anova: 2 × 6</caption>\n",
       "<thead>\n",
       "\t<tr><th></th><th scope=col>Res.Df</th><th scope=col>RSS</th><th scope=col>Df</th><th scope=col>Sum of Sq</th><th scope=col>F</th><th scope=col>Pr(&gt;F)</th></tr>\n",
       "\t<tr><th></th><th scope=col>&lt;dbl&gt;</th><th scope=col>&lt;dbl&gt;</th><th scope=col>&lt;dbl&gt;</th><th scope=col>&lt;dbl&gt;</th><th scope=col>&lt;dbl&gt;</th><th scope=col>&lt;dbl&gt;</th></tr>\n",
       "</thead>\n",
       "<tbody>\n",
       "\t<tr><th scope=row>1</th><td>29</td><td>1.182</td><td>NA</td><td>   NA</td><td>    NA</td><td>NA</td></tr>\n",
       "\t<tr><th scope=row>2</th><td>28</td><td>0.545</td><td> 1</td><td>0.637</td><td>32.754</td><td> 0</td></tr>\n",
       "</tbody>\n",
       "</table>\n"
      ],
      "text/latex": [
       "A anova: 2 × 6\n",
       "\\begin{tabular}{r|llllll}\n",
       "  & Res.Df & RSS & Df & Sum of Sq & F & Pr(>F)\\\\\n",
       "  & <dbl> & <dbl> & <dbl> & <dbl> & <dbl> & <dbl>\\\\\n",
       "\\hline\n",
       "\t1 & 29 & 1.182 & NA &    NA &     NA & NA\\\\\n",
       "\t2 & 28 & 0.545 &  1 & 0.637 & 32.754 &  0\\\\\n",
       "\\end{tabular}\n"
      ],
      "text/markdown": [
       "\n",
       "A anova: 2 × 6\n",
       "\n",
       "| <!--/--> | Res.Df &lt;dbl&gt; | RSS &lt;dbl&gt; | Df &lt;dbl&gt; | Sum of Sq &lt;dbl&gt; | F &lt;dbl&gt; | Pr(&gt;F) &lt;dbl&gt; |\n",
       "|---|---|---|---|---|---|---|\n",
       "| 1 | 29 | 1.182 | NA |    NA |     NA | NA |\n",
       "| 2 | 28 | 0.545 |  1 | 0.637 | 32.754 |  0 |\n",
       "\n"
      ],
      "text/plain": [
       "  Res.Df RSS   Df Sum of Sq F      Pr(>F)\n",
       "1 29     1.182 NA    NA         NA NA    \n",
       "2 28     0.545  1 0.637     32.754  0    "
      ]
     },
     "metadata": {},
     "output_type": "display_data"
    }
   ],
   "source": [
    "round(anova(mlm.r, mlm.fll),3)"
   ]
  },
  {
   "cell_type": "code",
   "execution_count": 10,
   "metadata": {},
   "outputs": [
    {
     "data": {
      "text/html": [
       "1.50418171875"
      ],
      "text/latex": [
       "1.50418171875"
      ],
      "text/markdown": [
       "1.50418171875"
      ],
      "text/plain": [
       "[1] 1.504182"
      ]
     },
     "metadata": {},
     "output_type": "display_data"
    }
   ],
   "source": [
    "## SSE(R) -> sum(yi - mean(Y)^2 ). Here this is SST.\n",
    "## SSE(F) -> sum(residuals ^2). Here this is just SSE\n",
    "## Therefore, SST - SSE(F) = SSR\n",
    "sse.r <- sum( (df$`Inf` - mean(df$`Inf`))^2 )\n",
    "sse.r\n",
    "\n",
    "sse.f = 0.54"
   ]
  },
  {
   "cell_type": "code",
   "execution_count": 11,
   "metadata": {},
   "outputs": [
    {
     "data": {
      "text/html": [
       "<table>\n",
       "<caption>A anova: 2 × 5</caption>\n",
       "<thead>\n",
       "\t<tr><th></th><th scope=col>Df</th><th scope=col>Sum Sq</th><th scope=col>Mean Sq</th><th scope=col>F value</th><th scope=col>Pr(&gt;F)</th></tr>\n",
       "\t<tr><th></th><th scope=col>&lt;dbl&gt;</th><th scope=col>&lt;dbl&gt;</th><th scope=col>&lt;dbl&gt;</th><th scope=col>&lt;dbl&gt;</th><th scope=col>&lt;dbl&gt;</th></tr>\n",
       "</thead>\n",
       "<tbody>\n",
       "\t<tr><th scope=row>Area</th><td> 1</td><td>0.62</td><td>0.62</td><td>21.32</td><td> 0</td></tr>\n",
       "\t<tr><th scope=row>Residuals</th><td>30</td><td>0.88</td><td>0.03</td><td>   NA</td><td>NA</td></tr>\n",
       "</tbody>\n",
       "</table>\n"
      ],
      "text/latex": [
       "A anova: 2 × 5\n",
       "\\begin{tabular}{r|lllll}\n",
       "  & Df & Sum Sq & Mean Sq & F value & Pr(>F)\\\\\n",
       "  & <dbl> & <dbl> & <dbl> & <dbl> & <dbl>\\\\\n",
       "\\hline\n",
       "\tArea &  1 & 0.62 & 0.62 & 21.32 &  0\\\\\n",
       "\tResiduals & 30 & 0.88 & 0.03 &    NA & NA\\\\\n",
       "\\end{tabular}\n"
      ],
      "text/markdown": [
       "\n",
       "A anova: 2 × 5\n",
       "\n",
       "| <!--/--> | Df &lt;dbl&gt; | Sum Sq &lt;dbl&gt; | Mean Sq &lt;dbl&gt; | F value &lt;dbl&gt; | Pr(&gt;F) &lt;dbl&gt; |\n",
       "|---|---|---|---|---|---|\n",
       "| Area |  1 | 0.62 | 0.62 | 21.32 |  0 |\n",
       "| Residuals | 30 | 0.88 | 0.03 |    NA | NA |\n",
       "\n"
      ],
      "text/plain": [
       "          Df Sum Sq Mean Sq F value Pr(>F)\n",
       "Area       1 0.62   0.62    21.32    0    \n",
       "Residuals 30 0.88   0.03       NA   NA    "
      ]
     },
     "metadata": {},
     "output_type": "display_data"
    }
   ],
   "source": [
    "slm.ar <- lm(`Inf` ~ Area, data=df)\n",
    "round(anova(slm.ar),2)"
   ]
  },
  {
   "cell_type": "code",
   "execution_count": 12,
   "metadata": {},
   "outputs": [
    {
     "data": {
      "text/html": [
       "<table>\n",
       "<caption>A anova: 4 × 5</caption>\n",
       "<thead>\n",
       "\t<tr><th></th><th scope=col>Df</th><th scope=col>Sum Sq</th><th scope=col>Mean Sq</th><th scope=col>F value</th><th scope=col>Pr(&gt;F)</th></tr>\n",
       "\t<tr><th></th><th scope=col>&lt;dbl&gt;</th><th scope=col>&lt;dbl&gt;</th><th scope=col>&lt;dbl&gt;</th><th scope=col>&lt;dbl&gt;</th><th scope=col>&lt;dbl&gt;</th></tr>\n",
       "</thead>\n",
       "<tbody>\n",
       "\t<tr><th scope=row>Area</th><td> 1</td><td>0.62</td><td>0.62</td><td>32.11</td><td>0.00</td></tr>\n",
       "\t<tr><th scope=row>X2</th><td> 1</td><td>0.31</td><td>0.31</td><td>16.16</td><td>0.00</td></tr>\n",
       "\t<tr><th scope=row>X3</th><td> 1</td><td>0.02</td><td>0.02</td><td> 1.02</td><td>0.32</td></tr>\n",
       "\t<tr><th scope=row>Residuals</th><td>28</td><td>0.54</td><td>0.02</td><td>   NA</td><td>  NA</td></tr>\n",
       "</tbody>\n",
       "</table>\n"
      ],
      "text/latex": [
       "A anova: 4 × 5\n",
       "\\begin{tabular}{r|lllll}\n",
       "  & Df & Sum Sq & Mean Sq & F value & Pr(>F)\\\\\n",
       "  & <dbl> & <dbl> & <dbl> & <dbl> & <dbl>\\\\\n",
       "\\hline\n",
       "\tArea &  1 & 0.62 & 0.62 & 32.11 & 0.00\\\\\n",
       "\tX2 &  1 & 0.31 & 0.31 & 16.16 & 0.00\\\\\n",
       "\tX3 &  1 & 0.02 & 0.02 &  1.02 & 0.32\\\\\n",
       "\tResiduals & 28 & 0.54 & 0.02 &    NA &   NA\\\\\n",
       "\\end{tabular}\n"
      ],
      "text/markdown": [
       "\n",
       "A anova: 4 × 5\n",
       "\n",
       "| <!--/--> | Df &lt;dbl&gt; | Sum Sq &lt;dbl&gt; | Mean Sq &lt;dbl&gt; | F value &lt;dbl&gt; | Pr(&gt;F) &lt;dbl&gt; |\n",
       "|---|---|---|---|---|---|\n",
       "| Area |  1 | 0.62 | 0.62 | 32.11 | 0.00 |\n",
       "| X2 |  1 | 0.31 | 0.31 | 16.16 | 0.00 |\n",
       "| X3 |  1 | 0.02 | 0.02 |  1.02 | 0.32 |\n",
       "| Residuals | 28 | 0.54 | 0.02 |    NA |   NA |\n",
       "\n"
      ],
      "text/plain": [
       "          Df Sum Sq Mean Sq F value Pr(>F)\n",
       "Area       1 0.62   0.62    32.11   0.00  \n",
       "X2         1 0.31   0.31    16.16   0.00  \n",
       "X3         1 0.02   0.02     1.02   0.32  \n",
       "Residuals 28 0.54   0.02       NA     NA  "
      ]
     },
     "metadata": {},
     "output_type": "display_data"
    }
   ],
   "source": [
    "round(anova(mlm.fll),2)"
   ]
  },
  {
   "cell_type": "code",
   "execution_count": 13,
   "metadata": {},
   "outputs": [
    {
     "data": {
      "text/html": [
       "<table>\n",
       "<caption>A anova: 2 × 6</caption>\n",
       "<thead>\n",
       "\t<tr><th></th><th scope=col>Res.Df</th><th scope=col>RSS</th><th scope=col>Df</th><th scope=col>Sum of Sq</th><th scope=col>F</th><th scope=col>Pr(&gt;F)</th></tr>\n",
       "\t<tr><th></th><th scope=col>&lt;dbl&gt;</th><th scope=col>&lt;dbl&gt;</th><th scope=col>&lt;dbl&gt;</th><th scope=col>&lt;dbl&gt;</th><th scope=col>&lt;dbl&gt;</th><th scope=col>&lt;dbl&gt;</th></tr>\n",
       "</thead>\n",
       "<tbody>\n",
       "\t<tr><th scope=row>1</th><td>30</td><td>0.8793</td><td>NA</td><td>    NA</td><td>    NA</td><td>    NA</td></tr>\n",
       "\t<tr><th scope=row>2</th><td>28</td><td>0.5449</td><td> 2</td><td>0.3343</td><td>8.5902</td><td>0.0012</td></tr>\n",
       "</tbody>\n",
       "</table>\n"
      ],
      "text/latex": [
       "A anova: 2 × 6\n",
       "\\begin{tabular}{r|llllll}\n",
       "  & Res.Df & RSS & Df & Sum of Sq & F & Pr(>F)\\\\\n",
       "  & <dbl> & <dbl> & <dbl> & <dbl> & <dbl> & <dbl>\\\\\n",
       "\\hline\n",
       "\t1 & 30 & 0.8793 & NA &     NA &     NA &     NA\\\\\n",
       "\t2 & 28 & 0.5449 &  2 & 0.3343 & 8.5902 & 0.0012\\\\\n",
       "\\end{tabular}\n"
      ],
      "text/markdown": [
       "\n",
       "A anova: 2 × 6\n",
       "\n",
       "| <!--/--> | Res.Df &lt;dbl&gt; | RSS &lt;dbl&gt; | Df &lt;dbl&gt; | Sum of Sq &lt;dbl&gt; | F &lt;dbl&gt; | Pr(&gt;F) &lt;dbl&gt; |\n",
       "|---|---|---|---|---|---|---|\n",
       "| 1 | 30 | 0.8793 | NA |     NA |     NA |     NA |\n",
       "| 2 | 28 | 0.5449 |  2 | 0.3343 | 8.5902 | 0.0012 |\n",
       "\n"
      ],
      "text/plain": [
       "  Res.Df RSS    Df Sum of Sq F      Pr(>F)\n",
       "1 30     0.8793 NA     NA        NA     NA\n",
       "2 28     0.5449  2 0.3343    8.5902 0.0012"
      ]
     },
     "metadata": {},
     "output_type": "display_data"
    }
   ],
   "source": [
    "round(anova(slm.ar, mlm.fll),4)\n",
    "\n",
    "## 1st row RSS for slm Residuals Sum Sq\n",
    "## 2nd row RSS for mlm.full Residuals Sum Sq\n",
    "\n",
    "## Partial F-test\n",
    "## H0: b2 = b3 = 0\n",
    "## MSR(x2, x3|x1)/MSE(x1,x2,x3) F* is 8.59"
   ]
  },
  {
   "cell_type": "markdown",
   "metadata": {},
   "source": [
    "### Testing a subset of slope parameters is 0\n",
    "\n",
    "$H_{0}: \\beta_{2}=\\beta_{3}=0$  \n",
    "$H_{A}$: At least one $\\beta_{j} \\neq$ (for j=2,3)  "
   ]
  },
  {
   "cell_type": "code",
   "execution_count": 14,
   "metadata": {},
   "outputs": [
    {
     "data": {
      "text/html": [
       "<table>\n",
       "<caption>A anova: 2 × 5</caption>\n",
       "<thead>\n",
       "\t<tr><th></th><th scope=col>Df</th><th scope=col>Sum Sq</th><th scope=col>Mean Sq</th><th scope=col>F value</th><th scope=col>Pr(&gt;F)</th></tr>\n",
       "\t<tr><th></th><th scope=col>&lt;dbl&gt;</th><th scope=col>&lt;dbl&gt;</th><th scope=col>&lt;dbl&gt;</th><th scope=col>&lt;dbl&gt;</th><th scope=col>&lt;dbl&gt;</th></tr>\n",
       "</thead>\n",
       "<tbody>\n",
       "\t<tr><th scope=row>Area</th><td> 1</td><td>0.625</td><td>0.625</td><td>21.322</td><td> 0</td></tr>\n",
       "\t<tr><th scope=row>Residuals</th><td>30</td><td>0.879</td><td>0.029</td><td>    NA</td><td>NA</td></tr>\n",
       "</tbody>\n",
       "</table>\n"
      ],
      "text/latex": [
       "A anova: 2 × 5\n",
       "\\begin{tabular}{r|lllll}\n",
       "  & Df & Sum Sq & Mean Sq & F value & Pr(>F)\\\\\n",
       "  & <dbl> & <dbl> & <dbl> & <dbl> & <dbl>\\\\\n",
       "\\hline\n",
       "\tArea &  1 & 0.625 & 0.625 & 21.322 &  0\\\\\n",
       "\tResiduals & 30 & 0.879 & 0.029 &     NA & NA\\\\\n",
       "\\end{tabular}\n"
      ],
      "text/markdown": [
       "\n",
       "A anova: 2 × 5\n",
       "\n",
       "| <!--/--> | Df &lt;dbl&gt; | Sum Sq &lt;dbl&gt; | Mean Sq &lt;dbl&gt; | F value &lt;dbl&gt; | Pr(&gt;F) &lt;dbl&gt; |\n",
       "|---|---|---|---|---|---|\n",
       "| Area |  1 | 0.625 | 0.625 | 21.322 |  0 |\n",
       "| Residuals | 30 | 0.879 | 0.029 |     NA | NA |\n",
       "\n"
      ],
      "text/plain": [
       "          Df Sum Sq Mean Sq F value Pr(>F)\n",
       "Area       1 0.625  0.625   21.322   0    \n",
       "Residuals 30 0.879  0.029       NA  NA    "
      ]
     },
     "metadata": {},
     "output_type": "display_data"
    }
   ],
   "source": [
    "round(anova(slm.ar),3)"
   ]
  },
  {
   "cell_type": "code",
   "execution_count": 15,
   "metadata": {},
   "outputs": [
    {
     "data": {
      "text/html": [
       "<table>\n",
       "<caption>A anova: 4 × 5</caption>\n",
       "<thead>\n",
       "\t<tr><th></th><th scope=col>Df</th><th scope=col>Sum Sq</th><th scope=col>Mean Sq</th><th scope=col>F value</th><th scope=col>Pr(&gt;F)</th></tr>\n",
       "\t<tr><th></th><th scope=col>&lt;dbl&gt;</th><th scope=col>&lt;dbl&gt;</th><th scope=col>&lt;dbl&gt;</th><th scope=col>&lt;dbl&gt;</th><th scope=col>&lt;dbl&gt;</th></tr>\n",
       "</thead>\n",
       "<tbody>\n",
       "\t<tr><th scope=row>Area</th><td> 1</td><td>0.625</td><td>0.625</td><td>32.112</td><td>0.000</td></tr>\n",
       "\t<tr><th scope=row>X2</th><td> 1</td><td>0.315</td><td>0.315</td><td>16.162</td><td>0.000</td></tr>\n",
       "\t<tr><th scope=row>X3</th><td> 1</td><td>0.020</td><td>0.020</td><td> 1.018</td><td>0.322</td></tr>\n",
       "\t<tr><th scope=row>Residuals</th><td>28</td><td>0.545</td><td>0.019</td><td>    NA</td><td>   NA</td></tr>\n",
       "</tbody>\n",
       "</table>\n"
      ],
      "text/latex": [
       "A anova: 4 × 5\n",
       "\\begin{tabular}{r|lllll}\n",
       "  & Df & Sum Sq & Mean Sq & F value & Pr(>F)\\\\\n",
       "  & <dbl> & <dbl> & <dbl> & <dbl> & <dbl>\\\\\n",
       "\\hline\n",
       "\tArea &  1 & 0.625 & 0.625 & 32.112 & 0.000\\\\\n",
       "\tX2 &  1 & 0.315 & 0.315 & 16.162 & 0.000\\\\\n",
       "\tX3 &  1 & 0.020 & 0.020 &  1.018 & 0.322\\\\\n",
       "\tResiduals & 28 & 0.545 & 0.019 &     NA &    NA\\\\\n",
       "\\end{tabular}\n"
      ],
      "text/markdown": [
       "\n",
       "A anova: 4 × 5\n",
       "\n",
       "| <!--/--> | Df &lt;dbl&gt; | Sum Sq &lt;dbl&gt; | Mean Sq &lt;dbl&gt; | F value &lt;dbl&gt; | Pr(&gt;F) &lt;dbl&gt; |\n",
       "|---|---|---|---|---|---|\n",
       "| Area |  1 | 0.625 | 0.625 | 32.112 | 0.000 |\n",
       "| X2 |  1 | 0.315 | 0.315 | 16.162 | 0.000 |\n",
       "| X3 |  1 | 0.020 | 0.020 |  1.018 | 0.322 |\n",
       "| Residuals | 28 | 0.545 | 0.019 |     NA |    NA |\n",
       "\n"
      ],
      "text/plain": [
       "          Df Sum Sq Mean Sq F value Pr(>F)\n",
       "Area       1 0.625  0.625   32.112  0.000 \n",
       "X2         1 0.315  0.315   16.162  0.000 \n",
       "X3         1 0.020  0.020    1.018  0.322 \n",
       "Residuals 28 0.545  0.019       NA     NA "
      ]
     },
     "metadata": {},
     "output_type": "display_data"
    }
   ],
   "source": [
    "round(anova(mlm.fll),3)"
   ]
  },
  {
   "cell_type": "code",
   "execution_count": 27,
   "metadata": {},
   "outputs": [],
   "source": [
    "## SSR(X2,X3|X1) = 0.314 + 0.019 = 0.334\n",
    "## SSE(X1,X2,X3) = 0.5449\n",
    "## SSR(X2,X3|X1)/2 /SSE(X1,X2,X3)/n-4\n",
    "## F*=8.59"
   ]
  },
  {
   "cell_type": "code",
   "execution_count": 25,
   "metadata": {},
   "outputs": [
    {
     "data": {
      "text/html": [
       "<table>\n",
       "<caption>A anova: 2 × 6</caption>\n",
       "<thead>\n",
       "\t<tr><th></th><th scope=col>Res.Df</th><th scope=col>RSS</th><th scope=col>Df</th><th scope=col>Sum of Sq</th><th scope=col>F</th><th scope=col>Pr(&gt;F)</th></tr>\n",
       "\t<tr><th></th><th scope=col>&lt;dbl&gt;</th><th scope=col>&lt;dbl&gt;</th><th scope=col>&lt;dbl&gt;</th><th scope=col>&lt;dbl&gt;</th><th scope=col>&lt;dbl&gt;</th><th scope=col>&lt;dbl&gt;</th></tr>\n",
       "</thead>\n",
       "<tbody>\n",
       "\t<tr><th scope=row>1</th><td>30</td><td>0.8792573</td><td>NA</td><td>       NA</td><td>      NA</td><td>         NA</td></tr>\n",
       "\t<tr><th scope=row>2</th><td>28</td><td>0.5449095</td><td> 2</td><td>0.3343478</td><td>8.590176</td><td>0.001232872</td></tr>\n",
       "</tbody>\n",
       "</table>\n"
      ],
      "text/latex": [
       "A anova: 2 × 6\n",
       "\\begin{tabular}{r|llllll}\n",
       "  & Res.Df & RSS & Df & Sum of Sq & F & Pr(>F)\\\\\n",
       "  & <dbl> & <dbl> & <dbl> & <dbl> & <dbl> & <dbl>\\\\\n",
       "\\hline\n",
       "\t1 & 30 & 0.8792573 & NA &        NA &       NA &          NA\\\\\n",
       "\t2 & 28 & 0.5449095 &  2 & 0.3343478 & 8.590176 & 0.001232872\\\\\n",
       "\\end{tabular}\n"
      ],
      "text/markdown": [
       "\n",
       "A anova: 2 × 6\n",
       "\n",
       "| <!--/--> | Res.Df &lt;dbl&gt; | RSS &lt;dbl&gt; | Df &lt;dbl&gt; | Sum of Sq &lt;dbl&gt; | F &lt;dbl&gt; | Pr(&gt;F) &lt;dbl&gt; |\n",
       "|---|---|---|---|---|---|---|\n",
       "| 1 | 30 | 0.8792573 | NA |        NA |       NA |          NA |\n",
       "| 2 | 28 | 0.5449095 |  2 | 0.3343478 | 8.590176 | 0.001232872 |\n",
       "\n"
      ],
      "text/plain": [
       "  Res.Df RSS       Df Sum of Sq F        Pr(>F)     \n",
       "1 30     0.8792573 NA        NA       NA          NA\n",
       "2 28     0.5449095  2 0.3343478 8.590176 0.001232872"
      ]
     },
     "metadata": {},
     "output_type": "display_data"
    }
   ],
   "source": [
    "anova(slm.ar, mlm.fll)"
   ]
  },
  {
   "cell_type": "markdown",
   "metadata": {},
   "source": [
    "## Example"
   ]
  },
  {
   "cell_type": "code",
   "execution_count": 25,
   "metadata": {},
   "outputs": [
    {
     "name": "stderr",
     "output_type": "stream",
     "text": [
      "Parsed with column specification:\n",
      "cols(\n",
      "  Yield = \u001b[32mcol_double()\u001b[39m,\n",
      "  Nit = \u001b[32mcol_double()\u001b[39m,\n",
      "  Treat = \u001b[32mcol_double()\u001b[39m\n",
      ")\n",
      "\n"
     ]
    },
    {
     "data": {
      "text/html": [
       "<table>\n",
       "<caption>A tibble: 6 × 3</caption>\n",
       "<thead>\n",
       "\t<tr><th scope=col>Yield</th><th scope=col>Nit</th><th scope=col>Treat</th></tr>\n",
       "\t<tr><th scope=col>&lt;dbl&gt;</th><th scope=col>&lt;dbl&gt;</th><th scope=col>&lt;dbl&gt;</th></tr>\n",
       "</thead>\n",
       "<tbody>\n",
       "\t<tr><td>210</td><td>100</td><td>1</td></tr>\n",
       "\t<tr><td>150</td><td> 50</td><td>1</td></tr>\n",
       "\t<tr><td>225</td><td>105</td><td>1</td></tr>\n",
       "\t<tr><td>180</td><td> 75</td><td>1</td></tr>\n",
       "\t<tr><td>190</td><td> 80</td><td>1</td></tr>\n",
       "\t<tr><td>220</td><td>110</td><td>1</td></tr>\n",
       "</tbody>\n",
       "</table>\n"
      ],
      "text/latex": [
       "A tibble: 6 × 3\n",
       "\\begin{tabular}{lll}\n",
       " Yield & Nit & Treat\\\\\n",
       " <dbl> & <dbl> & <dbl>\\\\\n",
       "\\hline\n",
       "\t 210 & 100 & 1\\\\\n",
       "\t 150 &  50 & 1\\\\\n",
       "\t 225 & 105 & 1\\\\\n",
       "\t 180 &  75 & 1\\\\\n",
       "\t 190 &  80 & 1\\\\\n",
       "\t 220 & 110 & 1\\\\\n",
       "\\end{tabular}\n"
      ],
      "text/markdown": [
       "\n",
       "A tibble: 6 × 3\n",
       "\n",
       "| Yield &lt;dbl&gt; | Nit &lt;dbl&gt; | Treat &lt;dbl&gt; |\n",
       "|---|---|---|\n",
       "| 210 | 100 | 1 |\n",
       "| 150 |  50 | 1 |\n",
       "| 225 | 105 | 1 |\n",
       "| 180 |  75 | 1 |\n",
       "| 190 |  80 | 1 |\n",
       "| 220 | 110 | 1 |\n",
       "\n"
      ],
      "text/plain": [
       "  Yield Nit Treat\n",
       "1 210   100 1    \n",
       "2 150    50 1    \n",
       "3 225   105 1    \n",
       "4 180    75 1    \n",
       "5 190    80 1    \n",
       "6 220   110 1    "
      ]
     },
     "metadata": {},
     "output_type": "display_data"
    }
   ],
   "source": [
    "\n",
    "df <- read_table2(\"STAT501_Lesson01/sugarbeets_new.txt\")\n",
    "head(df)"
   ]
  },
  {
   "cell_type": "code",
   "execution_count": 26,
   "metadata": {},
   "outputs": [
    {
     "data": {
      "text/plain": [
       "     Yield            Nit             Treat  \n",
       " Min.   :150.0   Min.   : 50.00   Min.   :1  \n",
       " 1st Qu.:170.0   1st Qu.: 66.25   1st Qu.:1  \n",
       " Median :190.0   Median : 82.50   Median :2  \n",
       " Mean   :190.5   Mean   : 81.83   Mean   :2  \n",
       " 3rd Qu.:213.8   3rd Qu.:100.00   3rd Qu.:3  \n",
       " Max.   :225.0   Max.   :110.00   Max.   :3  "
      ]
     },
     "metadata": {},
     "output_type": "display_data"
    }
   ],
   "source": [
    "summary(df)"
   ]
  },
  {
   "cell_type": "code",
   "execution_count": 27,
   "metadata": {},
   "outputs": [
    {
     "data": {
      "image/png": "[encoded data removed]",
      "text/plain": [
       "plot without title"
      ]
     },
     "metadata": {
      "image/png": {
       "height": 420,
       "width": 420
      }
     },
     "output_type": "display_data"
    }
   ],
   "source": [
    "ggboxplot(df, x='Treat', y=\"Yield\", add='jitter', col='Treat')"
   ]
  },
  {
   "cell_type": "code",
   "execution_count": 30,
   "metadata": {},
   "outputs": [
    {
     "data": {
      "image/png": "[encoded data removed]",
      "text/plain": [
       "plot without title"
      ]
     },
     "metadata": {
      "image/png": {
       "height": 420,
       "width": 420
      }
     },
     "output_type": "display_data"
    }
   ],
   "source": [
    "df$treat <- as.factor(df$Treat)\n",
    "ggscatter(df, x=\"Nit\", y=\"Yield\", col='treat')"
   ]
  },
  {
   "cell_type": "markdown",
   "metadata": {},
   "source": [
    "### 6.7 - Further Example"
   ]
  },
  {
   "cell_type": "code",
   "execution_count": 2,
   "metadata": {},
   "outputs": [
    {
     "name": "stderr",
     "output_type": "stream",
     "text": [
      "Parsed with column specification:\n",
      "cols(\n",
      "  Age = \u001b[32mcol_double()\u001b[39m,\n",
      "  Years = \u001b[32mcol_double()\u001b[39m,\n",
      "  FracLife = \u001b[32mcol_double()\u001b[39m,\n",
      "  Weight = \u001b[32mcol_double()\u001b[39m,\n",
      "  Height = \u001b[32mcol_double()\u001b[39m,\n",
      "  Chin = \u001b[32mcol_double()\u001b[39m,\n",
      "  Forearm = \u001b[32mcol_double()\u001b[39m,\n",
      "  Calf = \u001b[32mcol_double()\u001b[39m,\n",
      "  Pulse = \u001b[32mcol_double()\u001b[39m,\n",
      "  Systol = \u001b[32mcol_double()\u001b[39m,\n",
      "  Diastol = \u001b[32mcol_double()\u001b[39m\n",
      ")\n",
      "\n"
     ]
    },
    {
     "data": {
      "text/html": [
       "<table>\n",
       "<caption>A tibble: 6 × 11</caption>\n",
       "<thead>\n",
       "\t<tr><th scope=col>Age</th><th scope=col>Years</th><th scope=col>FracLife</th><th scope=col>Weight</th><th scope=col>Height</th><th scope=col>Chin</th><th scope=col>Forearm</th><th scope=col>Calf</th><th scope=col>Pulse</th><th scope=col>Systol</th><th scope=col>Diastol</th></tr>\n",
       "\t<tr><th scope=col>&lt;dbl&gt;</th><th scope=col>&lt;dbl&gt;</th><th scope=col>&lt;dbl&gt;</th><th scope=col>&lt;dbl&gt;</th><th scope=col>&lt;dbl&gt;</th><th scope=col>&lt;dbl&gt;</th><th scope=col>&lt;dbl&gt;</th><th scope=col>&lt;dbl&gt;</th><th scope=col>&lt;dbl&gt;</th><th scope=col>&lt;dbl&gt;</th><th scope=col>&lt;dbl&gt;</th></tr>\n",
       "</thead>\n",
       "<tbody>\n",
       "\t<tr><td>21</td><td> 1</td><td>0.04761905</td><td>71.0</td><td>1629</td><td>8.0</td><td> 7.0</td><td>12.7</td><td>88</td><td>170</td><td> 76</td></tr>\n",
       "\t<tr><td>22</td><td> 6</td><td>0.27272727</td><td>56.5</td><td>1569</td><td>3.3</td><td> 5.0</td><td> 8.0</td><td>64</td><td>120</td><td> 60</td></tr>\n",
       "\t<tr><td>24</td><td> 5</td><td>0.20833333</td><td>56.0</td><td>1561</td><td>3.3</td><td> 1.3</td><td> 4.3</td><td>68</td><td>125</td><td> 75</td></tr>\n",
       "\t<tr><td>24</td><td> 1</td><td>0.04166667</td><td>61.0</td><td>1619</td><td>3.7</td><td> 3.0</td><td> 4.3</td><td>52</td><td>148</td><td>120</td></tr>\n",
       "\t<tr><td>25</td><td> 1</td><td>0.04000000</td><td>65.0</td><td>1566</td><td>9.0</td><td>12.7</td><td>20.7</td><td>72</td><td>140</td><td> 78</td></tr>\n",
       "\t<tr><td>27</td><td>19</td><td>0.70370370</td><td>62.0</td><td>1639</td><td>3.0</td><td> 3.3</td><td> 5.7</td><td>72</td><td>106</td><td> 72</td></tr>\n",
       "</tbody>\n",
       "</table>\n"
      ],
      "text/latex": [
       "A tibble: 6 × 11\n",
       "\\begin{tabular}{lllllllllll}\n",
       " Age & Years & FracLife & Weight & Height & Chin & Forearm & Calf & Pulse & Systol & Diastol\\\\\n",
       " <dbl> & <dbl> & <dbl> & <dbl> & <dbl> & <dbl> & <dbl> & <dbl> & <dbl> & <dbl> & <dbl>\\\\\n",
       "\\hline\n",
       "\t 21 &  1 & 0.04761905 & 71.0 & 1629 & 8.0 &  7.0 & 12.7 & 88 & 170 &  76\\\\\n",
       "\t 22 &  6 & 0.27272727 & 56.5 & 1569 & 3.3 &  5.0 &  8.0 & 64 & 120 &  60\\\\\n",
       "\t 24 &  5 & 0.20833333 & 56.0 & 1561 & 3.3 &  1.3 &  4.3 & 68 & 125 &  75\\\\\n",
       "\t 24 &  1 & 0.04166667 & 61.0 & 1619 & 3.7 &  3.0 &  4.3 & 52 & 148 & 120\\\\\n",
       "\t 25 &  1 & 0.04000000 & 65.0 & 1566 & 9.0 & 12.7 & 20.7 & 72 & 140 &  78\\\\\n",
       "\t 27 & 19 & 0.70370370 & 62.0 & 1639 & 3.0 &  3.3 &  5.7 & 72 & 106 &  72\\\\\n",
       "\\end{tabular}\n"
      ],
      "text/markdown": [
       "\n",
       "A tibble: 6 × 11\n",
       "\n",
       "| Age &lt;dbl&gt; | Years &lt;dbl&gt; | FracLife &lt;dbl&gt; | Weight &lt;dbl&gt; | Height &lt;dbl&gt; | Chin &lt;dbl&gt; | Forearm &lt;dbl&gt; | Calf &lt;dbl&gt; | Pulse &lt;dbl&gt; | Systol &lt;dbl&gt; | Diastol &lt;dbl&gt; |\n",
       "|---|---|---|---|---|---|---|---|---|---|---|\n",
       "| 21 |  1 | 0.04761905 | 71.0 | 1629 | 8.0 |  7.0 | 12.7 | 88 | 170 |  76 |\n",
       "| 22 |  6 | 0.27272727 | 56.5 | 1569 | 3.3 |  5.0 |  8.0 | 64 | 120 |  60 |\n",
       "| 24 |  5 | 0.20833333 | 56.0 | 1561 | 3.3 |  1.3 |  4.3 | 68 | 125 |  75 |\n",
       "| 24 |  1 | 0.04166667 | 61.0 | 1619 | 3.7 |  3.0 |  4.3 | 52 | 148 | 120 |\n",
       "| 25 |  1 | 0.04000000 | 65.0 | 1566 | 9.0 | 12.7 | 20.7 | 72 | 140 |  78 |\n",
       "| 27 | 19 | 0.70370370 | 62.0 | 1639 | 3.0 |  3.3 |  5.7 | 72 | 106 |  72 |\n",
       "\n"
      ],
      "text/plain": [
       "  Age Years FracLife   Weight Height Chin Forearm Calf Pulse Systol Diastol\n",
       "1 21   1    0.04761905 71.0   1629   8.0   7.0    12.7 88    170     76    \n",
       "2 22   6    0.27272727 56.5   1569   3.3   5.0     8.0 64    120     60    \n",
       "3 24   5    0.20833333 56.0   1561   3.3   1.3     4.3 68    125     75    \n",
       "4 24   1    0.04166667 61.0   1619   3.7   3.0     4.3 52    148    120    \n",
       "5 25   1    0.04000000 65.0   1566   9.0  12.7    20.7 72    140     78    \n",
       "6 27  19    0.70370370 62.0   1639   3.0   3.3     5.7 72    106     72    "
      ]
     },
     "metadata": {},
     "output_type": "display_data"
    }
   ],
   "source": [
    "peru.df <- read_table2(\"STAT501_Lesson01/peru.txt\")\n",
    "head(peru.df)"
   ]
  },
  {
   "cell_type": "code",
   "execution_count": 3,
   "metadata": {},
   "outputs": [
    {
     "data": {
      "text/plain": [
       "      Age            Years          FracLife           Weight     \n",
       " Min.   :21.00   Min.   : 1.00   Min.   :0.02128   Min.   :53.00  \n",
       " 1st Qu.:32.50   1st Qu.: 8.00   1st Qu.:0.22739   1st Qu.:57.00  \n",
       " Median :38.00   Median :13.00   Median :0.39394   Median :62.50  \n",
       " Mean   :36.54   Mean   :14.74   Mean   :0.38633   Mean   :63.16  \n",
       " 3rd Qu.:41.50   3rd Qu.:19.00   3rd Qu.:0.52637   3rd Qu.:68.00  \n",
       " Max.   :54.00   Max.   :43.00   Max.   :0.89286   Max.   :87.00  \n",
       "     Height          Chin           Forearm            Calf       \n",
       " Min.   :1473   Min.   : 3.000   Min.   : 1.300   Min.   : 0.000  \n",
       " 1st Qu.:1537   1st Qu.: 3.300   1st Qu.: 3.300   1st Qu.: 5.700  \n",
       " Median :1572   Median : 5.300   Median : 5.000   Median : 7.700  \n",
       " Mean   :1579   Mean   : 5.849   Mean   : 5.067   Mean   : 8.251  \n",
       " 3rd Qu.:1627   3rd Qu.: 7.650   3rd Qu.: 5.850   3rd Qu.:11.300  \n",
       " Max.   :1653   Max.   :12.000   Max.   :12.700   Max.   :20.700  \n",
       "     Pulse           Systol         Diastol      \n",
       " Min.   :52.00   Min.   :106.0   Min.   : 54.00  \n",
       " 1st Qu.:64.00   1st Qu.:118.0   1st Qu.: 70.00  \n",
       " Median :72.00   Median :126.0   Median : 76.00  \n",
       " Mean   :70.31   Mean   :127.4   Mean   : 76.18  \n",
       " 3rd Qu.:76.00   3rd Qu.:134.0   3rd Qu.: 81.00  \n",
       " Max.   :92.00   Max.   :170.0   Max.   :120.00  "
      ]
     },
     "metadata": {},
     "output_type": "display_data"
    }
   ],
   "source": [
    "summary(peru.df)"
   ]
  },
  {
   "cell_type": "code",
   "execution_count": 4,
   "metadata": {},
   "outputs": [
    {
     "data": {
      "text/plain": [
       "\n",
       "Call:\n",
       "lm(formula = Systol ~ . - Diastol, data = peru.df)\n",
       "\n",
       "Residuals:\n",
       "     Min       1Q   Median       3Q      Max \n",
       "-12.3442  -6.3972   0.0507   5.7292  14.5257 \n",
       "\n",
       "Coefficients:\n",
       "              Estimate Std. Error t value Pr(>|t|)    \n",
       "(Intercept)  146.81907   48.97096   2.998 0.005526 ** \n",
       "Age           -1.12144    0.32741  -3.425 0.001855 ** \n",
       "Years          2.45538    0.81458   3.014 0.005306 ** \n",
       "FracLife    -115.29395   30.16900  -3.822 0.000648 ***\n",
       "Weight         1.41393    0.43097   3.281 0.002697 ** \n",
       "Height        -0.03464    0.03686  -0.940 0.355194    \n",
       "Chin          -0.94369    0.74097  -1.274 0.212923    \n",
       "Forearm       -1.17085    1.19329  -0.981 0.334612    \n",
       "Calf          -0.15867    0.53716  -0.295 0.769810    \n",
       "Pulse          0.11455    0.17043   0.672 0.506818    \n",
       "---\n",
       "Signif. codes:  0 '***' 0.001 '**' 0.01 '*' 0.05 '.' 0.1 ' ' 1\n",
       "\n",
       "Residual standard error: 8.655 on 29 degrees of freedom\n",
       "Multiple R-squared:  0.6674,\tAdjusted R-squared:  0.5641 \n",
       "F-statistic: 6.465 on 9 and 29 DF,  p-value: 5.241e-05\n"
      ]
     },
     "metadata": {},
     "output_type": "display_data"
    }
   ],
   "source": [
    "mlm.fll <- lm(Systol ~ . -Diastol,data=peru.df)\n",
    "summary(mlm.fll)"
   ]
  },
  {
   "cell_type": "code",
   "execution_count": 17,
   "metadata": {},
   "outputs": [
    {
     "data": {
      "image/png": "[encoded data removed]",
      "text/plain": [
       "plot without title"
      ]
     },
     "metadata": {
      "image/png": {
       "height": 420,
       "width": 420
      }
     },
     "output_type": "display_data"
    }
   ],
   "source": [
    "plot(mlm.fll$residuals ~ mlm.fll$fitted.values)\n",
    "abline(h=0, col='red')"
   ]
  },
  {
   "cell_type": "code",
   "execution_count": 5,
   "metadata": {},
   "outputs": [
    {
     "data": {
      "text/html": [
       "<table>\n",
       "<caption>A anova: 10 × 5</caption>\n",
       "<thead>\n",
       "\t<tr><th></th><th scope=col>Df</th><th scope=col>Sum Sq</th><th scope=col>Mean Sq</th><th scope=col>F value</th><th scope=col>Pr(&gt;F)</th></tr>\n",
       "\t<tr><th></th><th scope=col>&lt;dbl&gt;</th><th scope=col>&lt;dbl&gt;</th><th scope=col>&lt;dbl&gt;</th><th scope=col>&lt;dbl&gt;</th><th scope=col>&lt;dbl&gt;</th></tr>\n",
       "</thead>\n",
       "<tbody>\n",
       "\t<tr><th scope=row>Age</th><td> 1</td><td>   0.22</td><td>   0.22</td><td> 0.00</td><td>0.96</td></tr>\n",
       "\t<tr><th scope=row>Years</th><td> 1</td><td>  82.55</td><td>  82.55</td><td> 1.10</td><td>0.30</td></tr>\n",
       "\t<tr><th scope=row>FracLife</th><td> 1</td><td>3112.41</td><td>3112.41</td><td>41.54</td><td>0.00</td></tr>\n",
       "\t<tr><th scope=row>Weight</th><td> 1</td><td> 706.54</td><td> 706.54</td><td> 9.43</td><td>0.00</td></tr>\n",
       "\t<tr><th scope=row>Height</th><td> 1</td><td>   1.68</td><td>   1.68</td><td> 0.02</td><td>0.88</td></tr>\n",
       "\t<tr><th scope=row>Chin</th><td> 1</td><td> 297.68</td><td> 297.68</td><td> 3.97</td><td>0.06</td></tr>\n",
       "\t<tr><th scope=row>Forearm</th><td> 1</td><td> 113.91</td><td> 113.91</td><td> 1.52</td><td>0.23</td></tr>\n",
       "\t<tr><th scope=row>Calf</th><td> 1</td><td>  10.01</td><td>  10.01</td><td> 0.13</td><td>0.72</td></tr>\n",
       "\t<tr><th scope=row>Pulse</th><td> 1</td><td>  33.84</td><td>  33.84</td><td> 0.45</td><td>0.51</td></tr>\n",
       "\t<tr><th scope=row>Residuals</th><td>29</td><td>2172.58</td><td>  74.92</td><td>   NA</td><td>  NA</td></tr>\n",
       "</tbody>\n",
       "</table>\n"
      ],
      "text/latex": [
       "A anova: 10 × 5\n",
       "\\begin{tabular}{r|lllll}\n",
       "  & Df & Sum Sq & Mean Sq & F value & Pr(>F)\\\\\n",
       "  & <dbl> & <dbl> & <dbl> & <dbl> & <dbl>\\\\\n",
       "\\hline\n",
       "\tAge &  1 &    0.22 &    0.22 &  0.00 & 0.96\\\\\n",
       "\tYears &  1 &   82.55 &   82.55 &  1.10 & 0.30\\\\\n",
       "\tFracLife &  1 & 3112.41 & 3112.41 & 41.54 & 0.00\\\\\n",
       "\tWeight &  1 &  706.54 &  706.54 &  9.43 & 0.00\\\\\n",
       "\tHeight &  1 &    1.68 &    1.68 &  0.02 & 0.88\\\\\n",
       "\tChin &  1 &  297.68 &  297.68 &  3.97 & 0.06\\\\\n",
       "\tForearm &  1 &  113.91 &  113.91 &  1.52 & 0.23\\\\\n",
       "\tCalf &  1 &   10.01 &   10.01 &  0.13 & 0.72\\\\\n",
       "\tPulse &  1 &   33.84 &   33.84 &  0.45 & 0.51\\\\\n",
       "\tResiduals & 29 & 2172.58 &   74.92 &    NA &   NA\\\\\n",
       "\\end{tabular}\n"
      ],
      "text/markdown": [
       "\n",
       "A anova: 10 × 5\n",
       "\n",
       "| <!--/--> | Df &lt;dbl&gt; | Sum Sq &lt;dbl&gt; | Mean Sq &lt;dbl&gt; | F value &lt;dbl&gt; | Pr(&gt;F) &lt;dbl&gt; |\n",
       "|---|---|---|---|---|---|\n",
       "| Age |  1 |    0.22 |    0.22 |  0.00 | 0.96 |\n",
       "| Years |  1 |   82.55 |   82.55 |  1.10 | 0.30 |\n",
       "| FracLife |  1 | 3112.41 | 3112.41 | 41.54 | 0.00 |\n",
       "| Weight |  1 |  706.54 |  706.54 |  9.43 | 0.00 |\n",
       "| Height |  1 |    1.68 |    1.68 |  0.02 | 0.88 |\n",
       "| Chin |  1 |  297.68 |  297.68 |  3.97 | 0.06 |\n",
       "| Forearm |  1 |  113.91 |  113.91 |  1.52 | 0.23 |\n",
       "| Calf |  1 |   10.01 |   10.01 |  0.13 | 0.72 |\n",
       "| Pulse |  1 |   33.84 |   33.84 |  0.45 | 0.51 |\n",
       "| Residuals | 29 | 2172.58 |   74.92 |    NA |   NA |\n",
       "\n"
      ],
      "text/plain": [
       "          Df Sum Sq  Mean Sq F value Pr(>F)\n",
       "Age        1    0.22    0.22  0.00   0.96  \n",
       "Years      1   82.55   82.55  1.10   0.30  \n",
       "FracLife   1 3112.41 3112.41 41.54   0.00  \n",
       "Weight     1  706.54  706.54  9.43   0.00  \n",
       "Height     1    1.68    1.68  0.02   0.88  \n",
       "Chin       1  297.68  297.68  3.97   0.06  \n",
       "Forearm    1  113.91  113.91  1.52   0.23  \n",
       "Calf       1   10.01   10.01  0.13   0.72  \n",
       "Pulse      1   33.84   33.84  0.45   0.51  \n",
       "Residuals 29 2172.58   74.92    NA     NA  "
      ]
     },
     "metadata": {},
     "output_type": "display_data"
    }
   ],
   "source": [
    "round(anova(mlm.fll),2)"
   ]
  },
  {
   "cell_type": "code",
   "execution_count": 6,
   "metadata": {},
   "outputs": [
    {
     "data": {
      "text/html": [
       "<table>\n",
       "<caption>A anova: 11 × 4</caption>\n",
       "<thead>\n",
       "\t<tr><th></th><th scope=col>Sum Sq</th><th scope=col>Df</th><th scope=col>F value</th><th scope=col>Pr(&gt;F)</th></tr>\n",
       "\t<tr><th></th><th scope=col>&lt;dbl&gt;</th><th scope=col>&lt;dbl&gt;</th><th scope=col>&lt;dbl&gt;</th><th scope=col>&lt;dbl&gt;</th></tr>\n",
       "</thead>\n",
       "<tbody>\n",
       "\t<tr><th scope=row>(Intercept)</th><td> 673.39</td><td> 1</td><td> 8.99</td><td>0.01</td></tr>\n",
       "\t<tr><th scope=row>Age</th><td> 878.90</td><td> 1</td><td>11.73</td><td>0.00</td></tr>\n",
       "\t<tr><th scope=row>Years</th><td> 680.69</td><td> 1</td><td> 9.09</td><td>0.01</td></tr>\n",
       "\t<tr><th scope=row>FracLife</th><td>1094.13</td><td> 1</td><td>14.60</td><td>0.00</td></tr>\n",
       "\t<tr><th scope=row>Weight</th><td> 806.37</td><td> 1</td><td>10.76</td><td>0.00</td></tr>\n",
       "\t<tr><th scope=row>Height</th><td>  66.14</td><td> 1</td><td> 0.88</td><td>0.36</td></tr>\n",
       "\t<tr><th scope=row>Chin</th><td> 121.52</td><td> 1</td><td> 1.62</td><td>0.21</td></tr>\n",
       "\t<tr><th scope=row>Forearm</th><td>  72.13</td><td> 1</td><td> 0.96</td><td>0.33</td></tr>\n",
       "\t<tr><th scope=row>Calf</th><td>   6.54</td><td> 1</td><td> 0.09</td><td>0.77</td></tr>\n",
       "\t<tr><th scope=row>Pulse</th><td>  33.84</td><td> 1</td><td> 0.45</td><td>0.51</td></tr>\n",
       "\t<tr><th scope=row>Residuals</th><td>2172.58</td><td>29</td><td>   NA</td><td>  NA</td></tr>\n",
       "</tbody>\n",
       "</table>\n"
      ],
      "text/latex": [
       "A anova: 11 × 4\n",
       "\\begin{tabular}{r|llll}\n",
       "  & Sum Sq & Df & F value & Pr(>F)\\\\\n",
       "  & <dbl> & <dbl> & <dbl> & <dbl>\\\\\n",
       "\\hline\n",
       "\t(Intercept) &  673.39 &  1 &  8.99 & 0.01\\\\\n",
       "\tAge &  878.90 &  1 & 11.73 & 0.00\\\\\n",
       "\tYears &  680.69 &  1 &  9.09 & 0.01\\\\\n",
       "\tFracLife & 1094.13 &  1 & 14.60 & 0.00\\\\\n",
       "\tWeight &  806.37 &  1 & 10.76 & 0.00\\\\\n",
       "\tHeight &   66.14 &  1 &  0.88 & 0.36\\\\\n",
       "\tChin &  121.52 &  1 &  1.62 & 0.21\\\\\n",
       "\tForearm &   72.13 &  1 &  0.96 & 0.33\\\\\n",
       "\tCalf &    6.54 &  1 &  0.09 & 0.77\\\\\n",
       "\tPulse &   33.84 &  1 &  0.45 & 0.51\\\\\n",
       "\tResiduals & 2172.58 & 29 &    NA &   NA\\\\\n",
       "\\end{tabular}\n"
      ],
      "text/markdown": [
       "\n",
       "A anova: 11 × 4\n",
       "\n",
       "| <!--/--> | Sum Sq &lt;dbl&gt; | Df &lt;dbl&gt; | F value &lt;dbl&gt; | Pr(&gt;F) &lt;dbl&gt; |\n",
       "|---|---|---|---|---|\n",
       "| (Intercept) |  673.39 |  1 |  8.99 | 0.01 |\n",
       "| Age |  878.90 |  1 | 11.73 | 0.00 |\n",
       "| Years |  680.69 |  1 |  9.09 | 0.01 |\n",
       "| FracLife | 1094.13 |  1 | 14.60 | 0.00 |\n",
       "| Weight |  806.37 |  1 | 10.76 | 0.00 |\n",
       "| Height |   66.14 |  1 |  0.88 | 0.36 |\n",
       "| Chin |  121.52 |  1 |  1.62 | 0.21 |\n",
       "| Forearm |   72.13 |  1 |  0.96 | 0.33 |\n",
       "| Calf |    6.54 |  1 |  0.09 | 0.77 |\n",
       "| Pulse |   33.84 |  1 |  0.45 | 0.51 |\n",
       "| Residuals | 2172.58 | 29 |    NA |   NA |\n",
       "\n"
      ],
      "text/plain": [
       "            Sum Sq  Df F value Pr(>F)\n",
       "(Intercept)  673.39  1  8.99   0.01  \n",
       "Age          878.90  1 11.73   0.00  \n",
       "Years        680.69  1  9.09   0.01  \n",
       "FracLife    1094.13  1 14.60   0.00  \n",
       "Weight       806.37  1 10.76   0.00  \n",
       "Height        66.14  1  0.88   0.36  \n",
       "Chin         121.52  1  1.62   0.21  \n",
       "Forearm       72.13  1  0.96   0.33  \n",
       "Calf           6.54  1  0.09   0.77  \n",
       "Pulse         33.84  1  0.45   0.51  \n",
       "Residuals   2172.58 29    NA     NA  "
      ]
     },
     "metadata": {},
     "output_type": "display_data"
    }
   ],
   "source": [
    "round(Anova(mlm.fll, type = 3),2)"
   ]
  },
  {
   "cell_type": "markdown",
   "metadata": {},
   "source": [
    "### Partial F-test\n",
    "\n",
    "$H_{0}$ : $\\beta_{5} = \\beta_{6} = \\beta_{7} =\\beta_{8} = \\beta_{9}$  \n",
    "$H_{A}$ : at least one of $\\beta_{5},\\beta_{6},\\beta_{7},\\beta_{8},\\beta_{9} \\neq 0$\n",
    "\n",
    "Height, Chin, Forearm, Calf and Pulse are removed."
   ]
  },
  {
   "cell_type": "code",
   "execution_count": 8,
   "metadata": {},
   "outputs": [
    {
     "data": {
      "text/plain": [
       "\n",
       "Call:\n",
       "lm(formula = Systol ~ Age + Years + FracLife + Weight, data = peru.df)\n",
       "\n",
       "Residuals:\n",
       "    Min      1Q  Median      3Q     Max \n",
       "-16.890  -5.976   0.058   5.407  16.835 \n",
       "\n",
       "Coefficients:\n",
       "             Estimate Std. Error t value Pr(>|t|)    \n",
       "(Intercept)  116.8354    21.9797   5.316 6.69e-06 ***\n",
       "Age           -0.9507     0.3164  -3.004 0.004971 ** \n",
       "Years          2.3393     0.7714   3.032 0.004621 ** \n",
       "FracLife    -108.0728    28.3302  -3.815 0.000549 ***\n",
       "Weight         0.8324     0.2754   3.022 0.004742 ** \n",
       "---\n",
       "Signif. codes:  0 '***' 0.001 '**' 0.01 '*' 0.05 '.' 0.1 ' ' 1\n",
       "\n",
       "Residual standard error: 8.795 on 34 degrees of freedom\n",
       "Multiple R-squared:  0.5974,\tAdjusted R-squared:   0.55 \n",
       "F-statistic: 12.61 on 4 and 34 DF,  p-value: 2.142e-06\n"
      ]
     },
     "metadata": {},
     "output_type": "display_data"
    }
   ],
   "source": [
    "mlm.rd <- lm(Systol ~ Age + Years + FracLife + Weight ,data=peru.df)\n",
    "summary(mlm.rd)"
   ]
  },
  {
   "cell_type": "code",
   "execution_count": 18,
   "metadata": {},
   "outputs": [
    {
     "data": {
      "image/png": "[encoded data removed]",
      "text/plain": [
       "plot without title"
      ]
     },
     "metadata": {
      "image/png": {
       "height": 420,
       "width": 420
      }
     },
     "output_type": "display_data"
    }
   ],
   "source": [
    "plot(mlm.rd$residuals ~ mlm.rd$fitted.values)\n",
    "abline(h=0, col='red')"
   ]
  },
  {
   "cell_type": "code",
   "execution_count": 9,
   "metadata": {},
   "outputs": [
    {
     "data": {
      "text/html": [
       "<table>\n",
       "<caption>A anova: 6 × 4</caption>\n",
       "<thead>\n",
       "\t<tr><th></th><th scope=col>Sum Sq</th><th scope=col>Df</th><th scope=col>F value</th><th scope=col>Pr(&gt;F)</th></tr>\n",
       "\t<tr><th></th><th scope=col>&lt;dbl&gt;</th><th scope=col>&lt;dbl&gt;</th><th scope=col>&lt;dbl&gt;</th><th scope=col>&lt;dbl&gt;</th></tr>\n",
       "</thead>\n",
       "<tbody>\n",
       "\t<tr><th scope=row>(Intercept)</th><td>2185.42</td><td> 1</td><td>28.26</td><td> 0</td></tr>\n",
       "\t<tr><th scope=row>Age</th><td> 698.07</td><td> 1</td><td> 9.03</td><td> 0</td></tr>\n",
       "\t<tr><th scope=row>Years</th><td> 711.20</td><td> 1</td><td> 9.20</td><td> 0</td></tr>\n",
       "\t<tr><th scope=row>FracLife</th><td>1125.55</td><td> 1</td><td>14.55</td><td> 0</td></tr>\n",
       "\t<tr><th scope=row>Weight</th><td> 706.54</td><td> 1</td><td> 9.14</td><td> 0</td></tr>\n",
       "\t<tr><th scope=row>Residuals</th><td>2629.71</td><td>34</td><td>   NA</td><td>NA</td></tr>\n",
       "</tbody>\n",
       "</table>\n"
      ],
      "text/latex": [
       "A anova: 6 × 4\n",
       "\\begin{tabular}{r|llll}\n",
       "  & Sum Sq & Df & F value & Pr(>F)\\\\\n",
       "  & <dbl> & <dbl> & <dbl> & <dbl>\\\\\n",
       "\\hline\n",
       "\t(Intercept) & 2185.42 &  1 & 28.26 &  0\\\\\n",
       "\tAge &  698.07 &  1 &  9.03 &  0\\\\\n",
       "\tYears &  711.20 &  1 &  9.20 &  0\\\\\n",
       "\tFracLife & 1125.55 &  1 & 14.55 &  0\\\\\n",
       "\tWeight &  706.54 &  1 &  9.14 &  0\\\\\n",
       "\tResiduals & 2629.71 & 34 &    NA & NA\\\\\n",
       "\\end{tabular}\n"
      ],
      "text/markdown": [
       "\n",
       "A anova: 6 × 4\n",
       "\n",
       "| <!--/--> | Sum Sq &lt;dbl&gt; | Df &lt;dbl&gt; | F value &lt;dbl&gt; | Pr(&gt;F) &lt;dbl&gt; |\n",
       "|---|---|---|---|---|\n",
       "| (Intercept) | 2185.42 |  1 | 28.26 |  0 |\n",
       "| Age |  698.07 |  1 |  9.03 |  0 |\n",
       "| Years |  711.20 |  1 |  9.20 |  0 |\n",
       "| FracLife | 1125.55 |  1 | 14.55 |  0 |\n",
       "| Weight |  706.54 |  1 |  9.14 |  0 |\n",
       "| Residuals | 2629.71 | 34 |    NA | NA |\n",
       "\n"
      ],
      "text/plain": [
       "            Sum Sq  Df F value Pr(>F)\n",
       "(Intercept) 2185.42  1 28.26    0    \n",
       "Age          698.07  1  9.03    0    \n",
       "Years        711.20  1  9.20    0    \n",
       "FracLife    1125.55  1 14.55    0    \n",
       "Weight       706.54  1  9.14    0    \n",
       "Residuals   2629.71 34    NA   NA    "
      ]
     },
     "metadata": {},
     "output_type": "display_data"
    }
   ],
   "source": [
    "round(Anova(mlm.rd, type=3),2)"
   ]
  },
  {
   "cell_type": "code",
   "execution_count": 11,
   "metadata": {},
   "outputs": [
    {
     "data": {
      "text/html": [
       "<table>\n",
       "<caption>A anova: 2 × 6</caption>\n",
       "<thead>\n",
       "\t<tr><th></th><th scope=col>Res.Df</th><th scope=col>RSS</th><th scope=col>Df</th><th scope=col>Sum of Sq</th><th scope=col>F</th><th scope=col>Pr(&gt;F)</th></tr>\n",
       "\t<tr><th></th><th scope=col>&lt;dbl&gt;</th><th scope=col>&lt;dbl&gt;</th><th scope=col>&lt;dbl&gt;</th><th scope=col>&lt;dbl&gt;</th><th scope=col>&lt;dbl&gt;</th><th scope=col>&lt;dbl&gt;</th></tr>\n",
       "</thead>\n",
       "<tbody>\n",
       "\t<tr><th scope=row>1</th><td>34</td><td>2629.708</td><td>NA</td><td>      NA</td><td>      NA</td><td>       NA</td></tr>\n",
       "\t<tr><th scope=row>2</th><td>29</td><td>2172.584</td><td> 5</td><td>457.1238</td><td>1.220352</td><td>0.3247295</td></tr>\n",
       "</tbody>\n",
       "</table>\n"
      ],
      "text/latex": [
       "A anova: 2 × 6\n",
       "\\begin{tabular}{r|llllll}\n",
       "  & Res.Df & RSS & Df & Sum of Sq & F & Pr(>F)\\\\\n",
       "  & <dbl> & <dbl> & <dbl> & <dbl> & <dbl> & <dbl>\\\\\n",
       "\\hline\n",
       "\t1 & 34 & 2629.708 & NA &       NA &       NA &        NA\\\\\n",
       "\t2 & 29 & 2172.584 &  5 & 457.1238 & 1.220352 & 0.3247295\\\\\n",
       "\\end{tabular}\n"
      ],
      "text/markdown": [
       "\n",
       "A anova: 2 × 6\n",
       "\n",
       "| <!--/--> | Res.Df &lt;dbl&gt; | RSS &lt;dbl&gt; | Df &lt;dbl&gt; | Sum of Sq &lt;dbl&gt; | F &lt;dbl&gt; | Pr(&gt;F) &lt;dbl&gt; |\n",
       "|---|---|---|---|---|---|---|\n",
       "| 1 | 34 | 2629.708 | NA |       NA |       NA |        NA |\n",
       "| 2 | 29 | 2172.584 |  5 | 457.1238 | 1.220352 | 0.3247295 |\n",
       "\n"
      ],
      "text/plain": [
       "  Res.Df RSS      Df Sum of Sq F        Pr(>F)   \n",
       "1 34     2629.708 NA       NA        NA        NA\n",
       "2 29     2172.584  5 457.1238  1.220352 0.3247295"
      ]
     },
     "metadata": {},
     "output_type": "display_data"
    }
   ],
   "source": [
    "anova(mlm.rd, mlm.fll)\n",
    "\n",
    "### F score is 1.22 df is 5 and pvalue is 0.32 so those beta5 ~ beta9 is not useful for out regression model."
   ]
  },
  {
   "cell_type": "markdown",
   "metadata": {},
   "source": [
    "## Example 6-5\n"
   ]
  },
  {
   "cell_type": "code",
   "execution_count": 12,
   "metadata": {},
   "outputs": [
    {
     "name": "stderr",
     "output_type": "stream",
     "text": [
      "Parsed with column specification:\n",
      "cols(\n",
      "  Obs = \u001b[32mcol_double()\u001b[39m,\n",
      "  Sex = \u001b[31mcol_character()\u001b[39m,\n",
      "  Height = \u001b[32mcol_double()\u001b[39m,\n",
      "  LeftArm = \u001b[32mcol_double()\u001b[39m,\n",
      "  RtArm = \u001b[32mcol_double()\u001b[39m,\n",
      "  LeftFoot = \u001b[32mcol_double()\u001b[39m,\n",
      "  RtFoot = \u001b[32mcol_double()\u001b[39m,\n",
      "  LeftHand = \u001b[32mcol_double()\u001b[39m,\n",
      "  RtHand = \u001b[32mcol_double()\u001b[39m,\n",
      "  HeadCirc = \u001b[32mcol_double()\u001b[39m,\n",
      "  nose = \u001b[32mcol_double()\u001b[39m\n",
      ")\n",
      "\n"
     ]
    },
    {
     "data": {
      "text/html": [
       "<table>\n",
       "<caption>A tibble: 6 × 11</caption>\n",
       "<thead>\n",
       "\t<tr><th scope=col>Obs</th><th scope=col>Sex</th><th scope=col>Height</th><th scope=col>LeftArm</th><th scope=col>RtArm</th><th scope=col>LeftFoot</th><th scope=col>RtFoot</th><th scope=col>LeftHand</th><th scope=col>RtHand</th><th scope=col>HeadCirc</th><th scope=col>nose</th></tr>\n",
       "\t<tr><th scope=col>&lt;dbl&gt;</th><th scope=col>&lt;chr&gt;</th><th scope=col>&lt;dbl&gt;</th><th scope=col>&lt;dbl&gt;</th><th scope=col>&lt;dbl&gt;</th><th scope=col>&lt;dbl&gt;</th><th scope=col>&lt;dbl&gt;</th><th scope=col>&lt;dbl&gt;</th><th scope=col>&lt;dbl&gt;</th><th scope=col>&lt;dbl&gt;</th><th scope=col>&lt;dbl&gt;</th></tr>\n",
       "</thead>\n",
       "<tbody>\n",
       "\t<tr><td>1</td><td>Male</td><td>69</td><td>25.5</td><td>25.5</td><td>27.0</td><td>26.5</td><td> 9.50</td><td>9.00</td><td>58.5</td><td>5.5</td></tr>\n",
       "\t<tr><td>2</td><td>Male</td><td>79</td><td>28.0</td><td>25.0</td><td>29.0</td><td>27.5</td><td> 9.00</td><td>9.00</td><td>54.0</td><td>5.0</td></tr>\n",
       "\t<tr><td>3</td><td>Male</td><td>75</td><td>27.0</td><td>27.5</td><td>31.0</td><td>32.0</td><td> 3.75</td><td>3.75</td><td>62.5</td><td>5.0</td></tr>\n",
       "\t<tr><td>4</td><td>Male</td><td>69</td><td>25.0</td><td>25.5</td><td>25.5</td><td>25.5</td><td>10.00</td><td>8.00</td><td>58.5</td><td>5.5</td></tr>\n",
       "\t<tr><td>5</td><td>Male</td><td>65</td><td>25.0</td><td>25.0</td><td>23.5</td><td>23.0</td><td> 9.50</td><td>9.40</td><td>57.0</td><td>4.4</td></tr>\n",
       "\t<tr><td>6</td><td>Male</td><td>79</td><td>30.5</td><td>30.5</td><td>28.0</td><td>28.0</td><td> 8.50</td><td>8.50</td><td>58.5</td><td>4.5</td></tr>\n",
       "</tbody>\n",
       "</table>\n"
      ],
      "text/latex": [
       "A tibble: 6 × 11\n",
       "\\begin{tabular}{lllllllllll}\n",
       " Obs & Sex & Height & LeftArm & RtArm & LeftFoot & RtFoot & LeftHand & RtHand & HeadCirc & nose\\\\\n",
       " <dbl> & <chr> & <dbl> & <dbl> & <dbl> & <dbl> & <dbl> & <dbl> & <dbl> & <dbl> & <dbl>\\\\\n",
       "\\hline\n",
       "\t 1 & Male & 69 & 25.5 & 25.5 & 27.0 & 26.5 &  9.50 & 9.00 & 58.5 & 5.5\\\\\n",
       "\t 2 & Male & 79 & 28.0 & 25.0 & 29.0 & 27.5 &  9.00 & 9.00 & 54.0 & 5.0\\\\\n",
       "\t 3 & Male & 75 & 27.0 & 27.5 & 31.0 & 32.0 &  3.75 & 3.75 & 62.5 & 5.0\\\\\n",
       "\t 4 & Male & 69 & 25.0 & 25.5 & 25.5 & 25.5 & 10.00 & 8.00 & 58.5 & 5.5\\\\\n",
       "\t 5 & Male & 65 & 25.0 & 25.0 & 23.5 & 23.0 &  9.50 & 9.40 & 57.0 & 4.4\\\\\n",
       "\t 6 & Male & 79 & 30.5 & 30.5 & 28.0 & 28.0 &  8.50 & 8.50 & 58.5 & 4.5\\\\\n",
       "\\end{tabular}\n"
      ],
      "text/markdown": [
       "\n",
       "A tibble: 6 × 11\n",
       "\n",
       "| Obs &lt;dbl&gt; | Sex &lt;chr&gt; | Height &lt;dbl&gt; | LeftArm &lt;dbl&gt; | RtArm &lt;dbl&gt; | LeftFoot &lt;dbl&gt; | RtFoot &lt;dbl&gt; | LeftHand &lt;dbl&gt; | RtHand &lt;dbl&gt; | HeadCirc &lt;dbl&gt; | nose &lt;dbl&gt; |\n",
       "|---|---|---|---|---|---|---|---|---|---|---|\n",
       "| 1 | Male | 69 | 25.5 | 25.5 | 27.0 | 26.5 |  9.50 | 9.00 | 58.5 | 5.5 |\n",
       "| 2 | Male | 79 | 28.0 | 25.0 | 29.0 | 27.5 |  9.00 | 9.00 | 54.0 | 5.0 |\n",
       "| 3 | Male | 75 | 27.0 | 27.5 | 31.0 | 32.0 |  3.75 | 3.75 | 62.5 | 5.0 |\n",
       "| 4 | Male | 69 | 25.0 | 25.5 | 25.5 | 25.5 | 10.00 | 8.00 | 58.5 | 5.5 |\n",
       "| 5 | Male | 65 | 25.0 | 25.0 | 23.5 | 23.0 |  9.50 | 9.40 | 57.0 | 4.4 |\n",
       "| 6 | Male | 79 | 30.5 | 30.5 | 28.0 | 28.0 |  8.50 | 8.50 | 58.5 | 4.5 |\n",
       "\n"
      ],
      "text/plain": [
       "  Obs Sex  Height LeftArm RtArm LeftFoot RtFoot LeftHand RtHand HeadCirc nose\n",
       "1 1   Male 69     25.5    25.5  27.0     26.5    9.50    9.00   58.5     5.5 \n",
       "2 2   Male 79     28.0    25.0  29.0     27.5    9.00    9.00   54.0     5.0 \n",
       "3 3   Male 75     27.0    27.5  31.0     32.0    3.75    3.75   62.5     5.0 \n",
       "4 4   Male 69     25.0    25.5  25.5     25.5   10.00    8.00   58.5     5.5 \n",
       "5 5   Male 65     25.0    25.0  23.5     23.0    9.50    9.40   57.0     4.4 \n",
       "6 6   Male 79     30.5    30.5  28.0     28.0    8.50    8.50   58.5     4.5 "
      ]
     },
     "metadata": {},
     "output_type": "display_data"
    }
   ],
   "source": [
    "df <- read_table2(\"STAT501_Lesson01/Physical.txt\")\n",
    "head(df)"
   ]
  },
  {
   "cell_type": "code",
   "execution_count": 14,
   "metadata": {},
   "outputs": [
    {
     "data": {
      "text/plain": [
       "\n",
       "Call:\n",
       "lm(formula = Height ~ LeftArm + LeftFoot + HeadCirc + nose, data = df)\n",
       "\n",
       "Residuals:\n",
       "    Min      1Q  Median      3Q     Max \n",
       "-4.0660 -1.1850 -0.1569  1.2539  5.5071 \n",
       "\n",
       "Coefficients:\n",
       "            Estimate Std. Error t value Pr(>|t|)    \n",
       "(Intercept) 18.50265    7.83031   2.363   0.0221 *  \n",
       "LeftArm      0.80205    0.17074   4.697 2.09e-05 ***\n",
       "LeftFoot     0.99730    0.16230   6.145 1.30e-07 ***\n",
       "HeadCirc     0.08052    0.14952   0.539   0.5926    \n",
       "nose        -0.14740    0.49233  -0.299   0.7659    \n",
       "---\n",
       "Signif. codes:  0 '***' 0.001 '**' 0.01 '*' 0.05 '.' 0.1 ' ' 1\n",
       "\n",
       "Residual standard error: 2.183 on 50 degrees of freedom\n",
       "Multiple R-squared:  0.774,\tAdjusted R-squared:  0.7559 \n",
       "F-statistic: 42.81 on 4 and 50 DF,  p-value: 1.447e-15\n"
      ]
     },
     "metadata": {},
     "output_type": "display_data"
    }
   ],
   "source": [
    "mlm.1.4 <- lm(Height ~ LeftArm + LeftFoot + HeadCirc + nose, data=df)\n",
    "summary(mlm.1.4)"
   ]
  },
  {
   "cell_type": "code",
   "execution_count": 19,
   "metadata": {},
   "outputs": [
    {
     "data": {
      "image/png": "[encoded data removed]",
      "text/plain": [
       "plot without title"
      ]
     },
     "metadata": {
      "image/png": {
       "height": 420,
       "width": 420
      }
     },
     "output_type": "display_data"
    }
   ],
   "source": [
    "plot(mlm.1.4$residuals ~ mlm.1.4$fitted.values)\n",
    "abline(h=0, col='red')"
   ]
  },
  {
   "cell_type": "markdown",
   "metadata": {},
   "source": [
    "### Perform the general linear F-test\n",
    "$H_{0}$ : $\\beta_{3} = \\beta_{4} = 0$  \n",
    "$H_{A}$ : at least one of ($\\beta_{3},\\beta_{4}) \\neq 0$  "
   ]
  },
  {
   "cell_type": "code",
   "execution_count": 21,
   "metadata": {},
   "outputs": [
    {
     "data": {
      "text/html": [
       "<table>\n",
       "<caption>A anova: 5 × 5</caption>\n",
       "<thead>\n",
       "\t<tr><th></th><th scope=col>Df</th><th scope=col>Sum Sq</th><th scope=col>Mean Sq</th><th scope=col>F value</th><th scope=col>Pr(&gt;F)</th></tr>\n",
       "\t<tr><th></th><th scope=col>&lt;dbl&gt;</th><th scope=col>&lt;dbl&gt;</th><th scope=col>&lt;dbl&gt;</th><th scope=col>&lt;dbl&gt;</th><th scope=col>&lt;dbl&gt;</th></tr>\n",
       "</thead>\n",
       "<tbody>\n",
       "\t<tr><th scope=row>LeftArm</th><td> 1</td><td>590.214</td><td>590.214</td><td>123.811</td><td>0.000</td></tr>\n",
       "\t<tr><th scope=row>LeftFoot</th><td> 1</td><td>224.349</td><td>224.349</td><td> 47.062</td><td>0.000</td></tr>\n",
       "\t<tr><th scope=row>HeadCirc</th><td> 1</td><td>  1.402</td><td>  1.402</td><td>  0.294</td><td>0.590</td></tr>\n",
       "\t<tr><th scope=row>nose</th><td> 1</td><td>  0.427</td><td>  0.427</td><td>  0.090</td><td>0.766</td></tr>\n",
       "\t<tr><th scope=row>Residuals</th><td>50</td><td>238.354</td><td>  4.767</td><td>     NA</td><td>   NA</td></tr>\n",
       "</tbody>\n",
       "</table>\n"
      ],
      "text/latex": [
       "A anova: 5 × 5\n",
       "\\begin{tabular}{r|lllll}\n",
       "  & Df & Sum Sq & Mean Sq & F value & Pr(>F)\\\\\n",
       "  & <dbl> & <dbl> & <dbl> & <dbl> & <dbl>\\\\\n",
       "\\hline\n",
       "\tLeftArm &  1 & 590.214 & 590.214 & 123.811 & 0.000\\\\\n",
       "\tLeftFoot &  1 & 224.349 & 224.349 &  47.062 & 0.000\\\\\n",
       "\tHeadCirc &  1 &   1.402 &   1.402 &   0.294 & 0.590\\\\\n",
       "\tnose &  1 &   0.427 &   0.427 &   0.090 & 0.766\\\\\n",
       "\tResiduals & 50 & 238.354 &   4.767 &      NA &    NA\\\\\n",
       "\\end{tabular}\n"
      ],
      "text/markdown": [
       "\n",
       "A anova: 5 × 5\n",
       "\n",
       "| <!--/--> | Df &lt;dbl&gt; | Sum Sq &lt;dbl&gt; | Mean Sq &lt;dbl&gt; | F value &lt;dbl&gt; | Pr(&gt;F) &lt;dbl&gt; |\n",
       "|---|---|---|---|---|---|\n",
       "| LeftArm |  1 | 590.214 | 590.214 | 123.811 | 0.000 |\n",
       "| LeftFoot |  1 | 224.349 | 224.349 |  47.062 | 0.000 |\n",
       "| HeadCirc |  1 |   1.402 |   1.402 |   0.294 | 0.590 |\n",
       "| nose |  1 |   0.427 |   0.427 |   0.090 | 0.766 |\n",
       "| Residuals | 50 | 238.354 |   4.767 |      NA |    NA |\n",
       "\n"
      ],
      "text/plain": [
       "          Df Sum Sq  Mean Sq F value Pr(>F)\n",
       "LeftArm    1 590.214 590.214 123.811 0.000 \n",
       "LeftFoot   1 224.349 224.349  47.062 0.000 \n",
       "HeadCirc   1   1.402   1.402   0.294 0.590 \n",
       "nose       1   0.427   0.427   0.090 0.766 \n",
       "Residuals 50 238.354   4.767      NA    NA "
      ]
     },
     "metadata": {},
     "output_type": "display_data"
    }
   ],
   "source": [
    "round(anova(mlm.1.4), 3)"
   ]
  },
  {
   "cell_type": "code",
   "execution_count": 22,
   "metadata": {},
   "outputs": [
    {
     "data": {
      "text/html": [
       "<table>\n",
       "<caption>A anova: 6 × 4</caption>\n",
       "<thead>\n",
       "\t<tr><th></th><th scope=col>Sum Sq</th><th scope=col>Df</th><th scope=col>F value</th><th scope=col>Pr(&gt;F)</th></tr>\n",
       "\t<tr><th></th><th scope=col>&lt;dbl&gt;</th><th scope=col>&lt;dbl&gt;</th><th scope=col>&lt;dbl&gt;</th><th scope=col>&lt;dbl&gt;</th></tr>\n",
       "</thead>\n",
       "<tbody>\n",
       "\t<tr><th scope=row>(Intercept)</th><td> 26.617</td><td> 1</td><td> 5.584</td><td>0.022</td></tr>\n",
       "\t<tr><th scope=row>LeftArm</th><td>105.188</td><td> 1</td><td>22.066</td><td>0.000</td></tr>\n",
       "\t<tr><th scope=row>LeftFoot</th><td>180.001</td><td> 1</td><td>37.759</td><td>0.000</td></tr>\n",
       "\t<tr><th scope=row>HeadCirc</th><td>  1.383</td><td> 1</td><td> 0.290</td><td>0.593</td></tr>\n",
       "\t<tr><th scope=row>nose</th><td>  0.427</td><td> 1</td><td> 0.090</td><td>0.766</td></tr>\n",
       "\t<tr><th scope=row>Residuals</th><td>238.354</td><td>50</td><td>    NA</td><td>   NA</td></tr>\n",
       "</tbody>\n",
       "</table>\n"
      ],
      "text/latex": [
       "A anova: 6 × 4\n",
       "\\begin{tabular}{r|llll}\n",
       "  & Sum Sq & Df & F value & Pr(>F)\\\\\n",
       "  & <dbl> & <dbl> & <dbl> & <dbl>\\\\\n",
       "\\hline\n",
       "\t(Intercept) &  26.617 &  1 &  5.584 & 0.022\\\\\n",
       "\tLeftArm & 105.188 &  1 & 22.066 & 0.000\\\\\n",
       "\tLeftFoot & 180.001 &  1 & 37.759 & 0.000\\\\\n",
       "\tHeadCirc &   1.383 &  1 &  0.290 & 0.593\\\\\n",
       "\tnose &   0.427 &  1 &  0.090 & 0.766\\\\\n",
       "\tResiduals & 238.354 & 50 &     NA &    NA\\\\\n",
       "\\end{tabular}\n"
      ],
      "text/markdown": [
       "\n",
       "A anova: 6 × 4\n",
       "\n",
       "| <!--/--> | Sum Sq &lt;dbl&gt; | Df &lt;dbl&gt; | F value &lt;dbl&gt; | Pr(&gt;F) &lt;dbl&gt; |\n",
       "|---|---|---|---|---|\n",
       "| (Intercept) |  26.617 |  1 |  5.584 | 0.022 |\n",
       "| LeftArm | 105.188 |  1 | 22.066 | 0.000 |\n",
       "| LeftFoot | 180.001 |  1 | 37.759 | 0.000 |\n",
       "| HeadCirc |   1.383 |  1 |  0.290 | 0.593 |\n",
       "| nose |   0.427 |  1 |  0.090 | 0.766 |\n",
       "| Residuals | 238.354 | 50 |     NA |    NA |\n",
       "\n"
      ],
      "text/plain": [
       "            Sum Sq  Df F value Pr(>F)\n",
       "(Intercept)  26.617  1  5.584  0.022 \n",
       "LeftArm     105.188  1 22.066  0.000 \n",
       "LeftFoot    180.001  1 37.759  0.000 \n",
       "HeadCirc      1.383  1  0.290  0.593 \n",
       "nose          0.427  1  0.090  0.766 \n",
       "Residuals   238.354 50     NA     NA "
      ]
     },
     "metadata": {},
     "output_type": "display_data"
    }
   ],
   "source": [
    "round(Anova(mlm.1.4, type=3), 3)"
   ]
  },
  {
   "cell_type": "code",
   "execution_count": 24,
   "metadata": {},
   "outputs": [
    {
     "data": {
      "text/plain": [
       "\n",
       "Call:\n",
       "lm(formula = Height ~ LeftArm + LeftFoot, data = df)\n",
       "\n",
       "Residuals:\n",
       "   Min     1Q Median     3Q    Max \n",
       "-4.075 -1.179 -0.099  1.248  5.196 \n",
       "\n",
       "Coefficients:\n",
       "            Estimate Std. Error t value Pr(>|t|)    \n",
       "(Intercept)  21.8572     3.5840   6.098 1.35e-07 ***\n",
       "LeftArm       0.7958     0.1652   4.816 1.31e-05 ***\n",
       "LeftFoot      1.0229     0.1468   6.969 5.54e-09 ***\n",
       "---\n",
       "Signif. codes:  0 '***' 0.001 '**' 0.01 '*' 0.05 '.' 0.1 ' ' 1\n",
       "\n",
       "Residual standard error: 2.149 on 52 degrees of freedom\n",
       "Multiple R-squared:  0.7723,\tAdjusted R-squared:  0.7635 \n",
       "F-statistic: 88.18 on 2 and 52 DF,  p-value: < 2.2e-16\n"
      ]
     },
     "metadata": {},
     "output_type": "display_data"
    }
   ],
   "source": [
    "mlm.1.2 <- lm(Height ~ LeftArm + LeftFoot, data=df)\n",
    "summary(mlm.1.2)"
   ]
  },
  {
   "cell_type": "code",
   "execution_count": 25,
   "metadata": {},
   "outputs": [
    {
     "data": {
      "text/html": [
       "<table>\n",
       "<caption>A anova: 3 × 5</caption>\n",
       "<thead>\n",
       "\t<tr><th></th><th scope=col>Df</th><th scope=col>Sum Sq</th><th scope=col>Mean Sq</th><th scope=col>F value</th><th scope=col>Pr(&gt;F)</th></tr>\n",
       "\t<tr><th></th><th scope=col>&lt;dbl&gt;</th><th scope=col>&lt;dbl&gt;</th><th scope=col>&lt;dbl&gt;</th><th scope=col>&lt;dbl&gt;</th><th scope=col>&lt;dbl&gt;</th></tr>\n",
       "</thead>\n",
       "<tbody>\n",
       "\t<tr><th scope=row>LeftArm</th><td> 1</td><td>590.21</td><td>590.21</td><td>127.78</td><td> 0</td></tr>\n",
       "\t<tr><th scope=row>LeftFoot</th><td> 1</td><td>224.35</td><td>224.35</td><td> 48.57</td><td> 0</td></tr>\n",
       "\t<tr><th scope=row>Residuals</th><td>52</td><td>240.18</td><td>  4.62</td><td>    NA</td><td>NA</td></tr>\n",
       "</tbody>\n",
       "</table>\n"
      ],
      "text/latex": [
       "A anova: 3 × 5\n",
       "\\begin{tabular}{r|lllll}\n",
       "  & Df & Sum Sq & Mean Sq & F value & Pr(>F)\\\\\n",
       "  & <dbl> & <dbl> & <dbl> & <dbl> & <dbl>\\\\\n",
       "\\hline\n",
       "\tLeftArm &  1 & 590.21 & 590.21 & 127.78 &  0\\\\\n",
       "\tLeftFoot &  1 & 224.35 & 224.35 &  48.57 &  0\\\\\n",
       "\tResiduals & 52 & 240.18 &   4.62 &     NA & NA\\\\\n",
       "\\end{tabular}\n"
      ],
      "text/markdown": [
       "\n",
       "A anova: 3 × 5\n",
       "\n",
       "| <!--/--> | Df &lt;dbl&gt; | Sum Sq &lt;dbl&gt; | Mean Sq &lt;dbl&gt; | F value &lt;dbl&gt; | Pr(&gt;F) &lt;dbl&gt; |\n",
       "|---|---|---|---|---|---|\n",
       "| LeftArm |  1 | 590.21 | 590.21 | 127.78 |  0 |\n",
       "| LeftFoot |  1 | 224.35 | 224.35 |  48.57 |  0 |\n",
       "| Residuals | 52 | 240.18 |   4.62 |     NA | NA |\n",
       "\n"
      ],
      "text/plain": [
       "          Df Sum Sq Mean Sq F value Pr(>F)\n",
       "LeftArm    1 590.21 590.21  127.78   0    \n",
       "LeftFoot   1 224.35 224.35   48.57   0    \n",
       "Residuals 52 240.18   4.62      NA  NA    "
      ]
     },
     "metadata": {},
     "output_type": "display_data"
    }
   ],
   "source": [
    "round(anova(mlm.1.2),2)"
   ]
  },
  {
   "cell_type": "code",
   "execution_count": 28,
   "metadata": {},
   "outputs": [
    {
     "data": {
      "text/html": [
       "<table>\n",
       "<caption>A anova: 2 × 6</caption>\n",
       "<thead>\n",
       "\t<tr><th></th><th scope=col>Res.Df</th><th scope=col>RSS</th><th scope=col>Df</th><th scope=col>Sum of Sq</th><th scope=col>F</th><th scope=col>Pr(&gt;F)</th></tr>\n",
       "\t<tr><th></th><th scope=col>&lt;dbl&gt;</th><th scope=col>&lt;dbl&gt;</th><th scope=col>&lt;dbl&gt;</th><th scope=col>&lt;dbl&gt;</th><th scope=col>&lt;dbl&gt;</th><th scope=col>&lt;dbl&gt;</th></tr>\n",
       "</thead>\n",
       "<tbody>\n",
       "\t<tr><th scope=row>1</th><td>52</td><td>240.18</td><td>NA</td><td>  NA</td><td>  NA</td><td>  NA</td></tr>\n",
       "\t<tr><th scope=row>2</th><td>50</td><td>238.35</td><td> 2</td><td>1.83</td><td>0.19</td><td>0.83</td></tr>\n",
       "</tbody>\n",
       "</table>\n"
      ],
      "text/latex": [
       "A anova: 2 × 6\n",
       "\\begin{tabular}{r|llllll}\n",
       "  & Res.Df & RSS & Df & Sum of Sq & F & Pr(>F)\\\\\n",
       "  & <dbl> & <dbl> & <dbl> & <dbl> & <dbl> & <dbl>\\\\\n",
       "\\hline\n",
       "\t1 & 52 & 240.18 & NA &   NA &   NA &   NA\\\\\n",
       "\t2 & 50 & 238.35 &  2 & 1.83 & 0.19 & 0.83\\\\\n",
       "\\end{tabular}\n"
      ],
      "text/markdown": [
       "\n",
       "A anova: 2 × 6\n",
       "\n",
       "| <!--/--> | Res.Df &lt;dbl&gt; | RSS &lt;dbl&gt; | Df &lt;dbl&gt; | Sum of Sq &lt;dbl&gt; | F &lt;dbl&gt; | Pr(&gt;F) &lt;dbl&gt; |\n",
       "|---|---|---|---|---|---|---|\n",
       "| 1 | 52 | 240.18 | NA |   NA |   NA |   NA |\n",
       "| 2 | 50 | 238.35 |  2 | 1.83 | 0.19 | 0.83 |\n",
       "\n"
      ],
      "text/plain": [
       "  Res.Df RSS    Df Sum of Sq F    Pr(>F)\n",
       "1 52     240.18 NA   NA        NA   NA  \n",
       "2 50     238.35  2 1.83      0.19 0.83  "
      ]
     },
     "metadata": {},
     "output_type": "display_data"
    }
   ],
   "source": [
    "round(anova(mlm.1.2, mlm.1.4),2)\n",
    "## F score's df (2,50) = 0.19"
   ]
  },
  {
   "cell_type": "code",
   "execution_count": 29,
   "metadata": {},
   "outputs": [
    {
     "data": {
      "image/png": "[encoded data removed]",
      "text/plain": [
       "plot without title"
      ]
     },
     "metadata": {
      "image/png": {
       "height": 420,
       "width": 420
      }
     },
     "output_type": "display_data"
    }
   ],
   "source": [
    "plot(mlm.1.2$residuals ~ mlm.1.2$fitted.values)\n",
    "abline(h=0, col='red')"
   ]
  },
  {
   "cell_type": "code",
   "execution_count": 30,
   "metadata": {},
   "outputs": [],
   "source": [
    "slm <- lm(Height ~ LeftArm, data=df)\n"
   ]
  },
  {
   "cell_type": "code",
   "execution_count": 31,
   "metadata": {},
   "outputs": [
    {
     "data": {
      "image/png": "[encoded data removed]",
      "text/plain": [
       "plot without title"
      ]
     },
     "metadata": {
      "image/png": {
       "height": 420,
       "width": 420
      }
     },
     "output_type": "display_data"
    }
   ],
   "source": [
    "plot(slm$residuals ~ slm$fitted.values)\n",
    "abline(h=0, col='red')"
   ]
  },
  {
   "cell_type": "markdown",
   "metadata": {},
   "source": [
    "## R Help 6: MLR Model Evaluation"
   ]
  },
  {
   "cell_type": "code",
   "execution_count": 40,
   "metadata": {},
   "outputs": [
    {
     "name": "stderr",
     "output_type": "stream",
     "text": [
      "The following object is masked from package:carData:\n",
      "\n",
      "    Vocab\n",
      "\n",
      "\n"
     ]
    },
    {
     "data": {
      "text/html": [
       "<table>\n",
       "<caption>A data.frame: 6 × 5</caption>\n",
       "<thead>\n",
       "\t<tr><th></th><th scope=col>Subj</th><th scope=col>ACL</th><th scope=col>Vocab</th><th scope=col>Abstract</th><th scope=col>SDMT</th></tr>\n",
       "\t<tr><th></th><th scope=col>&lt;int&gt;</th><th scope=col>&lt;dbl&gt;</th><th scope=col>&lt;int&gt;</th><th scope=col>&lt;int&gt;</th><th scope=col>&lt;int&gt;</th></tr>\n",
       "</thead>\n",
       "<tbody>\n",
       "\t<tr><th scope=row>1</th><td>1</td><td>6.0</td><td>28</td><td>36</td><td>70</td></tr>\n",
       "\t<tr><th scope=row>2</th><td>2</td><td>5.4</td><td>34</td><td>32</td><td>49</td></tr>\n",
       "\t<tr><th scope=row>3</th><td>3</td><td>4.7</td><td>19</td><td> 8</td><td>28</td></tr>\n",
       "\t<tr><th scope=row>4</th><td>4</td><td>4.8</td><td>32</td><td>28</td><td>47</td></tr>\n",
       "\t<tr><th scope=row>5</th><td>5</td><td>4.9</td><td>22</td><td> 4</td><td>29</td></tr>\n",
       "\t<tr><th scope=row>6</th><td>6</td><td>4.5</td><td>24</td><td>24</td><td>23</td></tr>\n",
       "</tbody>\n",
       "</table>\n"
      ],
      "text/latex": [
       "A data.frame: 6 × 5\n",
       "\\begin{tabular}{r|lllll}\n",
       "  & Subj & ACL & Vocab & Abstract & SDMT\\\\\n",
       "  & <int> & <dbl> & <int> & <int> & <int>\\\\\n",
       "\\hline\n",
       "\t1 & 1 & 6.0 & 28 & 36 & 70\\\\\n",
       "\t2 & 2 & 5.4 & 34 & 32 & 49\\\\\n",
       "\t3 & 3 & 4.7 & 19 &  8 & 28\\\\\n",
       "\t4 & 4 & 4.8 & 32 & 28 & 47\\\\\n",
       "\t5 & 5 & 4.9 & 22 &  4 & 29\\\\\n",
       "\t6 & 6 & 4.5 & 24 & 24 & 23\\\\\n",
       "\\end{tabular}\n"
      ],
      "text/markdown": [
       "\n",
       "A data.frame: 6 × 5\n",
       "\n",
       "| <!--/--> | Subj &lt;int&gt; | ACL &lt;dbl&gt; | Vocab &lt;int&gt; | Abstract &lt;int&gt; | SDMT &lt;int&gt; |\n",
       "|---|---|---|---|---|---|\n",
       "| 1 | 1 | 6.0 | 28 | 36 | 70 |\n",
       "| 2 | 2 | 5.4 | 34 | 32 | 49 |\n",
       "| 3 | 3 | 4.7 | 19 |  8 | 28 |\n",
       "| 4 | 4 | 4.8 | 32 | 28 | 47 |\n",
       "| 5 | 5 | 4.9 | 22 |  4 | 29 |\n",
       "| 6 | 6 | 4.5 | 24 | 24 | 23 |\n",
       "\n"
      ],
      "text/plain": [
       "  Subj ACL Vocab Abstract SDMT\n",
       "1 1    6.0 28    36       70  \n",
       "2 2    5.4 34    32       49  \n",
       "3 3    4.7 19     8       28  \n",
       "4 4    4.8 32    28       47  \n",
       "5 5    4.9 22     4       29  \n",
       "6 6    4.5 24    24       23  "
      ]
     },
     "metadata": {},
     "output_type": "display_data"
    }
   ],
   "source": [
    "allentest <- read.table(\"STAT501_Lesson01/allentest.txt\", header=T)\n",
    "attach(allentest)\n",
    "\n",
    "head(allentest)"
   ]
  },
  {
   "cell_type": "code",
   "execution_count": 41,
   "metadata": {},
   "outputs": [
    {
     "data": {
      "text/html": [
       "43.0495652173913"
      ],
      "text/latex": [
       "43.0495652173913"
      ],
      "text/markdown": [
       "43.0495652173913"
      ],
      "text/plain": [
       "[1] 43.04957"
      ]
     },
     "metadata": {},
     "output_type": "display_data"
    }
   ],
   "source": [
    "sum((ACL-mean(ACL))^2) ## SST"
   ]
  },
  {
   "cell_type": "code",
   "execution_count": 43,
   "metadata": {},
   "outputs": [
    {
     "data": {
      "text/html": [
       "<table>\n",
       "<caption>A anova: 2 × 5</caption>\n",
       "<thead>\n",
       "\t<tr><th></th><th scope=col>Df</th><th scope=col>Sum Sq</th><th scope=col>Mean Sq</th><th scope=col>F value</th><th scope=col>Pr(&gt;F)</th></tr>\n",
       "\t<tr><th></th><th scope=col>&lt;dbl&gt;</th><th scope=col>&lt;dbl&gt;</th><th scope=col>&lt;dbl&gt;</th><th scope=col>&lt;dbl&gt;</th><th scope=col>&lt;dbl&gt;</th></tr>\n",
       "</thead>\n",
       "<tbody>\n",
       "\t<tr><th scope=row>Vocab</th><td> 1</td><td> 2.69</td><td>2.69</td><td>4.47</td><td>0.04</td></tr>\n",
       "\t<tr><th scope=row>Residuals</th><td>67</td><td>40.36</td><td>0.60</td><td>  NA</td><td>  NA</td></tr>\n",
       "</tbody>\n",
       "</table>\n"
      ],
      "text/latex": [
       "A anova: 2 × 5\n",
       "\\begin{tabular}{r|lllll}\n",
       "  & Df & Sum Sq & Mean Sq & F value & Pr(>F)\\\\\n",
       "  & <dbl> & <dbl> & <dbl> & <dbl> & <dbl>\\\\\n",
       "\\hline\n",
       "\tVocab &  1 &  2.69 & 2.69 & 4.47 & 0.04\\\\\n",
       "\tResiduals & 67 & 40.36 & 0.60 &   NA &   NA\\\\\n",
       "\\end{tabular}\n"
      ],
      "text/markdown": [
       "\n",
       "A anova: 2 × 5\n",
       "\n",
       "| <!--/--> | Df &lt;dbl&gt; | Sum Sq &lt;dbl&gt; | Mean Sq &lt;dbl&gt; | F value &lt;dbl&gt; | Pr(&gt;F) &lt;dbl&gt; |\n",
       "|---|---|---|---|---|---|\n",
       "| Vocab |  1 |  2.69 | 2.69 | 4.47 | 0.04 |\n",
       "| Residuals | 67 | 40.36 | 0.60 |   NA |   NA |\n",
       "\n"
      ],
      "text/plain": [
       "          Df Sum Sq Mean Sq F value Pr(>F)\n",
       "Vocab      1  2.69  2.69    4.47    0.04  \n",
       "Residuals 67 40.36  0.60      NA      NA  "
      ]
     },
     "metadata": {},
     "output_type": "display_data"
    }
   ],
   "source": [
    "model.1 <- lm(ACL ~ Vocab)\n",
    "round(anova(model.1),2)"
   ]
  },
  {
   "cell_type": "code",
   "execution_count": 45,
   "metadata": {},
   "outputs": [
    {
     "data": {
      "image/png": "[encoded data removed]",
      "text/plain": [
       "plot without title"
      ]
     },
     "metadata": {
      "image/png": {
       "height": 420,
       "width": 420
      }
     },
     "output_type": "display_data"
    }
   ],
   "source": [
    "plot(model.1$residuals ~ model.1$fitted.values)\n",
    "abline(h=0, col='red')"
   ]
  },
  {
   "cell_type": "code",
   "execution_count": 50,
   "metadata": {},
   "outputs": [
    {
     "data": {
      "text/html": [
       "<table>\n",
       "<caption>A anova: 3 × 5</caption>\n",
       "<thead>\n",
       "\t<tr><th></th><th scope=col>Df</th><th scope=col>Sum Sq</th><th scope=col>Mean Sq</th><th scope=col>F value</th><th scope=col>Pr(&gt;F)</th></tr>\n",
       "\t<tr><th></th><th scope=col>&lt;dbl&gt;</th><th scope=col>&lt;dbl&gt;</th><th scope=col>&lt;dbl&gt;</th><th scope=col>&lt;dbl&gt;</th><th scope=col>&lt;dbl&gt;</th></tr>\n",
       "</thead>\n",
       "<tbody>\n",
       "\t<tr><th scope=row>Vocab</th><td> 1</td><td> 2.69</td><td>2.69</td><td> 5.68</td><td>0.02</td></tr>\n",
       "\t<tr><th scope=row>SDMT</th><td> 1</td><td> 9.09</td><td>9.09</td><td>19.18</td><td>0.00</td></tr>\n",
       "\t<tr><th scope=row>Residuals</th><td>66</td><td>31.27</td><td>0.47</td><td>   NA</td><td>  NA</td></tr>\n",
       "</tbody>\n",
       "</table>\n"
      ],
      "text/latex": [
       "A anova: 3 × 5\n",
       "\\begin{tabular}{r|lllll}\n",
       "  & Df & Sum Sq & Mean Sq & F value & Pr(>F)\\\\\n",
       "  & <dbl> & <dbl> & <dbl> & <dbl> & <dbl>\\\\\n",
       "\\hline\n",
       "\tVocab &  1 &  2.69 & 2.69 &  5.68 & 0.02\\\\\n",
       "\tSDMT &  1 &  9.09 & 9.09 & 19.18 & 0.00\\\\\n",
       "\tResiduals & 66 & 31.27 & 0.47 &    NA &   NA\\\\\n",
       "\\end{tabular}\n"
      ],
      "text/markdown": [
       "\n",
       "A anova: 3 × 5\n",
       "\n",
       "| <!--/--> | Df &lt;dbl&gt; | Sum Sq &lt;dbl&gt; | Mean Sq &lt;dbl&gt; | F value &lt;dbl&gt; | Pr(&gt;F) &lt;dbl&gt; |\n",
       "|---|---|---|---|---|---|\n",
       "| Vocab |  1 |  2.69 | 2.69 |  5.68 | 0.02 |\n",
       "| SDMT |  1 |  9.09 | 9.09 | 19.18 | 0.00 |\n",
       "| Residuals | 66 | 31.27 | 0.47 |    NA |   NA |\n",
       "\n"
      ],
      "text/plain": [
       "          Df Sum Sq Mean Sq F value Pr(>F)\n",
       "Vocab      1  2.69  2.69     5.68   0.02  \n",
       "SDMT       1  9.09  9.09    19.18   0.00  \n",
       "Residuals 66 31.27  0.47       NA     NA  "
      ]
     },
     "metadata": {},
     "output_type": "display_data"
    }
   ],
   "source": [
    "model.13 <- lm(ACL ~ Vocab + SDMT)\n",
    "round(anova(model.13),2)\n",
    "\n",
    "## SSR(Vocab, SDMT) = 2.69 + 9.09 = 11.77"
   ]
  },
  {
   "cell_type": "code",
   "execution_count": 49,
   "metadata": {},
   "outputs": [
    {
     "data": {
      "image/png": "[encoded data removed]",
      "text/plain": [
       "plot without title"
      ]
     },
     "metadata": {
      "image/png": {
       "height": 420,
       "width": 420
      }
     },
     "output_type": "display_data"
    }
   ],
   "source": [
    "plot(model.13$residuals ~ model.13$fitted.values)\n",
    "abline(h=0, col='red')"
   ]
  },
  {
   "cell_type": "code",
   "execution_count": 51,
   "metadata": {},
   "outputs": [
    {
     "data": {
      "text/html": [
       "<table>\n",
       "<caption>A anova: 2 × 5</caption>\n",
       "<thead>\n",
       "\t<tr><th></th><th scope=col>Df</th><th scope=col>Sum Sq</th><th scope=col>Mean Sq</th><th scope=col>F value</th><th scope=col>Pr(&gt;F)</th></tr>\n",
       "\t<tr><th></th><th scope=col>&lt;dbl&gt;</th><th scope=col>&lt;dbl&gt;</th><th scope=col>&lt;dbl&gt;</th><th scope=col>&lt;dbl&gt;</th><th scope=col>&lt;dbl&gt;</th></tr>\n",
       "</thead>\n",
       "<tbody>\n",
       "\t<tr><th scope=row>SDMT</th><td> 1</td><td>11.68</td><td>11.680</td><td>24.946</td><td> 0</td></tr>\n",
       "\t<tr><th scope=row>Residuals</th><td>67</td><td>31.37</td><td> 0.468</td><td>    NA</td><td>NA</td></tr>\n",
       "</tbody>\n",
       "</table>\n"
      ],
      "text/latex": [
       "A anova: 2 × 5\n",
       "\\begin{tabular}{r|lllll}\n",
       "  & Df & Sum Sq & Mean Sq & F value & Pr(>F)\\\\\n",
       "  & <dbl> & <dbl> & <dbl> & <dbl> & <dbl>\\\\\n",
       "\\hline\n",
       "\tSDMT &  1 & 11.68 & 11.680 & 24.946 &  0\\\\\n",
       "\tResiduals & 67 & 31.37 &  0.468 &     NA & NA\\\\\n",
       "\\end{tabular}\n"
      ],
      "text/markdown": [
       "\n",
       "A anova: 2 × 5\n",
       "\n",
       "| <!--/--> | Df &lt;dbl&gt; | Sum Sq &lt;dbl&gt; | Mean Sq &lt;dbl&gt; | F value &lt;dbl&gt; | Pr(&gt;F) &lt;dbl&gt; |\n",
       "|---|---|---|---|---|---|\n",
       "| SDMT |  1 | 11.68 | 11.680 | 24.946 |  0 |\n",
       "| Residuals | 67 | 31.37 |  0.468 |     NA | NA |\n",
       "\n"
      ],
      "text/plain": [
       "          Df Sum Sq Mean Sq F value Pr(>F)\n",
       "SDMT       1 11.68  11.680  24.946   0    \n",
       "Residuals 67 31.37   0.468      NA  NA    "
      ]
     },
     "metadata": {},
     "output_type": "display_data"
    }
   ],
   "source": [
    "model.3 <- lm(ACL ~ SDMT)\n",
    "round(anova(model.3),3)"
   ]
  },
  {
   "cell_type": "code",
   "execution_count": 55,
   "metadata": {},
   "outputs": [
    {
     "data": {
      "text/html": [
       "<table>\n",
       "<caption>A anova: 3 × 5</caption>\n",
       "<thead>\n",
       "\t<tr><th></th><th scope=col>Df</th><th scope=col>Sum Sq</th><th scope=col>Mean Sq</th><th scope=col>F value</th><th scope=col>Pr(&gt;F)</th></tr>\n",
       "\t<tr><th></th><th scope=col>&lt;dbl&gt;</th><th scope=col>&lt;dbl&gt;</th><th scope=col>&lt;dbl&gt;</th><th scope=col>&lt;dbl&gt;</th><th scope=col>&lt;dbl&gt;</th></tr>\n",
       "</thead>\n",
       "<tbody>\n",
       "\t<tr><th scope=row>SDMT</th><td> 1</td><td>11.68</td><td>11.68</td><td>24.65</td><td>0.00</td></tr>\n",
       "\t<tr><th scope=row>Vocab</th><td> 1</td><td> 0.10</td><td> 0.10</td><td> 0.21</td><td>0.65</td></tr>\n",
       "\t<tr><th scope=row>Residuals</th><td>66</td><td>31.27</td><td> 0.47</td><td>   NA</td><td>  NA</td></tr>\n",
       "</tbody>\n",
       "</table>\n"
      ],
      "text/latex": [
       "A anova: 3 × 5\n",
       "\\begin{tabular}{r|lllll}\n",
       "  & Df & Sum Sq & Mean Sq & F value & Pr(>F)\\\\\n",
       "  & <dbl> & <dbl> & <dbl> & <dbl> & <dbl>\\\\\n",
       "\\hline\n",
       "\tSDMT &  1 & 11.68 & 11.68 & 24.65 & 0.00\\\\\n",
       "\tVocab &  1 &  0.10 &  0.10 &  0.21 & 0.65\\\\\n",
       "\tResiduals & 66 & 31.27 &  0.47 &    NA &   NA\\\\\n",
       "\\end{tabular}\n"
      ],
      "text/markdown": [
       "\n",
       "A anova: 3 × 5\n",
       "\n",
       "| <!--/--> | Df &lt;dbl&gt; | Sum Sq &lt;dbl&gt; | Mean Sq &lt;dbl&gt; | F value &lt;dbl&gt; | Pr(&gt;F) &lt;dbl&gt; |\n",
       "|---|---|---|---|---|---|\n",
       "| SDMT |  1 | 11.68 | 11.68 | 24.65 | 0.00 |\n",
       "| Vocab |  1 |  0.10 |  0.10 |  0.21 | 0.65 |\n",
       "| Residuals | 66 | 31.27 |  0.47 |    NA |   NA |\n",
       "\n"
      ],
      "text/plain": [
       "          Df Sum Sq Mean Sq F value Pr(>F)\n",
       "SDMT       1 11.68  11.68   24.65   0.00  \n",
       "Vocab      1  0.10   0.10    0.21   0.65  \n",
       "Residuals 66 31.27   0.47      NA     NA  "
      ]
     },
     "metadata": {},
     "output_type": "display_data"
    }
   ],
   "source": [
    "model.31 <- lm(ACL ~ SDMT + Vocab)\n",
    "round(anova(model.31),2)\n",
    "\n",
    "## SSR(Vocab, SDMT) = 11.6799 + 0.0979 = 11.7778"
   ]
  },
  {
   "cell_type": "code",
   "execution_count": 54,
   "metadata": {},
   "outputs": [
    {
     "data": {
      "text/html": [
       "<table>\n",
       "<caption>A anova: 3 × 4</caption>\n",
       "<thead>\n",
       "\t<tr><th></th><th scope=col>Sum Sq</th><th scope=col>Df</th><th scope=col>F value</th><th scope=col>Pr(&gt;F)</th></tr>\n",
       "\t<tr><th></th><th scope=col>&lt;dbl&gt;</th><th scope=col>&lt;dbl&gt;</th><th scope=col>&lt;dbl&gt;</th><th scope=col>&lt;dbl&gt;</th></tr>\n",
       "</thead>\n",
       "<tbody>\n",
       "\t<tr><th scope=row>Vocab</th><td> 0.10</td><td> 1</td><td> 0.21</td><td>0.65</td></tr>\n",
       "\t<tr><th scope=row>SDMT</th><td> 9.09</td><td> 1</td><td>19.18</td><td>0.00</td></tr>\n",
       "\t<tr><th scope=row>Residuals</th><td>31.27</td><td>66</td><td>   NA</td><td>  NA</td></tr>\n",
       "</tbody>\n",
       "</table>\n"
      ],
      "text/latex": [
       "A anova: 3 × 4\n",
       "\\begin{tabular}{r|llll}\n",
       "  & Sum Sq & Df & F value & Pr(>F)\\\\\n",
       "  & <dbl> & <dbl> & <dbl> & <dbl>\\\\\n",
       "\\hline\n",
       "\tVocab &  0.10 &  1 &  0.21 & 0.65\\\\\n",
       "\tSDMT &  9.09 &  1 & 19.18 & 0.00\\\\\n",
       "\tResiduals & 31.27 & 66 &    NA &   NA\\\\\n",
       "\\end{tabular}\n"
      ],
      "text/markdown": [
       "\n",
       "A anova: 3 × 4\n",
       "\n",
       "| <!--/--> | Sum Sq &lt;dbl&gt; | Df &lt;dbl&gt; | F value &lt;dbl&gt; | Pr(&gt;F) &lt;dbl&gt; |\n",
       "|---|---|---|---|---|\n",
       "| Vocab |  0.10 |  1 |  0.21 | 0.65 |\n",
       "| SDMT |  9.09 |  1 | 19.18 | 0.00 |\n",
       "| Residuals | 31.27 | 66 |    NA |   NA |\n",
       "\n"
      ],
      "text/plain": [
       "          Sum Sq Df F value Pr(>F)\n",
       "Vocab      0.10   1  0.21   0.65  \n",
       "SDMT       9.09   1 19.18   0.00  \n",
       "Residuals 31.27  66    NA     NA  "
      ]
     },
     "metadata": {},
     "output_type": "display_data"
    }
   ],
   "source": [
    "round(Anova(model.13, tpye=3),2)"
   ]
  },
  {
   "cell_type": "code",
   "execution_count": 58,
   "metadata": {},
   "outputs": [
    {
     "data": {
      "text/html": [
       "<table>\n",
       "<caption>A anova: 4 × 5</caption>\n",
       "<thead>\n",
       "\t<tr><th></th><th scope=col>Df</th><th scope=col>Sum Sq</th><th scope=col>Mean Sq</th><th scope=col>F value</th><th scope=col>Pr(&gt;F)</th></tr>\n",
       "\t<tr><th></th><th scope=col>&lt;dbl&gt;</th><th scope=col>&lt;dbl&gt;</th><th scope=col>&lt;dbl&gt;</th><th scope=col>&lt;dbl&gt;</th><th scope=col>&lt;dbl&gt;</th></tr>\n",
       "</thead>\n",
       "<tbody>\n",
       "\t<tr><th scope=row>SDMT</th><td> 1</td><td>11.68</td><td>11.68</td><td>24.69</td><td>0.00</td></tr>\n",
       "\t<tr><th scope=row>Vocab</th><td> 1</td><td> 0.10</td><td> 0.10</td><td> 0.21</td><td>0.65</td></tr>\n",
       "\t<tr><th scope=row>Abstract</th><td> 1</td><td> 0.52</td><td> 0.52</td><td> 1.11</td><td>0.30</td></tr>\n",
       "\t<tr><th scope=row>Residuals</th><td>65</td><td>30.75</td><td> 0.47</td><td>   NA</td><td>  NA</td></tr>\n",
       "</tbody>\n",
       "</table>\n"
      ],
      "text/latex": [
       "A anova: 4 × 5\n",
       "\\begin{tabular}{r|lllll}\n",
       "  & Df & Sum Sq & Mean Sq & F value & Pr(>F)\\\\\n",
       "  & <dbl> & <dbl> & <dbl> & <dbl> & <dbl>\\\\\n",
       "\\hline\n",
       "\tSDMT &  1 & 11.68 & 11.68 & 24.69 & 0.00\\\\\n",
       "\tVocab &  1 &  0.10 &  0.10 &  0.21 & 0.65\\\\\n",
       "\tAbstract &  1 &  0.52 &  0.52 &  1.11 & 0.30\\\\\n",
       "\tResiduals & 65 & 30.75 &  0.47 &    NA &   NA\\\\\n",
       "\\end{tabular}\n"
      ],
      "text/markdown": [
       "\n",
       "A anova: 4 × 5\n",
       "\n",
       "| <!--/--> | Df &lt;dbl&gt; | Sum Sq &lt;dbl&gt; | Mean Sq &lt;dbl&gt; | F value &lt;dbl&gt; | Pr(&gt;F) &lt;dbl&gt; |\n",
       "|---|---|---|---|---|---|\n",
       "| SDMT |  1 | 11.68 | 11.68 | 24.69 | 0.00 |\n",
       "| Vocab |  1 |  0.10 |  0.10 |  0.21 | 0.65 |\n",
       "| Abstract |  1 |  0.52 |  0.52 |  1.11 | 0.30 |\n",
       "| Residuals | 65 | 30.75 |  0.47 |    NA |   NA |\n",
       "\n"
      ],
      "text/plain": [
       "          Df Sum Sq Mean Sq F value Pr(>F)\n",
       "SDMT       1 11.68  11.68   24.69   0.00  \n",
       "Vocab      1  0.10   0.10    0.21   0.65  \n",
       "Abstract   1  0.52   0.52    1.11   0.30  \n",
       "Residuals 65 30.75   0.47      NA     NA  "
      ]
     },
     "metadata": {},
     "output_type": "display_data"
    }
   ],
   "source": [
    "model.312 <- lm(ACL ~ SDMT + Vocab + Abstract)\n",
    "round(anova(model.312),2)\n",
    "\n",
    "## SSR(Vocab, Abstract | SDMT) = 0.1 + 0.52 = 0.62"
   ]
  },
  {
   "cell_type": "code",
   "execution_count": 59,
   "metadata": {},
   "outputs": [
    {
     "data": {
      "text/html": [
       "<table>\n",
       "<caption>A anova: 5 × 4</caption>\n",
       "<thead>\n",
       "\t<tr><th></th><th scope=col>Sum Sq</th><th scope=col>Df</th><th scope=col>F value</th><th scope=col>Pr(&gt;F)</th></tr>\n",
       "\t<tr><th></th><th scope=col>&lt;dbl&gt;</th><th scope=col>&lt;dbl&gt;</th><th scope=col>&lt;dbl&gt;</th><th scope=col>&lt;dbl&gt;</th></tr>\n",
       "</thead>\n",
       "<tbody>\n",
       "\t<tr><th scope=row>(Intercept)</th><td>64.46</td><td> 1</td><td>136.26</td><td>0.00</td></tr>\n",
       "\t<tr><th scope=row>SDMT</th><td> 6.91</td><td> 1</td><td> 14.61</td><td>0.00</td></tr>\n",
       "\t<tr><th scope=row>Vocab</th><td> 0.44</td><td> 1</td><td>  0.93</td><td>0.34</td></tr>\n",
       "\t<tr><th scope=row>Abstract</th><td> 0.52</td><td> 1</td><td>  1.11</td><td>0.30</td></tr>\n",
       "\t<tr><th scope=row>Residuals</th><td>30.75</td><td>65</td><td>    NA</td><td>  NA</td></tr>\n",
       "</tbody>\n",
       "</table>\n"
      ],
      "text/latex": [
       "A anova: 5 × 4\n",
       "\\begin{tabular}{r|llll}\n",
       "  & Sum Sq & Df & F value & Pr(>F)\\\\\n",
       "  & <dbl> & <dbl> & <dbl> & <dbl>\\\\\n",
       "\\hline\n",
       "\t(Intercept) & 64.46 &  1 & 136.26 & 0.00\\\\\n",
       "\tSDMT &  6.91 &  1 &  14.61 & 0.00\\\\\n",
       "\tVocab &  0.44 &  1 &   0.93 & 0.34\\\\\n",
       "\tAbstract &  0.52 &  1 &   1.11 & 0.30\\\\\n",
       "\tResiduals & 30.75 & 65 &     NA &   NA\\\\\n",
       "\\end{tabular}\n"
      ],
      "text/markdown": [
       "\n",
       "A anova: 5 × 4\n",
       "\n",
       "| <!--/--> | Sum Sq &lt;dbl&gt; | Df &lt;dbl&gt; | F value &lt;dbl&gt; | Pr(&gt;F) &lt;dbl&gt; |\n",
       "|---|---|---|---|---|\n",
       "| (Intercept) | 64.46 |  1 | 136.26 | 0.00 |\n",
       "| SDMT |  6.91 |  1 |  14.61 | 0.00 |\n",
       "| Vocab |  0.44 |  1 |   0.93 | 0.34 |\n",
       "| Abstract |  0.52 |  1 |   1.11 | 0.30 |\n",
       "| Residuals | 30.75 | 65 |     NA |   NA |\n",
       "\n"
      ],
      "text/plain": [
       "            Sum Sq Df F value Pr(>F)\n",
       "(Intercept) 64.46   1 136.26  0.00  \n",
       "SDMT         6.91   1  14.61  0.00  \n",
       "Vocab        0.44   1   0.93  0.34  \n",
       "Abstract     0.52   1   1.11  0.30  \n",
       "Residuals   30.75  65     NA    NA  "
      ]
     },
     "metadata": {},
     "output_type": "display_data"
    }
   ],
   "source": [
    "round(Anova(model.312,type=3),2)"
   ]
  },
  {
   "cell_type": "code",
   "execution_count": null,
   "metadata": {},
   "outputs": [],
   "source": []
  }
 ],
 "metadata": {
  "kernelspec": {
   "display_name": "R",
   "language": "R",
   "name": "ir"
  },
  "language_info": {
   "codemirror_mode": "r",
   "file_extension": ".r",
   "mimetype": "text/x-r-source",
   "name": "R",
   "pygments_lexer": "r",
   "version": "4.0.2"
  }
 },
 "nbformat": 4,
 "nbformat_minor": 4
}
